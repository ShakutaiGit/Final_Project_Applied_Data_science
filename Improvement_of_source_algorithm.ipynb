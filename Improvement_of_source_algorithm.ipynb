{
  "nbformat": 4,
  "nbformat_minor": 0,
  "metadata": {
    "colab": {
      "name": "Improvement_of_source_algorithm.ipynb",
      "provenance": [],
      "authorship_tag": "ABX9TyPzgMyR4BHxrXAVzMPBDZCK",
      "include_colab_link": true
    },
    "kernelspec": {
      "name": "python3",
      "display_name": "Python 3"
    },
    "language_info": {
      "name": "python"
    },
    "accelerator": "GPU"
  },
  "cells": [
    {
      "cell_type": "markdown",
      "metadata": {
        "id": "view-in-github",
        "colab_type": "text"
      },
      "source": [
        "<a href=\"https://colab.research.google.com/github/ShakutaiGit/Final_Project_Applied_Data_science/blob/main/Improvement_of_source_algorithm.ipynb\" target=\"_parent\"><img src=\"https://colab.research.google.com/assets/colab-badge.svg\" alt=\"Open In Colab\"/></a>"
      ]
    },
    {
      "cell_type": "markdown",
      "metadata": {
        "id": "40yCnCufvuBl"
      },
      "source": [
        "relevant imports "
      ]
    },
    {
      "cell_type": "code",
      "metadata": {
        "id": "luTxD34ave3s",
        "colab": {
          "base_uri": "https://localhost:8080/"
        },
        "outputId": "ac119b2a-ebee-411d-805d-ae3d525a7825"
      },
      "source": [
        "import tensorflow as tf\n",
        "import tensorflow_datasets as tfds\n",
        "from tensorflow.keras.layers.experimental import preprocessing\n",
        "import matplotlib.pyplot as plt\n",
        "from tensorflow import keras\n",
        "from tensorflow.keras import layers\n",
        "from tensorflow.keras.utils import plot_model \n",
        "from tensorflow.python.keras.utils import np_utils\n",
        "from tensorflow.python.keras.models import Sequential, Model\n",
        "from tensorflow.python.keras.layers import Dense, Dropout, Flatten, Activation, BatchNormalization\n",
        "from tensorflow.python.keras.layers.convolutional import Conv2D, MaxPooling2D \n",
        "import numpy as np\n",
        "import pandas as pd \n",
        "!pip install optuna\n",
        "import optuna\n",
        "from sklearn.model_selection import KFold\n",
        "from skimage.transform import resize\n",
        "from skimage.transform import rescale\n",
        "from tensorflow.keras.utils import to_categorical\n",
        "from tensorflow.keras.models import Sequential\n",
        "import cv2\n",
        "from statistics import mean\n",
        "from google.colab import files\n",
        "import time \n",
        "import csv\n"
      ],
      "execution_count": 1,
      "outputs": [
        {
          "output_type": "stream",
          "text": [
            "Requirement already satisfied: optuna in /usr/local/lib/python3.7/dist-packages (2.8.0)\n",
            "Requirement already satisfied: scipy!=1.4.0 in /usr/local/lib/python3.7/dist-packages (from optuna) (1.4.1)\n",
            "Requirement already satisfied: alembic in /usr/local/lib/python3.7/dist-packages (from optuna) (1.6.5)\n",
            "Requirement already satisfied: numpy in /usr/local/lib/python3.7/dist-packages (from optuna) (1.19.5)\n",
            "Requirement already satisfied: tqdm in /usr/local/lib/python3.7/dist-packages (from optuna) (4.41.1)\n",
            "Requirement already satisfied: packaging>=20.0 in /usr/local/lib/python3.7/dist-packages (from optuna) (20.9)\n",
            "Requirement already satisfied: sqlalchemy>=1.1.0 in /usr/local/lib/python3.7/dist-packages (from optuna) (1.4.20)\n",
            "Requirement already satisfied: cmaes>=0.8.2 in /usr/local/lib/python3.7/dist-packages (from optuna) (0.8.2)\n",
            "Requirement already satisfied: colorlog in /usr/local/lib/python3.7/dist-packages (from optuna) (5.0.1)\n",
            "Requirement already satisfied: cliff in /usr/local/lib/python3.7/dist-packages (from optuna) (3.8.0)\n",
            "Requirement already satisfied: python-dateutil in /usr/local/lib/python3.7/dist-packages (from alembic->optuna) (2.8.1)\n",
            "Requirement already satisfied: python-editor>=0.3 in /usr/local/lib/python3.7/dist-packages (from alembic->optuna) (1.0.4)\n",
            "Requirement already satisfied: Mako in /usr/local/lib/python3.7/dist-packages (from alembic->optuna) (1.1.4)\n",
            "Requirement already satisfied: pyparsing>=2.0.2 in /usr/local/lib/python3.7/dist-packages (from packaging>=20.0->optuna) (2.4.7)\n",
            "Requirement already satisfied: greenlet!=0.4.17; python_version >= \"3\" in /usr/local/lib/python3.7/dist-packages (from sqlalchemy>=1.1.0->optuna) (1.1.0)\n",
            "Requirement already satisfied: importlib-metadata; python_version < \"3.8\" in /usr/local/lib/python3.7/dist-packages (from sqlalchemy>=1.1.0->optuna) (4.6.0)\n",
            "Requirement already satisfied: PrettyTable>=0.7.2 in /usr/local/lib/python3.7/dist-packages (from cliff->optuna) (2.1.0)\n",
            "Requirement already satisfied: PyYAML>=3.12 in /usr/local/lib/python3.7/dist-packages (from cliff->optuna) (3.13)\n",
            "Requirement already satisfied: cmd2>=1.0.0 in /usr/local/lib/python3.7/dist-packages (from cliff->optuna) (2.1.2)\n",
            "Requirement already satisfied: pbr!=2.1.0,>=2.0.0 in /usr/local/lib/python3.7/dist-packages (from cliff->optuna) (5.6.0)\n",
            "Requirement already satisfied: stevedore>=2.0.1 in /usr/local/lib/python3.7/dist-packages (from cliff->optuna) (3.3.0)\n",
            "Requirement already satisfied: six>=1.5 in /usr/local/lib/python3.7/dist-packages (from python-dateutil->alembic->optuna) (1.15.0)\n",
            "Requirement already satisfied: MarkupSafe>=0.9.2 in /usr/local/lib/python3.7/dist-packages (from Mako->alembic->optuna) (2.0.1)\n",
            "Requirement already satisfied: typing-extensions>=3.6.4; python_version < \"3.8\" in /usr/local/lib/python3.7/dist-packages (from importlib-metadata; python_version < \"3.8\"->sqlalchemy>=1.1.0->optuna) (3.7.4.3)\n",
            "Requirement already satisfied: zipp>=0.5 in /usr/local/lib/python3.7/dist-packages (from importlib-metadata; python_version < \"3.8\"->sqlalchemy>=1.1.0->optuna) (3.4.1)\n",
            "Requirement already satisfied: wcwidth in /usr/local/lib/python3.7/dist-packages (from PrettyTable>=0.7.2->cliff->optuna) (0.2.5)\n",
            "Requirement already satisfied: attrs>=16.3.0 in /usr/local/lib/python3.7/dist-packages (from cmd2>=1.0.0->cliff->optuna) (21.2.0)\n",
            "Requirement already satisfied: pyperclip>=1.6 in /usr/local/lib/python3.7/dist-packages (from cmd2>=1.0.0->cliff->optuna) (1.8.2)\n",
            "Requirement already satisfied: colorama>=0.3.7 in /usr/local/lib/python3.7/dist-packages (from cmd2>=1.0.0->cliff->optuna) (0.4.4)\n"
          ],
          "name": "stdout"
        }
      ]
    },
    {
      "cell_type": "markdown",
      "metadata": {
        "id": "8OCUqyJev-QR"
      },
      "source": [
        "global variables"
      ]
    },
    {
      "cell_type": "code",
      "metadata": {
        "id": "J0rBEpzfwA4x"
      },
      "source": [
        "optimizer = None\n",
        "size = 128 \n",
        "batch_size = 128 # like the original paper \n",
        "classes = 0\n",
        "AUTOTUNE = tf.data.AUTOTUNE\n",
        "x_train = []\n",
        "x_test = []\n",
        "y_train = []\n",
        "y_test = []\n",
        "algorithem_name = 'source'\n",
        "database_name = None"
      ],
      "execution_count": 4,
      "outputs": []
    },
    {
      "cell_type": "markdown",
      "metadata": {
        "id": "xdFZNHN6v1D-"
      },
      "source": [
        "loading the dataset and pre processing "
      ]
    },
    {
      "cell_type": "code",
      "metadata": {
        "id": "tLsH9p4Kv47W"
      },
      "source": [
        "train_ds ,train_info= tfds.load('oxford_flowers102', split='train[:80%]', with_info=True)\n",
        "# val_ds,val_info = tfds.load('oxford_flowers102', split='train[80%:90%]', with_info=True)\n",
        "test_ds , test_info = tfds.load('oxford_flowers102', split='train[90%:]', with_info=True)\n",
        "## pre processing \n",
        "database_name = train_info.name\n",
        "resize_and_rescale = tf.keras.Sequential([\n",
        "layers.experimental.preprocessing.Resizing(size, size),\n",
        "layers.experimental.preprocessing.Rescaling(1./255)\n",
        "])\n",
        "\n",
        "def pre_process(data):\n",
        "  pictures=[]\n",
        "  labels = []\n",
        "  for i in data:\n",
        "    temp = resize_and_rescale(i['image'])\n",
        "    temp = np.asarray(temp)\n",
        "    pictures.append(temp)\n",
        "    labels.append(int(i['label']))\n",
        "  return np.asarray(pictures),np.asarray(labels)\n",
        "\n",
        "x_train,y_train =pre_process(train_ds)\n",
        "x_test,y_test =pre_process(test_ds)\n",
        "classes = train_info.features['label'].num_classes"
      ],
      "execution_count": 5,
      "outputs": []
    },
    {
      "cell_type": "code",
      "metadata": {
        "id": "dpE2w6Liv8tt"
      },
      "source": [
        "def creating_the_model():\n",
        "  inputs = layers.Input(shape=(size, size, 3))\n",
        "  pre_trained_model = keras.applications.ResNet50V2(include_top=False, weights='imagenet',input_tensor=inputs,pooling='avg')\n",
        "  pre_trained_model.trainable= False\n",
        "  \n",
        "  x = layers.BatchNormalization()(pre_trained_model.output)\n",
        "  top_dropout_rate = 0.5\n",
        "  x = layers.Dropout(top_dropout_rate, name=\"top_dropout\")(x)\n",
        "  outputs = layers.Dense(102, activation=\"softmax\", name=\"pred\")(x)\n",
        "  model = tf.keras.Model(inputs, outputs, name=\"ResNet\")\n",
        "  #unfreeze some layers of the pretrained model\n",
        "  for layer in model.layers[-10:]:\n",
        "    if not isinstance(layer, layers.BatchNormalization):\n",
        "        layer.trainable = True\n",
        "  return model\n",
        "\n"
      ],
      "execution_count": 6,
      "outputs": []
    },
    {
      "cell_type": "code",
      "metadata": {
        "id": "8FiaPOxPdUIE"
      },
      "source": [
        "def objective(trial,outer_x_train,outer_y_train):\n",
        "  lr = trial.suggest_float(name=\"lr\", low = 0.00001,high= 0.1, log=True)\n",
        "  steps = trial.suggest_float(name=\"steps\", low = 1,high=1000)\n",
        "  t_mult = trial.suggest_categorical(name=\"t_mult\", choices =[1,2])\n",
        "  m_mult = trial.suggest_float(name=\"m_mult\", low=0,high=1)\n",
        " \n",
        "  \n",
        "\n",
        "  internal_kfold = KFold(n_splits=3, shuffle=True)\n",
        "  fold_acc = []  \n",
        "  for inner_train_index,inner_test_index in internal_kfold.split(outer_x_train,outer_y_train):\n",
        "    inner_x_train, inner_x_test = outer_x_train[inner_train_index], outer_x_train[inner_test_index]\n",
        "    inner_y_train, inner_y_test = outer_y_train[inner_train_index], outer_y_train[inner_test_index]\n",
        "    model = creating_the_model()\n",
        "    model.compile(\n",
        "    loss='categorical_crossentropy', optimizer=tf.keras.optimizers.Adam(\n",
        "        learning_rate=tf.keras.optimizers.schedules.CosineDecayRestarts(\n",
        "  initial_learning_rate=trial.suggest_float(name=\"lr\", low = 0.00001,high= 0.1, log=True),\n",
        "  first_decay_steps=trial.suggest_float(name=\"steps\", low = 1,high=1000), \n",
        "  t_mul=trial.suggest_categorical(name=\"t_mult\", choices =[1,2]), \n",
        "  m_mul=trial.suggest_float(name=\"m_mult\", low=0,high=1), \n",
        "  alpha=0.0)\n",
        "      ), metrics=[\"accuracy\"]\n",
        "  )\n",
        "    model.fit(\n",
        "        x=inner_x_train,\n",
        "        y=to_categorical(inner_y_train,num_classes=classes),\n",
        "        # validation_data= (inner_x_test,to_categorical(,inner_y_test)),\n",
        "        # shuffle=True,\n",
        "        validation_split=0.1,\n",
        "        batch_size=batch_size,\n",
        "        epochs=5\n",
        "    )\n",
        "    score = model.evaluate(inner_x_test,to_categorical(inner_y_test, num_classes=classes) , verbose=0)\n",
        "    fold_acc.append(score[1] * 100)\n",
        "  return mean(fold_acc)"
      ],
      "execution_count": 7,
      "outputs": []
    },
    {
      "cell_type": "code",
      "metadata": {
        "id": "0q4hZH1l3SOL"
      },
      "source": [
        "def fold_dict_creator(Hyper_Parameters_Values,score,training_time,inference_time,fold):\n",
        "  fold_dict = {}\n",
        "  fold_dict['Dataset Name'] = database_name\n",
        "  fold_dict['Algorithm Name'] = algorithem_name\n",
        "  fold_dict['Cross Validation [1-10]'] = fold\n",
        "  fold_dict['Hyper-Parameters Values'] = Hyper_Parameters_Values\n",
        "  fold_dict['Accuracy'] = score[1]\n",
        "  fold_dict['TPR'] = score[2]\n",
        "  fold_dict['FPR'] = score[3]\n",
        "  fold_dict['Precision'] = score[4]\n",
        "  fold_dict['AUC'] = score[5]\n",
        "  fold_dict['PR-Curve'] = score[6]\n",
        "  fold_dict['Training Time'] = training_time\n",
        "  fold_dict['Inference Time'] = inference_time\n",
        "  return fold_dict\n"
      ],
      "execution_count": 8,
      "outputs": []
    },
    {
      "cell_type": "code",
      "metadata": {
        "colab": {
          "base_uri": "https://localhost:8080/"
        },
        "id": "UhxOlNiUc4Ki",
        "outputId": "c3987c77-cd85-41e1-afcd-17c2d6859cd3"
      },
      "source": [
        "outer_kfold = KFold(n_splits=10, shuffle=True)\n",
        "fold_num = 0\n",
        "dict_data= []\n",
        "for outer_train_index,outer_test_index in outer_kfold.split(x_train, y_train):\n",
        "  fold_num += 1\n",
        "  outer_x_train, outer_x_test = x_train[outer_train_index], x_train[outer_test_index]\n",
        "  outer_y_train, outer_y_test = y_train[outer_train_index], y_train[outer_test_index]\n",
        "  study = optuna.create_study(direction=\"maximize\")\n",
        "  study.optimize(lambda trail:objective(trail,outer_x_train,outer_y_train), n_trials=10)\n",
        "  model = creating_the_model()\n",
        "  model.compile(\n",
        "    loss='categorical_crossentropy', optimizer=tf.keras.optimizers.SGD(\n",
        "        learning_rate=tf.keras.optimizers.schedules.CosineDecayRestarts(\n",
        "  initial_learning_rate=study.best_params[\"lr\"],\n",
        "  first_decay_steps=study.best_params[\"steps\"], \n",
        "  t_mul=study.best_params[\"t_mult\"], \n",
        "  m_mul=study.best_params[\"m_mult\"], \n",
        "  alpha=0.0)\n",
        "      ), metrics=[\"accuracy\", tf.keras.metrics.SensitivityAtSpecificity(0.5),\n",
        "      tf.keras.metrics.SpecificityAtSensitivity(0.5), \n",
        "      tf.keras.metrics.Precision(),\n",
        "      tf.keras.metrics.AUC(),\n",
        "      tf.keras.metrics.AUC(curve = 'pr')]\n",
        "  )\n",
        "  start_time = time.time()\n",
        "  model_info = model.fit(\n",
        "    outer_x_train,\n",
        "    to_categorical(outer_y_train,num_classes=classes),\n",
        "    validation_split= 0.15,\n",
        "    shuffle=True,\n",
        "    batch_size=batch_size,\n",
        "    epochs=5,\n",
        "  )\n",
        "  training_time = time.time() - start_time\n",
        "  start_time = time.time()\n",
        "  score = model.evaluate(outer_x_test,to_categorical(outer_y_test,num_classes=classes))\n",
        "  print(model.metrics_names)\n",
        "  inference_time = time.time() - start_time\n",
        "  dict_data.append(fold_dict_creator(str(study.best_params), score, training_time , inference_time, fold_num))\n",
        "csv_file = \"results_algo_{}_data_set{}.csv\".format(algorithem_name,database_name)\n",
        "with open(csv_file, 'w') as csvfile:\n",
        "    writer = csv.DictWriter(csvfile, fieldnames=dict_data[0].keys())\n",
        "    writer.writeheader()\n",
        "    for data in dict_data:\n",
        "        writer.writerow(data)\n",
        "files.download(csv_file)  "
      ],
      "execution_count": null,
      "outputs": [
        {
          "output_type": "stream",
          "text": [
            "\u001b[32m[I 2021-07-15 11:47:39,822]\u001b[0m A new study created in memory with name: no-name-30404a45-60ab-4f1b-bd81-25c8a28be4be\u001b[0m\n"
          ],
          "name": "stderr"
        },
        {
          "output_type": "stream",
          "text": [
            "Epoch 1/5\n",
            "4/4 [==============================] - 10s 1s/step - loss: 5.5866 - accuracy: 0.0318 - val_loss: 5.0941 - val_accuracy: 0.0204\n",
            "Epoch 2/5\n",
            "4/4 [==============================] - 1s 131ms/step - loss: 3.0487 - accuracy: 0.2864 - val_loss: 4.4792 - val_accuracy: 0.0612\n",
            "Epoch 3/5\n",
            "4/4 [==============================] - 0s 125ms/step - loss: 1.8461 - accuracy: 0.6023 - val_loss: 4.1948 - val_accuracy: 0.0816\n",
            "Epoch 4/5\n",
            "4/4 [==============================] - 0s 124ms/step - loss: 1.1514 - accuracy: 0.7909 - val_loss: 4.0693 - val_accuracy: 0.1224\n",
            "Epoch 5/5\n",
            "4/4 [==============================] - 0s 120ms/step - loss: 0.7279 - accuracy: 0.8864 - val_loss: 3.9911 - val_accuracy: 0.1020\n",
            "Epoch 1/5\n",
            "4/4 [==============================] - 4s 372ms/step - loss: 5.5526 - accuracy: 0.0295 - val_loss: 4.8128 - val_accuracy: 0.0816\n",
            "Epoch 2/5\n",
            "4/4 [==============================] - 0s 124ms/step - loss: 3.2465 - accuracy: 0.2568 - val_loss: 4.2363 - val_accuracy: 0.1837\n",
            "Epoch 3/5\n",
            "4/4 [==============================] - 0s 124ms/step - loss: 2.0026 - accuracy: 0.5432 - val_loss: 4.0396 - val_accuracy: 0.2449\n",
            "Epoch 4/5\n",
            "4/4 [==============================] - 0s 126ms/step - loss: 1.3341 - accuracy: 0.7205 - val_loss: 3.9960 - val_accuracy: 0.2653\n",
            "Epoch 5/5\n",
            "4/4 [==============================] - 0s 121ms/step - loss: 0.9415 - accuracy: 0.8477 - val_loss: 3.9780 - val_accuracy: 0.3265\n",
            "Epoch 1/5\n",
            "4/4 [==============================] - 5s 699ms/step - loss: 5.7855 - accuracy: 0.0159 - val_loss: 5.0431 - val_accuracy: 0.0204\n",
            "Epoch 2/5\n",
            "4/4 [==============================] - 0s 123ms/step - loss: 3.3231 - accuracy: 0.2381 - val_loss: 4.2338 - val_accuracy: 0.1429\n",
            "Epoch 3/5\n",
            "4/4 [==============================] - 0s 124ms/step - loss: 1.9231 - accuracy: 0.5692 - val_loss: 3.8714 - val_accuracy: 0.1837\n",
            "Epoch 4/5\n",
            "4/4 [==============================] - 0s 124ms/step - loss: 1.2508 - accuracy: 0.7755 - val_loss: 3.6955 - val_accuracy: 0.2245\n",
            "Epoch 5/5\n",
            "4/4 [==============================] - 0s 122ms/step - loss: 0.8316 - accuracy: 0.8594 - val_loss: 3.5445 - val_accuracy: 0.2449\n"
          ],
          "name": "stdout"
        },
        {
          "output_type": "stream",
          "text": [
            "\u001b[32m[I 2021-07-15 11:48:11,517]\u001b[0m Trial 0 finished with value: 24.24278010924657 and parameters: {'lr': 0.0005136845085760202, 'steps': 179.3601111912019, 't_mult': 2, 'm_mult': 0.08236007996408745}. Best is trial 0 with value: 24.24278010924657.\u001b[0m\n"
          ],
          "name": "stderr"
        },
        {
          "output_type": "stream",
          "text": [
            "Epoch 1/5\n",
            "4/4 [==============================] - 4s 378ms/step - loss: 5.0580 - accuracy: 0.0909 - val_loss: 7.0621 - val_accuracy: 0.1224\n",
            "Epoch 2/5\n",
            "4/4 [==============================] - 0s 124ms/step - loss: 1.0903 - accuracy: 0.7205 - val_loss: 10.3407 - val_accuracy: 0.1429\n",
            "Epoch 3/5\n",
            "4/4 [==============================] - 0s 124ms/step - loss: 0.4465 - accuracy: 0.9068 - val_loss: 11.0139 - val_accuracy: 0.1837\n",
            "Epoch 4/5\n",
            "4/4 [==============================] - 0s 123ms/step - loss: 0.2436 - accuracy: 0.9591 - val_loss: 11.5981 - val_accuracy: 0.2245\n",
            "Epoch 5/5\n",
            "4/4 [==============================] - 0s 120ms/step - loss: 0.1078 - accuracy: 0.9773 - val_loss: 12.5135 - val_accuracy: 0.2041\n",
            "Epoch 1/5\n",
            "4/4 [==============================] - 4s 375ms/step - loss: 4.9027 - accuracy: 0.0932 - val_loss: 7.4223 - val_accuracy: 0.1429\n",
            "Epoch 2/5\n",
            "4/4 [==============================] - 0s 124ms/step - loss: 1.1602 - accuracy: 0.7318 - val_loss: 11.4610 - val_accuracy: 0.0816\n",
            "Epoch 3/5\n",
            "4/4 [==============================] - 0s 125ms/step - loss: 0.4712 - accuracy: 0.8955 - val_loss: 11.0665 - val_accuracy: 0.1020\n",
            "Epoch 4/5\n",
            "4/4 [==============================] - 1s 133ms/step - loss: 0.2752 - accuracy: 0.9432 - val_loss: 10.6555 - val_accuracy: 0.1633\n",
            "Epoch 5/5\n",
            "4/4 [==============================] - 0s 123ms/step - loss: 0.1258 - accuracy: 0.9818 - val_loss: 10.4459 - val_accuracy: 0.1837\n",
            "Epoch 1/5\n",
            "4/4 [==============================] - 4s 383ms/step - loss: 5.0888 - accuracy: 0.0748 - val_loss: 7.2643 - val_accuracy: 0.0612\n",
            "Epoch 2/5\n",
            "4/4 [==============================] - 0s 125ms/step - loss: 1.0264 - accuracy: 0.7823 - val_loss: 13.1808 - val_accuracy: 0.0816\n",
            "Epoch 3/5\n",
            "4/4 [==============================] - 0s 125ms/step - loss: 0.4514 - accuracy: 0.9025 - val_loss: 13.9556 - val_accuracy: 0.1224\n",
            "Epoch 4/5\n",
            "4/4 [==============================] - 0s 125ms/step - loss: 0.2159 - accuracy: 0.9546 - val_loss: 12.6598 - val_accuracy: 0.1633\n",
            "Epoch 5/5\n",
            "4/4 [==============================] - 0s 121ms/step - loss: 0.1278 - accuracy: 0.9728 - val_loss: 11.6532 - val_accuracy: 0.2041\n"
          ],
          "name": "stdout"
        },
        {
          "output_type": "stream",
          "text": [
            "\u001b[32m[I 2021-07-15 11:48:34,960]\u001b[0m Trial 1 finished with value: 22.20976948738098 and parameters: {'lr': 0.002697832657247236, 'steps': 780.7734025365836, 't_mult': 2, 'm_mult': 0.1438569598663324}. Best is trial 0 with value: 24.24278010924657.\u001b[0m\n"
          ],
          "name": "stderr"
        },
        {
          "output_type": "stream",
          "text": [
            "Epoch 1/5\n",
            "4/4 [==============================] - 4s 379ms/step - loss: 5.1292 - accuracy: 0.1159 - val_loss: 51.8253 - val_accuracy: 0.0204\n",
            "Epoch 2/5\n",
            "4/4 [==============================] - 0s 126ms/step - loss: 1.5714 - accuracy: 0.6250 - val_loss: 55.3365 - val_accuracy: 0.0408\n",
            "Epoch 3/5\n",
            "4/4 [==============================] - 0s 125ms/step - loss: 0.7708 - accuracy: 0.7977 - val_loss: 47.0943 - val_accuracy: 0.0612\n",
            "Epoch 4/5\n",
            "4/4 [==============================] - 0s 124ms/step - loss: 0.3266 - accuracy: 0.9205 - val_loss: 36.2132 - val_accuracy: 0.0612\n",
            "Epoch 5/5\n",
            "4/4 [==============================] - 0s 125ms/step - loss: 0.2166 - accuracy: 0.9409 - val_loss: 28.1070 - val_accuracy: 0.1020\n",
            "Epoch 1/5\n",
            "4/4 [==============================] - 4s 376ms/step - loss: 5.2998 - accuracy: 0.1091 - val_loss: 37.3443 - val_accuracy: 0.0408\n",
            "Epoch 2/5\n",
            "4/4 [==============================] - 1s 127ms/step - loss: 1.3160 - accuracy: 0.6750 - val_loss: 60.5519 - val_accuracy: 0.1020\n",
            "Epoch 3/5\n",
            "4/4 [==============================] - 1s 128ms/step - loss: 0.6836 - accuracy: 0.7977 - val_loss: 43.9234 - val_accuracy: 0.0816\n",
            "Epoch 4/5\n",
            "4/4 [==============================] - 0s 126ms/step - loss: 0.3816 - accuracy: 0.9000 - val_loss: 39.3975 - val_accuracy: 0.0816\n",
            "Epoch 5/5\n",
            "4/4 [==============================] - 0s 124ms/step - loss: 0.2516 - accuracy: 0.9182 - val_loss: 34.0550 - val_accuracy: 0.0816\n",
            "Epoch 1/5\n",
            "4/4 [==============================] - 4s 386ms/step - loss: 5.3677 - accuracy: 0.0907 - val_loss: 53.1016 - val_accuracy: 0.0408\n",
            "Epoch 2/5\n",
            "4/4 [==============================] - 0s 125ms/step - loss: 1.5328 - accuracy: 0.6712 - val_loss: 51.3508 - val_accuracy: 0.0408\n",
            "Epoch 3/5\n",
            "4/4 [==============================] - 1s 125ms/step - loss: 0.8730 - accuracy: 0.7868 - val_loss: 52.7402 - val_accuracy: 0.0204\n",
            "Epoch 4/5\n",
            "4/4 [==============================] - 0s 125ms/step - loss: 0.4413 - accuracy: 0.8685 - val_loss: 47.9148 - val_accuracy: 0.0000e+00\n",
            "Epoch 5/5\n",
            "4/4 [==============================] - 0s 122ms/step - loss: 0.2988 - accuracy: 0.9161 - val_loss: 40.8615 - val_accuracy: 0.0000e+00\n"
          ],
          "name": "stdout"
        },
        {
          "output_type": "stream",
          "text": [
            "\u001b[32m[I 2021-07-15 11:49:02,225]\u001b[0m Trial 2 finished with value: 10.483996818463007 and parameters: {'lr': 0.008397398705254782, 'steps': 48.86681023722599, 't_mult': 2, 'm_mult': 0.4884008368841152}. Best is trial 0 with value: 24.24278010924657.\u001b[0m\n"
          ],
          "name": "stderr"
        },
        {
          "output_type": "stream",
          "text": [
            "Epoch 1/5\n",
            "4/4 [==============================] - 4s 387ms/step - loss: 4.8306 - accuracy: 0.1205 - val_loss: 18.6475 - val_accuracy: 0.1224\n",
            "Epoch 2/5\n",
            "4/4 [==============================] - 0s 125ms/step - loss: 1.1026 - accuracy: 0.7364 - val_loss: 27.9839 - val_accuracy: 0.0816\n",
            "Epoch 3/5\n",
            "4/4 [==============================] - 1s 126ms/step - loss: 0.4741 - accuracy: 0.8864 - val_loss: 30.1007 - val_accuracy: 0.0612\n",
            "Epoch 4/5\n",
            "4/4 [==============================] - 0s 125ms/step - loss: 0.2824 - accuracy: 0.9273 - val_loss: 28.7725 - val_accuracy: 0.0612\n",
            "Epoch 5/5\n",
            "4/4 [==============================] - 0s 123ms/step - loss: 0.1518 - accuracy: 0.9591 - val_loss: 25.8922 - val_accuracy: 0.0612\n",
            "Epoch 1/5\n",
            "4/4 [==============================] - 4s 370ms/step - loss: 5.2803 - accuracy: 0.1000 - val_loss: 21.1299 - val_accuracy: 0.0816\n",
            "Epoch 2/5\n",
            "4/4 [==============================] - 0s 126ms/step - loss: 1.4926 - accuracy: 0.6568 - val_loss: 25.9317 - val_accuracy: 0.0816\n",
            "Epoch 3/5\n",
            "4/4 [==============================] - 1s 127ms/step - loss: 0.5610 - accuracy: 0.8682 - val_loss: 27.7912 - val_accuracy: 0.0816\n",
            "Epoch 4/5\n",
            "4/4 [==============================] - 0s 124ms/step - loss: 0.3508 - accuracy: 0.9045 - val_loss: 25.1647 - val_accuracy: 0.0816\n",
            "Epoch 5/5\n",
            "4/4 [==============================] - 0s 124ms/step - loss: 0.2000 - accuracy: 0.9455 - val_loss: 20.7668 - val_accuracy: 0.1633\n",
            "Epoch 1/5\n",
            "4/4 [==============================] - 4s 380ms/step - loss: 5.0785 - accuracy: 0.0748 - val_loss: 28.5476 - val_accuracy: 0.0612\n",
            "Epoch 2/5\n",
            "4/4 [==============================] - 1s 128ms/step - loss: 1.1539 - accuracy: 0.6825 - val_loss: 37.0607 - val_accuracy: 0.0612\n",
            "Epoch 3/5\n",
            "4/4 [==============================] - 1s 129ms/step - loss: 0.6090 - accuracy: 0.8390 - val_loss: 32.3710 - val_accuracy: 0.0612\n",
            "Epoch 4/5\n",
            "4/4 [==============================] - 0s 125ms/step - loss: 0.3222 - accuracy: 0.9070 - val_loss: 28.7253 - val_accuracy: 0.1429\n",
            "Epoch 5/5\n",
            "4/4 [==============================] - 1s 126ms/step - loss: 0.2093 - accuracy: 0.9433 - val_loss: 27.8145 - val_accuracy: 0.0816\n"
          ],
          "name": "stdout"
        },
        {
          "output_type": "stream",
          "text": [
            "\u001b[32m[I 2021-07-15 11:49:25,822]\u001b[0m Trial 3 finished with value: 11.719638605912527 and parameters: {'lr': 0.005601994571988041, 'steps': 311.51513656325676, 't_mult': 1, 'm_mult': 0.4258606915300146}. Best is trial 0 with value: 24.24278010924657.\u001b[0m\n"
          ],
          "name": "stderr"
        },
        {
          "output_type": "stream",
          "text": [
            "Epoch 1/5\n",
            "4/4 [==============================] - 4s 382ms/step - loss: 9.6380 - accuracy: 0.0886 - val_loss: 443.1893 - val_accuracy: 0.0000e+00\n",
            "Epoch 2/5\n",
            "4/4 [==============================] - 0s 126ms/step - loss: 7.6437 - accuracy: 0.4682 - val_loss: 436.6178 - val_accuracy: 0.0204\n",
            "Epoch 3/5\n",
            "4/4 [==============================] - 1s 128ms/step - loss: 4.2036 - accuracy: 0.5909 - val_loss: 329.1409 - val_accuracy: 0.0408\n",
            "Epoch 4/5\n",
            "4/4 [==============================] - 1s 132ms/step - loss: 2.7368 - accuracy: 0.6886 - val_loss: 201.0110 - val_accuracy: 0.0408\n",
            "Epoch 5/5\n",
            "4/4 [==============================] - 1s 128ms/step - loss: 1.8746 - accuracy: 0.7614 - val_loss: 153.3700 - val_accuracy: 0.0612\n",
            "Epoch 1/5\n",
            "4/4 [==============================] - 4s 380ms/step - loss: 11.2215 - accuracy: 0.0591 - val_loss: 568.8224 - val_accuracy: 0.0000e+00\n",
            "Epoch 2/5\n",
            "4/4 [==============================] - 1s 130ms/step - loss: 8.2861 - accuracy: 0.4386 - val_loss: 318.9539 - val_accuracy: 0.1020\n",
            "Epoch 3/5\n",
            "4/4 [==============================] - 1s 126ms/step - loss: 3.8922 - accuracy: 0.5909 - val_loss: 225.2350 - val_accuracy: 0.0612\n",
            "Epoch 4/5\n",
            "4/4 [==============================] - 1s 127ms/step - loss: 2.3936 - accuracy: 0.7159 - val_loss: 193.7943 - val_accuracy: 0.0204\n",
            "Epoch 5/5\n",
            "4/4 [==============================] - 0s 124ms/step - loss: 1.6061 - accuracy: 0.7909 - val_loss: 161.8302 - val_accuracy: 0.0204\n",
            "Epoch 1/5\n",
            "4/4 [==============================] - 4s 377ms/step - loss: 10.3189 - accuracy: 0.0748 - val_loss: 434.9887 - val_accuracy: 0.0408\n",
            "Epoch 2/5\n",
            "4/4 [==============================] - 1s 128ms/step - loss: 7.9409 - accuracy: 0.4082 - val_loss: 303.4807 - val_accuracy: 0.0000e+00\n",
            "Epoch 3/5\n",
            "4/4 [==============================] - 1s 128ms/step - loss: 4.4849 - accuracy: 0.5669 - val_loss: 250.8094 - val_accuracy: 0.0408\n",
            "Epoch 4/5\n",
            "4/4 [==============================] - 1s 128ms/step - loss: 2.8023 - accuracy: 0.6621 - val_loss: 213.0596 - val_accuracy: 0.0408\n",
            "Epoch 5/5\n",
            "4/4 [==============================] - 1s 126ms/step - loss: 1.5606 - accuracy: 0.7914 - val_loss: 175.4760 - val_accuracy: 0.0408\n"
          ],
          "name": "stdout"
        },
        {
          "output_type": "stream",
          "text": [
            "\u001b[32m[I 2021-07-15 11:49:51,358]\u001b[0m Trial 4 finished with value: 6.2651945898930235 and parameters: {'lr': 0.03872764389074807, 'steps': 295.52860057665623, 't_mult': 1, 'm_mult': 0.3061308662585802}. Best is trial 0 with value: 24.24278010924657.\u001b[0m\n"
          ],
          "name": "stderr"
        },
        {
          "output_type": "stream",
          "text": [
            "Epoch 1/5\n",
            "4/4 [==============================] - 4s 385ms/step - loss: 4.9457 - accuracy: 0.1295 - val_loss: 39.0020 - val_accuracy: 0.0000e+00\n",
            "Epoch 2/5\n",
            "4/4 [==============================] - 1s 127ms/step - loss: 1.5087 - accuracy: 0.6545 - val_loss: 43.4020 - val_accuracy: 0.0408\n",
            "Epoch 3/5\n",
            "4/4 [==============================] - 1s 133ms/step - loss: 0.6204 - accuracy: 0.8409 - val_loss: 30.4033 - val_accuracy: 0.1020\n",
            "Epoch 4/5\n",
            "4/4 [==============================] - 1s 128ms/step - loss: 0.4239 - accuracy: 0.8727 - val_loss: 29.3887 - val_accuracy: 0.1020\n",
            "Epoch 5/5\n",
            "4/4 [==============================] - 0s 124ms/step - loss: 0.2649 - accuracy: 0.9477 - val_loss: 28.4662 - val_accuracy: 0.0816\n",
            "Epoch 1/5\n",
            "4/4 [==============================] - 4s 379ms/step - loss: 4.9481 - accuracy: 0.1500 - val_loss: 26.8345 - val_accuracy: 0.0408\n",
            "Epoch 2/5\n",
            "4/4 [==============================] - 1s 128ms/step - loss: 1.2578 - accuracy: 0.6909 - val_loss: 33.9118 - val_accuracy: 0.1429\n",
            "Epoch 3/5\n",
            "4/4 [==============================] - 1s 127ms/step - loss: 0.5088 - accuracy: 0.8818 - val_loss: 35.5288 - val_accuracy: 0.0408\n",
            "Epoch 4/5\n",
            "4/4 [==============================] - 1s 127ms/step - loss: 0.3663 - accuracy: 0.8841 - val_loss: 30.1478 - val_accuracy: 0.0816\n",
            "Epoch 5/5\n",
            "4/4 [==============================] - 1s 125ms/step - loss: 0.2565 - accuracy: 0.9364 - val_loss: 28.3693 - val_accuracy: 0.0816\n",
            "Epoch 1/5\n",
            "4/4 [==============================] - 4s 383ms/step - loss: 5.0152 - accuracy: 0.1270 - val_loss: 24.7300 - val_accuracy: 0.0408\n",
            "Epoch 2/5\n",
            "4/4 [==============================] - 1s 129ms/step - loss: 1.3591 - accuracy: 0.6780 - val_loss: 34.8271 - val_accuracy: 0.0204\n",
            "Epoch 3/5\n",
            "4/4 [==============================] - 1s 129ms/step - loss: 0.5763 - accuracy: 0.8526 - val_loss: 28.3143 - val_accuracy: 0.0816\n",
            "Epoch 4/5\n",
            "4/4 [==============================] - 1s 129ms/step - loss: 0.3949 - accuracy: 0.8957 - val_loss: 30.4730 - val_accuracy: 0.1020\n",
            "Epoch 5/5\n",
            "4/4 [==============================] - 0s 125ms/step - loss: 0.2513 - accuracy: 0.9388 - val_loss: 29.3611 - val_accuracy: 0.1020\n"
          ],
          "name": "stdout"
        },
        {
          "output_type": "stream",
          "text": [
            "\u001b[32m[I 2021-07-15 11:50:15,145]\u001b[0m Trial 5 finished with value: 13.353407134612402 and parameters: {'lr': 0.006702310127169717, 'steps': 381.5867333626217, 't_mult': 1, 'm_mult': 0.046078044945305985}. Best is trial 0 with value: 24.24278010924657.\u001b[0m\n"
          ],
          "name": "stderr"
        },
        {
          "output_type": "stream",
          "text": [
            "Epoch 1/5\n",
            "4/4 [==============================] - 5s 395ms/step - loss: 5.8474 - accuracy: 0.0045 - val_loss: 5.4649 - val_accuracy: 0.0000e+00\n",
            "Epoch 2/5\n",
            "4/4 [==============================] - 1s 128ms/step - loss: 4.1744 - accuracy: 0.1500 - val_loss: 4.9366 - val_accuracy: 0.0408\n",
            "Epoch 3/5\n",
            "4/4 [==============================] - 1s 129ms/step - loss: 3.0095 - accuracy: 0.3250 - val_loss: 4.5811 - val_accuracy: 0.0816\n",
            "Epoch 4/5\n",
            "4/4 [==============================] - 1s 128ms/step - loss: 2.1989 - accuracy: 0.4864 - val_loss: 4.3356 - val_accuracy: 0.0612\n",
            "Epoch 5/5\n",
            "4/4 [==============================] - 1s 127ms/step - loss: 1.6833 - accuracy: 0.6432 - val_loss: 4.1480 - val_accuracy: 0.0612\n",
            "Epoch 1/5\n",
            "4/4 [==============================] - 4s 380ms/step - loss: 5.7488 - accuracy: 0.0136 - val_loss: 5.3376 - val_accuracy: 0.0408\n",
            "Epoch 2/5\n",
            "4/4 [==============================] - 1s 128ms/step - loss: 4.0375 - accuracy: 0.1750 - val_loss: 4.7988 - val_accuracy: 0.0816\n",
            "Epoch 3/5\n",
            "4/4 [==============================] - 1s 133ms/step - loss: 2.9652 - accuracy: 0.3205 - val_loss: 4.3918 - val_accuracy: 0.1020\n",
            "Epoch 4/5\n",
            "4/4 [==============================] - 1s 130ms/step - loss: 2.1949 - accuracy: 0.5205 - val_loss: 4.0971 - val_accuracy: 0.1429\n",
            "Epoch 5/5\n",
            "4/4 [==============================] - 1s 127ms/step - loss: 1.5930 - accuracy: 0.6705 - val_loss: 3.8604 - val_accuracy: 0.1633\n",
            "Epoch 1/5\n",
            "4/4 [==============================] - 4s 408ms/step - loss: 5.8772 - accuracy: 0.0136 - val_loss: 5.2271 - val_accuracy: 0.0408\n",
            "Epoch 2/5\n",
            "4/4 [==============================] - 1s 129ms/step - loss: 4.1926 - accuracy: 0.1224 - val_loss: 4.6775 - val_accuracy: 0.0816\n",
            "Epoch 3/5\n",
            "4/4 [==============================] - 1s 131ms/step - loss: 3.0038 - accuracy: 0.2834 - val_loss: 4.2700 - val_accuracy: 0.1633\n",
            "Epoch 4/5\n",
            "4/4 [==============================] - 1s 130ms/step - loss: 2.0657 - accuracy: 0.5261 - val_loss: 3.9674 - val_accuracy: 0.1837\n",
            "Epoch 5/5\n",
            "4/4 [==============================] - 1s 132ms/step - loss: 1.6608 - accuracy: 0.6667 - val_loss: 3.7334 - val_accuracy: 0.2449\n"
          ],
          "name": "stdout"
        },
        {
          "output_type": "stream",
          "text": [
            "\u001b[32m[I 2021-07-15 11:50:40,930]\u001b[0m Trial 6 finished with value: 15.530277788639069 and parameters: {'lr': 0.0003122831383399413, 'steps': 736.0477101156888, 't_mult': 2, 'm_mult': 0.4450582093785048}. Best is trial 0 with value: 24.24278010924657.\u001b[0m\n"
          ],
          "name": "stderr"
        },
        {
          "output_type": "stream",
          "text": [
            "Epoch 1/5\n"
          ],
          "name": "stdout"
        }
      ]
    },
    {
      "cell_type": "code",
      "metadata": {
        "colab": {
          "base_uri": "https://localhost:8080/",
          "height": 17
        },
        "id": "JvHgSKtOvAoM",
        "outputId": "3d8378ad-0406-4932-ff3e-e6031aa555cf"
      },
      "source": [
        "import csv\n",
        "csv_file = \"results_algo_{}_data_set{}.csv\".format(algorithem_name,database_name)\n",
        "with open(csv_file, 'w') as csvfile:\n",
        "    writer = csv.DictWriter(csvfile, fieldnames=dict_data[0].keys())\n",
        "    writer.writeheader()\n",
        "    for data in dict_data:\n",
        "        writer.writerow(data)\n",
        "files.download(csv_file)  \n"
      ],
      "execution_count": null,
      "outputs": [
        {
          "output_type": "display_data",
          "data": {
            "application/javascript": [
              "\n",
              "    async function download(id, filename, size) {\n",
              "      if (!google.colab.kernel.accessAllowed) {\n",
              "        return;\n",
              "      }\n",
              "      const div = document.createElement('div');\n",
              "      const label = document.createElement('label');\n",
              "      label.textContent = `Downloading \"${filename}\": `;\n",
              "      div.appendChild(label);\n",
              "      const progress = document.createElement('progress');\n",
              "      progress.max = size;\n",
              "      div.appendChild(progress);\n",
              "      document.body.appendChild(div);\n",
              "\n",
              "      const buffers = [];\n",
              "      let downloaded = 0;\n",
              "\n",
              "      const channel = await google.colab.kernel.comms.open(id);\n",
              "      // Send a message to notify the kernel that we're ready.\n",
              "      channel.send({})\n",
              "\n",
              "      for await (const message of channel.messages) {\n",
              "        // Send a message to notify the kernel that we're ready.\n",
              "        channel.send({})\n",
              "        if (message.buffers) {\n",
              "          for (const buffer of message.buffers) {\n",
              "            buffers.push(buffer);\n",
              "            downloaded += buffer.byteLength;\n",
              "            progress.value = downloaded;\n",
              "          }\n",
              "        }\n",
              "      }\n",
              "      const blob = new Blob(buffers, {type: 'application/binary'});\n",
              "      const a = document.createElement('a');\n",
              "      a.href = window.URL.createObjectURL(blob);\n",
              "      a.download = filename;\n",
              "      div.appendChild(a);\n",
              "      a.click();\n",
              "      div.remove();\n",
              "    }\n",
              "  "
            ],
            "text/plain": [
              "<IPython.core.display.Javascript object>"
            ]
          },
          "metadata": {
            "tags": []
          }
        },
        {
          "output_type": "display_data",
          "data": {
            "application/javascript": [
              "download(\"download_9af06e05-c7c8-4263-9623-ed5533ea4247\", \"results_algo_source_data_setoxford_flowers102.csv\", 689)"
            ],
            "text/plain": [
              "<IPython.core.display.Javascript object>"
            ]
          },
          "metadata": {
            "tags": []
          }
        }
      ]
    }
  ]
}