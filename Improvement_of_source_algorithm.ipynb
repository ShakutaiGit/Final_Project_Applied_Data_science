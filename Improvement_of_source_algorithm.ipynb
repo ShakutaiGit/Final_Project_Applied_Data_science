{
  "nbformat": 4,
  "nbformat_minor": 0,
  "metadata": {
    "colab": {
      "name": "Improvement_of_source_algorithm.ipynb",
      "provenance": [],
      "authorship_tag": "ABX9TyM+tmwSp/tEk9m3015ZFiep",
      "include_colab_link": true
    },
    "kernelspec": {
      "name": "python3",
      "display_name": "Python 3"
    },
    "language_info": {
      "name": "python"
    },
    "accelerator": "GPU"
  },
  "cells": [
    {
      "cell_type": "markdown",
      "metadata": {
        "id": "view-in-github",
        "colab_type": "text"
      },
      "source": [
        "<a href=\"https://colab.research.google.com/github/ShakutaiGit/Final_Project_Applied_Data_science/blob/main/Improvement_of_source_algorithm.ipynb\" target=\"_parent\"><img src=\"https://colab.research.google.com/assets/colab-badge.svg\" alt=\"Open In Colab\"/></a>"
      ]
    },
    {
      "cell_type": "markdown",
      "metadata": {
        "id": "40yCnCufvuBl"
      },
      "source": [
        "relevant imports "
      ]
    },
    {
      "cell_type": "code",
      "metadata": {
        "id": "luTxD34ave3s",
        "colab": {
          "base_uri": "https://localhost:8080/"
        },
        "outputId": "8a9dd165-2146-460c-8aa6-d263701d4adc"
      },
      "source": [
        "import tensorflow as tf\n",
        "import tensorflow_datasets as tfds\n",
        "from tensorflow.keras.layers.experimental import preprocessing\n",
        "import matplotlib.pyplot as plt\n",
        "from tensorflow import keras\n",
        "from tensorflow.keras import layers\n",
        "from tensorflow.keras.utils import plot_model \n",
        "from tensorflow.python.keras.utils import np_utils\n",
        "from tensorflow.python.keras.models import Sequential, Model\n",
        "from tensorflow.python.keras.layers import Dense, Dropout, Flatten, Activation, BatchNormalization\n",
        "from tensorflow.python.keras.layers.convolutional import Conv2D, MaxPooling2D \n",
        "import numpy as np\n",
        "import pandas as pd \n",
        "!pip install optuna\n",
        "import optuna\n",
        "from sklearn.model_selection import KFold\n",
        "from skimage.transform import resize\n",
        "from skimage.transform import rescale\n",
        "from tensorflow.keras.utils import to_categorical\n",
        "from tensorflow.keras.models import Sequential\n",
        "import cv2\n",
        "from statistics import mean\n",
        "from google.colab import files\n",
        "import time \n",
        "import csv\n"
      ],
      "execution_count": 1,
      "outputs": [
        {
          "output_type": "stream",
          "text": [
            "Collecting optuna\n",
            "\u001b[?25l  Downloading https://files.pythonhosted.org/packages/1a/18/b49ca91cf592747e19f2d333c2a86cd7c81895b922a5a09adf6335471576/optuna-2.8.0-py3-none-any.whl (301kB)\n",
            "\u001b[K     |████████████████████████████████| 307kB 8.5MB/s \n",
            "\u001b[?25hRequirement already satisfied: scipy!=1.4.0 in /usr/local/lib/python3.7/dist-packages (from optuna) (1.4.1)\n",
            "Requirement already satisfied: numpy in /usr/local/lib/python3.7/dist-packages (from optuna) (1.19.5)\n",
            "Requirement already satisfied: sqlalchemy>=1.1.0 in /usr/local/lib/python3.7/dist-packages (from optuna) (1.4.20)\n",
            "Collecting alembic\n",
            "\u001b[?25l  Downloading https://files.pythonhosted.org/packages/d5/80/ef186e599a57d0e4cb78fc76e0bfc2e6953fa9716b2a5cf2de0117ed8eb5/alembic-1.6.5-py2.py3-none-any.whl (164kB)\n",
            "\u001b[K     |████████████████████████████████| 174kB 51.4MB/s \n",
            "\u001b[?25hRequirement already satisfied: packaging>=20.0 in /usr/local/lib/python3.7/dist-packages (from optuna) (21.0)\n",
            "Requirement already satisfied: tqdm in /usr/local/lib/python3.7/dist-packages (from optuna) (4.41.1)\n",
            "Collecting cmaes>=0.8.2\n",
            "  Downloading https://files.pythonhosted.org/packages/01/1f/43b01223a0366171f474320c6e966c39a11587287f098a5f09809b45e05f/cmaes-0.8.2-py3-none-any.whl\n",
            "Collecting cliff\n",
            "\u001b[?25l  Downloading https://files.pythonhosted.org/packages/87/11/aea1cacbd4cf8262809c4d6f95dcb3f2802594de1f51c5bd454d69bf15c5/cliff-3.8.0-py3-none-any.whl (80kB)\n",
            "\u001b[K     |████████████████████████████████| 81kB 11.7MB/s \n",
            "\u001b[?25hCollecting colorlog\n",
            "  Downloading https://files.pythonhosted.org/packages/32/e6/e9ddc6fa1104fda718338b341e4b3dc31cd8039ab29e52fc73b508515361/colorlog-5.0.1-py2.py3-none-any.whl\n",
            "Requirement already satisfied: greenlet!=0.4.17; python_version >= \"3\" in /usr/local/lib/python3.7/dist-packages (from sqlalchemy>=1.1.0->optuna) (1.1.0)\n",
            "Requirement already satisfied: importlib-metadata; python_version < \"3.8\" in /usr/local/lib/python3.7/dist-packages (from sqlalchemy>=1.1.0->optuna) (4.6.1)\n",
            "Collecting Mako\n",
            "\u001b[?25l  Downloading https://files.pythonhosted.org/packages/f3/54/dbc07fbb20865d3b78fdb7cf7fa713e2cba4f87f71100074ef2dc9f9d1f7/Mako-1.1.4-py2.py3-none-any.whl (75kB)\n",
            "\u001b[K     |████████████████████████████████| 81kB 12.1MB/s \n",
            "\u001b[?25hRequirement already satisfied: python-dateutil in /usr/local/lib/python3.7/dist-packages (from alembic->optuna) (2.8.1)\n",
            "Collecting python-editor>=0.3\n",
            "  Downloading https://files.pythonhosted.org/packages/c6/d3/201fc3abe391bbae6606e6f1d598c15d367033332bd54352b12f35513717/python_editor-1.0.4-py3-none-any.whl\n",
            "Requirement already satisfied: pyparsing>=2.0.2 in /usr/local/lib/python3.7/dist-packages (from packaging>=20.0->optuna) (2.4.7)\n",
            "Collecting cmd2>=1.0.0\n",
            "\u001b[?25l  Downloading https://files.pythonhosted.org/packages/44/ca/d407811641ec1d8bd8a38ee3165d73aa44776d7700436bd4d4a6606f2736/cmd2-2.1.2-py3-none-any.whl (141kB)\n",
            "\u001b[K     |████████████████████████████████| 143kB 37.9MB/s \n",
            "\u001b[?25hRequirement already satisfied: PrettyTable>=0.7.2 in /usr/local/lib/python3.7/dist-packages (from cliff->optuna) (2.1.0)\n",
            "Collecting stevedore>=2.0.1\n",
            "\u001b[?25l  Downloading https://files.pythonhosted.org/packages/d4/49/b602307aeac3df3384ff1fcd05da9c0376c622a6c48bb5325f28ab165b57/stevedore-3.3.0-py3-none-any.whl (49kB)\n",
            "\u001b[K     |████████████████████████████████| 51kB 8.1MB/s \n",
            "\u001b[?25hRequirement already satisfied: PyYAML>=3.12 in /usr/local/lib/python3.7/dist-packages (from cliff->optuna) (3.13)\n",
            "Collecting pbr!=2.1.0,>=2.0.0\n",
            "\u001b[?25l  Downloading https://files.pythonhosted.org/packages/18/e0/1d4702dd81121d04a477c272d47ee5b6bc970d1a0990b11befa275c55cf2/pbr-5.6.0-py2.py3-none-any.whl (111kB)\n",
            "\u001b[K     |████████████████████████████████| 112kB 53.8MB/s \n",
            "\u001b[?25hRequirement already satisfied: typing-extensions>=3.6.4; python_version < \"3.8\" in /usr/local/lib/python3.7/dist-packages (from importlib-metadata; python_version < \"3.8\"->sqlalchemy>=1.1.0->optuna) (3.7.4.3)\n",
            "Requirement already satisfied: zipp>=0.5 in /usr/local/lib/python3.7/dist-packages (from importlib-metadata; python_version < \"3.8\"->sqlalchemy>=1.1.0->optuna) (3.5.0)\n",
            "Requirement already satisfied: MarkupSafe>=0.9.2 in /usr/local/lib/python3.7/dist-packages (from Mako->alembic->optuna) (2.0.1)\n",
            "Requirement already satisfied: six>=1.5 in /usr/local/lib/python3.7/dist-packages (from python-dateutil->alembic->optuna) (1.15.0)\n",
            "Requirement already satisfied: attrs>=16.3.0 in /usr/local/lib/python3.7/dist-packages (from cmd2>=1.0.0->cliff->optuna) (21.2.0)\n",
            "Requirement already satisfied: wcwidth>=0.1.7 in /usr/local/lib/python3.7/dist-packages (from cmd2>=1.0.0->cliff->optuna) (0.2.5)\n",
            "Collecting pyperclip>=1.6\n",
            "  Downloading https://files.pythonhosted.org/packages/a7/2c/4c64579f847bd5d539803c8b909e54ba087a79d01bb3aba433a95879a6c5/pyperclip-1.8.2.tar.gz\n",
            "Collecting colorama>=0.3.7\n",
            "  Downloading https://files.pythonhosted.org/packages/44/98/5b86278fbbf250d239ae0ecb724f8572af1c91f4a11edf4d36a206189440/colorama-0.4.4-py2.py3-none-any.whl\n",
            "Building wheels for collected packages: pyperclip\n",
            "  Building wheel for pyperclip (setup.py) ... \u001b[?25l\u001b[?25hdone\n",
            "  Created wheel for pyperclip: filename=pyperclip-1.8.2-cp37-none-any.whl size=11136 sha256=62ff5c9b978445ed8ab04a845bb977463ae568704c38f3e2a07639555714b20a\n",
            "  Stored in directory: /root/.cache/pip/wheels/25/af/b8/3407109267803f4015e1ee2ff23be0c8c19ce4008665931ee1\n",
            "Successfully built pyperclip\n",
            "Installing collected packages: Mako, python-editor, alembic, cmaes, pyperclip, colorama, cmd2, pbr, stevedore, cliff, colorlog, optuna\n",
            "Successfully installed Mako-1.1.4 alembic-1.6.5 cliff-3.8.0 cmaes-0.8.2 cmd2-2.1.2 colorama-0.4.4 colorlog-5.0.1 optuna-2.8.0 pbr-5.6.0 pyperclip-1.8.2 python-editor-1.0.4 stevedore-3.3.0\n"
          ],
          "name": "stdout"
        }
      ]
    },
    {
      "cell_type": "markdown",
      "metadata": {
        "id": "8OCUqyJev-QR"
      },
      "source": [
        "global variables"
      ]
    },
    {
      "cell_type": "code",
      "metadata": {
        "id": "J0rBEpzfwA4x"
      },
      "source": [
        "optimizer = None\n",
        "size = 128 \n",
        "batch_size = 128 # like the original paper \n",
        "classes = 0\n",
        "AUTOTUNE = tf.data.AUTOTUNE\n",
        "x_train = []\n",
        "x_test = []\n",
        "y_train = []\n",
        "y_test = []\n",
        "algorithem_name = 'Improvement'\n",
        "database_name = None"
      ],
      "execution_count": 2,
      "outputs": []
    },
    {
      "cell_type": "markdown",
      "metadata": {
        "id": "xdFZNHN6v1D-"
      },
      "source": [
        "loading the dataset and pre processing "
      ]
    },
    {
      "cell_type": "code",
      "metadata": {
        "id": "tLsH9p4Kv47W"
      },
      "source": [
        "train_ds ,train_info= tfds.load('oxford_flowers102', split='train[:80%]', with_info=True)\n",
        "# val_ds,val_info = tfds.load('oxford_flowers102', split='train[80%:90%]', with_info=True)\n",
        "test_ds , test_info = tfds.load('oxford_flowers102', split='train[90%:]', with_info=True)\n",
        "## pre processing \n",
        "database_name = train_info.name\n",
        "resize_and_rescale = tf.keras.Sequential([\n",
        "layers.experimental.preprocessing.Resizing(size, size),\n",
        "layers.experimental.preprocessing.Rescaling(1./255)\n",
        "])\n",
        "\n",
        "def pre_process(data):\n",
        "  pictures=[]\n",
        "  labels = []\n",
        "  for i in data:\n",
        "    temp = resize_and_rescale(i['image'])\n",
        "    temp = np.asarray(temp)\n",
        "    pictures.append(temp)\n",
        "    labels.append(int(i['label']))\n",
        "  return np.asarray(pictures),np.asarray(labels)\n",
        "\n",
        "x_train,y_train =pre_process(train_ds)\n",
        "x_test,y_test =pre_process(test_ds)\n",
        "classes = train_info.features['label'].num_classes"
      ],
      "execution_count": 5,
      "outputs": []
    },
    {
      "cell_type": "code",
      "metadata": {
        "id": "dpE2w6Liv8tt"
      },
      "source": [
        "def creating_the_model():\n",
        "  inputs = layers.Input(shape=(size, size, 3))\n",
        "  pre_trained_model = keras.applications.ResNet50V2(include_top=False, weights='imagenet',input_tensor=inputs,pooling='avg')\n",
        "  pre_trained_model.trainable= False\n",
        "  \n",
        "  x = layers.BatchNormalization()(pre_trained_model.output)\n",
        "  top_dropout_rate = 0.5\n",
        "  x = layers.Dropout(top_dropout_rate, name=\"top_dropout\")(x)\n",
        "  outputs = layers.Dense(102, activation=\"softmax\", name=\"pred\")(x)\n",
        "  model = tf.keras.Model(inputs, outputs, name=\"ResNet\")\n",
        "  #unfreeze some layers of the pretrained model\n",
        "  for layer in model.layers[-10:]:\n",
        "    if not isinstance(layer, layers.BatchNormalization):\n",
        "        layer.trainable = True\n",
        "  return model\n",
        "\n"
      ],
      "execution_count": 6,
      "outputs": []
    },
    {
      "cell_type": "code",
      "metadata": {
        "id": "8FiaPOxPdUIE"
      },
      "source": [
        "def objective(trial,outer_x_train,outer_y_train):\n",
        "  lr = trial.suggest_float(name=\"lr\", low = 0.00001,high= 0.1, log=True)\n",
        "  steps = trial.suggest_float(name=\"steps\", low = 1,high=1000)\n",
        "  t_mult = trial.suggest_categorical(name=\"t_mult\", choices =[1,2])\n",
        "  m_mult = trial.suggest_float(name=\"m_mult\", low=0,high=1)\n",
        " \n",
        "  \n",
        "\n",
        "  internal_kfold = KFold(n_splits=3, shuffle=True)\n",
        "  fold_acc = []  \n",
        "  for inner_train_index,inner_test_index in internal_kfold.split(outer_x_train,outer_y_train):\n",
        "    inner_x_train, inner_x_test = outer_x_train[inner_train_index], outer_x_train[inner_test_index]\n",
        "    inner_y_train, inner_y_test = outer_y_train[inner_train_index], outer_y_train[inner_test_index]\n",
        "    model = creating_the_model()\n",
        "    model.compile(\n",
        "    loss='categorical_crossentropy', optimizer=tf.keras.optimizers.Adam(\n",
        "        learning_rate=tf.keras.optimizers.schedules.CosineDecayRestarts(\n",
        "  initial_learning_rate=trial.suggest_float(name=\"lr\", low = 0.00001,high= 0.1, log=True),\n",
        "  first_decay_steps=trial.suggest_float(name=\"steps\", low = 1,high=1000), \n",
        "  t_mul=trial.suggest_categorical(name=\"t_mult\", choices =[1,2]), \n",
        "  m_mul=trial.suggest_float(name=\"m_mult\", low=0,high=1), \n",
        "  alpha=0.0)\n",
        "      ), metrics=[\"accuracy\"]\n",
        "  )\n",
        "    model.fit(\n",
        "        x=inner_x_train,\n",
        "        y=to_categorical(inner_y_train,num_classes=classes),\n",
        "        # validation_data= (inner_x_test,to_categorical(,inner_y_test)),\n",
        "        # shuffle=True,\n",
        "        validation_split=0.1,\n",
        "        batch_size=batch_size,\n",
        "        epochs=5\n",
        "    )\n",
        "    score = model.evaluate(inner_x_test,to_categorical(inner_y_test, num_classes=classes) , verbose=0)\n",
        "    fold_acc.append(score[1] * 100)\n",
        "  return mean(fold_acc)"
      ],
      "execution_count": 7,
      "outputs": []
    },
    {
      "cell_type": "code",
      "metadata": {
        "id": "0q4hZH1l3SOL"
      },
      "source": [
        "def fold_dict_creator(Hyper_Parameters_Values,score,training_time,inference_time,fold):\n",
        "  fold_dict = {}\n",
        "  fold_dict['Dataset Name'] = database_name\n",
        "  fold_dict['Algorithm Name'] = algorithem_name\n",
        "  fold_dict['Cross Validation [1-10]'] = fold\n",
        "  fold_dict['Hyper-Parameters Values'] = Hyper_Parameters_Values\n",
        "  fold_dict['Accuracy'] = score[1]\n",
        "  fold_dict['TPR'] = score[2]\n",
        "  fold_dict['FPR'] = score[3]\n",
        "  fold_dict['Precision'] = score[4]\n",
        "  fold_dict['AUC'] = score[5]\n",
        "  fold_dict['PR-Curve'] = score[6]\n",
        "  fold_dict['Training Time'] = training_time\n",
        "  fold_dict['Inference Time'] = inference_time\n",
        "  return fold_dict\n"
      ],
      "execution_count": 8,
      "outputs": []
    },
    {
      "cell_type": "code",
      "metadata": {
        "colab": {
          "base_uri": "https://localhost:8080/",
          "height": 1000
        },
        "id": "UhxOlNiUc4Ki",
        "outputId": "c3987c77-cd85-41e1-afcd-17c2d6859cd3"
      },
      "source": [
        "outer_kfold = KFold(n_splits=10, shuffle=True)\n",
        "fold_num = 0\n",
        "dict_data= []\n",
        "for outer_train_index,outer_test_index in outer_kfold.split(x_train, y_train):\n",
        "  fold_num += 1\n",
        "  outer_x_train, outer_x_test = x_train[outer_train_index], x_train[outer_test_index]\n",
        "  outer_y_train, outer_y_test = y_train[outer_train_index], y_train[outer_test_index]\n",
        "  study = optuna.create_study(direction=\"maximize\")\n",
        "  study.optimize(lambda trail:objective(trail,outer_x_train,outer_y_train), n_trials=10)\n",
        "  model = creating_the_model()\n",
        "  model.compile(\n",
        "    loss='categorical_crossentropy', optimizer=tf.keras.optimizers.SGD(\n",
        "        learning_rate=tf.keras.optimizers.schedules.CosineDecayRestarts(\n",
        "  initial_learning_rate=study.best_params[\"lr\"],\n",
        "  first_decay_steps=study.best_params[\"steps\"], \n",
        "  t_mul=study.best_params[\"t_mult\"], \n",
        "  m_mul=study.best_params[\"m_mult\"], \n",
        "  alpha=0.0)\n",
        "      ), metrics=[\"accuracy\", tf.keras.metrics.SensitivityAtSpecificity(0.5),\n",
        "      tf.keras.metrics.SpecificityAtSensitivity(0.5), \n",
        "      tf.keras.metrics.Precision(),\n",
        "      tf.keras.metrics.AUC(),\n",
        "      tf.keras.metrics.AUC(curve = 'pr')]\n",
        "  )\n",
        "  start_time = time.time()\n",
        "  model_info = model.fit(\n",
        "    outer_x_train,\n",
        "    to_categorical(outer_y_train,num_classes=classes),\n",
        "    validation_split= 0.15,\n",
        "    shuffle=True,\n",
        "    batch_size=batch_size,\n",
        "    epochs=5,\n",
        "  )\n",
        "  training_time = time.time() - start_time\n",
        "  start_time = time.time()\n",
        "  score = model.evaluate(outer_x_test,to_categorical(outer_y_test,num_classes=classes))\n",
        "  print(model.metrics_names)\n",
        "  inference_time = time.time() - start_time\n",
        "  dict_data.append(fold_dict_creator(str(study.best_params), score, training_time , inference_time, fold_num))\n",
        "csv_file = \"results_algo_{}_data_set{}.csv\".format(algorithem_name,database_name)\n",
        "with open(csv_file, 'w') as csvfile:\n",
        "    writer = csv.DictWriter(csvfile, fieldnames=dict_data[0].keys())\n",
        "    writer.writeheader()\n",
        "    for data in dict_data:\n",
        "        writer.writerow(data)\n",
        "files.download(csv_file)  "
      ],
      "execution_count": 9,
      "outputs": [
        {
          "output_type": "stream",
          "text": [
            "\u001b[32m[I 2021-07-15 11:47:39,822]\u001b[0m A new study created in memory with name: no-name-30404a45-60ab-4f1b-bd81-25c8a28be4be\u001b[0m\n"
          ],
          "name": "stderr"
        },
        {
          "output_type": "stream",
          "text": [
            "Epoch 1/5\n",
            "4/4 [==============================] - 10s 1s/step - loss: 5.5866 - accuracy: 0.0318 - val_loss: 5.0941 - val_accuracy: 0.0204\n",
            "Epoch 2/5\n",
            "4/4 [==============================] - 1s 131ms/step - loss: 3.0487 - accuracy: 0.2864 - val_loss: 4.4792 - val_accuracy: 0.0612\n",
            "Epoch 3/5\n",
            "4/4 [==============================] - 0s 125ms/step - loss: 1.8461 - accuracy: 0.6023 - val_loss: 4.1948 - val_accuracy: 0.0816\n",
            "Epoch 4/5\n",
            "4/4 [==============================] - 0s 124ms/step - loss: 1.1514 - accuracy: 0.7909 - val_loss: 4.0693 - val_accuracy: 0.1224\n",
            "Epoch 5/5\n",
            "4/4 [==============================] - 0s 120ms/step - loss: 0.7279 - accuracy: 0.8864 - val_loss: 3.9911 - val_accuracy: 0.1020\n",
            "Epoch 1/5\n",
            "4/4 [==============================] - 4s 372ms/step - loss: 5.5526 - accuracy: 0.0295 - val_loss: 4.8128 - val_accuracy: 0.0816\n",
            "Epoch 2/5\n",
            "4/4 [==============================] - 0s 124ms/step - loss: 3.2465 - accuracy: 0.2568 - val_loss: 4.2363 - val_accuracy: 0.1837\n",
            "Epoch 3/5\n",
            "4/4 [==============================] - 0s 124ms/step - loss: 2.0026 - accuracy: 0.5432 - val_loss: 4.0396 - val_accuracy: 0.2449\n",
            "Epoch 4/5\n",
            "4/4 [==============================] - 0s 126ms/step - loss: 1.3341 - accuracy: 0.7205 - val_loss: 3.9960 - val_accuracy: 0.2653\n",
            "Epoch 5/5\n",
            "4/4 [==============================] - 0s 121ms/step - loss: 0.9415 - accuracy: 0.8477 - val_loss: 3.9780 - val_accuracy: 0.3265\n",
            "Epoch 1/5\n",
            "4/4 [==============================] - 5s 699ms/step - loss: 5.7855 - accuracy: 0.0159 - val_loss: 5.0431 - val_accuracy: 0.0204\n",
            "Epoch 2/5\n",
            "4/4 [==============================] - 0s 123ms/step - loss: 3.3231 - accuracy: 0.2381 - val_loss: 4.2338 - val_accuracy: 0.1429\n",
            "Epoch 3/5\n",
            "4/4 [==============================] - 0s 124ms/step - loss: 1.9231 - accuracy: 0.5692 - val_loss: 3.8714 - val_accuracy: 0.1837\n",
            "Epoch 4/5\n",
            "4/4 [==============================] - 0s 124ms/step - loss: 1.2508 - accuracy: 0.7755 - val_loss: 3.6955 - val_accuracy: 0.2245\n",
            "Epoch 5/5\n",
            "4/4 [==============================] - 0s 122ms/step - loss: 0.8316 - accuracy: 0.8594 - val_loss: 3.5445 - val_accuracy: 0.2449\n"
          ],
          "name": "stdout"
        },
        {
          "output_type": "stream",
          "text": [
            "\u001b[32m[I 2021-07-15 11:48:11,517]\u001b[0m Trial 0 finished with value: 24.24278010924657 and parameters: {'lr': 0.0005136845085760202, 'steps': 179.3601111912019, 't_mult': 2, 'm_mult': 0.08236007996408745}. Best is trial 0 with value: 24.24278010924657.\u001b[0m\n"
          ],
          "name": "stderr"
        },
        {
          "output_type": "stream",
          "text": [
            "Epoch 1/5\n",
            "4/4 [==============================] - 4s 378ms/step - loss: 5.0580 - accuracy: 0.0909 - val_loss: 7.0621 - val_accuracy: 0.1224\n",
            "Epoch 2/5\n",
            "4/4 [==============================] - 0s 124ms/step - loss: 1.0903 - accuracy: 0.7205 - val_loss: 10.3407 - val_accuracy: 0.1429\n",
            "Epoch 3/5\n",
            "4/4 [==============================] - 0s 124ms/step - loss: 0.4465 - accuracy: 0.9068 - val_loss: 11.0139 - val_accuracy: 0.1837\n",
            "Epoch 4/5\n",
            "4/4 [==============================] - 0s 123ms/step - loss: 0.2436 - accuracy: 0.9591 - val_loss: 11.5981 - val_accuracy: 0.2245\n",
            "Epoch 5/5\n",
            "4/4 [==============================] - 0s 120ms/step - loss: 0.1078 - accuracy: 0.9773 - val_loss: 12.5135 - val_accuracy: 0.2041\n",
            "Epoch 1/5\n",
            "4/4 [==============================] - 4s 375ms/step - loss: 4.9027 - accuracy: 0.0932 - val_loss: 7.4223 - val_accuracy: 0.1429\n",
            "Epoch 2/5\n",
            "4/4 [==============================] - 0s 124ms/step - loss: 1.1602 - accuracy: 0.7318 - val_loss: 11.4610 - val_accuracy: 0.0816\n",
            "Epoch 3/5\n",
            "4/4 [==============================] - 0s 125ms/step - loss: 0.4712 - accuracy: 0.8955 - val_loss: 11.0665 - val_accuracy: 0.1020\n",
            "Epoch 4/5\n",
            "4/4 [==============================] - 1s 133ms/step - loss: 0.2752 - accuracy: 0.9432 - val_loss: 10.6555 - val_accuracy: 0.1633\n",
            "Epoch 5/5\n",
            "4/4 [==============================] - 0s 123ms/step - loss: 0.1258 - accuracy: 0.9818 - val_loss: 10.4459 - val_accuracy: 0.1837\n",
            "Epoch 1/5\n",
            "4/4 [==============================] - 4s 383ms/step - loss: 5.0888 - accuracy: 0.0748 - val_loss: 7.2643 - val_accuracy: 0.0612\n",
            "Epoch 2/5\n",
            "4/4 [==============================] - 0s 125ms/step - loss: 1.0264 - accuracy: 0.7823 - val_loss: 13.1808 - val_accuracy: 0.0816\n",
            "Epoch 3/5\n",
            "4/4 [==============================] - 0s 125ms/step - loss: 0.4514 - accuracy: 0.9025 - val_loss: 13.9556 - val_accuracy: 0.1224\n",
            "Epoch 4/5\n",
            "4/4 [==============================] - 0s 125ms/step - loss: 0.2159 - accuracy: 0.9546 - val_loss: 12.6598 - val_accuracy: 0.1633\n",
            "Epoch 5/5\n",
            "4/4 [==============================] - 0s 121ms/step - loss: 0.1278 - accuracy: 0.9728 - val_loss: 11.6532 - val_accuracy: 0.2041\n"
          ],
          "name": "stdout"
        },
        {
          "output_type": "stream",
          "text": [
            "\u001b[32m[I 2021-07-15 11:48:34,960]\u001b[0m Trial 1 finished with value: 22.20976948738098 and parameters: {'lr': 0.002697832657247236, 'steps': 780.7734025365836, 't_mult': 2, 'm_mult': 0.1438569598663324}. Best is trial 0 with value: 24.24278010924657.\u001b[0m\n"
          ],
          "name": "stderr"
        },
        {
          "output_type": "stream",
          "text": [
            "Epoch 1/5\n",
            "4/4 [==============================] - 4s 379ms/step - loss: 5.1292 - accuracy: 0.1159 - val_loss: 51.8253 - val_accuracy: 0.0204\n",
            "Epoch 2/5\n",
            "4/4 [==============================] - 0s 126ms/step - loss: 1.5714 - accuracy: 0.6250 - val_loss: 55.3365 - val_accuracy: 0.0408\n",
            "Epoch 3/5\n",
            "4/4 [==============================] - 0s 125ms/step - loss: 0.7708 - accuracy: 0.7977 - val_loss: 47.0943 - val_accuracy: 0.0612\n",
            "Epoch 4/5\n",
            "4/4 [==============================] - 0s 124ms/step - loss: 0.3266 - accuracy: 0.9205 - val_loss: 36.2132 - val_accuracy: 0.0612\n",
            "Epoch 5/5\n",
            "4/4 [==============================] - 0s 125ms/step - loss: 0.2166 - accuracy: 0.9409 - val_loss: 28.1070 - val_accuracy: 0.1020\n",
            "Epoch 1/5\n",
            "4/4 [==============================] - 4s 376ms/step - loss: 5.2998 - accuracy: 0.1091 - val_loss: 37.3443 - val_accuracy: 0.0408\n",
            "Epoch 2/5\n",
            "4/4 [==============================] - 1s 127ms/step - loss: 1.3160 - accuracy: 0.6750 - val_loss: 60.5519 - val_accuracy: 0.1020\n",
            "Epoch 3/5\n",
            "4/4 [==============================] - 1s 128ms/step - loss: 0.6836 - accuracy: 0.7977 - val_loss: 43.9234 - val_accuracy: 0.0816\n",
            "Epoch 4/5\n",
            "4/4 [==============================] - 0s 126ms/step - loss: 0.3816 - accuracy: 0.9000 - val_loss: 39.3975 - val_accuracy: 0.0816\n",
            "Epoch 5/5\n",
            "4/4 [==============================] - 0s 124ms/step - loss: 0.2516 - accuracy: 0.9182 - val_loss: 34.0550 - val_accuracy: 0.0816\n",
            "Epoch 1/5\n",
            "4/4 [==============================] - 4s 386ms/step - loss: 5.3677 - accuracy: 0.0907 - val_loss: 53.1016 - val_accuracy: 0.0408\n",
            "Epoch 2/5\n",
            "4/4 [==============================] - 0s 125ms/step - loss: 1.5328 - accuracy: 0.6712 - val_loss: 51.3508 - val_accuracy: 0.0408\n",
            "Epoch 3/5\n",
            "4/4 [==============================] - 1s 125ms/step - loss: 0.8730 - accuracy: 0.7868 - val_loss: 52.7402 - val_accuracy: 0.0204\n",
            "Epoch 4/5\n",
            "4/4 [==============================] - 0s 125ms/step - loss: 0.4413 - accuracy: 0.8685 - val_loss: 47.9148 - val_accuracy: 0.0000e+00\n",
            "Epoch 5/5\n",
            "4/4 [==============================] - 0s 122ms/step - loss: 0.2988 - accuracy: 0.9161 - val_loss: 40.8615 - val_accuracy: 0.0000e+00\n"
          ],
          "name": "stdout"
        },
        {
          "output_type": "stream",
          "text": [
            "\u001b[32m[I 2021-07-15 11:49:02,225]\u001b[0m Trial 2 finished with value: 10.483996818463007 and parameters: {'lr': 0.008397398705254782, 'steps': 48.86681023722599, 't_mult': 2, 'm_mult': 0.4884008368841152}. Best is trial 0 with value: 24.24278010924657.\u001b[0m\n"
          ],
          "name": "stderr"
        },
        {
          "output_type": "stream",
          "text": [
            "Epoch 1/5\n",
            "4/4 [==============================] - 4s 387ms/step - loss: 4.8306 - accuracy: 0.1205 - val_loss: 18.6475 - val_accuracy: 0.1224\n",
            "Epoch 2/5\n",
            "4/4 [==============================] - 0s 125ms/step - loss: 1.1026 - accuracy: 0.7364 - val_loss: 27.9839 - val_accuracy: 0.0816\n",
            "Epoch 3/5\n",
            "4/4 [==============================] - 1s 126ms/step - loss: 0.4741 - accuracy: 0.8864 - val_loss: 30.1007 - val_accuracy: 0.0612\n",
            "Epoch 4/5\n",
            "4/4 [==============================] - 0s 125ms/step - loss: 0.2824 - accuracy: 0.9273 - val_loss: 28.7725 - val_accuracy: 0.0612\n",
            "Epoch 5/5\n",
            "4/4 [==============================] - 0s 123ms/step - loss: 0.1518 - accuracy: 0.9591 - val_loss: 25.8922 - val_accuracy: 0.0612\n",
            "Epoch 1/5\n",
            "4/4 [==============================] - 4s 370ms/step - loss: 5.2803 - accuracy: 0.1000 - val_loss: 21.1299 - val_accuracy: 0.0816\n",
            "Epoch 2/5\n",
            "4/4 [==============================] - 0s 126ms/step - loss: 1.4926 - accuracy: 0.6568 - val_loss: 25.9317 - val_accuracy: 0.0816\n",
            "Epoch 3/5\n",
            "4/4 [==============================] - 1s 127ms/step - loss: 0.5610 - accuracy: 0.8682 - val_loss: 27.7912 - val_accuracy: 0.0816\n",
            "Epoch 4/5\n",
            "4/4 [==============================] - 0s 124ms/step - loss: 0.3508 - accuracy: 0.9045 - val_loss: 25.1647 - val_accuracy: 0.0816\n",
            "Epoch 5/5\n",
            "4/4 [==============================] - 0s 124ms/step - loss: 0.2000 - accuracy: 0.9455 - val_loss: 20.7668 - val_accuracy: 0.1633\n",
            "Epoch 1/5\n",
            "4/4 [==============================] - 4s 380ms/step - loss: 5.0785 - accuracy: 0.0748 - val_loss: 28.5476 - val_accuracy: 0.0612\n",
            "Epoch 2/5\n",
            "4/4 [==============================] - 1s 128ms/step - loss: 1.1539 - accuracy: 0.6825 - val_loss: 37.0607 - val_accuracy: 0.0612\n",
            "Epoch 3/5\n",
            "4/4 [==============================] - 1s 129ms/step - loss: 0.6090 - accuracy: 0.8390 - val_loss: 32.3710 - val_accuracy: 0.0612\n",
            "Epoch 4/5\n",
            "4/4 [==============================] - 0s 125ms/step - loss: 0.3222 - accuracy: 0.9070 - val_loss: 28.7253 - val_accuracy: 0.1429\n",
            "Epoch 5/5\n",
            "4/4 [==============================] - 1s 126ms/step - loss: 0.2093 - accuracy: 0.9433 - val_loss: 27.8145 - val_accuracy: 0.0816\n"
          ],
          "name": "stdout"
        },
        {
          "output_type": "stream",
          "text": [
            "\u001b[32m[I 2021-07-15 11:49:25,822]\u001b[0m Trial 3 finished with value: 11.719638605912527 and parameters: {'lr': 0.005601994571988041, 'steps': 311.51513656325676, 't_mult': 1, 'm_mult': 0.4258606915300146}. Best is trial 0 with value: 24.24278010924657.\u001b[0m\n"
          ],
          "name": "stderr"
        },
        {
          "output_type": "stream",
          "text": [
            "Epoch 1/5\n",
            "4/4 [==============================] - 4s 382ms/step - loss: 9.6380 - accuracy: 0.0886 - val_loss: 443.1893 - val_accuracy: 0.0000e+00\n",
            "Epoch 2/5\n",
            "4/4 [==============================] - 0s 126ms/step - loss: 7.6437 - accuracy: 0.4682 - val_loss: 436.6178 - val_accuracy: 0.0204\n",
            "Epoch 3/5\n",
            "4/4 [==============================] - 1s 128ms/step - loss: 4.2036 - accuracy: 0.5909 - val_loss: 329.1409 - val_accuracy: 0.0408\n",
            "Epoch 4/5\n",
            "4/4 [==============================] - 1s 132ms/step - loss: 2.7368 - accuracy: 0.6886 - val_loss: 201.0110 - val_accuracy: 0.0408\n",
            "Epoch 5/5\n",
            "4/4 [==============================] - 1s 128ms/step - loss: 1.8746 - accuracy: 0.7614 - val_loss: 153.3700 - val_accuracy: 0.0612\n",
            "Epoch 1/5\n",
            "4/4 [==============================] - 4s 380ms/step - loss: 11.2215 - accuracy: 0.0591 - val_loss: 568.8224 - val_accuracy: 0.0000e+00\n",
            "Epoch 2/5\n",
            "4/4 [==============================] - 1s 130ms/step - loss: 8.2861 - accuracy: 0.4386 - val_loss: 318.9539 - val_accuracy: 0.1020\n",
            "Epoch 3/5\n",
            "4/4 [==============================] - 1s 126ms/step - loss: 3.8922 - accuracy: 0.5909 - val_loss: 225.2350 - val_accuracy: 0.0612\n",
            "Epoch 4/5\n",
            "4/4 [==============================] - 1s 127ms/step - loss: 2.3936 - accuracy: 0.7159 - val_loss: 193.7943 - val_accuracy: 0.0204\n",
            "Epoch 5/5\n",
            "4/4 [==============================] - 0s 124ms/step - loss: 1.6061 - accuracy: 0.7909 - val_loss: 161.8302 - val_accuracy: 0.0204\n",
            "Epoch 1/5\n",
            "4/4 [==============================] - 4s 377ms/step - loss: 10.3189 - accuracy: 0.0748 - val_loss: 434.9887 - val_accuracy: 0.0408\n",
            "Epoch 2/5\n",
            "4/4 [==============================] - 1s 128ms/step - loss: 7.9409 - accuracy: 0.4082 - val_loss: 303.4807 - val_accuracy: 0.0000e+00\n",
            "Epoch 3/5\n",
            "4/4 [==============================] - 1s 128ms/step - loss: 4.4849 - accuracy: 0.5669 - val_loss: 250.8094 - val_accuracy: 0.0408\n",
            "Epoch 4/5\n",
            "4/4 [==============================] - 1s 128ms/step - loss: 2.8023 - accuracy: 0.6621 - val_loss: 213.0596 - val_accuracy: 0.0408\n",
            "Epoch 5/5\n",
            "4/4 [==============================] - 1s 126ms/step - loss: 1.5606 - accuracy: 0.7914 - val_loss: 175.4760 - val_accuracy: 0.0408\n"
          ],
          "name": "stdout"
        },
        {
          "output_type": "stream",
          "text": [
            "\u001b[32m[I 2021-07-15 11:49:51,358]\u001b[0m Trial 4 finished with value: 6.2651945898930235 and parameters: {'lr': 0.03872764389074807, 'steps': 295.52860057665623, 't_mult': 1, 'm_mult': 0.3061308662585802}. Best is trial 0 with value: 24.24278010924657.\u001b[0m\n"
          ],
          "name": "stderr"
        },
        {
          "output_type": "stream",
          "text": [
            "Epoch 1/5\n",
            "4/4 [==============================] - 4s 385ms/step - loss: 4.9457 - accuracy: 0.1295 - val_loss: 39.0020 - val_accuracy: 0.0000e+00\n",
            "Epoch 2/5\n",
            "4/4 [==============================] - 1s 127ms/step - loss: 1.5087 - accuracy: 0.6545 - val_loss: 43.4020 - val_accuracy: 0.0408\n",
            "Epoch 3/5\n",
            "4/4 [==============================] - 1s 133ms/step - loss: 0.6204 - accuracy: 0.8409 - val_loss: 30.4033 - val_accuracy: 0.1020\n",
            "Epoch 4/5\n",
            "4/4 [==============================] - 1s 128ms/step - loss: 0.4239 - accuracy: 0.8727 - val_loss: 29.3887 - val_accuracy: 0.1020\n",
            "Epoch 5/5\n",
            "4/4 [==============================] - 0s 124ms/step - loss: 0.2649 - accuracy: 0.9477 - val_loss: 28.4662 - val_accuracy: 0.0816\n",
            "Epoch 1/5\n",
            "4/4 [==============================] - 4s 379ms/step - loss: 4.9481 - accuracy: 0.1500 - val_loss: 26.8345 - val_accuracy: 0.0408\n",
            "Epoch 2/5\n",
            "4/4 [==============================] - 1s 128ms/step - loss: 1.2578 - accuracy: 0.6909 - val_loss: 33.9118 - val_accuracy: 0.1429\n",
            "Epoch 3/5\n",
            "4/4 [==============================] - 1s 127ms/step - loss: 0.5088 - accuracy: 0.8818 - val_loss: 35.5288 - val_accuracy: 0.0408\n",
            "Epoch 4/5\n",
            "4/4 [==============================] - 1s 127ms/step - loss: 0.3663 - accuracy: 0.8841 - val_loss: 30.1478 - val_accuracy: 0.0816\n",
            "Epoch 5/5\n",
            "4/4 [==============================] - 1s 125ms/step - loss: 0.2565 - accuracy: 0.9364 - val_loss: 28.3693 - val_accuracy: 0.0816\n",
            "Epoch 1/5\n",
            "4/4 [==============================] - 4s 383ms/step - loss: 5.0152 - accuracy: 0.1270 - val_loss: 24.7300 - val_accuracy: 0.0408\n",
            "Epoch 2/5\n",
            "4/4 [==============================] - 1s 129ms/step - loss: 1.3591 - accuracy: 0.6780 - val_loss: 34.8271 - val_accuracy: 0.0204\n",
            "Epoch 3/5\n",
            "4/4 [==============================] - 1s 129ms/step - loss: 0.5763 - accuracy: 0.8526 - val_loss: 28.3143 - val_accuracy: 0.0816\n",
            "Epoch 4/5\n",
            "4/4 [==============================] - 1s 129ms/step - loss: 0.3949 - accuracy: 0.8957 - val_loss: 30.4730 - val_accuracy: 0.1020\n",
            "Epoch 5/5\n",
            "4/4 [==============================] - 0s 125ms/step - loss: 0.2513 - accuracy: 0.9388 - val_loss: 29.3611 - val_accuracy: 0.1020\n"
          ],
          "name": "stdout"
        },
        {
          "output_type": "stream",
          "text": [
            "\u001b[32m[I 2021-07-15 11:50:15,145]\u001b[0m Trial 5 finished with value: 13.353407134612402 and parameters: {'lr': 0.006702310127169717, 'steps': 381.5867333626217, 't_mult': 1, 'm_mult': 0.046078044945305985}. Best is trial 0 with value: 24.24278010924657.\u001b[0m\n"
          ],
          "name": "stderr"
        },
        {
          "output_type": "stream",
          "text": [
            "Epoch 1/5\n",
            "4/4 [==============================] - 5s 395ms/step - loss: 5.8474 - accuracy: 0.0045 - val_loss: 5.4649 - val_accuracy: 0.0000e+00\n",
            "Epoch 2/5\n",
            "4/4 [==============================] - 1s 128ms/step - loss: 4.1744 - accuracy: 0.1500 - val_loss: 4.9366 - val_accuracy: 0.0408\n",
            "Epoch 3/5\n",
            "4/4 [==============================] - 1s 129ms/step - loss: 3.0095 - accuracy: 0.3250 - val_loss: 4.5811 - val_accuracy: 0.0816\n",
            "Epoch 4/5\n",
            "4/4 [==============================] - 1s 128ms/step - loss: 2.1989 - accuracy: 0.4864 - val_loss: 4.3356 - val_accuracy: 0.0612\n",
            "Epoch 5/5\n",
            "4/4 [==============================] - 1s 127ms/step - loss: 1.6833 - accuracy: 0.6432 - val_loss: 4.1480 - val_accuracy: 0.0612\n",
            "Epoch 1/5\n",
            "4/4 [==============================] - 4s 380ms/step - loss: 5.7488 - accuracy: 0.0136 - val_loss: 5.3376 - val_accuracy: 0.0408\n",
            "Epoch 2/5\n",
            "4/4 [==============================] - 1s 128ms/step - loss: 4.0375 - accuracy: 0.1750 - val_loss: 4.7988 - val_accuracy: 0.0816\n",
            "Epoch 3/5\n",
            "4/4 [==============================] - 1s 133ms/step - loss: 2.9652 - accuracy: 0.3205 - val_loss: 4.3918 - val_accuracy: 0.1020\n",
            "Epoch 4/5\n",
            "4/4 [==============================] - 1s 130ms/step - loss: 2.1949 - accuracy: 0.5205 - val_loss: 4.0971 - val_accuracy: 0.1429\n",
            "Epoch 5/5\n",
            "4/4 [==============================] - 1s 127ms/step - loss: 1.5930 - accuracy: 0.6705 - val_loss: 3.8604 - val_accuracy: 0.1633\n",
            "Epoch 1/5\n",
            "4/4 [==============================] - 4s 408ms/step - loss: 5.8772 - accuracy: 0.0136 - val_loss: 5.2271 - val_accuracy: 0.0408\n",
            "Epoch 2/5\n",
            "4/4 [==============================] - 1s 129ms/step - loss: 4.1926 - accuracy: 0.1224 - val_loss: 4.6775 - val_accuracy: 0.0816\n",
            "Epoch 3/5\n",
            "4/4 [==============================] - 1s 131ms/step - loss: 3.0038 - accuracy: 0.2834 - val_loss: 4.2700 - val_accuracy: 0.1633\n",
            "Epoch 4/5\n",
            "4/4 [==============================] - 1s 130ms/step - loss: 2.0657 - accuracy: 0.5261 - val_loss: 3.9674 - val_accuracy: 0.1837\n",
            "Epoch 5/5\n",
            "4/4 [==============================] - 1s 132ms/step - loss: 1.6608 - accuracy: 0.6667 - val_loss: 3.7334 - val_accuracy: 0.2449\n"
          ],
          "name": "stdout"
        },
        {
          "output_type": "stream",
          "text": [
            "\u001b[32m[I 2021-07-15 11:50:40,930]\u001b[0m Trial 6 finished with value: 15.530277788639069 and parameters: {'lr': 0.0003122831383399413, 'steps': 736.0477101156888, 't_mult': 2, 'm_mult': 0.4450582093785048}. Best is trial 0 with value: 24.24278010924657.\u001b[0m\n"
          ],
          "name": "stderr"
        },
        {
          "output_type": "stream",
          "text": [
            "Epoch 1/5\n",
            "4/4 [==============================] - 5s 381ms/step - loss: 6.0373 - accuracy: 0.0068 - val_loss: 5.6298 - val_accuracy: 0.0408\n",
            "Epoch 2/5\n",
            "4/4 [==============================] - 1s 128ms/step - loss: 5.9798 - accuracy: 0.0091 - val_loss: 5.4030 - val_accuracy: 0.0408\n",
            "Epoch 3/5\n",
            "4/4 [==============================] - 1s 130ms/step - loss: 5.7334 - accuracy: 0.0114 - val_loss: 5.2601 - val_accuracy: 0.0408\n",
            "Epoch 4/5\n",
            "4/4 [==============================] - 1s 126ms/step - loss: 5.6550 - accuracy: 0.0227 - val_loss: 5.1552 - val_accuracy: 0.0408\n",
            "Epoch 5/5\n",
            "4/4 [==============================] - 1s 127ms/step - loss: 5.4492 - accuracy: 0.0205 - val_loss: 5.0720 - val_accuracy: 0.0408\n",
            "Epoch 1/5\n",
            "4/4 [==============================] - 4s 387ms/step - loss: 6.0064 - accuracy: 0.0159 - val_loss: 5.6351 - val_accuracy: 0.0000e+00\n",
            "Epoch 2/5\n",
            "4/4 [==============================] - 1s 129ms/step - loss: 5.8490 - accuracy: 0.0114 - val_loss: 5.4580 - val_accuracy: 0.0000e+00\n",
            "Epoch 3/5\n",
            "4/4 [==============================] - 1s 131ms/step - loss: 5.8426 - accuracy: 0.0114 - val_loss: 5.3386 - val_accuracy: 0.0000e+00\n",
            "Epoch 4/5\n",
            "4/4 [==============================] - 1s 129ms/step - loss: 5.6057 - accuracy: 0.0227 - val_loss: 5.2417 - val_accuracy: 0.0000e+00\n",
            "Epoch 5/5\n",
            "4/4 [==============================] - 1s 127ms/step - loss: 5.5230 - accuracy: 0.0159 - val_loss: 5.1650 - val_accuracy: 0.0000e+00\n",
            "Epoch 1/5\n",
            "4/4 [==============================] - 4s 380ms/step - loss: 5.9587 - accuracy: 0.0045 - val_loss: 5.4900 - val_accuracy: 0.0204\n",
            "Epoch 2/5\n",
            "4/4 [==============================] - 1s 129ms/step - loss: 5.8398 - accuracy: 0.0068 - val_loss: 5.2764 - val_accuracy: 0.0204\n",
            "Epoch 3/5\n",
            "4/4 [==============================] - 1s 129ms/step - loss: 5.7405 - accuracy: 0.0136 - val_loss: 5.1415 - val_accuracy: 0.0204\n",
            "Epoch 4/5\n",
            "4/4 [==============================] - 1s 130ms/step - loss: 5.6345 - accuracy: 0.0068 - val_loss: 5.0405 - val_accuracy: 0.0204\n",
            "Epoch 5/5\n",
            "4/4 [==============================] - 1s 130ms/step - loss: 5.5209 - accuracy: 0.0136 - val_loss: 4.9616 - val_accuracy: 0.0204\n"
          ],
          "name": "stdout"
        },
        {
          "output_type": "stream",
          "text": [
            "\u001b[32m[I 2021-07-15 11:51:08,756]\u001b[0m Trial 7 finished with value: 0.9540537372231483 and parameters: {'lr': 2.4981183124239615e-05, 'steps': 97.17976552689579, 't_mult': 1, 'm_mult': 0.9958071119716145}. Best is trial 0 with value: 24.24278010924657.\u001b[0m\n"
          ],
          "name": "stderr"
        },
        {
          "output_type": "stream",
          "text": [
            "Epoch 1/5\n",
            "4/4 [==============================] - 4s 380ms/step - loss: 5.1219 - accuracy: 0.0795 - val_loss: 5.7120 - val_accuracy: 0.1837\n",
            "Epoch 2/5\n",
            "4/4 [==============================] - 1s 129ms/step - loss: 1.2380 - accuracy: 0.7114 - val_loss: 7.3435 - val_accuracy: 0.1837\n",
            "Epoch 3/5\n",
            "4/4 [==============================] - 1s 129ms/step - loss: 0.4938 - accuracy: 0.8955 - val_loss: 7.6563 - val_accuracy: 0.2653\n",
            "Epoch 4/5\n",
            "4/4 [==============================] - 1s 129ms/step - loss: 0.2767 - accuracy: 0.9386 - val_loss: 8.1099 - val_accuracy: 0.2653\n",
            "Epoch 5/5\n",
            "4/4 [==============================] - 0s 124ms/step - loss: 0.1562 - accuracy: 0.9773 - val_loss: 8.3701 - val_accuracy: 0.3061\n",
            "Epoch 1/5\n",
            "4/4 [==============================] - 4s 368ms/step - loss: 5.2429 - accuracy: 0.0705 - val_loss: 5.3903 - val_accuracy: 0.1224\n",
            "Epoch 2/5\n",
            "4/4 [==============================] - 1s 128ms/step - loss: 1.2296 - accuracy: 0.7136 - val_loss: 7.1078 - val_accuracy: 0.1837\n",
            "Epoch 3/5\n",
            "4/4 [==============================] - 1s 131ms/step - loss: 0.5283 - accuracy: 0.8727 - val_loss: 8.5256 - val_accuracy: 0.1224\n",
            "Epoch 4/5\n",
            "4/4 [==============================] - 1s 128ms/step - loss: 0.2625 - accuracy: 0.9500 - val_loss: 9.1231 - val_accuracy: 0.1429\n",
            "Epoch 5/5\n",
            "4/4 [==============================] - 1s 125ms/step - loss: 0.1494 - accuracy: 0.9773 - val_loss: 9.2762 - val_accuracy: 0.1429\n",
            "Epoch 1/5\n",
            "4/4 [==============================] - 4s 377ms/step - loss: 5.0141 - accuracy: 0.0816 - val_loss: 5.7394 - val_accuracy: 0.1224\n",
            "Epoch 2/5\n",
            "4/4 [==============================] - 1s 129ms/step - loss: 1.0609 - accuracy: 0.7619 - val_loss: 6.6196 - val_accuracy: 0.1429\n",
            "Epoch 3/5\n",
            "4/4 [==============================] - 1s 128ms/step - loss: 0.4627 - accuracy: 0.9161 - val_loss: 7.6849 - val_accuracy: 0.1633\n",
            "Epoch 4/5\n",
            "4/4 [==============================] - 1s 127ms/step - loss: 0.2245 - accuracy: 0.9660 - val_loss: 8.5718 - val_accuracy: 0.1633\n",
            "Epoch 5/5\n",
            "4/4 [==============================] - 1s 126ms/step - loss: 0.1511 - accuracy: 0.9773 - val_loss: 8.9631 - val_accuracy: 0.1429\n"
          ],
          "name": "stdout"
        },
        {
          "output_type": "stream",
          "text": [
            "\u001b[32m[I 2021-07-15 11:51:32,442]\u001b[0m Trial 8 finished with value: 24.658191204071045 and parameters: {'lr': 0.002283019745839984, 'steps': 157.42853990258718, 't_mult': 1, 'm_mult': 0.32212126367888316}. Best is trial 8 with value: 24.658191204071045.\u001b[0m\n"
          ],
          "name": "stderr"
        },
        {
          "output_type": "stream",
          "text": [
            "Epoch 1/5\n",
            "4/4 [==============================] - 4s 382ms/step - loss: 10.3250 - accuracy: 0.0977 - val_loss: 484.2998 - val_accuracy: 0.0000e+00\n",
            "Epoch 2/5\n",
            "4/4 [==============================] - 1s 130ms/step - loss: 8.7011 - accuracy: 0.4591 - val_loss: 416.8638 - val_accuracy: 0.0000e+00\n",
            "Epoch 3/5\n",
            "4/4 [==============================] - 1s 128ms/step - loss: 5.1141 - accuracy: 0.5659 - val_loss: 311.4364 - val_accuracy: 0.0204\n",
            "Epoch 4/5\n",
            "4/4 [==============================] - 1s 129ms/step - loss: 2.8770 - accuracy: 0.6886 - val_loss: 179.0512 - val_accuracy: 0.0612\n",
            "Epoch 5/5\n",
            "4/4 [==============================] - 1s 128ms/step - loss: 2.1843 - accuracy: 0.7182 - val_loss: 148.2850 - val_accuracy: 0.1020\n",
            "Epoch 1/5\n",
            "4/4 [==============================] - 4s 371ms/step - loss: 10.0245 - accuracy: 0.0932 - val_loss: 478.1060 - val_accuracy: 0.0000e+00\n",
            "Epoch 2/5\n",
            "4/4 [==============================] - 1s 131ms/step - loss: 7.9114 - accuracy: 0.4455 - val_loss: 428.3111 - val_accuracy: 0.0000e+00\n",
            "Epoch 3/5\n",
            "4/4 [==============================] - 1s 128ms/step - loss: 5.0400 - accuracy: 0.5818 - val_loss: 255.7811 - val_accuracy: 0.0204\n",
            "Epoch 4/5\n",
            "4/4 [==============================] - 1s 127ms/step - loss: 3.6827 - accuracy: 0.6477 - val_loss: 141.2249 - val_accuracy: 0.0816\n",
            "Epoch 5/5\n",
            "4/4 [==============================] - 1s 126ms/step - loss: 1.6935 - accuracy: 0.7932 - val_loss: 120.1052 - val_accuracy: 0.0816\n",
            "Epoch 1/5\n",
            "4/4 [==============================] - 4s 389ms/step - loss: 10.0045 - accuracy: 0.0998 - val_loss: 452.4487 - val_accuracy: 0.0204\n",
            "Epoch 2/5\n",
            "4/4 [==============================] - 1s 130ms/step - loss: 9.7121 - accuracy: 0.4286 - val_loss: 367.9130 - val_accuracy: 0.0204\n",
            "Epoch 3/5\n",
            "4/4 [==============================] - 1s 129ms/step - loss: 5.6717 - accuracy: 0.5624 - val_loss: 264.8870 - val_accuracy: 0.0612\n",
            "Epoch 4/5\n",
            "4/4 [==============================] - 1s 130ms/step - loss: 3.0324 - accuracy: 0.7143 - val_loss: 203.0965 - val_accuracy: 0.0408\n",
            "Epoch 5/5\n",
            "4/4 [==============================] - 1s 128ms/step - loss: 2.2269 - accuracy: 0.7596 - val_loss: 195.5404 - val_accuracy: 0.0408\n"
          ],
          "name": "stdout"
        },
        {
          "output_type": "stream",
          "text": [
            "\u001b[32m[I 2021-07-15 11:51:56,273]\u001b[0m Trial 9 finished with value: 9.808185448249182 and parameters: {'lr': 0.03941991434553701, 'steps': 225.42445004138182, 't_mult': 2, 'm_mult': 0.8396796522534286}. Best is trial 8 with value: 24.658191204071045.\u001b[0m\n"
          ],
          "name": "stderr"
        },
        {
          "output_type": "stream",
          "text": [
            "Epoch 1/5\n",
            "5/5 [==============================] - 8s 976ms/step - loss: 5.9474 - accuracy: 0.0112 - sensitivity_at_specificity: 0.4045 - specificity_at_sensitivity: 0.0000e+00 - precision: 0.0000e+00 - auc: 0.5020 - auc_1: 0.0099 - val_loss: 5.4397 - val_accuracy: 0.0180 - val_sensitivity_at_specificity: 0.4685 - val_specificity_at_sensitivity: 0.0000e+00 - val_precision: 0.0000e+00 - val_auc: 0.5202 - val_auc_1: 0.0116\n",
            "Epoch 2/5\n",
            "5/5 [==============================] - 1s 163ms/step - loss: 5.6815 - accuracy: 0.0096 - sensitivity_at_specificity: 0.4719 - specificity_at_sensitivity: 0.0000e+00 - precision: 0.0000e+00 - auc: 0.5380 - auc_1: 0.0113 - val_loss: 5.2165 - val_accuracy: 0.0180 - val_sensitivity_at_specificity: 0.5405 - val_specificity_at_sensitivity: 0.5127 - val_precision: 0.0000e+00 - val_auc: 0.5348 - val_auc_1: 0.0122\n",
            "Epoch 3/5\n",
            "5/5 [==============================] - 1s 164ms/step - loss: 5.4654 - accuracy: 0.0241 - sensitivity_at_specificity: 0.5297 - specificity_at_sensitivity: 0.5954 - precision: 0.0909 - auc: 0.5710 - auc_1: 0.0138 - val_loss: 5.0607 - val_accuracy: 0.0180 - val_sensitivity_at_specificity: 0.3874 - val_specificity_at_sensitivity: 0.4828 - val_precision: 0.0000e+00 - val_auc: 0.5427 - val_auc_1: 0.0129\n",
            "Epoch 4/5\n",
            "5/5 [==============================] - 1s 163ms/step - loss: 5.2413 - accuracy: 0.0161 - sensitivity_at_specificity: 0.5490 - specificity_at_sensitivity: 0.5987 - precision: 0.0625 - auc: 0.5832 - auc_1: 0.0142 - val_loss: 4.9398 - val_accuracy: 0.0180 - val_sensitivity_at_specificity: 0.4144 - val_specificity_at_sensitivity: 0.4601 - val_precision: 0.0000e+00 - val_auc: 0.5586 - val_auc_1: 0.0138\n",
            "Epoch 5/5\n",
            "5/5 [==============================] - 1s 160ms/step - loss: 5.0864 - accuracy: 0.0369 - sensitivity_at_specificity: 0.6051 - specificity_at_sensitivity: 0.5973 - precision: 0.0857 - auc: 0.6154 - auc_1: 0.0194 - val_loss: 4.8381 - val_accuracy: 0.0270 - val_sensitivity_at_specificity: 0.4414 - val_specificity_at_sensitivity: 0.4431 - val_precision: 0.0000e+00 - val_auc: 0.5729 - val_auc_1: 0.0148\n",
            "3/3 [==============================] - 1s 332ms/step - loss: 5.0785 - accuracy: 0.0122 - sensitivity_at_specificity: 0.3415 - specificity_at_sensitivity: 0.4721 - precision: 0.0000e+00 - auc: 0.5506 - auc_1: 0.0120\n"
          ],
          "name": "stdout"
        },
        {
          "output_type": "stream",
          "text": [
            "\u001b[32m[I 2021-07-15 11:52:09,736]\u001b[0m A new study created in memory with name: no-name-53bc9a14-20b2-4d85-b4a0-bb4a3568c37b\u001b[0m\n"
          ],
          "name": "stderr"
        },
        {
          "output_type": "stream",
          "text": [
            "['loss', 'accuracy', 'sensitivity_at_specificity', 'specificity_at_sensitivity', 'precision', 'auc', 'auc_1']\n",
            "Epoch 1/5\n",
            "4/4 [==============================] - 4s 370ms/step - loss: 13.1167 - accuracy: 0.0795 - val_loss: 717.5102 - val_accuracy: 0.0000e+00\n",
            "Epoch 2/5\n",
            "4/4 [==============================] - 1s 129ms/step - loss: 13.0069 - accuracy: 0.3773 - val_loss: 527.1185 - val_accuracy: 0.0000e+00\n",
            "Epoch 3/5\n",
            "4/4 [==============================] - 1s 129ms/step - loss: 6.0756 - accuracy: 0.5500 - val_loss: 332.4391 - val_accuracy: 0.0204\n",
            "Epoch 4/5\n",
            "4/4 [==============================] - 1s 127ms/step - loss: 3.6843 - accuracy: 0.6977 - val_loss: 231.5988 - val_accuracy: 0.0204\n",
            "Epoch 5/5\n",
            "4/4 [==============================] - 0s 126ms/step - loss: 3.1944 - accuracy: 0.7341 - val_loss: 172.0008 - val_accuracy: 0.0612\n",
            "Epoch 1/5\n",
            "4/4 [==============================] - 4s 398ms/step - loss: 12.9655 - accuracy: 0.0591 - val_loss: 609.4539 - val_accuracy: 0.0816\n",
            "Epoch 2/5\n",
            "4/4 [==============================] - 1s 127ms/step - loss: 10.5527 - accuracy: 0.3932 - val_loss: 389.2071 - val_accuracy: 0.0204\n",
            "Epoch 3/5\n",
            "4/4 [==============================] - 1s 130ms/step - loss: 6.1908 - accuracy: 0.5500 - val_loss: 240.4214 - val_accuracy: 0.0816\n",
            "Epoch 4/5\n",
            "4/4 [==============================] - 1s 130ms/step - loss: 3.3100 - accuracy: 0.6795 - val_loss: 188.4821 - val_accuracy: 0.0816\n",
            "Epoch 5/5\n",
            "4/4 [==============================] - 0s 125ms/step - loss: 2.2665 - accuracy: 0.7341 - val_loss: 141.0268 - val_accuracy: 0.1633\n",
            "Epoch 1/5\n",
            "4/4 [==============================] - 5s 381ms/step - loss: 12.8716 - accuracy: 0.0680 - val_loss: 561.9106 - val_accuracy: 0.0204\n",
            "Epoch 2/5\n",
            "4/4 [==============================] - 1s 132ms/step - loss: 11.6270 - accuracy: 0.4104 - val_loss: 391.6940 - val_accuracy: 0.0408\n",
            "Epoch 3/5\n",
            "4/4 [==============================] - 1s 134ms/step - loss: 5.3076 - accuracy: 0.5578 - val_loss: 261.2866 - val_accuracy: 0.1020\n",
            "Epoch 4/5\n",
            "4/4 [==============================] - 1s 132ms/step - loss: 2.9279 - accuracy: 0.6803 - val_loss: 181.2154 - val_accuracy: 0.1429\n",
            "Epoch 5/5\n",
            "4/4 [==============================] - 1s 126ms/step - loss: 2.6387 - accuracy: 0.7347 - val_loss: 156.9977 - val_accuracy: 0.1429\n"
          ],
          "name": "stdout"
        },
        {
          "output_type": "stream",
          "text": [
            "\u001b[32m[I 2021-07-15 11:52:33,520]\u001b[0m Trial 0 finished with value: 9.399464726448059 and parameters: {'lr': 0.05168828573685507, 'steps': 141.09644641313017, 't_mult': 2, 'm_mult': 0.5825413912724955}. Best is trial 0 with value: 9.399464726448059.\u001b[0m\n"
          ],
          "name": "stderr"
        },
        {
          "output_type": "stream",
          "text": [
            "Epoch 1/5\n",
            "4/4 [==============================] - 4s 375ms/step - loss: 5.8663 - accuracy: 0.0068 - val_loss: 4.9664 - val_accuracy: 0.0204\n",
            "Epoch 2/5\n",
            "4/4 [==============================] - 1s 127ms/step - loss: 4.7197 - accuracy: 0.0523 - val_loss: 4.6126 - val_accuracy: 0.0612\n",
            "Epoch 3/5\n",
            "4/4 [==============================] - 1s 127ms/step - loss: 3.7611 - accuracy: 0.1909 - val_loss: 4.3301 - val_accuracy: 0.0612\n",
            "Epoch 4/5\n",
            "4/4 [==============================] - 1s 134ms/step - loss: 3.0439 - accuracy: 0.2818 - val_loss: 4.1086 - val_accuracy: 0.1224\n",
            "Epoch 5/5\n",
            "4/4 [==============================] - 1s 127ms/step - loss: 2.4183 - accuracy: 0.4432 - val_loss: 3.9337 - val_accuracy: 0.1224\n",
            "Epoch 1/5\n",
            "4/4 [==============================] - 4s 380ms/step - loss: 5.8658 - accuracy: 0.0182 - val_loss: 5.2294 - val_accuracy: 0.0408\n",
            "Epoch 2/5\n",
            "4/4 [==============================] - 1s 128ms/step - loss: 4.5621 - accuracy: 0.0614 - val_loss: 4.7878 - val_accuracy: 0.0408\n",
            "Epoch 3/5\n",
            "4/4 [==============================] - 1s 128ms/step - loss: 3.8061 - accuracy: 0.1864 - val_loss: 4.4468 - val_accuracy: 0.0612\n",
            "Epoch 4/5\n",
            "4/4 [==============================] - 1s 128ms/step - loss: 3.0330 - accuracy: 0.2955 - val_loss: 4.1800 - val_accuracy: 0.1224\n",
            "Epoch 5/5\n",
            "4/4 [==============================] - 0s 125ms/step - loss: 2.4215 - accuracy: 0.4273 - val_loss: 3.9680 - val_accuracy: 0.1429\n",
            "Epoch 1/5\n",
            "4/4 [==============================] - 4s 382ms/step - loss: 6.0744 - accuracy: 0.0091 - val_loss: 5.5402 - val_accuracy: 0.0612\n",
            "Epoch 2/5\n",
            "4/4 [==============================] - 1s 130ms/step - loss: 4.8775 - accuracy: 0.0454 - val_loss: 5.0516 - val_accuracy: 0.0408\n",
            "Epoch 3/5\n",
            "4/4 [==============================] - 1s 130ms/step - loss: 3.8621 - accuracy: 0.1542 - val_loss: 4.6814 - val_accuracy: 0.1224\n",
            "Epoch 4/5\n",
            "4/4 [==============================] - 1s 131ms/step - loss: 3.1771 - accuracy: 0.2902 - val_loss: 4.3938 - val_accuracy: 0.1224\n",
            "Epoch 5/5\n",
            "4/4 [==============================] - 1s 130ms/step - loss: 2.5909 - accuracy: 0.4014 - val_loss: 4.1693 - val_accuracy: 0.1224\n"
          ],
          "name": "stdout"
        },
        {
          "output_type": "stream",
          "text": [
            "\u001b[32m[I 2021-07-15 11:52:58,630]\u001b[0m Trial 1 finished with value: 12.533734738826752 and parameters: {'lr': 0.00020640328148742473, 'steps': 441.58846154323464, 't_mult': 2, 'm_mult': 0.596735890604397}. Best is trial 1 with value: 12.533734738826752.\u001b[0m\n"
          ],
          "name": "stderr"
        },
        {
          "output_type": "stream",
          "text": [
            "Epoch 1/5\n",
            "4/4 [==============================] - 4s 393ms/step - loss: 6.0513 - accuracy: 0.0045 - val_loss: 5.6248 - val_accuracy: 0.0204\n",
            "Epoch 2/5\n",
            "4/4 [==============================] - 1s 129ms/step - loss: 5.7728 - accuracy: 0.0182 - val_loss: 5.3946 - val_accuracy: 0.0204\n",
            "Epoch 3/5\n",
            "4/4 [==============================] - 1s 129ms/step - loss: 5.4865 - accuracy: 0.0318 - val_loss: 5.2365 - val_accuracy: 0.0204\n",
            "Epoch 4/5\n",
            "4/4 [==============================] - 1s 130ms/step - loss: 5.3019 - accuracy: 0.0341 - val_loss: 5.1094 - val_accuracy: 0.0204\n",
            "Epoch 5/5\n",
            "4/4 [==============================] - 1s 129ms/step - loss: 5.2073 - accuracy: 0.0273 - val_loss: 5.0036 - val_accuracy: 0.0000e+00\n",
            "Epoch 1/5\n",
            "4/4 [==============================] - 4s 396ms/step - loss: 5.9750 - accuracy: 0.0091 - val_loss: 5.8645 - val_accuracy: 0.0000e+00\n",
            "Epoch 2/5\n",
            "4/4 [==============================] - 1s 132ms/step - loss: 5.6570 - accuracy: 0.0023 - val_loss: 5.6038 - val_accuracy: 0.0000e+00\n",
            "Epoch 3/5\n",
            "4/4 [==============================] - 1s 131ms/step - loss: 5.3763 - accuracy: 0.0295 - val_loss: 5.4275 - val_accuracy: 0.0204\n",
            "Epoch 4/5\n",
            "4/4 [==============================] - 1s 130ms/step - loss: 5.2684 - accuracy: 0.0250 - val_loss: 5.2847 - val_accuracy: 0.0204\n",
            "Epoch 5/5\n",
            "4/4 [==============================] - 1s 132ms/step - loss: 5.0596 - accuracy: 0.0455 - val_loss: 5.1646 - val_accuracy: 0.0204\n",
            "Epoch 1/5\n",
            "4/4 [==============================] - 4s 385ms/step - loss: 6.0051 - accuracy: 0.0068 - val_loss: 5.3649 - val_accuracy: 0.0000e+00\n",
            "Epoch 2/5\n",
            "4/4 [==============================] - 1s 131ms/step - loss: 5.8547 - accuracy: 0.0091 - val_loss: 5.1358 - val_accuracy: 0.0204\n",
            "Epoch 3/5\n",
            "4/4 [==============================] - 1s 129ms/step - loss: 5.5541 - accuracy: 0.0159 - val_loss: 4.9881 - val_accuracy: 0.0204\n",
            "Epoch 4/5\n",
            "4/4 [==============================] - 1s 129ms/step - loss: 5.3187 - accuracy: 0.0272 - val_loss: 4.8773 - val_accuracy: 0.0204\n",
            "Epoch 5/5\n",
            "4/4 [==============================] - 1s 127ms/step - loss: 5.1314 - accuracy: 0.0340 - val_loss: 4.7873 - val_accuracy: 0.0204\n"
          ],
          "name": "stdout"
        },
        {
          "output_type": "stream",
          "text": [
            "\u001b[32m[I 2021-07-15 11:53:22,840]\u001b[0m Trial 2 finished with value: 1.3638898109396298 and parameters: {'lr': 3.893473083257399e-05, 'steps': 121.10848839838393, 't_mult': 2, 'm_mult': 0.5571647800807948}. Best is trial 1 with value: 12.533734738826752.\u001b[0m\n"
          ],
          "name": "stderr"
        },
        {
          "output_type": "stream",
          "text": [
            "Epoch 1/5\n",
            "4/4 [==============================] - 5s 384ms/step - loss: 17.1411 - accuracy: 0.0773 - val_loss: 1035.3972 - val_accuracy: 0.0204\n",
            "Epoch 2/5\n",
            "4/4 [==============================] - 1s 128ms/step - loss: 18.2584 - accuracy: 0.3614 - val_loss: 807.4880 - val_accuracy: 0.0000e+00\n",
            "Epoch 3/5\n",
            "4/4 [==============================] - 1s 130ms/step - loss: 9.7828 - accuracy: 0.5318 - val_loss: 497.7664 - val_accuracy: 0.0408\n",
            "Epoch 4/5\n",
            "4/4 [==============================] - 1s 130ms/step - loss: 6.4651 - accuracy: 0.6250 - val_loss: 329.3458 - val_accuracy: 0.0204\n",
            "Epoch 5/5\n",
            "4/4 [==============================] - 1s 127ms/step - loss: 4.5843 - accuracy: 0.6773 - val_loss: 207.5245 - val_accuracy: 0.1020\n",
            "Epoch 1/5\n",
            "4/4 [==============================] - 4s 379ms/step - loss: 17.0955 - accuracy: 0.0818 - val_loss: 1180.9989 - val_accuracy: 0.0204\n",
            "Epoch 2/5\n",
            "4/4 [==============================] - 1s 135ms/step - loss: 17.9703 - accuracy: 0.3614 - val_loss: 696.5156 - val_accuracy: 0.0204\n",
            "Epoch 3/5\n",
            "4/4 [==============================] - 1s 129ms/step - loss: 9.5664 - accuracy: 0.5295 - val_loss: 353.9258 - val_accuracy: 0.0408\n",
            "Epoch 4/5\n",
            "4/4 [==============================] - 1s 129ms/step - loss: 5.6393 - accuracy: 0.6295 - val_loss: 324.3247 - val_accuracy: 0.0204\n",
            "Epoch 5/5\n",
            "4/4 [==============================] - 1s 127ms/step - loss: 3.7408 - accuracy: 0.6864 - val_loss: 249.8372 - val_accuracy: 0.0408\n",
            "Epoch 1/5\n",
            "4/4 [==============================] - 4s 376ms/step - loss: 18.1123 - accuracy: 0.0794 - val_loss: 1168.9519 - val_accuracy: 0.0000e+00\n",
            "Epoch 2/5\n",
            "4/4 [==============================] - 1s 128ms/step - loss: 18.3343 - accuracy: 0.3175 - val_loss: 725.5797 - val_accuracy: 0.0612\n",
            "Epoch 3/5\n",
            "4/4 [==============================] - 1s 130ms/step - loss: 9.4747 - accuracy: 0.5125 - val_loss: 423.3857 - val_accuracy: 0.0204\n",
            "Epoch 4/5\n",
            "4/4 [==============================] - 1s 127ms/step - loss: 5.8424 - accuracy: 0.6463 - val_loss: 271.8035 - val_accuracy: 0.0612\n",
            "Epoch 5/5\n",
            "4/4 [==============================] - 1s 127ms/step - loss: 3.9530 - accuracy: 0.7234 - val_loss: 227.6466 - val_accuracy: 0.0408\n"
          ],
          "name": "stdout"
        },
        {
          "output_type": "stream",
          "text": [
            "\u001b[32m[I 2021-07-15 11:53:46,810]\u001b[0m Trial 3 finished with value: 7.634660353263219 and parameters: {'lr': 0.07644882331122667, 'steps': 232.66993466067194, 't_mult': 2, 'm_mult': 0.9185956145337189}. Best is trial 1 with value: 12.533734738826752.\u001b[0m\n"
          ],
          "name": "stderr"
        },
        {
          "output_type": "stream",
          "text": [
            "Epoch 1/5\n",
            "4/4 [==============================] - 4s 400ms/step - loss: 5.8109 - accuracy: 0.0091 - val_loss: 5.0244 - val_accuracy: 0.0408\n",
            "Epoch 2/5\n",
            "4/4 [==============================] - 1s 126ms/step - loss: 3.8996 - accuracy: 0.1545 - val_loss: 4.4475 - val_accuracy: 0.0816\n",
            "Epoch 3/5\n",
            "4/4 [==============================] - 1s 128ms/step - loss: 2.7430 - accuracy: 0.3295 - val_loss: 4.1152 - val_accuracy: 0.1429\n",
            "Epoch 4/5\n",
            "4/4 [==============================] - 1s 128ms/step - loss: 1.9068 - accuracy: 0.5773 - val_loss: 3.9453 - val_accuracy: 0.1837\n",
            "Epoch 5/5\n",
            "4/4 [==============================] - 0s 125ms/step - loss: 1.3066 - accuracy: 0.7455 - val_loss: 3.8429 - val_accuracy: 0.1837\n",
            "Epoch 1/5\n",
            "4/4 [==============================] - 4s 379ms/step - loss: 5.6855 - accuracy: 0.0114 - val_loss: 5.4622 - val_accuracy: 0.0000e+00\n",
            "Epoch 2/5\n",
            "4/4 [==============================] - 1s 131ms/step - loss: 3.8794 - accuracy: 0.1455 - val_loss: 4.8823 - val_accuracy: 0.0612\n",
            "Epoch 3/5\n",
            "4/4 [==============================] - 1s 128ms/step - loss: 2.6508 - accuracy: 0.3818 - val_loss: 4.4955 - val_accuracy: 0.1020\n",
            "Epoch 4/5\n",
            "4/4 [==============================] - 1s 128ms/step - loss: 1.9555 - accuracy: 0.5818 - val_loss: 4.2377 - val_accuracy: 0.1224\n",
            "Epoch 5/5\n",
            "4/4 [==============================] - 1s 126ms/step - loss: 1.3723 - accuracy: 0.7455 - val_loss: 4.0585 - val_accuracy: 0.1429\n",
            "Epoch 1/5\n",
            "4/4 [==============================] - 5s 413ms/step - loss: 5.7676 - accuracy: 0.0113 - val_loss: 5.3253 - val_accuracy: 0.0204\n",
            "Epoch 2/5\n",
            "4/4 [==============================] - 1s 130ms/step - loss: 3.8165 - accuracy: 0.1542 - val_loss: 4.5499 - val_accuracy: 0.0816\n",
            "Epoch 3/5\n",
            "4/4 [==============================] - 1s 129ms/step - loss: 2.6798 - accuracy: 0.3787 - val_loss: 4.0748 - val_accuracy: 0.1429\n",
            "Epoch 4/5\n",
            "4/4 [==============================] - 1s 129ms/step - loss: 1.9275 - accuracy: 0.5692 - val_loss: 3.7708 - val_accuracy: 0.2245\n",
            "Epoch 5/5\n",
            "4/4 [==============================] - 1s 128ms/step - loss: 1.3938 - accuracy: 0.7370 - val_loss: 3.5646 - val_accuracy: 0.2449\n"
          ],
          "name": "stdout"
        },
        {
          "output_type": "stream",
          "text": [
            "\u001b[32m[I 2021-07-15 11:54:10,711]\u001b[0m Trial 4 finished with value: 19.48031683762868 and parameters: {'lr': 0.00035854828773247753, 'steps': 200.99786976946635, 't_mult': 1, 'm_mult': 0.3827651005785586}. Best is trial 4 with value: 19.48031683762868.\u001b[0m\n"
          ],
          "name": "stderr"
        },
        {
          "output_type": "stream",
          "text": [
            "Epoch 1/5\n",
            "4/4 [==============================] - 4s 378ms/step - loss: 5.2085 - accuracy: 0.1273 - val_loss: 48.6469 - val_accuracy: 0.0612\n",
            "Epoch 2/5\n",
            "4/4 [==============================] - 1s 129ms/step - loss: 1.3968 - accuracy: 0.6523 - val_loss: 49.5933 - val_accuracy: 0.0408\n",
            "Epoch 3/5\n",
            "4/4 [==============================] - 1s 127ms/step - loss: 0.7197 - accuracy: 0.8159 - val_loss: 46.8161 - val_accuracy: 0.1020\n",
            "Epoch 4/5\n",
            "4/4 [==============================] - 1s 134ms/step - loss: 0.4530 - accuracy: 0.8727 - val_loss: 49.1838 - val_accuracy: 0.0612\n",
            "Epoch 5/5\n",
            "4/4 [==============================] - 1s 131ms/step - loss: 0.2341 - accuracy: 0.9273 - val_loss: 42.4612 - val_accuracy: 0.0816\n",
            "Epoch 1/5\n",
            "4/4 [==============================] - 4s 382ms/step - loss: 5.1692 - accuracy: 0.1250 - val_loss: 31.7545 - val_accuracy: 0.1020\n",
            "Epoch 2/5\n",
            "4/4 [==============================] - 1s 129ms/step - loss: 1.4104 - accuracy: 0.6909 - val_loss: 42.7505 - val_accuracy: 0.1224\n",
            "Epoch 3/5\n",
            "4/4 [==============================] - 1s 130ms/step - loss: 0.6864 - accuracy: 0.8205 - val_loss: 39.3895 - val_accuracy: 0.1429\n",
            "Epoch 4/5\n",
            "4/4 [==============================] - 1s 131ms/step - loss: 0.4552 - accuracy: 0.8545 - val_loss: 35.3045 - val_accuracy: 0.1429\n",
            "Epoch 5/5\n",
            "4/4 [==============================] - 1s 126ms/step - loss: 0.3701 - accuracy: 0.9000 - val_loss: 32.6096 - val_accuracy: 0.1837\n",
            "Epoch 1/5\n",
            "4/4 [==============================] - 4s 381ms/step - loss: 5.1273 - accuracy: 0.1156 - val_loss: 59.3128 - val_accuracy: 0.0204\n",
            "Epoch 2/5\n",
            "4/4 [==============================] - 1s 129ms/step - loss: 1.7358 - accuracy: 0.6440 - val_loss: 59.6806 - val_accuracy: 0.0408\n",
            "Epoch 3/5\n",
            "4/4 [==============================] - 1s 130ms/step - loss: 0.8758 - accuracy: 0.7891 - val_loss: 47.0192 - val_accuracy: 0.0408\n",
            "Epoch 4/5\n",
            "4/4 [==============================] - 1s 132ms/step - loss: 0.4432 - accuracy: 0.8730 - val_loss: 37.7118 - val_accuracy: 0.1224\n",
            "Epoch 5/5\n",
            "4/4 [==============================] - 1s 127ms/step - loss: 0.3129 - accuracy: 0.9365 - val_loss: 35.0598 - val_accuracy: 0.1429\n"
          ],
          "name": "stdout"
        },
        {
          "output_type": "stream",
          "text": [
            "\u001b[32m[I 2021-07-15 11:54:34,160]\u001b[0m Trial 5 finished with value: 10.356306284666061 and parameters: {'lr': 0.008674812315309992, 'steps': 577.8898181794765, 't_mult': 2, 'm_mult': 0.19507615006155365}. Best is trial 4 with value: 19.48031683762868.\u001b[0m\n"
          ],
          "name": "stderr"
        },
        {
          "output_type": "stream",
          "text": [
            "Epoch 1/5\n",
            "4/4 [==============================] - 4s 380ms/step - loss: 5.0907 - accuracy: 0.0864 - val_loss: 16.7966 - val_accuracy: 0.0816\n",
            "Epoch 2/5\n",
            "4/4 [==============================] - 1s 128ms/step - loss: 1.1389 - accuracy: 0.7318 - val_loss: 25.8309 - val_accuracy: 0.0816\n",
            "Epoch 3/5\n",
            "4/4 [==============================] - 1s 132ms/step - loss: 0.6141 - accuracy: 0.8318 - val_loss: 30.5274 - val_accuracy: 0.0408\n",
            "Epoch 4/5\n",
            "4/4 [==============================] - 1s 130ms/step - loss: 0.3332 - accuracy: 0.9045 - val_loss: 33.0620 - val_accuracy: 0.0408\n",
            "Epoch 5/5\n",
            "4/4 [==============================] - 1s 126ms/step - loss: 0.2184 - accuracy: 0.9432 - val_loss: 31.7865 - val_accuracy: 0.0816\n",
            "Epoch 1/5\n",
            "4/4 [==============================] - 4s 370ms/step - loss: 4.9502 - accuracy: 0.1182 - val_loss: 21.1480 - val_accuracy: 0.1020\n",
            "Epoch 2/5\n",
            "4/4 [==============================] - 1s 129ms/step - loss: 1.1033 - accuracy: 0.7409 - val_loss: 37.6998 - val_accuracy: 0.0612\n",
            "Epoch 3/5\n",
            "4/4 [==============================] - 1s 129ms/step - loss: 0.4810 - accuracy: 0.8795 - val_loss: 26.0615 - val_accuracy: 0.0816\n",
            "Epoch 4/5\n",
            "4/4 [==============================] - 1s 129ms/step - loss: 0.2880 - accuracy: 0.9295 - val_loss: 24.0472 - val_accuracy: 0.1224\n",
            "Epoch 5/5\n",
            "4/4 [==============================] - 1s 127ms/step - loss: 0.2065 - accuracy: 0.9500 - val_loss: 20.5011 - val_accuracy: 0.1224\n",
            "Epoch 1/5\n",
            "4/4 [==============================] - 4s 375ms/step - loss: 4.8709 - accuracy: 0.1315 - val_loss: 23.7632 - val_accuracy: 0.0816\n",
            "Epoch 2/5\n",
            "4/4 [==============================] - 1s 128ms/step - loss: 1.1103 - accuracy: 0.7302 - val_loss: 27.5178 - val_accuracy: 0.0816\n",
            "Epoch 3/5\n",
            "4/4 [==============================] - 1s 131ms/step - loss: 0.5141 - accuracy: 0.8639 - val_loss: 28.7349 - val_accuracy: 0.1020\n",
            "Epoch 4/5\n",
            "4/4 [==============================] - 1s 129ms/step - loss: 0.3426 - accuracy: 0.9229 - val_loss: 30.1094 - val_accuracy: 0.1429\n",
            "Epoch 5/5\n",
            "4/4 [==============================] - 1s 127ms/step - loss: 0.2075 - accuracy: 0.9501 - val_loss: 25.9241 - val_accuracy: 0.1224\n"
          ],
          "name": "stdout"
        },
        {
          "output_type": "stream",
          "text": [
            "\u001b[32m[I 2021-07-15 11:54:59,641]\u001b[0m Trial 6 finished with value: 12.535407890876135 and parameters: {'lr': 0.005295492561150112, 'steps': 972.5883884589844, 't_mult': 2, 'm_mult': 0.01640120902150477}. Best is trial 4 with value: 19.48031683762868.\u001b[0m\n"
          ],
          "name": "stderr"
        },
        {
          "output_type": "stream",
          "text": [
            "Epoch 1/5\n",
            "4/4 [==============================] - 4s 538ms/step - loss: 5.6422 - accuracy: 0.1091 - val_loss: 97.5440 - val_accuracy: 0.0408\n",
            "Epoch 2/5\n",
            "4/4 [==============================] - 1s 128ms/step - loss: 1.8852 - accuracy: 0.6318 - val_loss: 68.4913 - val_accuracy: 0.0612\n",
            "Epoch 3/5\n",
            "4/4 [==============================] - 1s 129ms/step - loss: 1.0179 - accuracy: 0.7636 - val_loss: 69.9830 - val_accuracy: 0.0204\n",
            "Epoch 4/5\n",
            "4/4 [==============================] - 1s 128ms/step - loss: 0.5898 - accuracy: 0.8545 - val_loss: 54.1650 - val_accuracy: 0.1020\n",
            "Epoch 5/5\n",
            "4/4 [==============================] - 1s 126ms/step - loss: 0.3871 - accuracy: 0.8864 - val_loss: 54.9569 - val_accuracy: 0.0408\n",
            "Epoch 1/5\n",
            "4/4 [==============================] - 4s 383ms/step - loss: 5.2917 - accuracy: 0.1250 - val_loss: 104.1157 - val_accuracy: 0.0204\n",
            "Epoch 2/5\n",
            "4/4 [==============================] - 1s 135ms/step - loss: 2.0305 - accuracy: 0.5955 - val_loss: 106.2745 - val_accuracy: 0.0204\n",
            "Epoch 3/5\n",
            "4/4 [==============================] - 1s 130ms/step - loss: 0.8776 - accuracy: 0.8023 - val_loss: 68.1334 - val_accuracy: 0.0816\n",
            "Epoch 4/5\n",
            "4/4 [==============================] - 1s 128ms/step - loss: 0.6867 - accuracy: 0.8591 - val_loss: 57.0923 - val_accuracy: 0.0408\n",
            "Epoch 5/5\n",
            "4/4 [==============================] - 1s 125ms/step - loss: 0.4644 - accuracy: 0.8932 - val_loss: 60.6132 - val_accuracy: 0.0408\n",
            "Epoch 1/5\n",
            "4/4 [==============================] - 4s 387ms/step - loss: 5.3598 - accuracy: 0.1429 - val_loss: 75.8377 - val_accuracy: 0.0000e+00\n",
            "Epoch 2/5\n",
            "4/4 [==============================] - 1s 131ms/step - loss: 1.9778 - accuracy: 0.6077 - val_loss: 75.1417 - val_accuracy: 0.0408\n",
            "Epoch 3/5\n",
            "4/4 [==============================] - 1s 129ms/step - loss: 1.0162 - accuracy: 0.7732 - val_loss: 61.0738 - val_accuracy: 0.0408\n",
            "Epoch 4/5\n",
            "4/4 [==============================] - 1s 129ms/step - loss: 0.5504 - accuracy: 0.8390 - val_loss: 61.4021 - val_accuracy: 0.0408\n",
            "Epoch 5/5\n",
            "4/4 [==============================] - 1s 128ms/step - loss: 0.3763 - accuracy: 0.8866 - val_loss: 53.4139 - val_accuracy: 0.0816\n"
          ],
          "name": "stdout"
        },
        {
          "output_type": "stream",
          "text": [
            "\u001b[32m[I 2021-07-15 11:55:23,585]\u001b[0m Trial 7 finished with value: 9.807070593039194 and parameters: {'lr': 0.01162227109613518, 'steps': 992.4903495629941, 't_mult': 2, 'm_mult': 0.9322261362413661}. Best is trial 4 with value: 19.48031683762868.\u001b[0m\n"
          ],
          "name": "stderr"
        },
        {
          "output_type": "stream",
          "text": [
            "Epoch 1/5\n",
            "4/4 [==============================] - 4s 384ms/step - loss: 5.8672 - accuracy: 0.0045 - val_loss: 5.5684 - val_accuracy: 0.0408\n",
            "Epoch 2/5\n",
            "4/4 [==============================] - 1s 129ms/step - loss: 5.5890 - accuracy: 0.0205 - val_loss: 5.3114 - val_accuracy: 0.0408\n",
            "Epoch 3/5\n",
            "4/4 [==============================] - 1s 131ms/step - loss: 5.1720 - accuracy: 0.0409 - val_loss: 5.1304 - val_accuracy: 0.0408\n",
            "Epoch 4/5\n",
            "4/4 [==============================] - 1s 129ms/step - loss: 4.8549 - accuracy: 0.0568 - val_loss: 4.9890 - val_accuracy: 0.0408\n",
            "Epoch 5/5\n",
            "4/4 [==============================] - 1s 127ms/step - loss: 4.6156 - accuracy: 0.0955 - val_loss: 4.8701 - val_accuracy: 0.0408\n",
            "Epoch 1/5\n",
            "4/4 [==============================] - 4s 382ms/step - loss: 6.1045 - accuracy: 0.0045 - val_loss: 5.3605 - val_accuracy: 0.0204\n",
            "Epoch 2/5\n",
            "4/4 [==============================] - 1s 128ms/step - loss: 5.6682 - accuracy: 0.0227 - val_loss: 5.1166 - val_accuracy: 0.0000e+00\n",
            "Epoch 3/5\n",
            "4/4 [==============================] - 1s 128ms/step - loss: 5.1637 - accuracy: 0.0341 - val_loss: 4.9428 - val_accuracy: 0.0000e+00\n",
            "Epoch 4/5\n",
            "4/4 [==============================] - 1s 132ms/step - loss: 4.9191 - accuracy: 0.0500 - val_loss: 4.8035 - val_accuracy: 0.0408\n",
            "Epoch 5/5\n",
            "4/4 [==============================] - 1s 126ms/step - loss: 4.5782 - accuracy: 0.0636 - val_loss: 4.6842 - val_accuracy: 0.0408\n",
            "Epoch 1/5\n",
            "4/4 [==============================] - 4s 399ms/step - loss: 5.9359 - accuracy: 0.0136 - val_loss: 5.6766 - val_accuracy: 0.0204\n",
            "Epoch 2/5\n",
            "4/4 [==============================] - 1s 129ms/step - loss: 5.3430 - accuracy: 0.0204 - val_loss: 5.3905 - val_accuracy: 0.0204\n",
            "Epoch 3/5\n",
            "4/4 [==============================] - 1s 130ms/step - loss: 5.1651 - accuracy: 0.0454 - val_loss: 5.1878 - val_accuracy: 0.0408\n",
            "Epoch 4/5\n",
            "4/4 [==============================] - 1s 134ms/step - loss: 4.7435 - accuracy: 0.0522 - val_loss: 5.0192 - val_accuracy: 0.0408\n",
            "Epoch 5/5\n",
            "4/4 [==============================] - 1s 125ms/step - loss: 4.5081 - accuracy: 0.0612 - val_loss: 4.8792 - val_accuracy: 0.0612\n"
          ],
          "name": "stdout"
        },
        {
          "output_type": "stream",
          "text": [
            "\u001b[32m[I 2021-07-15 11:55:48,727]\u001b[0m Trial 8 finished with value: 2.587821955482165 and parameters: {'lr': 6.8546540591386e-05, 'steps': 215.15776574189195, 't_mult': 2, 'm_mult': 0.3688000010412936}. Best is trial 4 with value: 19.48031683762868.\u001b[0m\n"
          ],
          "name": "stderr"
        },
        {
          "output_type": "stream",
          "text": [
            "Epoch 1/5\n",
            "4/4 [==============================] - 4s 384ms/step - loss: 5.9584 - accuracy: 0.0159 - val_loss: 5.3388 - val_accuracy: 0.0408\n",
            "Epoch 2/5\n",
            "4/4 [==============================] - 1s 131ms/step - loss: 4.5467 - accuracy: 0.0841 - val_loss: 4.9277 - val_accuracy: 0.1020\n",
            "Epoch 3/5\n",
            "4/4 [==============================] - 1s 126ms/step - loss: 3.5225 - accuracy: 0.2227 - val_loss: 4.6295 - val_accuracy: 0.1633\n",
            "Epoch 4/5\n",
            "4/4 [==============================] - 1s 130ms/step - loss: 2.7522 - accuracy: 0.3455 - val_loss: 4.4101 - val_accuracy: 0.1837\n",
            "Epoch 5/5\n",
            "4/4 [==============================] - 1s 126ms/step - loss: 2.1933 - accuracy: 0.5182 - val_loss: 4.2571 - val_accuracy: 0.1837\n",
            "Epoch 1/5\n",
            "4/4 [==============================] - 4s 376ms/step - loss: 5.8230 - accuracy: 0.0114 - val_loss: 5.5410 - val_accuracy: 0.0204\n",
            "Epoch 2/5\n",
            "4/4 [==============================] - 1s 130ms/step - loss: 4.4146 - accuracy: 0.0773 - val_loss: 5.0688 - val_accuracy: 0.0612\n",
            "Epoch 3/5\n",
            "4/4 [==============================] - 1s 127ms/step - loss: 3.4913 - accuracy: 0.2227 - val_loss: 4.7368 - val_accuracy: 0.0612\n",
            "Epoch 4/5\n",
            "4/4 [==============================] - 1s 134ms/step - loss: 2.6895 - accuracy: 0.3682 - val_loss: 4.4880 - val_accuracy: 0.0816\n",
            "Epoch 5/5\n",
            "4/4 [==============================] - 1s 128ms/step - loss: 2.0823 - accuracy: 0.5364 - val_loss: 4.3029 - val_accuracy: 0.1020\n",
            "Epoch 1/5\n",
            "4/4 [==============================] - 4s 380ms/step - loss: 5.7973 - accuracy: 0.0091 - val_loss: 5.4508 - val_accuracy: 0.0204\n",
            "Epoch 2/5\n",
            "4/4 [==============================] - 1s 129ms/step - loss: 4.4018 - accuracy: 0.0839 - val_loss: 4.9571 - val_accuracy: 0.0408\n",
            "Epoch 3/5\n",
            "4/4 [==============================] - 1s 130ms/step - loss: 3.5038 - accuracy: 0.1973 - val_loss: 4.5973 - val_accuracy: 0.0816\n",
            "Epoch 4/5\n",
            "4/4 [==============================] - 1s 130ms/step - loss: 2.6462 - accuracy: 0.3991 - val_loss: 4.3144 - val_accuracy: 0.1224\n",
            "Epoch 5/5\n",
            "4/4 [==============================] - 1s 127ms/step - loss: 2.1340 - accuracy: 0.5193 - val_loss: 4.1030 - val_accuracy: 0.1633\n"
          ],
          "name": "stdout"
        },
        {
          "output_type": "stream",
          "text": [
            "\u001b[32m[I 2021-07-15 11:56:12,524]\u001b[0m Trial 9 finished with value: 14.8505633076032 and parameters: {'lr': 0.0002448587256660525, 'steps': 107.96291189357635, 't_mult': 2, 'm_mult': 0.6601523806947432}. Best is trial 4 with value: 19.48031683762868.\u001b[0m\n"
          ],
          "name": "stderr"
        },
        {
          "output_type": "stream",
          "text": [
            "Epoch 1/5\n",
            "5/5 [==============================] - 6s 501ms/step - loss: 5.9980 - accuracy: 0.0064 - sensitivity_at_specificity_1: 0.3772 - specificity_at_sensitivity_1: 0.0000e+00 - precision_1: 0.0000e+00 - auc_2: 0.4901 - auc_3: 0.0096 - val_loss: 5.7131 - val_accuracy: 0.0000e+00 - val_sensitivity_at_specificity_1: 0.4054 - val_specificity_at_sensitivity_1: 0.0000e+00 - val_precision_1: 0.0000e+00 - val_auc_2: 0.4967 - val_auc_3: 0.0096\n",
            "Epoch 2/5\n",
            "5/5 [==============================] - 1s 163ms/step - loss: 5.7906 - accuracy: 0.0161 - sensitivity_at_specificity_1: 0.4462 - specificity_at_sensitivity_1: 0.0000e+00 - precision_1: 0.0000e+00 - auc_2: 0.5269 - auc_3: 0.0110 - val_loss: 5.5040 - val_accuracy: 0.0000e+00 - val_sensitivity_at_specificity_1: 0.4685 - val_specificity_at_sensitivity_1: 0.0000e+00 - val_precision_1: 0.0000e+00 - val_auc_2: 0.4997 - val_auc_3: 0.0096\n",
            "Epoch 3/5\n",
            "5/5 [==============================] - 1s 163ms/step - loss: 5.8578 - accuracy: 0.0112 - sensitivity_at_specificity_1: 0.4302 - specificity_at_sensitivity_1: 0.0000e+00 - precision_1: 0.0000e+00 - auc_2: 0.5160 - auc_3: 0.0106 - val_loss: 5.3809 - val_accuracy: 0.0000e+00 - val_sensitivity_at_specificity_1: 0.2883 - val_specificity_at_sensitivity_1: 0.4964 - val_precision_1: 0.0000e+00 - val_auc_2: 0.5100 - val_auc_3: 0.0098\n",
            "Epoch 4/5\n",
            "5/5 [==============================] - 1s 162ms/step - loss: 5.8164 - accuracy: 0.0112 - sensitivity_at_specificity_1: 0.4543 - specificity_at_sensitivity_1: 0.0000e+00 - precision_1: 0.0000e+00 - auc_2: 0.5257 - auc_3: 0.0109 - val_loss: 5.2951 - val_accuracy: 0.0000e+00 - val_sensitivity_at_specificity_1: 0.3063 - val_specificity_at_sensitivity_1: 0.4716 - val_precision_1: 0.0000e+00 - val_auc_2: 0.5120 - val_auc_3: 0.0099\n",
            "Epoch 5/5\n",
            "5/5 [==============================] - 1s 161ms/step - loss: 5.7407 - accuracy: 0.0112 - sensitivity_at_specificity_1: 0.4462 - specificity_at_sensitivity_1: 0.0000e+00 - precision_1: 0.0000e+00 - auc_2: 0.5278 - auc_3: 0.0111 - val_loss: 5.2296 - val_accuracy: 0.0000e+00 - val_sensitivity_at_specificity_1: 0.3063 - val_specificity_at_sensitivity_1: 0.4540 - val_precision_1: 0.0000e+00 - val_auc_2: 0.5172 - val_auc_3: 0.0100\n",
            "3/3 [==============================] - 0s 50ms/step - loss: 5.0477 - accuracy: 0.0122 - sensitivity_at_specificity_1: 0.3659 - specificity_at_sensitivity_1: 0.4494 - precision_1: 0.0000e+00 - auc_2: 0.5438 - auc_3: 0.0124\n"
          ],
          "name": "stdout"
        },
        {
          "output_type": "stream",
          "text": [
            "\u001b[32m[I 2021-07-15 11:56:28,265]\u001b[0m A new study created in memory with name: no-name-3e667f71-d1a7-4418-97c0-9b4482677dd1\u001b[0m\n"
          ],
          "name": "stderr"
        },
        {
          "output_type": "stream",
          "text": [
            "['loss', 'accuracy', 'sensitivity_at_specificity_1', 'specificity_at_sensitivity_1', 'precision_1', 'auc_2', 'auc_3']\n",
            "Epoch 1/5\n",
            "4/4 [==============================] - 4s 369ms/step - loss: 7.1193 - accuracy: 0.1068 - val_loss: 189.6546 - val_accuracy: 0.0408\n",
            "Epoch 2/5\n",
            "4/4 [==============================] - 1s 132ms/step - loss: 4.5630 - accuracy: 0.4477 - val_loss: 184.9778 - val_accuracy: 0.0408\n",
            "Epoch 3/5\n",
            "4/4 [==============================] - 0s 125ms/step - loss: 2.2713 - accuracy: 0.6409 - val_loss: 122.8766 - val_accuracy: 0.0408\n",
            "Epoch 4/5\n",
            "4/4 [==============================] - 1s 132ms/step - loss: 1.3272 - accuracy: 0.7545 - val_loss: 84.0251 - val_accuracy: 0.1224\n",
            "Epoch 5/5\n",
            "4/4 [==============================] - 1s 129ms/step - loss: 0.8616 - accuracy: 0.8364 - val_loss: 72.1217 - val_accuracy: 0.1429\n",
            "Epoch 1/5\n",
            "4/4 [==============================] - 5s 408ms/step - loss: 6.5134 - accuracy: 0.0886 - val_loss: 199.2851 - val_accuracy: 0.0000e+00\n",
            "Epoch 2/5\n",
            "4/4 [==============================] - 1s 128ms/step - loss: 3.8058 - accuracy: 0.4614 - val_loss: 118.0873 - val_accuracy: 0.0612\n",
            "Epoch 3/5\n",
            "4/4 [==============================] - 1s 127ms/step - loss: 1.8244 - accuracy: 0.6932 - val_loss: 114.9322 - val_accuracy: 0.0408\n",
            "Epoch 4/5\n",
            "4/4 [==============================] - 1s 130ms/step - loss: 1.0859 - accuracy: 0.7818 - val_loss: 99.7104 - val_accuracy: 0.0408\n",
            "Epoch 5/5\n",
            "4/4 [==============================] - 0s 123ms/step - loss: 0.9307 - accuracy: 0.7886 - val_loss: 82.1955 - val_accuracy: 0.0816\n",
            "Epoch 1/5\n",
            "4/4 [==============================] - 4s 379ms/step - loss: 6.7150 - accuracy: 0.1111 - val_loss: 143.0658 - val_accuracy: 0.0204\n",
            "Epoch 2/5\n",
            "4/4 [==============================] - 0s 126ms/step - loss: 3.9498 - accuracy: 0.5147 - val_loss: 148.4935 - val_accuracy: 0.0408\n",
            "Epoch 3/5\n",
            "4/4 [==============================] - 1s 126ms/step - loss: 1.8243 - accuracy: 0.6576 - val_loss: 105.5048 - val_accuracy: 0.0408\n",
            "Epoch 4/5\n",
            "4/4 [==============================] - 1s 126ms/step - loss: 1.3749 - accuracy: 0.7438 - val_loss: 87.4842 - val_accuracy: 0.0408\n",
            "Epoch 5/5\n",
            "4/4 [==============================] - 0s 124ms/step - loss: 0.9131 - accuracy: 0.8186 - val_loss: 90.9180 - val_accuracy: 0.0204\n"
          ],
          "name": "stdout"
        },
        {
          "output_type": "stream",
          "text": [
            "\u001b[32m[I 2021-07-15 11:56:51,651]\u001b[0m Trial 0 finished with value: 8.986282845338186 and parameters: {'lr': 0.02024980718136742, 'steps': 220.90166834014352, 't_mult': 1, 'm_mult': 0.4362652206819305}. Best is trial 0 with value: 8.986282845338186.\u001b[0m\n"
          ],
          "name": "stderr"
        },
        {
          "output_type": "stream",
          "text": [
            "Epoch 1/5\n",
            "4/4 [==============================] - 4s 378ms/step - loss: 5.4485 - accuracy: 0.0318 - val_loss: 4.2918 - val_accuracy: 0.0816\n",
            "Epoch 2/5\n",
            "4/4 [==============================] - 0s 125ms/step - loss: 2.0107 - accuracy: 0.5273 - val_loss: 3.6105 - val_accuracy: 0.1429\n",
            "Epoch 3/5\n",
            "4/4 [==============================] - 1s 128ms/step - loss: 0.9469 - accuracy: 0.8341 - val_loss: 3.5903 - val_accuracy: 0.1224\n",
            "Epoch 4/5\n",
            "4/4 [==============================] - 1s 127ms/step - loss: 0.5124 - accuracy: 0.9136 - val_loss: 3.7302 - val_accuracy: 0.2041\n",
            "Epoch 5/5\n",
            "4/4 [==============================] - 0s 123ms/step - loss: 0.2837 - accuracy: 0.9591 - val_loss: 3.7734 - val_accuracy: 0.2245\n",
            "Epoch 1/5\n",
            "4/4 [==============================] - 4s 375ms/step - loss: 5.4603 - accuracy: 0.0409 - val_loss: 4.4504 - val_accuracy: 0.0612\n",
            "Epoch 2/5\n",
            "4/4 [==============================] - 1s 127ms/step - loss: 2.0428 - accuracy: 0.5250 - val_loss: 3.7307 - val_accuracy: 0.2857\n",
            "Epoch 3/5\n",
            "4/4 [==============================] - 0s 126ms/step - loss: 0.9487 - accuracy: 0.8295 - val_loss: 3.7078 - val_accuracy: 0.3673\n",
            "Epoch 4/5\n",
            "4/4 [==============================] - 1s 127ms/step - loss: 0.5687 - accuracy: 0.8955 - val_loss: 3.8531 - val_accuracy: 0.3469\n",
            "Epoch 5/5\n",
            "4/4 [==============================] - 0s 125ms/step - loss: 0.2990 - accuracy: 0.9614 - val_loss: 3.9337 - val_accuracy: 0.3469\n",
            "Epoch 1/5\n",
            "4/4 [==============================] - 4s 382ms/step - loss: 5.7195 - accuracy: 0.0249 - val_loss: 4.7053 - val_accuracy: 0.0612\n",
            "Epoch 2/5\n",
            "4/4 [==============================] - 0s 126ms/step - loss: 2.1137 - accuracy: 0.5102 - val_loss: 4.3723 - val_accuracy: 0.1633\n",
            "Epoch 3/5\n",
            "4/4 [==============================] - 1s 127ms/step - loss: 0.9769 - accuracy: 0.8050 - val_loss: 4.3286 - val_accuracy: 0.2245\n",
            "Epoch 4/5\n",
            "4/4 [==============================] - 1s 126ms/step - loss: 0.5350 - accuracy: 0.9116 - val_loss: 4.2831 - val_accuracy: 0.3061\n",
            "Epoch 5/5\n",
            "4/4 [==============================] - 0s 124ms/step - loss: 0.2889 - accuracy: 0.9501 - val_loss: 4.2097 - val_accuracy: 0.3265\n"
          ],
          "name": "stdout"
        },
        {
          "output_type": "stream",
          "text": [
            "\u001b[32m[I 2021-07-15 11:57:15,324]\u001b[0m Trial 1 finished with value: 26.841752727826435 and parameters: {'lr': 0.0010542162308129286, 'steps': 620.2059878716748, 't_mult': 1, 'm_mult': 0.41136976370780787}. Best is trial 1 with value: 26.841752727826435.\u001b[0m\n"
          ],
          "name": "stderr"
        },
        {
          "output_type": "stream",
          "text": [
            "Epoch 1/5\n",
            "4/4 [==============================] - 4s 374ms/step - loss: 5.3845 - accuracy: 0.0364 - val_loss: 4.3417 - val_accuracy: 0.1633\n",
            "Epoch 2/5\n",
            "4/4 [==============================] - 0s 125ms/step - loss: 1.8480 - accuracy: 0.5909 - val_loss: 4.1544 - val_accuracy: 0.2857\n",
            "Epoch 3/5\n",
            "4/4 [==============================] - 1s 128ms/step - loss: 0.8244 - accuracy: 0.8523 - val_loss: 4.4371 - val_accuracy: 0.2857\n",
            "Epoch 4/5\n",
            "4/4 [==============================] - 0s 124ms/step - loss: 0.4140 - accuracy: 0.9341 - val_loss: 4.6324 - val_accuracy: 0.3061\n",
            "Epoch 5/5\n",
            "4/4 [==============================] - 0s 126ms/step - loss: 0.2508 - accuracy: 0.9614 - val_loss: 4.5733 - val_accuracy: 0.3469\n",
            "Epoch 1/5\n",
            "4/4 [==============================] - 4s 380ms/step - loss: 5.3200 - accuracy: 0.0455 - val_loss: 4.1499 - val_accuracy: 0.1837\n",
            "Epoch 2/5\n",
            "4/4 [==============================] - 1s 131ms/step - loss: 1.7987 - accuracy: 0.6000 - val_loss: 3.7597 - val_accuracy: 0.2653\n",
            "Epoch 3/5\n",
            "4/4 [==============================] - 1s 127ms/step - loss: 0.8292 - accuracy: 0.8705 - val_loss: 3.9453 - val_accuracy: 0.3469\n",
            "Epoch 4/5\n",
            "4/4 [==============================] - 1s 129ms/step - loss: 0.4325 - accuracy: 0.9159 - val_loss: 4.2683 - val_accuracy: 0.2857\n",
            "Epoch 5/5\n",
            "4/4 [==============================] - 0s 123ms/step - loss: 0.2609 - accuracy: 0.9523 - val_loss: 4.4018 - val_accuracy: 0.2653\n",
            "Epoch 1/5\n",
            "4/4 [==============================] - 5s 391ms/step - loss: 5.4981 - accuracy: 0.0385 - val_loss: 4.5528 - val_accuracy: 0.1429\n",
            "Epoch 2/5\n",
            "4/4 [==============================] - 1s 128ms/step - loss: 1.8835 - accuracy: 0.5782 - val_loss: 4.3127 - val_accuracy: 0.1020\n",
            "Epoch 3/5\n",
            "4/4 [==============================] - 1s 128ms/step - loss: 0.8798 - accuracy: 0.8390 - val_loss: 4.5407 - val_accuracy: 0.2041\n",
            "Epoch 4/5\n",
            "4/4 [==============================] - 1s 128ms/step - loss: 0.4485 - accuracy: 0.9342 - val_loss: 4.7830 - val_accuracy: 0.2245\n",
            "Epoch 5/5\n",
            "4/4 [==============================] - 0s 124ms/step - loss: 0.2453 - accuracy: 0.9615 - val_loss: 4.6505 - val_accuracy: 0.2041\n"
          ],
          "name": "stdout"
        },
        {
          "output_type": "stream",
          "text": [
            "\u001b[32m[I 2021-07-15 11:57:39,360]\u001b[0m Trial 2 finished with value: 29.154678185780842 and parameters: {'lr': 0.0011786957423597557, 'steps': 639.1186197836129, 't_mult': 2, 'm_mult': 0.7237564599007336}. Best is trial 2 with value: 29.154678185780842.\u001b[0m\n"
          ],
          "name": "stderr"
        },
        {
          "output_type": "stream",
          "text": [
            "Epoch 1/5\n",
            "4/4 [==============================] - 4s 390ms/step - loss: 6.0001 - accuracy: 0.0136 - val_loss: 5.7219 - val_accuracy: 0.0408\n",
            "Epoch 2/5\n",
            "4/4 [==============================] - 1s 127ms/step - loss: 5.7491 - accuracy: 0.0136 - val_loss: 5.5122 - val_accuracy: 0.0408\n",
            "Epoch 3/5\n",
            "4/4 [==============================] - 1s 126ms/step - loss: 5.7875 - accuracy: 0.0182 - val_loss: 5.3824 - val_accuracy: 0.0408\n",
            "Epoch 4/5\n",
            "4/4 [==============================] - 1s 126ms/step - loss: 5.7382 - accuracy: 0.0227 - val_loss: 5.2868 - val_accuracy: 0.0408\n",
            "Epoch 5/5\n",
            "4/4 [==============================] - 0s 124ms/step - loss: 5.6302 - accuracy: 0.0159 - val_loss: 5.2124 - val_accuracy: 0.0408\n",
            "Epoch 1/5\n",
            "4/4 [==============================] - 4s 393ms/step - loss: 5.9673 - accuracy: 0.0045 - val_loss: 5.6022 - val_accuracy: 0.0000e+00\n",
            "Epoch 2/5\n",
            "4/4 [==============================] - 1s 128ms/step - loss: 5.8619 - accuracy: 0.0114 - val_loss: 5.3955 - val_accuracy: 0.0000e+00\n",
            "Epoch 3/5\n",
            "4/4 [==============================] - 1s 132ms/step - loss: 5.8084 - accuracy: 0.0136 - val_loss: 5.2657 - val_accuracy: 0.0000e+00\n",
            "Epoch 4/5\n",
            "4/4 [==============================] - 1s 129ms/step - loss: 5.7017 - accuracy: 0.0182 - val_loss: 5.1695 - val_accuracy: 0.0000e+00\n",
            "Epoch 5/5\n",
            "4/4 [==============================] - 1s 129ms/step - loss: 5.6496 - accuracy: 0.0136 - val_loss: 5.0950 - val_accuracy: 0.0000e+00\n",
            "Epoch 1/5\n",
            "4/4 [==============================] - 5s 391ms/step - loss: 6.0221 - accuracy: 0.0136 - val_loss: 5.7651 - val_accuracy: 0.0000e+00\n",
            "Epoch 2/5\n",
            "4/4 [==============================] - 0s 126ms/step - loss: 5.9529 - accuracy: 0.0136 - val_loss: 5.5322 - val_accuracy: 0.0000e+00\n",
            "Epoch 3/5\n",
            "4/4 [==============================] - 1s 128ms/step - loss: 5.8285 - accuracy: 0.0091 - val_loss: 5.3916 - val_accuracy: 0.0000e+00\n",
            "Epoch 4/5\n",
            "4/4 [==============================] - 1s 129ms/step - loss: 5.7850 - accuracy: 0.0113 - val_loss: 5.2880 - val_accuracy: 0.0000e+00\n",
            "Epoch 5/5\n",
            "4/4 [==============================] - 0s 123ms/step - loss: 5.6239 - accuracy: 0.0091 - val_loss: 5.2083 - val_accuracy: 0.0000e+00\n"
          ],
          "name": "stdout"
        },
        {
          "output_type": "stream",
          "text": [
            "\u001b[32m[I 2021-07-15 11:58:03,483]\u001b[0m Trial 3 finished with value: 0.8179993213464817 and parameters: {'lr': 1.59297898115056e-05, 'steps': 193.42484014667713, 't_mult': 1, 'm_mult': 0.05479643134529155}. Best is trial 2 with value: 29.154678185780842.\u001b[0m\n"
          ],
          "name": "stderr"
        },
        {
          "output_type": "stream",
          "text": [
            "Epoch 1/5\n",
            "4/4 [==============================] - 4s 393ms/step - loss: 6.0423 - accuracy: 0.0023 - val_loss: 5.6535 - val_accuracy: 0.0204\n",
            "Epoch 2/5\n",
            "4/4 [==============================] - 1s 135ms/step - loss: 5.3402 - accuracy: 0.0227 - val_loss: 5.2596 - val_accuracy: 0.0204\n",
            "Epoch 3/5\n",
            "4/4 [==============================] - 0s 123ms/step - loss: 4.8009 - accuracy: 0.0455 - val_loss: 4.9682 - val_accuracy: 0.0408\n",
            "Epoch 4/5\n",
            "4/4 [==============================] - 1s 129ms/step - loss: 4.3023 - accuracy: 0.0864 - val_loss: 4.7379 - val_accuracy: 0.0408\n",
            "Epoch 5/5\n",
            "4/4 [==============================] - 0s 123ms/step - loss: 3.6592 - accuracy: 0.1818 - val_loss: 4.5452 - val_accuracy: 0.0408\n",
            "Epoch 1/5\n",
            "4/4 [==============================] - 4s 382ms/step - loss: 5.9951 - accuracy: 0.0182 - val_loss: 5.8386 - val_accuracy: 0.0000e+00\n",
            "Epoch 2/5\n",
            "4/4 [==============================] - 0s 126ms/step - loss: 5.2159 - accuracy: 0.0432 - val_loss: 5.4758 - val_accuracy: 0.0204\n",
            "Epoch 3/5\n",
            "4/4 [==============================] - 0s 124ms/step - loss: 4.7577 - accuracy: 0.0432 - val_loss: 5.2144 - val_accuracy: 0.0204\n",
            "Epoch 4/5\n",
            "4/4 [==============================] - 0s 124ms/step - loss: 4.1771 - accuracy: 0.1000 - val_loss: 4.9985 - val_accuracy: 0.0204\n",
            "Epoch 5/5\n",
            "4/4 [==============================] - 0s 122ms/step - loss: 3.6387 - accuracy: 0.1886 - val_loss: 4.8175 - val_accuracy: 0.0204\n",
            "Epoch 1/5\n",
            "4/4 [==============================] - 4s 379ms/step - loss: 6.0028 - accuracy: 0.0068 - val_loss: 5.1497 - val_accuracy: 0.0408\n",
            "Epoch 2/5\n",
            "4/4 [==============================] - 1s 127ms/step - loss: 5.2978 - accuracy: 0.0295 - val_loss: 4.8252 - val_accuracy: 0.0408\n",
            "Epoch 3/5\n",
            "4/4 [==============================] - 0s 123ms/step - loss: 4.7633 - accuracy: 0.0590 - val_loss: 4.5977 - val_accuracy: 0.0612\n",
            "Epoch 4/5\n",
            "4/4 [==============================] - 0s 125ms/step - loss: 4.2303 - accuracy: 0.1134 - val_loss: 4.4139 - val_accuracy: 0.0612\n",
            "Epoch 5/5\n",
            "4/4 [==============================] - 0s 124ms/step - loss: 3.7280 - accuracy: 0.1610 - val_loss: 4.2605 - val_accuracy: 0.0816\n"
          ],
          "name": "stdout"
        },
        {
          "output_type": "stream",
          "text": [
            "\u001b[32m[I 2021-07-15 11:58:28,620]\u001b[0m Trial 4 finished with value: 5.314486473798752 and parameters: {'lr': 0.00011918886498759475, 'steps': 791.5079918690407, 't_mult': 2, 'm_mult': 0.5783384050826161}. Best is trial 2 with value: 29.154678185780842.\u001b[0m\n"
          ],
          "name": "stderr"
        },
        {
          "output_type": "stream",
          "text": [
            "Epoch 1/5\n",
            "4/4 [==============================] - 5s 386ms/step - loss: 5.9107 - accuracy: 0.0182 - val_loss: 5.5459 - val_accuracy: 0.0000e+00\n",
            "Epoch 2/5\n",
            "4/4 [==============================] - 0s 125ms/step - loss: 5.8610 - accuracy: 0.0136 - val_loss: 5.3164 - val_accuracy: 0.0000e+00\n",
            "Epoch 3/5\n",
            "4/4 [==============================] - 0s 125ms/step - loss: 5.6611 - accuracy: 0.0250 - val_loss: 5.1716 - val_accuracy: 0.0000e+00\n",
            "Epoch 4/5\n",
            "4/4 [==============================] - 0s 124ms/step - loss: 5.5743 - accuracy: 0.0318 - val_loss: 5.0660 - val_accuracy: 0.0000e+00\n",
            "Epoch 5/5\n",
            "4/4 [==============================] - 0s 123ms/step - loss: 5.4256 - accuracy: 0.0341 - val_loss: 4.9792 - val_accuracy: 0.0000e+00\n",
            "Epoch 1/5\n",
            "4/4 [==============================] - 4s 370ms/step - loss: 5.8308 - accuracy: 0.0159 - val_loss: 5.1966 - val_accuracy: 0.0000e+00\n",
            "Epoch 2/5\n",
            "4/4 [==============================] - 0s 123ms/step - loss: 5.7974 - accuracy: 0.0023 - val_loss: 5.0057 - val_accuracy: 0.0204\n",
            "Epoch 3/5\n",
            "4/4 [==============================] - 0s 126ms/step - loss: 5.5198 - accuracy: 0.0295 - val_loss: 4.8833 - val_accuracy: 0.0204\n",
            "Epoch 4/5\n",
            "4/4 [==============================] - 0s 126ms/step - loss: 5.4896 - accuracy: 0.0205 - val_loss: 4.7913 - val_accuracy: 0.0204\n",
            "Epoch 5/5\n",
            "4/4 [==============================] - 0s 123ms/step - loss: 5.3497 - accuracy: 0.0159 - val_loss: 4.7137 - val_accuracy: 0.0204\n",
            "Epoch 1/5\n",
            "4/4 [==============================] - 4s 393ms/step - loss: 5.9724 - accuracy: 0.0045 - val_loss: 5.9414 - val_accuracy: 0.0000e+00\n",
            "Epoch 2/5\n",
            "4/4 [==============================] - 0s 125ms/step - loss: 5.7811 - accuracy: 0.0204 - val_loss: 5.7180 - val_accuracy: 0.0000e+00\n",
            "Epoch 3/5\n",
            "4/4 [==============================] - 0s 125ms/step - loss: 5.5605 - accuracy: 0.0091 - val_loss: 5.5649 - val_accuracy: 0.0000e+00\n",
            "Epoch 4/5\n",
            "4/4 [==============================] - 0s 125ms/step - loss: 5.4199 - accuracy: 0.0295 - val_loss: 5.4450 - val_accuracy: 0.0000e+00\n",
            "Epoch 5/5\n",
            "4/4 [==============================] - 0s 123ms/step - loss: 5.2889 - accuracy: 0.0272 - val_loss: 5.3473 - val_accuracy: 0.0000e+00\n"
          ],
          "name": "stdout"
        },
        {
          "output_type": "stream",
          "text": [
            "\u001b[32m[I 2021-07-15 11:58:52,357]\u001b[0m Trial 5 finished with value: 1.9069922467072804 and parameters: {'lr': 2.698466747756922e-05, 'steps': 308.0595721033852, 't_mult': 1, 'm_mult': 0.6102100159056789}. Best is trial 2 with value: 29.154678185780842.\u001b[0m\n"
          ],
          "name": "stderr"
        },
        {
          "output_type": "stream",
          "text": [
            "Epoch 1/5\n",
            "4/4 [==============================] - 4s 375ms/step - loss: 5.3491 - accuracy: 0.0250 - val_loss: 4.6101 - val_accuracy: 0.0612\n",
            "Epoch 2/5\n",
            "4/4 [==============================] - 0s 124ms/step - loss: 2.0624 - accuracy: 0.5318 - val_loss: 4.1986 - val_accuracy: 0.0816\n",
            "Epoch 3/5\n",
            "4/4 [==============================] - 0s 124ms/step - loss: 1.0123 - accuracy: 0.7750 - val_loss: 4.1894 - val_accuracy: 0.2041\n",
            "Epoch 4/5\n",
            "4/4 [==============================] - 1s 130ms/step - loss: 0.5632 - accuracy: 0.8909 - val_loss: 4.1040 - val_accuracy: 0.2245\n",
            "Epoch 5/5\n",
            "4/4 [==============================] - 0s 124ms/step - loss: 0.3405 - accuracy: 0.9614 - val_loss: 3.9616 - val_accuracy: 0.2653\n",
            "Epoch 1/5\n",
            "4/4 [==============================] - 4s 396ms/step - loss: 5.6058 - accuracy: 0.0250 - val_loss: 4.9648 - val_accuracy: 0.0000e+00\n",
            "Epoch 2/5\n",
            "4/4 [==============================] - 0s 126ms/step - loss: 2.1114 - accuracy: 0.5250 - val_loss: 4.2301 - val_accuracy: 0.0816\n",
            "Epoch 3/5\n",
            "4/4 [==============================] - 0s 125ms/step - loss: 1.0802 - accuracy: 0.7705 - val_loss: 3.9807 - val_accuracy: 0.1633\n",
            "Epoch 4/5\n",
            "4/4 [==============================] - 0s 125ms/step - loss: 0.6295 - accuracy: 0.8886 - val_loss: 3.7263 - val_accuracy: 0.2041\n",
            "Epoch 5/5\n",
            "4/4 [==============================] - 0s 123ms/step - loss: 0.4080 - accuracy: 0.9500 - val_loss: 3.5021 - val_accuracy: 0.2245\n",
            "Epoch 1/5\n",
            "4/4 [==============================] - 5s 556ms/step - loss: 5.5402 - accuracy: 0.0272 - val_loss: 4.5195 - val_accuracy: 0.0204\n",
            "Epoch 2/5\n",
            "4/4 [==============================] - 0s 125ms/step - loss: 2.0178 - accuracy: 0.5669 - val_loss: 3.9363 - val_accuracy: 0.1224\n",
            "Epoch 3/5\n",
            "4/4 [==============================] - 0s 126ms/step - loss: 0.9725 - accuracy: 0.8322 - val_loss: 3.9033 - val_accuracy: 0.2653\n",
            "Epoch 4/5\n",
            "4/4 [==============================] - 0s 127ms/step - loss: 0.5744 - accuracy: 0.9025 - val_loss: 3.8989 - val_accuracy: 0.2857\n",
            "Epoch 5/5\n",
            "4/4 [==============================] - 0s 123ms/step - loss: 0.3853 - accuracy: 0.9546 - val_loss: 3.8273 - val_accuracy: 0.2857\n"
          ],
          "name": "stdout"
        },
        {
          "output_type": "stream",
          "text": [
            "\u001b[32m[I 2021-07-15 11:59:16,194]\u001b[0m Trial 6 finished with value: 24.661536018053692 and parameters: {'lr': 0.001045118260114445, 'steps': 35.933862806507314, 't_mult': 1, 'm_mult': 0.29785485550882307}. Best is trial 2 with value: 29.154678185780842.\u001b[0m\n"
          ],
          "name": "stderr"
        },
        {
          "output_type": "stream",
          "text": [
            "Epoch 1/5\n",
            "4/4 [==============================] - 4s 382ms/step - loss: 4.9119 - accuracy: 0.1114 - val_loss: 7.2699 - val_accuracy: 0.1224\n",
            "Epoch 2/5\n",
            "4/4 [==============================] - 0s 126ms/step - loss: 1.0433 - accuracy: 0.7705 - val_loss: 10.6475 - val_accuracy: 0.1837\n",
            "Epoch 3/5\n",
            "4/4 [==============================] - 1s 128ms/step - loss: 0.4558 - accuracy: 0.8977 - val_loss: 13.6970 - val_accuracy: 0.1837\n",
            "Epoch 4/5\n",
            "4/4 [==============================] - 0s 125ms/step - loss: 0.2694 - accuracy: 0.9386 - val_loss: 14.0689 - val_accuracy: 0.1837\n",
            "Epoch 5/5\n",
            "4/4 [==============================] - 1s 128ms/step - loss: 0.2022 - accuracy: 0.9705 - val_loss: 12.8999 - val_accuracy: 0.2041\n",
            "Epoch 1/5\n",
            "4/4 [==============================] - 4s 385ms/step - loss: 5.1352 - accuracy: 0.0932 - val_loss: 9.2006 - val_accuracy: 0.1020\n",
            "Epoch 2/5\n",
            "4/4 [==============================] - 1s 130ms/step - loss: 1.1108 - accuracy: 0.7455 - val_loss: 14.0977 - val_accuracy: 0.0816\n",
            "Epoch 3/5\n",
            "4/4 [==============================] - 0s 125ms/step - loss: 0.4070 - accuracy: 0.9159 - val_loss: 13.6937 - val_accuracy: 0.1020\n",
            "Epoch 4/5\n",
            "4/4 [==============================] - 1s 127ms/step - loss: 0.2136 - accuracy: 0.9545 - val_loss: 13.2104 - val_accuracy: 0.1224\n",
            "Epoch 5/5\n",
            "4/4 [==============================] - 0s 121ms/step - loss: 0.1494 - accuracy: 0.9591 - val_loss: 12.8458 - val_accuracy: 0.1633\n",
            "Epoch 1/5\n",
            "4/4 [==============================] - 4s 392ms/step - loss: 5.0835 - accuracy: 0.0975 - val_loss: 8.0061 - val_accuracy: 0.1224\n",
            "Epoch 2/5\n",
            "4/4 [==============================] - 0s 125ms/step - loss: 1.0479 - accuracy: 0.7324 - val_loss: 12.6785 - val_accuracy: 0.1633\n",
            "Epoch 3/5\n",
            "4/4 [==============================] - 1s 127ms/step - loss: 0.5073 - accuracy: 0.8798 - val_loss: 17.4099 - val_accuracy: 0.1633\n",
            "Epoch 4/5\n",
            "4/4 [==============================] - 0s 125ms/step - loss: 0.2597 - accuracy: 0.9478 - val_loss: 18.6989 - val_accuracy: 0.1020\n",
            "Epoch 5/5\n",
            "4/4 [==============================] - 0s 124ms/step - loss: 0.1446 - accuracy: 0.9728 - val_loss: 16.2149 - val_accuracy: 0.1429\n"
          ],
          "name": "stdout"
        },
        {
          "output_type": "stream",
          "text": [
            "\u001b[32m[I 2021-07-15 11:59:41,303]\u001b[0m Trial 7 finished with value: 16.48544619480769 and parameters: {'lr': 0.0033388128594521943, 'steps': 107.0474875070362, 't_mult': 2, 'm_mult': 0.4995534082633387}. Best is trial 2 with value: 29.154678185780842.\u001b[0m\n"
          ],
          "name": "stderr"
        },
        {
          "output_type": "stream",
          "text": [
            "Epoch 1/5\n",
            "4/4 [==============================] - 4s 374ms/step - loss: 7.3283 - accuracy: 0.1091 - val_loss: 173.6286 - val_accuracy: 0.0408\n",
            "Epoch 2/5\n",
            "4/4 [==============================] - 0s 126ms/step - loss: 4.8729 - accuracy: 0.4523 - val_loss: 190.3792 - val_accuracy: 0.0204\n",
            "Epoch 3/5\n",
            "4/4 [==============================] - 0s 125ms/step - loss: 2.8029 - accuracy: 0.6386 - val_loss: 126.3677 - val_accuracy: 0.0204\n",
            "Epoch 4/5\n",
            "4/4 [==============================] - 0s 124ms/step - loss: 1.4799 - accuracy: 0.7432 - val_loss: 89.6716 - val_accuracy: 0.0816\n",
            "Epoch 5/5\n",
            "4/4 [==============================] - 0s 121ms/step - loss: 0.9299 - accuracy: 0.8250 - val_loss: 79.7139 - val_accuracy: 0.1020\n",
            "Epoch 1/5\n",
            "4/4 [==============================] - 4s 378ms/step - loss: 7.0297 - accuracy: 0.1068 - val_loss: 261.2362 - val_accuracy: 0.0204\n",
            "Epoch 2/5\n",
            "4/4 [==============================] - 0s 125ms/step - loss: 4.1886 - accuracy: 0.4636 - val_loss: 172.7925 - val_accuracy: 0.1020\n",
            "Epoch 3/5\n",
            "4/4 [==============================] - 0s 126ms/step - loss: 2.6078 - accuracy: 0.6045 - val_loss: 123.5675 - val_accuracy: 0.1429\n",
            "Epoch 4/5\n",
            "4/4 [==============================] - 0s 123ms/step - loss: 1.4632 - accuracy: 0.7432 - val_loss: 99.1016 - val_accuracy: 0.1020\n",
            "Epoch 5/5\n",
            "4/4 [==============================] - 0s 121ms/step - loss: 0.8862 - accuracy: 0.8227 - val_loss: 100.8657 - val_accuracy: 0.0408\n",
            "Epoch 1/5\n",
            "4/4 [==============================] - 5s 409ms/step - loss: 7.2609 - accuracy: 0.0726 - val_loss: 221.5276 - val_accuracy: 0.0204\n",
            "Epoch 2/5\n",
            "4/4 [==============================] - 0s 123ms/step - loss: 5.2948 - accuracy: 0.4558 - val_loss: 159.3801 - val_accuracy: 0.0816\n",
            "Epoch 3/5\n",
            "4/4 [==============================] - 0s 126ms/step - loss: 2.3308 - accuracy: 0.6372 - val_loss: 113.9409 - val_accuracy: 0.0408\n",
            "Epoch 4/5\n",
            "4/4 [==============================] - 0s 126ms/step - loss: 1.3172 - accuracy: 0.7710 - val_loss: 97.0199 - val_accuracy: 0.1020\n",
            "Epoch 5/5\n",
            "4/4 [==============================] - 0s 122ms/step - loss: 0.9509 - accuracy: 0.8095 - val_loss: 77.9111 - val_accuracy: 0.1224\n"
          ],
          "name": "stdout"
        },
        {
          "output_type": "stream",
          "text": [
            "\u001b[32m[I 2021-07-15 12:00:05,033]\u001b[0m Trial 8 finished with value: 7.223151375850041 and parameters: {'lr': 0.02245420686922083, 'steps': 458.0926951918712, 't_mult': 1, 'm_mult': 0.18256802772531477}. Best is trial 2 with value: 29.154678185780842.\u001b[0m\n"
          ],
          "name": "stderr"
        },
        {
          "output_type": "stream",
          "text": [
            "Epoch 1/5\n",
            "4/4 [==============================] - 4s 403ms/step - loss: 5.3983 - accuracy: 0.0386 - val_loss: 4.3773 - val_accuracy: 0.0816\n",
            "Epoch 2/5\n",
            "4/4 [==============================] - 0s 125ms/step - loss: 1.9600 - accuracy: 0.5409 - val_loss: 4.1826 - val_accuracy: 0.1633\n",
            "Epoch 3/5\n",
            "4/4 [==============================] - 0s 124ms/step - loss: 0.9258 - accuracy: 0.8227 - val_loss: 4.2333 - val_accuracy: 0.2245\n",
            "Epoch 4/5\n",
            "4/4 [==============================] - 0s 125ms/step - loss: 0.4850 - accuracy: 0.9114 - val_loss: 4.4359 - val_accuracy: 0.2449\n",
            "Epoch 5/5\n",
            "4/4 [==============================] - 0s 121ms/step - loss: 0.2721 - accuracy: 0.9568 - val_loss: 4.5397 - val_accuracy: 0.2653\n",
            "Epoch 1/5\n",
            "4/4 [==============================] - 4s 379ms/step - loss: 5.4062 - accuracy: 0.0273 - val_loss: 4.6914 - val_accuracy: 0.1224\n",
            "Epoch 2/5\n",
            "4/4 [==============================] - 0s 124ms/step - loss: 1.8759 - accuracy: 0.5977 - val_loss: 4.4623 - val_accuracy: 0.1429\n",
            "Epoch 3/5\n",
            "4/4 [==============================] - 0s 125ms/step - loss: 0.8504 - accuracy: 0.8409 - val_loss: 4.4454 - val_accuracy: 0.1429\n",
            "Epoch 4/5\n",
            "4/4 [==============================] - 1s 131ms/step - loss: 0.4410 - accuracy: 0.9295 - val_loss: 4.4766 - val_accuracy: 0.2245\n",
            "Epoch 5/5\n",
            "4/4 [==============================] - 0s 122ms/step - loss: 0.2315 - accuracy: 0.9727 - val_loss: 4.5532 - val_accuracy: 0.2653\n",
            "Epoch 1/5\n",
            "4/4 [==============================] - 4s 536ms/step - loss: 5.4914 - accuracy: 0.0431 - val_loss: 4.5956 - val_accuracy: 0.1224\n",
            "Epoch 2/5\n",
            "4/4 [==============================] - 0s 127ms/step - loss: 1.8816 - accuracy: 0.5805 - val_loss: 4.6108 - val_accuracy: 0.1633\n",
            "Epoch 3/5\n",
            "4/4 [==============================] - 0s 123ms/step - loss: 0.8884 - accuracy: 0.8209 - val_loss: 4.8886 - val_accuracy: 0.1633\n",
            "Epoch 4/5\n",
            "4/4 [==============================] - 0s 126ms/step - loss: 0.4466 - accuracy: 0.9252 - val_loss: 5.0989 - val_accuracy: 0.1837\n",
            "Epoch 5/5\n",
            "4/4 [==============================] - 0s 121ms/step - loss: 0.2408 - accuracy: 0.9637 - val_loss: 5.1283 - val_accuracy: 0.2245\n"
          ],
          "name": "stdout"
        },
        {
          "output_type": "stream",
          "text": [
            "\u001b[32m[I 2021-07-15 12:00:28,631]\u001b[0m Trial 9 finished with value: 26.69844975074132 and parameters: {'lr': 0.0011643584962530535, 'steps': 702.7411183451213, 't_mult': 2, 'm_mult': 0.8864516087708175}. Best is trial 2 with value: 29.154678185780842.\u001b[0m\n"
          ],
          "name": "stderr"
        },
        {
          "output_type": "stream",
          "text": [
            "Epoch 1/5\n",
            "5/5 [==============================] - 6s 492ms/step - loss: 6.0180 - accuracy: 0.0032 - sensitivity_at_specificity_2: 0.4013 - specificity_at_sensitivity_2: 0.0000e+00 - precision_2: 0.0000e+00 - auc_4: 0.4945 - auc_5: 0.0094 - val_loss: 5.7183 - val_accuracy: 0.0180 - val_sensitivity_at_specificity_2: 0.4144 - val_specificity_at_sensitivity_2: 0.0000e+00 - val_precision_2: 0.0000e+00 - val_auc_4: 0.4784 - val_auc_5: 0.0089\n",
            "Epoch 2/5\n",
            "5/5 [==============================] - 1s 157ms/step - loss: 5.9724 - accuracy: 0.0048 - sensitivity_at_specificity_2: 0.4109 - specificity_at_sensitivity_2: 0.0000e+00 - precision_2: 0.0270 - auc_4: 0.5026 - auc_5: 0.0100 - val_loss: 5.5137 - val_accuracy: 0.0180 - val_sensitivity_at_specificity_2: 0.4595 - val_specificity_at_sensitivity_2: 0.0000e+00 - val_precision_2: 0.0000e+00 - val_auc_4: 0.4814 - val_auc_5: 0.0090\n",
            "Epoch 3/5\n",
            "5/5 [==============================] - 1s 158ms/step - loss: 5.8248 - accuracy: 0.0144 - sensitivity_at_specificity_2: 0.4446 - specificity_at_sensitivity_2: 0.0000e+00 - precision_2: 0.0000e+00 - auc_4: 0.5200 - auc_5: 0.0106 - val_loss: 5.3758 - val_accuracy: 0.0180 - val_sensitivity_at_specificity_2: 0.2162 - val_specificity_at_sensitivity_2: 0.4976 - val_precision_2: 0.0000e+00 - val_auc_4: 0.5027 - val_auc_5: 0.0094\n",
            "Epoch 4/5\n",
            "5/5 [==============================] - 1s 156ms/step - loss: 5.6618 - accuracy: 0.0128 - sensitivity_at_specificity_2: 0.4831 - specificity_at_sensitivity_2: 0.0000e+00 - precision_2: 0.0000e+00 - auc_4: 0.5436 - auc_5: 0.0116 - val_loss: 5.2681 - val_accuracy: 0.0180 - val_sensitivity_at_specificity_2: 0.2342 - val_specificity_at_sensitivity_2: 0.4759 - val_precision_2: 0.0000e+00 - val_auc_4: 0.5129 - val_auc_5: 0.0097\n",
            "Epoch 5/5\n",
            "5/5 [==============================] - 1s 155ms/step - loss: 5.4633 - accuracy: 0.0193 - sensitivity_at_specificity_2: 0.5233 - specificity_at_sensitivity_2: 0.5993 - precision_2: 0.0256 - auc_4: 0.5705 - auc_5: 0.0131 - val_loss: 5.1781 - val_accuracy: 0.0180 - val_sensitivity_at_specificity_2: 0.2883 - val_specificity_at_sensitivity_2: 0.4588 - val_precision_2: 0.0000e+00 - val_auc_4: 0.5369 - val_auc_5: 0.0103\n",
            "3/3 [==============================] - 0s 34ms/step - loss: 5.3091 - accuracy: 0.0122 - sensitivity_at_specificity_2: 0.2927 - specificity_at_sensitivity_2: 0.4704 - precision_2: 0.0000e+00 - auc_4: 0.5042 - auc_5: 0.0098\n",
            "['loss', 'accuracy', 'sensitivity_at_specificity_2', 'specificity_at_sensitivity_2', 'precision_2', 'auc_4', 'auc_5']\n"
          ],
          "name": "stdout"
        },
        {
          "output_type": "stream",
          "text": [
            "\u001b[32m[I 2021-07-15 12:00:38,965]\u001b[0m A new study created in memory with name: no-name-e2bbcc0f-f60d-4b53-9b8d-9782bd8bb314\u001b[0m\n"
          ],
          "name": "stderr"
        },
        {
          "output_type": "stream",
          "text": [
            "Epoch 1/5\n",
            "4/4 [==============================] - 5s 387ms/step - loss: 6.0015 - accuracy: 0.0114 - val_loss: 5.9068 - val_accuracy: 0.0000e+00\n",
            "Epoch 2/5\n",
            "4/4 [==============================] - 0s 125ms/step - loss: 5.5840 - accuracy: 0.0182 - val_loss: 5.6319 - val_accuracy: 0.0000e+00\n",
            "Epoch 3/5\n",
            "4/4 [==============================] - 0s 126ms/step - loss: 5.3791 - accuracy: 0.0341 - val_loss: 5.4528 - val_accuracy: 0.0000e+00\n",
            "Epoch 4/5\n",
            "4/4 [==============================] - 0s 126ms/step - loss: 5.2794 - accuracy: 0.0273 - val_loss: 5.3201 - val_accuracy: 0.0000e+00\n",
            "Epoch 5/5\n",
            "4/4 [==============================] - 0s 121ms/step - loss: 5.0812 - accuracy: 0.0318 - val_loss: 5.2166 - val_accuracy: 0.0000e+00\n",
            "Epoch 1/5\n",
            "4/4 [==============================] - 4s 371ms/step - loss: 6.0437 - accuracy: 0.0091 - val_loss: 5.8251 - val_accuracy: 0.0204\n",
            "Epoch 2/5\n",
            "4/4 [==============================] - 0s 124ms/step - loss: 5.7665 - accuracy: 0.0045 - val_loss: 5.5997 - val_accuracy: 0.0204\n",
            "Epoch 3/5\n",
            "4/4 [==============================] - 0s 126ms/step - loss: 5.5421 - accuracy: 0.0159 - val_loss: 5.4470 - val_accuracy: 0.0204\n",
            "Epoch 4/5\n",
            "4/4 [==============================] - 0s 124ms/step - loss: 5.4532 - accuracy: 0.0273 - val_loss: 5.3327 - val_accuracy: 0.0204\n",
            "Epoch 5/5\n",
            "4/4 [==============================] - 0s 121ms/step - loss: 5.1800 - accuracy: 0.0273 - val_loss: 5.2394 - val_accuracy: 0.0204\n",
            "Epoch 1/5\n",
            "4/4 [==============================] - 4s 380ms/step - loss: 5.9401 - accuracy: 0.0249 - val_loss: 5.6155 - val_accuracy: 0.0000e+00\n",
            "Epoch 2/5\n",
            "4/4 [==============================] - 0s 124ms/step - loss: 5.7199 - accuracy: 0.0091 - val_loss: 5.4180 - val_accuracy: 0.0000e+00\n",
            "Epoch 3/5\n",
            "4/4 [==============================] - 0s 121ms/step - loss: 5.5976 - accuracy: 0.0272 - val_loss: 5.2863 - val_accuracy: 0.0204\n",
            "Epoch 4/5\n",
            "4/4 [==============================] - 0s 124ms/step - loss: 5.3255 - accuracy: 0.0227 - val_loss: 5.1890 - val_accuracy: 0.0204\n",
            "Epoch 5/5\n",
            "4/4 [==============================] - 1s 126ms/step - loss: 5.2653 - accuracy: 0.0272 - val_loss: 5.1119 - val_accuracy: 0.0204\n"
          ],
          "name": "stdout"
        },
        {
          "output_type": "stream",
          "text": [
            "\u001b[32m[I 2021-07-15 12:01:02,578]\u001b[0m Trial 0 finished with value: 1.3605441898107529 and parameters: {'lr': 3.6268415460190826e-05, 'steps': 68.77674101228953, 't_mult': 1, 'm_mult': 0.9766489261898117}. Best is trial 0 with value: 1.3605441898107529.\u001b[0m\n"
          ],
          "name": "stderr"
        },
        {
          "output_type": "stream",
          "text": [
            "Epoch 1/5\n",
            "4/4 [==============================] - 4s 379ms/step - loss: 5.5147 - accuracy: 0.0341 - val_loss: 4.7800 - val_accuracy: 0.0204\n",
            "Epoch 2/5\n",
            "4/4 [==============================] - 0s 124ms/step - loss: 2.8063 - accuracy: 0.3705 - val_loss: 4.2607 - val_accuracy: 0.0408\n",
            "Epoch 3/5\n",
            "4/4 [==============================] - 0s 124ms/step - loss: 1.5667 - accuracy: 0.6705 - val_loss: 4.0121 - val_accuracy: 0.0612\n",
            "Epoch 4/5\n",
            "4/4 [==============================] - 0s 126ms/step - loss: 1.0250 - accuracy: 0.8114 - val_loss: 3.9049 - val_accuracy: 0.1020\n",
            "Epoch 5/5\n",
            "4/4 [==============================] - 0s 121ms/step - loss: 0.5983 - accuracy: 0.9114 - val_loss: 3.8053 - val_accuracy: 0.1020\n",
            "Epoch 1/5\n",
            "4/4 [==============================] - 4s 382ms/step - loss: 5.6692 - accuracy: 0.0182 - val_loss: 4.6529 - val_accuracy: 0.0408\n",
            "Epoch 2/5\n",
            "4/4 [==============================] - 0s 125ms/step - loss: 3.0398 - accuracy: 0.3364 - val_loss: 4.0738 - val_accuracy: 0.0816\n",
            "Epoch 3/5\n",
            "4/4 [==============================] - 0s 124ms/step - loss: 1.6889 - accuracy: 0.6432 - val_loss: 3.8175 - val_accuracy: 0.1633\n",
            "Epoch 4/5\n",
            "4/4 [==============================] - 1s 130ms/step - loss: 0.9826 - accuracy: 0.8273 - val_loss: 3.6826 - val_accuracy: 0.1837\n",
            "Epoch 5/5\n",
            "4/4 [==============================] - 0s 121ms/step - loss: 0.6205 - accuracy: 0.9136 - val_loss: 3.5900 - val_accuracy: 0.2245\n",
            "Epoch 1/5\n",
            "4/4 [==============================] - 4s 538ms/step - loss: 5.7888 - accuracy: 0.0068 - val_loss: 4.8693 - val_accuracy: 0.0408\n",
            "Epoch 2/5\n",
            "4/4 [==============================] - 0s 125ms/step - loss: 3.0732 - accuracy: 0.2834 - val_loss: 4.1119 - val_accuracy: 0.1633\n",
            "Epoch 3/5\n",
            "4/4 [==============================] - 1s 129ms/step - loss: 1.6260 - accuracy: 0.6327 - val_loss: 3.8423 - val_accuracy: 0.1837\n",
            "Epoch 4/5\n",
            "4/4 [==============================] - 0s 126ms/step - loss: 1.0131 - accuracy: 0.8141 - val_loss: 3.7393 - val_accuracy: 0.2245\n",
            "Epoch 5/5\n",
            "4/4 [==============================] - 0s 126ms/step - loss: 0.6056 - accuracy: 0.9070 - val_loss: 3.6251 - val_accuracy: 0.2449\n"
          ],
          "name": "stdout"
        },
        {
          "output_type": "stream",
          "text": [
            "\u001b[32m[I 2021-07-15 12:01:26,331]\u001b[0m Trial 1 finished with value: 25.886584321657818 and parameters: {'lr': 0.0006232662141779238, 'steps': 598.2712006443068, 't_mult': 2, 'm_mult': 0.6256214399923016}. Best is trial 1 with value: 25.886584321657818.\u001b[0m\n"
          ],
          "name": "stderr"
        },
        {
          "output_type": "stream",
          "text": [
            "Epoch 1/5\n",
            "4/4 [==============================] - 4s 386ms/step - loss: 12.3869 - accuracy: 0.0750 - val_loss: 782.1510 - val_accuracy: 0.0204\n",
            "Epoch 2/5\n",
            "4/4 [==============================] - 0s 124ms/step - loss: 11.5340 - accuracy: 0.4159 - val_loss: 428.4635 - val_accuracy: 0.0612\n",
            "Epoch 3/5\n",
            "4/4 [==============================] - 0s 125ms/step - loss: 6.7666 - accuracy: 0.5682 - val_loss: 281.2309 - val_accuracy: 0.0612\n",
            "Epoch 4/5\n",
            "4/4 [==============================] - 0s 124ms/step - loss: 3.4710 - accuracy: 0.7136 - val_loss: 208.4852 - val_accuracy: 0.0408\n",
            "Epoch 5/5\n",
            "4/4 [==============================] - 1s 128ms/step - loss: 3.0637 - accuracy: 0.7045 - val_loss: 171.5946 - val_accuracy: 0.0408\n",
            "Epoch 1/5\n",
            "4/4 [==============================] - 4s 378ms/step - loss: 13.5427 - accuracy: 0.0545 - val_loss: 579.8320 - val_accuracy: 0.0000e+00\n",
            "Epoch 2/5\n",
            "4/4 [==============================] - 0s 124ms/step - loss: 11.1644 - accuracy: 0.3750 - val_loss: 448.8533 - val_accuracy: 0.0408\n",
            "Epoch 3/5\n",
            "4/4 [==============================] - 0s 123ms/step - loss: 6.2140 - accuracy: 0.5409 - val_loss: 262.5783 - val_accuracy: 0.0816\n",
            "Epoch 4/5\n",
            "4/4 [==============================] - 0s 125ms/step - loss: 3.2020 - accuracy: 0.6773 - val_loss: 186.1536 - val_accuracy: 0.0612\n",
            "Epoch 5/5\n",
            "4/4 [==============================] - 0s 122ms/step - loss: 2.4581 - accuracy: 0.7364 - val_loss: 157.8022 - val_accuracy: 0.0612\n",
            "Epoch 1/5\n",
            "4/4 [==============================] - 4s 381ms/step - loss: 12.3750 - accuracy: 0.0680 - val_loss: 543.9034 - val_accuracy: 0.0612\n",
            "Epoch 2/5\n",
            "4/4 [==============================] - 0s 125ms/step - loss: 11.9566 - accuracy: 0.3878 - val_loss: 414.3017 - val_accuracy: 0.0408\n",
            "Epoch 3/5\n",
            "4/4 [==============================] - 0s 124ms/step - loss: 5.6433 - accuracy: 0.5918 - val_loss: 284.0541 - val_accuracy: 0.0408\n",
            "Epoch 4/5\n",
            "4/4 [==============================] - 0s 124ms/step - loss: 3.6851 - accuracy: 0.6689 - val_loss: 187.9514 - val_accuracy: 0.0612\n",
            "Epoch 5/5\n",
            "4/4 [==============================] - 0s 122ms/step - loss: 2.5188 - accuracy: 0.7800 - val_loss: 178.1480 - val_accuracy: 0.0816\n"
          ],
          "name": "stdout"
        },
        {
          "output_type": "stream",
          "text": [
            "\u001b[32m[I 2021-07-15 12:01:49,634]\u001b[0m Trial 2 finished with value: 8.854131897290548 and parameters: {'lr': 0.05251263829135753, 'steps': 539.5595519743391, 't_mult': 2, 'm_mult': 0.5792236148154903}. Best is trial 1 with value: 25.886584321657818.\u001b[0m\n"
          ],
          "name": "stderr"
        },
        {
          "output_type": "stream",
          "text": [
            "Epoch 1/5\n",
            "4/4 [==============================] - 5s 408ms/step - loss: 7.6074 - accuracy: 0.0932 - val_loss: 269.8281 - val_accuracy: 0.0000e+00\n",
            "Epoch 2/5\n",
            "4/4 [==============================] - 0s 124ms/step - loss: 4.1120 - accuracy: 0.5023 - val_loss: 270.0352 - val_accuracy: 0.0204\n",
            "Epoch 3/5\n",
            "4/4 [==============================] - 0s 124ms/step - loss: 2.5554 - accuracy: 0.6091 - val_loss: 178.9407 - val_accuracy: 0.0204\n",
            "Epoch 4/5\n",
            "4/4 [==============================] - 0s 122ms/step - loss: 1.5708 - accuracy: 0.7341 - val_loss: 114.4371 - val_accuracy: 0.0816\n",
            "Epoch 5/5\n",
            "4/4 [==============================] - 0s 120ms/step - loss: 0.8976 - accuracy: 0.8227 - val_loss: 84.4959 - val_accuracy: 0.0612\n",
            "Epoch 1/5\n",
            "4/4 [==============================] - 4s 374ms/step - loss: 7.2512 - accuracy: 0.1205 - val_loss: 280.2367 - val_accuracy: 0.0204\n",
            "Epoch 2/5\n",
            "4/4 [==============================] - 0s 125ms/step - loss: 5.4433 - accuracy: 0.4614 - val_loss: 172.0272 - val_accuracy: 0.0000e+00\n",
            "Epoch 3/5\n",
            "4/4 [==============================] - 0s 124ms/step - loss: 2.6746 - accuracy: 0.6386 - val_loss: 119.3322 - val_accuracy: 0.0408\n",
            "Epoch 4/5\n",
            "4/4 [==============================] - 0s 125ms/step - loss: 1.4972 - accuracy: 0.7409 - val_loss: 94.3387 - val_accuracy: 0.0204\n",
            "Epoch 5/5\n",
            "4/4 [==============================] - 0s 122ms/step - loss: 1.2381 - accuracy: 0.7818 - val_loss: 87.1575 - val_accuracy: 0.0816\n",
            "Epoch 1/5\n",
            "4/4 [==============================] - 4s 388ms/step - loss: 7.3405 - accuracy: 0.1043 - val_loss: 213.2048 - val_accuracy: 0.0612\n",
            "Epoch 2/5\n",
            "4/4 [==============================] - 0s 127ms/step - loss: 4.7658 - accuracy: 0.4830 - val_loss: 289.9176 - val_accuracy: 0.0204\n",
            "Epoch 3/5\n",
            "4/4 [==============================] - 0s 126ms/step - loss: 2.4928 - accuracy: 0.6576 - val_loss: 154.9419 - val_accuracy: 0.0204\n",
            "Epoch 4/5\n",
            "4/4 [==============================] - 1s 129ms/step - loss: 1.7260 - accuracy: 0.7075 - val_loss: 117.6126 - val_accuracy: 0.0204\n",
            "Epoch 5/5\n",
            "4/4 [==============================] - 0s 122ms/step - loss: 1.1757 - accuracy: 0.8322 - val_loss: 110.8030 - val_accuracy: 0.0204\n"
          ],
          "name": "stdout"
        },
        {
          "output_type": "stream",
          "text": [
            "\u001b[32m[I 2021-07-15 12:02:13,511]\u001b[0m Trial 3 finished with value: 8.580907682577768 and parameters: {'lr': 0.024385008097220294, 'steps': 531.811204026977, 't_mult': 2, 'm_mult': 0.8189840851351091}. Best is trial 1 with value: 25.886584321657818.\u001b[0m\n"
          ],
          "name": "stderr"
        },
        {
          "output_type": "stream",
          "text": [
            "Epoch 1/5\n",
            "4/4 [==============================] - 4s 362ms/step - loss: 4.9896 - accuracy: 0.1159 - val_loss: 18.3170 - val_accuracy: 0.1429\n",
            "Epoch 2/5\n",
            "4/4 [==============================] - 0s 124ms/step - loss: 1.0310 - accuracy: 0.7091 - val_loss: 28.0269 - val_accuracy: 0.0816\n",
            "Epoch 3/5\n",
            "4/4 [==============================] - 0s 125ms/step - loss: 0.4887 - accuracy: 0.8750 - val_loss: 26.8544 - val_accuracy: 0.1224\n",
            "Epoch 4/5\n",
            "4/4 [==============================] - 0s 125ms/step - loss: 0.3124 - accuracy: 0.9114 - val_loss: 25.6788 - val_accuracy: 0.1224\n",
            "Epoch 5/5\n",
            "4/4 [==============================] - 0s 122ms/step - loss: 0.1996 - accuracy: 0.9545 - val_loss: 23.7630 - val_accuracy: 0.1633\n",
            "Epoch 1/5\n",
            "4/4 [==============================] - 4s 381ms/step - loss: 4.9649 - accuracy: 0.1091 - val_loss: 25.5676 - val_accuracy: 0.1429\n",
            "Epoch 2/5\n",
            "4/4 [==============================] - 1s 128ms/step - loss: 1.3411 - accuracy: 0.6864 - val_loss: 34.2919 - val_accuracy: 0.0612\n",
            "Epoch 3/5\n",
            "4/4 [==============================] - 0s 124ms/step - loss: 0.6407 - accuracy: 0.8523 - val_loss: 30.8130 - val_accuracy: 0.0612\n",
            "Epoch 4/5\n",
            "4/4 [==============================] - 0s 124ms/step - loss: 0.4084 - accuracy: 0.8909 - val_loss: 27.0633 - val_accuracy: 0.0816\n",
            "Epoch 5/5\n",
            "4/4 [==============================] - 0s 122ms/step - loss: 0.1746 - accuracy: 0.9500 - val_loss: 25.6856 - val_accuracy: 0.0408\n",
            "Epoch 1/5\n",
            "4/4 [==============================] - 4s 383ms/step - loss: 4.8097 - accuracy: 0.1338 - val_loss: 34.8346 - val_accuracy: 0.0204\n",
            "Epoch 2/5\n",
            "4/4 [==============================] - 0s 125ms/step - loss: 1.2196 - accuracy: 0.7188 - val_loss: 36.1487 - val_accuracy: 0.0000e+00\n",
            "Epoch 3/5\n",
            "4/4 [==============================] - 0s 125ms/step - loss: 0.5576 - accuracy: 0.8503 - val_loss: 33.2235 - val_accuracy: 0.0816\n",
            "Epoch 4/5\n",
            "4/4 [==============================] - 0s 122ms/step - loss: 0.3903 - accuracy: 0.9048 - val_loss: 28.0670 - val_accuracy: 0.1020\n",
            "Epoch 5/5\n",
            "4/4 [==============================] - 0s 122ms/step - loss: 0.2090 - accuracy: 0.9456 - val_loss: 26.3302 - val_accuracy: 0.0816\n"
          ],
          "name": "stdout"
        },
        {
          "output_type": "stream",
          "text": [
            "\u001b[32m[I 2021-07-15 12:02:37,159]\u001b[0m Trial 4 finished with value: 13.07850976785024 and parameters: {'lr': 0.006256165031117575, 'steps': 415.1508359613238, 't_mult': 2, 'm_mult': 0.9382331698520535}. Best is trial 1 with value: 25.886584321657818.\u001b[0m\n"
          ],
          "name": "stderr"
        },
        {
          "output_type": "stream",
          "text": [
            "Epoch 1/5\n",
            "4/4 [==============================] - 4s 380ms/step - loss: 5.3785 - accuracy: 0.0318 - val_loss: 4.5846 - val_accuracy: 0.1020\n",
            "Epoch 2/5\n",
            "4/4 [==============================] - 0s 125ms/step - loss: 2.0072 - accuracy: 0.5250 - val_loss: 4.0380 - val_accuracy: 0.2653\n",
            "Epoch 3/5\n",
            "4/4 [==============================] - 0s 125ms/step - loss: 0.9460 - accuracy: 0.8386 - val_loss: 3.9073 - val_accuracy: 0.2449\n",
            "Epoch 4/5\n",
            "4/4 [==============================] - 0s 124ms/step - loss: 0.5074 - accuracy: 0.9250 - val_loss: 4.0267 - val_accuracy: 0.2245\n",
            "Epoch 5/5\n",
            "4/4 [==============================] - 0s 122ms/step - loss: 0.3096 - accuracy: 0.9432 - val_loss: 4.1803 - val_accuracy: 0.2245\n",
            "Epoch 1/5\n",
            "4/4 [==============================] - 5s 390ms/step - loss: 5.4196 - accuracy: 0.0295 - val_loss: 4.6555 - val_accuracy: 0.0204\n",
            "Epoch 2/5\n",
            "4/4 [==============================] - 1s 127ms/step - loss: 1.9011 - accuracy: 0.5591 - val_loss: 4.2738 - val_accuracy: 0.0816\n",
            "Epoch 3/5\n",
            "4/4 [==============================] - 0s 125ms/step - loss: 0.9783 - accuracy: 0.8182 - val_loss: 4.3055 - val_accuracy: 0.1837\n",
            "Epoch 4/5\n",
            "4/4 [==============================] - 0s 127ms/step - loss: 0.5493 - accuracy: 0.8864 - val_loss: 4.3319 - val_accuracy: 0.2653\n",
            "Epoch 5/5\n",
            "4/4 [==============================] - 0s 126ms/step - loss: 0.2814 - accuracy: 0.9591 - val_loss: 4.2789 - val_accuracy: 0.2449\n",
            "Epoch 1/5\n",
            "4/4 [==============================] - 4s 388ms/step - loss: 5.3918 - accuracy: 0.0317 - val_loss: 4.5472 - val_accuracy: 0.0408\n",
            "Epoch 2/5\n",
            "4/4 [==============================] - 0s 125ms/step - loss: 2.1041 - accuracy: 0.5102 - val_loss: 3.7735 - val_accuracy: 0.2041\n",
            "Epoch 3/5\n",
            "4/4 [==============================] - 0s 125ms/step - loss: 0.9707 - accuracy: 0.8050 - val_loss: 3.5071 - val_accuracy: 0.2449\n",
            "Epoch 4/5\n",
            "4/4 [==============================] - 1s 127ms/step - loss: 0.5310 - accuracy: 0.9138 - val_loss: 3.3645 - val_accuracy: 0.2653\n",
            "Epoch 5/5\n",
            "4/4 [==============================] - 0s 122ms/step - loss: 0.2877 - accuracy: 0.9705 - val_loss: 3.2914 - val_accuracy: 0.3061\n"
          ],
          "name": "stdout"
        },
        {
          "output_type": "stream",
          "text": [
            "\u001b[32m[I 2021-07-15 12:03:02,365]\u001b[0m Trial 5 finished with value: 30.111520489056904 and parameters: {'lr': 0.0010106843690651588, 'steps': 816.6289046737338, 't_mult': 2, 'm_mult': 0.2583878766931539}. Best is trial 5 with value: 30.111520489056904.\u001b[0m\n"
          ],
          "name": "stderr"
        },
        {
          "output_type": "stream",
          "text": [
            "Epoch 1/5\n",
            "4/4 [==============================] - 4s 380ms/step - loss: 6.0235 - accuracy: 0.0023 - val_loss: 5.7347 - val_accuracy: 0.0000e+00\n",
            "Epoch 2/5\n",
            "4/4 [==============================] - 0s 126ms/step - loss: 5.2160 - accuracy: 0.0273 - val_loss: 5.3845 - val_accuracy: 0.0000e+00\n",
            "Epoch 3/5\n",
            "4/4 [==============================] - 0s 122ms/step - loss: 4.6981 - accuracy: 0.0545 - val_loss: 5.1300 - val_accuracy: 0.0000e+00\n",
            "Epoch 4/5\n",
            "4/4 [==============================] - 0s 125ms/step - loss: 4.2374 - accuracy: 0.1068 - val_loss: 4.9217 - val_accuracy: 0.0000e+00\n",
            "Epoch 5/5\n",
            "4/4 [==============================] - 0s 120ms/step - loss: 3.8010 - accuracy: 0.1773 - val_loss: 4.7416 - val_accuracy: 0.0204\n",
            "Epoch 1/5\n",
            "4/4 [==============================] - 4s 371ms/step - loss: 5.8444 - accuracy: 0.0159 - val_loss: 5.6068 - val_accuracy: 0.0000e+00\n",
            "Epoch 2/5\n",
            "4/4 [==============================] - 0s 124ms/step - loss: 5.1851 - accuracy: 0.0318 - val_loss: 5.1902 - val_accuracy: 0.0000e+00\n",
            "Epoch 3/5\n",
            "4/4 [==============================] - 0s 125ms/step - loss: 4.7045 - accuracy: 0.0682 - val_loss: 4.8857 - val_accuracy: 0.0000e+00\n",
            "Epoch 4/5\n",
            "4/4 [==============================] - 1s 131ms/step - loss: 4.0321 - accuracy: 0.1227 - val_loss: 4.6372 - val_accuracy: 0.0000e+00\n",
            "Epoch 5/5\n",
            "4/4 [==============================] - 0s 125ms/step - loss: 3.6003 - accuracy: 0.1864 - val_loss: 4.4258 - val_accuracy: 0.0408\n",
            "Epoch 1/5\n",
            "4/4 [==============================] - 4s 378ms/step - loss: 5.9551 - accuracy: 0.0023 - val_loss: 5.7110 - val_accuracy: 0.0000e+00\n",
            "Epoch 2/5\n",
            "4/4 [==============================] - 0s 122ms/step - loss: 5.3311 - accuracy: 0.0476 - val_loss: 5.4054 - val_accuracy: 0.0000e+00\n",
            "Epoch 3/5\n",
            "4/4 [==============================] - 0s 125ms/step - loss: 4.8003 - accuracy: 0.0408 - val_loss: 5.1828 - val_accuracy: 0.0204\n",
            "Epoch 4/5\n",
            "4/4 [==============================] - 0s 122ms/step - loss: 4.2306 - accuracy: 0.1134 - val_loss: 4.9974 - val_accuracy: 0.0204\n",
            "Epoch 5/5\n",
            "4/4 [==============================] - 1s 129ms/step - loss: 3.8077 - accuracy: 0.1701 - val_loss: 4.8392 - val_accuracy: 0.0408\n"
          ],
          "name": "stdout"
        },
        {
          "output_type": "stream",
          "text": [
            "\u001b[32m[I 2021-07-15 12:03:27,743]\u001b[0m Trial 6 finished with value: 6.131928165753682 and parameters: {'lr': 0.00011441359459747032, 'steps': 149.3044011465035, 't_mult': 1, 'm_mult': 0.2511825844670924}. Best is trial 5 with value: 30.111520489056904.\u001b[0m\n"
          ],
          "name": "stderr"
        },
        {
          "output_type": "stream",
          "text": [
            "Epoch 1/5\n",
            "4/4 [==============================] - 4s 364ms/step - loss: 4.8600 - accuracy: 0.1250 - val_loss: 22.1874 - val_accuracy: 0.0612\n",
            "Epoch 2/5\n",
            "4/4 [==============================] - 0s 124ms/step - loss: 1.1506 - accuracy: 0.7227 - val_loss: 23.6957 - val_accuracy: 0.1224\n",
            "Epoch 3/5\n",
            "4/4 [==============================] - 1s 131ms/step - loss: 0.5104 - accuracy: 0.8773 - val_loss: 27.0841 - val_accuracy: 0.1224\n",
            "Epoch 4/5\n",
            "4/4 [==============================] - 0s 124ms/step - loss: 0.4502 - accuracy: 0.9114 - val_loss: 30.9694 - val_accuracy: 0.0816\n",
            "Epoch 5/5\n",
            "4/4 [==============================] - 0s 123ms/step - loss: 0.2380 - accuracy: 0.9318 - val_loss: 29.4060 - val_accuracy: 0.0612\n",
            "Epoch 1/5\n",
            "4/4 [==============================] - 4s 369ms/step - loss: 5.0015 - accuracy: 0.1091 - val_loss: 25.3095 - val_accuracy: 0.1224\n",
            "Epoch 2/5\n",
            "4/4 [==============================] - 1s 129ms/step - loss: 1.2324 - accuracy: 0.7023 - val_loss: 26.1929 - val_accuracy: 0.1429\n",
            "Epoch 3/5\n",
            "4/4 [==============================] - 0s 125ms/step - loss: 0.5513 - accuracy: 0.8818 - val_loss: 26.9928 - val_accuracy: 0.0816\n",
            "Epoch 4/5\n",
            "4/4 [==============================] - 0s 125ms/step - loss: 0.3314 - accuracy: 0.9182 - val_loss: 28.8664 - val_accuracy: 0.0816\n",
            "Epoch 5/5\n",
            "4/4 [==============================] - 0s 122ms/step - loss: 0.1794 - accuracy: 0.9591 - val_loss: 26.2837 - val_accuracy: 0.1020\n",
            "Epoch 1/5\n",
            "4/4 [==============================] - 4s 543ms/step - loss: 4.9515 - accuracy: 0.0907 - val_loss: 24.7281 - val_accuracy: 0.1020\n",
            "Epoch 2/5\n",
            "4/4 [==============================] - 0s 123ms/step - loss: 1.1866 - accuracy: 0.7098 - val_loss: 34.5115 - val_accuracy: 0.0408\n",
            "Epoch 3/5\n",
            "4/4 [==============================] - 0s 126ms/step - loss: 0.4751 - accuracy: 0.8730 - val_loss: 26.8882 - val_accuracy: 0.0816\n",
            "Epoch 4/5\n",
            "4/4 [==============================] - 0s 126ms/step - loss: 0.3156 - accuracy: 0.9274 - val_loss: 29.2968 - val_accuracy: 0.0816\n",
            "Epoch 5/5\n",
            "4/4 [==============================] - 0s 121ms/step - loss: 0.1606 - accuracy: 0.9683 - val_loss: 31.6086 - val_accuracy: 0.0408\n"
          ],
          "name": "stdout"
        },
        {
          "output_type": "stream",
          "text": [
            "\u001b[32m[I 2021-07-15 12:03:51,384]\u001b[0m Trial 7 finished with value: 9.534403681755066 and parameters: {'lr': 0.006133246565309325, 'steps': 203.9384566476575, 't_mult': 1, 'm_mult': 0.3470660323943412}. Best is trial 5 with value: 30.111520489056904.\u001b[0m\n"
          ],
          "name": "stderr"
        },
        {
          "output_type": "stream",
          "text": [
            "Epoch 1/5\n",
            "4/4 [==============================] - 4s 380ms/step - loss: 5.7663 - accuracy: 0.0114 - val_loss: 5.3581 - val_accuracy: 0.0000e+00\n",
            "Epoch 2/5\n",
            "4/4 [==============================] - 0s 124ms/step - loss: 5.2680 - accuracy: 0.0318 - val_loss: 5.1395 - val_accuracy: 0.0000e+00\n",
            "Epoch 3/5\n",
            "4/4 [==============================] - 0s 124ms/step - loss: 5.1739 - accuracy: 0.0295 - val_loss: 4.9768 - val_accuracy: 0.0000e+00\n",
            "Epoch 4/5\n",
            "4/4 [==============================] - 0s 124ms/step - loss: 4.8026 - accuracy: 0.0545 - val_loss: 4.8958 - val_accuracy: 0.0000e+00\n",
            "Epoch 5/5\n",
            "4/4 [==============================] - 0s 122ms/step - loss: 4.5874 - accuracy: 0.0705 - val_loss: 4.8342 - val_accuracy: 0.0204\n",
            "Epoch 1/5\n",
            "4/4 [==============================] - 4s 389ms/step - loss: 5.8365 - accuracy: 0.0182 - val_loss: 5.3470 - val_accuracy: 0.0000e+00\n",
            "Epoch 2/5\n",
            "4/4 [==============================] - 1s 127ms/step - loss: 5.2959 - accuracy: 0.0205 - val_loss: 5.1303 - val_accuracy: 0.0000e+00\n",
            "Epoch 3/5\n",
            "4/4 [==============================] - 1s 126ms/step - loss: 5.2384 - accuracy: 0.0295 - val_loss: 4.9688 - val_accuracy: 0.0000e+00\n",
            "Epoch 4/5\n",
            "4/4 [==============================] - 0s 125ms/step - loss: 4.8956 - accuracy: 0.0455 - val_loss: 4.8862 - val_accuracy: 0.0204\n",
            "Epoch 5/5\n",
            "4/4 [==============================] - 0s 123ms/step - loss: 4.8554 - accuracy: 0.0409 - val_loss: 4.8240 - val_accuracy: 0.0204\n",
            "Epoch 1/5\n",
            "4/4 [==============================] - 4s 413ms/step - loss: 5.7890 - accuracy: 0.0091 - val_loss: 5.6960 - val_accuracy: 0.0204\n",
            "Epoch 2/5\n",
            "4/4 [==============================] - 1s 132ms/step - loss: 5.3646 - accuracy: 0.0295 - val_loss: 5.4607 - val_accuracy: 0.0204\n",
            "Epoch 3/5\n",
            "4/4 [==============================] - 1s 127ms/step - loss: 5.0915 - accuracy: 0.0476 - val_loss: 5.2787 - val_accuracy: 0.0204\n",
            "Epoch 4/5\n",
            "4/4 [==============================] - 1s 127ms/step - loss: 4.8762 - accuracy: 0.0476 - val_loss: 5.1805 - val_accuracy: 0.0204\n",
            "Epoch 5/5\n",
            "4/4 [==============================] - 1s 130ms/step - loss: 4.7825 - accuracy: 0.0522 - val_loss: 5.1044 - val_accuracy: 0.0204\n"
          ],
          "name": "stdout"
        },
        {
          "output_type": "stream",
          "text": [
            "\u001b[32m[I 2021-07-15 12:04:16,645]\u001b[0m Trial 8 finished with value: 3.6801605795820556 and parameters: {'lr': 0.0001804336274421916, 'steps': 2.508393185746971, 't_mult': 2, 'm_mult': 0.5986278789629906}. Best is trial 5 with value: 30.111520489056904.\u001b[0m\n"
          ],
          "name": "stderr"
        },
        {
          "output_type": "stream",
          "text": [
            "Epoch 1/5\n",
            "4/4 [==============================] - 5s 389ms/step - loss: 5.1852 - accuracy: 0.1545 - val_loss: 69.0288 - val_accuracy: 0.0612\n",
            "Epoch 2/5\n",
            "4/4 [==============================] - 0s 127ms/step - loss: 2.3893 - accuracy: 0.6114 - val_loss: 62.8952 - val_accuracy: 0.0612\n",
            "Epoch 3/5\n",
            "4/4 [==============================] - 1s 128ms/step - loss: 0.9512 - accuracy: 0.7682 - val_loss: 68.6860 - val_accuracy: 0.0204\n",
            "Epoch 4/5\n",
            "4/4 [==============================] - 0s 124ms/step - loss: 0.6632 - accuracy: 0.8295 - val_loss: 64.1450 - val_accuracy: 0.0204\n",
            "Epoch 5/5\n",
            "4/4 [==============================] - 0s 123ms/step - loss: 0.4332 - accuracy: 0.9045 - val_loss: 55.0906 - val_accuracy: 0.0204\n",
            "Epoch 1/5\n",
            "4/4 [==============================] - 4s 409ms/step - loss: 5.5641 - accuracy: 0.1318 - val_loss: 64.5104 - val_accuracy: 0.0408\n",
            "Epoch 2/5\n",
            "4/4 [==============================] - 0s 124ms/step - loss: 1.9402 - accuracy: 0.6023 - val_loss: 72.6133 - val_accuracy: 0.0000e+00\n",
            "Epoch 3/5\n",
            "4/4 [==============================] - 0s 127ms/step - loss: 1.0496 - accuracy: 0.7841 - val_loss: 51.8929 - val_accuracy: 0.0612\n",
            "Epoch 4/5\n",
            "4/4 [==============================] - 0s 125ms/step - loss: 0.6344 - accuracy: 0.8273 - val_loss: 45.3409 - val_accuracy: 0.0408\n",
            "Epoch 5/5\n",
            "4/4 [==============================] - 1s 127ms/step - loss: 0.5137 - accuracy: 0.8841 - val_loss: 43.7042 - val_accuracy: 0.0612\n",
            "Epoch 1/5\n",
            "4/4 [==============================] - 5s 396ms/step - loss: 5.2296 - accuracy: 0.1338 - val_loss: 58.4390 - val_accuracy: 0.0816\n",
            "Epoch 2/5\n",
            "4/4 [==============================] - 0s 124ms/step - loss: 1.7191 - accuracy: 0.6304 - val_loss: 67.2148 - val_accuracy: 0.0816\n",
            "Epoch 3/5\n",
            "4/4 [==============================] - 0s 126ms/step - loss: 0.8686 - accuracy: 0.8005 - val_loss: 79.7811 - val_accuracy: 0.0816\n",
            "Epoch 4/5\n",
            "4/4 [==============================] - 0s 127ms/step - loss: 0.5880 - accuracy: 0.8549 - val_loss: 77.6526 - val_accuracy: 0.0612\n",
            "Epoch 5/5\n",
            "4/4 [==============================] - 0s 123ms/step - loss: 0.2531 - accuracy: 0.9229 - val_loss: 69.0733 - val_accuracy: 0.0816\n"
          ],
          "name": "stdout"
        },
        {
          "output_type": "stream",
          "text": [
            "\u001b[32m[I 2021-07-15 12:04:46,151]\u001b[0m Trial 9 finished with value: 6.946024298667908 and parameters: {'lr': 0.011262511999438063, 'steps': 568.9943651957406, 't_mult': 2, 'm_mult': 0.7009481133937068}. Best is trial 5 with value: 30.111520489056904.\u001b[0m\n"
          ],
          "name": "stderr"
        },
        {
          "output_type": "stream",
          "text": [
            "Epoch 1/5\n",
            "5/5 [==============================] - 6s 528ms/step - loss: 6.1165 - accuracy: 0.0112 - sensitivity_at_specificity_3: 0.3852 - specificity_at_sensitivity_3: 0.0000e+00 - precision_3: 0.0000e+00 - auc_6: 0.4954 - auc_7: 0.0098 - val_loss: 6.0426 - val_accuracy: 0.0000e+00 - val_sensitivity_at_specificity_3: 0.3514 - val_specificity_at_sensitivity_3: 0.0000e+00 - val_precision_3: 0.0000e+00 - val_auc_6: 0.4406 - val_auc_7: 0.0080\n",
            "Epoch 2/5\n",
            "5/5 [==============================] - 1s 160ms/step - loss: 5.9649 - accuracy: 0.0080 - sensitivity_at_specificity_3: 0.4029 - specificity_at_sensitivity_3: 0.0000e+00 - precision_3: 0.0000e+00 - auc_6: 0.5014 - auc_7: 0.0098 - val_loss: 5.7874 - val_accuracy: 0.0000e+00 - val_sensitivity_at_specificity_3: 0.3784 - val_specificity_at_sensitivity_3: 0.0000e+00 - val_precision_3: 0.0000e+00 - val_auc_6: 0.4345 - val_auc_7: 0.0079\n",
            "Epoch 3/5\n",
            "5/5 [==============================] - 1s 166ms/step - loss: 5.8094 - accuracy: 0.0161 - sensitivity_at_specificity_3: 0.4141 - specificity_at_sensitivity_3: 0.0000e+00 - precision_3: 0.0000e+00 - auc_6: 0.5124 - auc_7: 0.0108 - val_loss: 5.6245 - val_accuracy: 0.0000e+00 - val_sensitivity_at_specificity_3: 0.1982 - val_specificity_at_sensitivity_3: 0.0000e+00 - val_precision_3: 0.0000e+00 - val_auc_6: 0.4612 - val_auc_7: 0.0083\n",
            "Epoch 4/5\n",
            "5/5 [==============================] - 1s 158ms/step - loss: 5.9109 - accuracy: 0.0128 - sensitivity_at_specificity_3: 0.4029 - specificity_at_sensitivity_3: 0.0000e+00 - precision_3: 0.0250 - auc_6: 0.5051 - auc_7: 0.0105 - val_loss: 5.5046 - val_accuracy: 0.0000e+00 - val_sensitivity_at_specificity_3: 0.2072 - val_specificity_at_sensitivity_3: 0.4577 - val_precision_3: 0.0000e+00 - val_auc_6: 0.4619 - val_auc_7: 0.0083\n",
            "Epoch 5/5\n",
            "5/5 [==============================] - 1s 156ms/step - loss: 5.5867 - accuracy: 0.0112 - sensitivity_at_specificity_3: 0.4639 - specificity_at_sensitivity_3: 0.0000e+00 - precision_3: 0.0000e+00 - auc_6: 0.5353 - auc_7: 0.0111 - val_loss: 5.4056 - val_accuracy: 0.0000e+00 - val_sensitivity_at_specificity_3: 0.2162 - val_specificity_at_sensitivity_3: 0.4427 - val_precision_3: 0.0000e+00 - val_auc_6: 0.4679 - val_auc_7: 0.0085\n",
            "3/3 [==============================] - 0s 52ms/step - loss: 4.9845 - accuracy: 0.0122 - sensitivity_at_specificity_3: 0.2927 - specificity_at_sensitivity_3: 0.4266 - precision_3: 0.0000e+00 - auc_6: 0.5351 - auc_7: 0.0115\n",
            "['loss', 'accuracy', 'sensitivity_at_specificity_3', 'specificity_at_sensitivity_3', 'precision_3', 'auc_6', 'auc_7']\n"
          ],
          "name": "stdout"
        },
        {
          "output_type": "stream",
          "text": [
            "\u001b[32m[I 2021-07-15 12:05:02,199]\u001b[0m A new study created in memory with name: no-name-6dde9de8-06d9-4fe7-8de8-10c27294c644\u001b[0m\n"
          ],
          "name": "stderr"
        },
        {
          "output_type": "stream",
          "text": [
            "Epoch 1/5\n",
            "4/4 [==============================] - 4s 379ms/step - loss: 21.1743 - accuracy: 0.0750 - val_loss: 1360.7423 - val_accuracy: 0.0000e+00\n",
            "Epoch 2/5\n",
            "4/4 [==============================] - 0s 126ms/step - loss: 20.7448 - accuracy: 0.3523 - val_loss: 702.9818 - val_accuracy: 0.0000e+00\n",
            "Epoch 3/5\n",
            "4/4 [==============================] - 1s 127ms/step - loss: 12.9326 - accuracy: 0.4500 - val_loss: 349.0034 - val_accuracy: 0.0204\n",
            "Epoch 4/5\n",
            "4/4 [==============================] - 1s 127ms/step - loss: 6.9124 - accuracy: 0.6455 - val_loss: 232.3269 - val_accuracy: 0.0408\n",
            "Epoch 5/5\n",
            "4/4 [==============================] - 0s 122ms/step - loss: 6.0058 - accuracy: 0.6727 - val_loss: 183.3571 - val_accuracy: 0.0816\n",
            "Epoch 1/5\n",
            "4/4 [==============================] - 5s 400ms/step - loss: 23.3026 - accuracy: 0.0591 - val_loss: 1492.3364 - val_accuracy: 0.0000e+00\n",
            "Epoch 2/5\n",
            "4/4 [==============================] - 0s 127ms/step - loss: 26.1761 - accuracy: 0.3455 - val_loss: 1171.7910 - val_accuracy: 0.0000e+00\n",
            "Epoch 3/5\n",
            "4/4 [==============================] - 1s 127ms/step - loss: 12.4270 - accuracy: 0.4818 - val_loss: 594.1533 - val_accuracy: 0.0408\n",
            "Epoch 4/5\n",
            "4/4 [==============================] - 0s 126ms/step - loss: 7.2313 - accuracy: 0.6068 - val_loss: 351.1793 - val_accuracy: 0.0204\n",
            "Epoch 5/5\n",
            "4/4 [==============================] - 0s 124ms/step - loss: 5.9640 - accuracy: 0.6295 - val_loss: 265.7022 - val_accuracy: 0.0408\n",
            "Epoch 1/5\n",
            "4/4 [==============================] - 4s 393ms/step - loss: 22.6494 - accuracy: 0.0748 - val_loss: 1453.8163 - val_accuracy: 0.0000e+00\n",
            "Epoch 2/5\n",
            "4/4 [==============================] - 0s 124ms/step - loss: 21.4264 - accuracy: 0.3537 - val_loss: 1067.9760 - val_accuracy: 0.0000e+00\n",
            "Epoch 3/5\n",
            "4/4 [==============================] - 1s 127ms/step - loss: 10.0318 - accuracy: 0.5011 - val_loss: 500.5807 - val_accuracy: 0.0000e+00\n",
            "Epoch 4/5\n",
            "4/4 [==============================] - 0s 126ms/step - loss: 6.9115 - accuracy: 0.5873 - val_loss: 313.5670 - val_accuracy: 0.0204\n",
            "Epoch 5/5\n",
            "4/4 [==============================] - 0s 124ms/step - loss: 5.0709 - accuracy: 0.7007 - val_loss: 252.5938 - val_accuracy: 0.0000e+00\n"
          ],
          "name": "stdout"
        },
        {
          "output_type": "stream",
          "text": [
            "\u001b[32m[I 2021-07-15 12:05:29,354]\u001b[0m Trial 0 finished with value: 8.579792330662409 and parameters: {'lr': 0.09558768817125957, 'steps': 872.8635317619284, 't_mult': 1, 'm_mult': 0.8100771595220762}. Best is trial 0 with value: 8.579792330662409.\u001b[0m\n"
          ],
          "name": "stderr"
        },
        {
          "output_type": "stream",
          "text": [
            "Epoch 1/5\n",
            "4/4 [==============================] - 5s 394ms/step - loss: 8.6353 - accuracy: 0.0864 - val_loss: 376.9884 - val_accuracy: 0.0408\n",
            "Epoch 2/5\n",
            "4/4 [==============================] - 0s 123ms/step - loss: 5.1772 - accuracy: 0.4705 - val_loss: 302.5089 - val_accuracy: 0.0204\n",
            "Epoch 3/5\n",
            "4/4 [==============================] - 0s 126ms/step - loss: 2.7240 - accuracy: 0.6523 - val_loss: 195.8874 - val_accuracy: 0.0408\n",
            "Epoch 4/5\n",
            "4/4 [==============================] - 1s 128ms/step - loss: 1.9139 - accuracy: 0.7227 - val_loss: 103.9688 - val_accuracy: 0.0408\n",
            "Epoch 5/5\n",
            "4/4 [==============================] - 0s 123ms/step - loss: 1.3866 - accuracy: 0.7727 - val_loss: 81.1200 - val_accuracy: 0.0408\n",
            "Epoch 1/5\n",
            "4/4 [==============================] - 4s 397ms/step - loss: 7.8045 - accuracy: 0.1000 - val_loss: 232.9129 - val_accuracy: 0.0612\n",
            "Epoch 2/5\n",
            "4/4 [==============================] - 0s 126ms/step - loss: 5.5724 - accuracy: 0.4318 - val_loss: 252.1850 - val_accuracy: 0.0408\n",
            "Epoch 3/5\n",
            "4/4 [==============================] - 0s 125ms/step - loss: 2.8521 - accuracy: 0.6500 - val_loss: 180.6324 - val_accuracy: 0.0408\n",
            "Epoch 4/5\n",
            "4/4 [==============================] - 1s 129ms/step - loss: 1.8382 - accuracy: 0.7205 - val_loss: 127.2369 - val_accuracy: 0.1020\n",
            "Epoch 5/5\n",
            "4/4 [==============================] - 0s 124ms/step - loss: 0.9854 - accuracy: 0.8182 - val_loss: 112.6302 - val_accuracy: 0.1224\n",
            "Epoch 1/5\n",
            "4/4 [==============================] - 4s 386ms/step - loss: 8.0167 - accuracy: 0.0884 - val_loss: 328.9049 - val_accuracy: 0.0000e+00\n",
            "Epoch 2/5\n",
            "4/4 [==============================] - 1s 127ms/step - loss: 5.7296 - accuracy: 0.4739 - val_loss: 265.9207 - val_accuracy: 0.0000e+00\n",
            "Epoch 3/5\n",
            "4/4 [==============================] - 1s 127ms/step - loss: 3.3300 - accuracy: 0.6168 - val_loss: 156.8177 - val_accuracy: 0.0408\n",
            "Epoch 4/5\n",
            "4/4 [==============================] - 1s 129ms/step - loss: 1.8587 - accuracy: 0.7392 - val_loss: 125.4351 - val_accuracy: 0.0408\n",
            "Epoch 5/5\n",
            "4/4 [==============================] - 0s 125ms/step - loss: 1.1967 - accuracy: 0.8390 - val_loss: 96.7549 - val_accuracy: 0.0612\n"
          ],
          "name": "stdout"
        },
        {
          "output_type": "stream",
          "text": [
            "\u001b[32m[I 2021-07-15 12:05:55,325]\u001b[0m Trial 1 finished with value: 10.354633629322052 and parameters: {'lr': 0.028134559203618993, 'steps': 111.8839932246567, 't_mult': 2, 'm_mult': 0.5644863838735332}. Best is trial 1 with value: 10.354633629322052.\u001b[0m\n"
          ],
          "name": "stderr"
        },
        {
          "output_type": "stream",
          "text": [
            "Epoch 1/5\n",
            "4/4 [==============================] - 5s 560ms/step - loss: 6.8096 - accuracy: 0.1045 - val_loss: 211.2167 - val_accuracy: 0.0204\n",
            "Epoch 2/5\n",
            "4/4 [==============================] - 0s 124ms/step - loss: 3.9166 - accuracy: 0.4841 - val_loss: 153.7168 - val_accuracy: 0.0204\n",
            "Epoch 3/5\n",
            "4/4 [==============================] - 1s 128ms/step - loss: 1.8004 - accuracy: 0.6568 - val_loss: 137.7444 - val_accuracy: 0.0204\n",
            "Epoch 4/5\n",
            "4/4 [==============================] - 1s 131ms/step - loss: 1.2929 - accuracy: 0.7614 - val_loss: 96.6440 - val_accuracy: 0.0204\n",
            "Epoch 5/5\n",
            "4/4 [==============================] - 0s 126ms/step - loss: 0.9634 - accuracy: 0.8341 - val_loss: 68.2110 - val_accuracy: 0.1224\n",
            "Epoch 1/5\n",
            "4/4 [==============================] - 4s 393ms/step - loss: 7.2424 - accuracy: 0.1114 - val_loss: 202.4644 - val_accuracy: 0.0000e+00\n",
            "Epoch 2/5\n",
            "4/4 [==============================] - 0s 126ms/step - loss: 4.6789 - accuracy: 0.4727 - val_loss: 199.0078 - val_accuracy: 0.0000e+00\n",
            "Epoch 3/5\n",
            "4/4 [==============================] - 0s 126ms/step - loss: 2.2176 - accuracy: 0.6568 - val_loss: 140.8279 - val_accuracy: 0.0204\n",
            "Epoch 4/5\n",
            "4/4 [==============================] - 1s 127ms/step - loss: 1.2103 - accuracy: 0.7614 - val_loss: 122.8318 - val_accuracy: 0.0408\n",
            "Epoch 5/5\n",
            "4/4 [==============================] - 1s 128ms/step - loss: 1.0763 - accuracy: 0.8045 - val_loss: 102.6265 - val_accuracy: 0.0612\n",
            "Epoch 1/5\n",
            "4/4 [==============================] - 5s 557ms/step - loss: 7.0636 - accuracy: 0.0952 - val_loss: 213.0663 - val_accuracy: 0.0204\n",
            "Epoch 2/5\n",
            "4/4 [==============================] - 0s 125ms/step - loss: 4.5317 - accuracy: 0.4535 - val_loss: 159.3508 - val_accuracy: 0.0612\n",
            "Epoch 3/5\n",
            "4/4 [==============================] - 0s 125ms/step - loss: 1.9641 - accuracy: 0.6100 - val_loss: 118.5760 - val_accuracy: 0.0612\n",
            "Epoch 4/5\n",
            "4/4 [==============================] - 1s 127ms/step - loss: 1.4627 - accuracy: 0.7460 - val_loss: 107.2061 - val_accuracy: 0.0408\n",
            "Epoch 5/5\n",
            "4/4 [==============================] - 0s 123ms/step - loss: 0.9675 - accuracy: 0.8050 - val_loss: 93.1841 - val_accuracy: 0.0204\n"
          ],
          "name": "stdout"
        },
        {
          "output_type": "stream",
          "text": [
            "\u001b[32m[I 2021-07-15 12:06:19,585]\u001b[0m Trial 2 finished with value: 8.852458993593851 and parameters: {'lr': 0.021375042646889122, 'steps': 280.4058881732045, 't_mult': 2, 'm_mult': 0.9984844048784035}. Best is trial 1 with value: 10.354633629322052.\u001b[0m\n"
          ],
          "name": "stderr"
        },
        {
          "output_type": "stream",
          "text": [
            "Epoch 1/5\n",
            "4/4 [==============================] - 4s 383ms/step - loss: 10.3405 - accuracy: 0.0909 - val_loss: 478.3202 - val_accuracy: 0.0204\n",
            "Epoch 2/5\n",
            "4/4 [==============================] - 1s 127ms/step - loss: 9.3234 - accuracy: 0.4545 - val_loss: 458.0217 - val_accuracy: 0.0000e+00\n",
            "Epoch 3/5\n",
            "4/4 [==============================] - 0s 125ms/step - loss: 4.6448 - accuracy: 0.5727 - val_loss: 275.9288 - val_accuracy: 0.0204\n",
            "Epoch 4/5\n",
            "4/4 [==============================] - 1s 126ms/step - loss: 3.6691 - accuracy: 0.6614 - val_loss: 240.4895 - val_accuracy: 0.0204\n",
            "Epoch 5/5\n",
            "4/4 [==============================] - 0s 123ms/step - loss: 1.7088 - accuracy: 0.7977 - val_loss: 199.8917 - val_accuracy: 0.0204\n",
            "Epoch 1/5\n",
            "4/4 [==============================] - 5s 392ms/step - loss: 10.8336 - accuracy: 0.0841 - val_loss: 523.7159 - val_accuracy: 0.0204\n",
            "Epoch 2/5\n",
            "4/4 [==============================] - 1s 133ms/step - loss: 8.3059 - accuracy: 0.4386 - val_loss: 385.8197 - val_accuracy: 0.0408\n",
            "Epoch 3/5\n",
            "4/4 [==============================] - 0s 126ms/step - loss: 4.4473 - accuracy: 0.5545 - val_loss: 186.9244 - val_accuracy: 0.0816\n",
            "Epoch 4/5\n",
            "4/4 [==============================] - 1s 127ms/step - loss: 2.3035 - accuracy: 0.7273 - val_loss: 195.1788 - val_accuracy: 0.0204\n",
            "Epoch 5/5\n",
            "4/4 [==============================] - 0s 123ms/step - loss: 1.7547 - accuracy: 0.7614 - val_loss: 150.9043 - val_accuracy: 0.0204\n",
            "Epoch 1/5\n",
            "4/4 [==============================] - 4s 389ms/step - loss: 10.9213 - accuracy: 0.0839 - val_loss: 493.4679 - val_accuracy: 0.0408\n",
            "Epoch 2/5\n",
            "4/4 [==============================] - 0s 126ms/step - loss: 9.0387 - accuracy: 0.4195 - val_loss: 497.7485 - val_accuracy: 0.0408\n",
            "Epoch 3/5\n",
            "4/4 [==============================] - 0s 127ms/step - loss: 5.1834 - accuracy: 0.5556 - val_loss: 285.6945 - val_accuracy: 0.0408\n",
            "Epoch 4/5\n",
            "4/4 [==============================] - 1s 130ms/step - loss: 2.6894 - accuracy: 0.7120 - val_loss: 211.5527 - val_accuracy: 0.0816\n",
            "Epoch 5/5\n",
            "4/4 [==============================] - 0s 123ms/step - loss: 2.1474 - accuracy: 0.7438 - val_loss: 170.4008 - val_accuracy: 0.0816\n"
          ],
          "name": "stdout"
        },
        {
          "output_type": "stream",
          "text": [
            "\u001b[32m[I 2021-07-15 12:06:48,646]\u001b[0m Trial 3 finished with value: 7.0831939578056335 and parameters: {'lr': 0.040941460845984705, 'steps': 304.8388382307595, 't_mult': 2, 'm_mult': 0.834764179008391}. Best is trial 1 with value: 10.354633629322052.\u001b[0m\n"
          ],
          "name": "stderr"
        },
        {
          "output_type": "stream",
          "text": [
            "Epoch 1/5\n",
            "4/4 [==============================] - 5s 394ms/step - loss: 5.0990 - accuracy: 0.1409 - val_loss: 55.9090 - val_accuracy: 0.0408\n",
            "Epoch 2/5\n",
            "4/4 [==============================] - 0s 126ms/step - loss: 1.7274 - accuracy: 0.6227 - val_loss: 64.4919 - val_accuracy: 0.0816\n",
            "Epoch 3/5\n",
            "4/4 [==============================] - 0s 123ms/step - loss: 0.9075 - accuracy: 0.7591 - val_loss: 47.9898 - val_accuracy: 0.1020\n",
            "Epoch 4/5\n",
            "4/4 [==============================] - 0s 126ms/step - loss: 0.5723 - accuracy: 0.8523 - val_loss: 39.4088 - val_accuracy: 0.0612\n",
            "Epoch 5/5\n",
            "4/4 [==============================] - 0s 126ms/step - loss: 0.3517 - accuracy: 0.9068 - val_loss: 40.7227 - val_accuracy: 0.1224\n",
            "Epoch 1/5\n",
            "4/4 [==============================] - 4s 391ms/step - loss: 5.2561 - accuracy: 0.1318 - val_loss: 51.1581 - val_accuracy: 0.0612\n",
            "Epoch 2/5\n",
            "4/4 [==============================] - 1s 126ms/step - loss: 1.6072 - accuracy: 0.6205 - val_loss: 87.9792 - val_accuracy: 0.0408\n",
            "Epoch 3/5\n",
            "4/4 [==============================] - 0s 126ms/step - loss: 0.8441 - accuracy: 0.8136 - val_loss: 60.5959 - val_accuracy: 0.1224\n",
            "Epoch 4/5\n",
            "4/4 [==============================] - 0s 126ms/step - loss: 0.5162 - accuracy: 0.8614 - val_loss: 47.8517 - val_accuracy: 0.1429\n",
            "Epoch 5/5\n",
            "4/4 [==============================] - 0s 123ms/step - loss: 0.3703 - accuracy: 0.9091 - val_loss: 40.5096 - val_accuracy: 0.1429\n",
            "Epoch 1/5\n",
            "4/4 [==============================] - 4s 428ms/step - loss: 5.3248 - accuracy: 0.1406 - val_loss: 63.3579 - val_accuracy: 0.0408\n",
            "Epoch 2/5\n",
            "4/4 [==============================] - 0s 127ms/step - loss: 1.9796 - accuracy: 0.6100 - val_loss: 51.1284 - val_accuracy: 0.0816\n",
            "Epoch 3/5\n",
            "4/4 [==============================] - 1s 126ms/step - loss: 0.8104 - accuracy: 0.8073 - val_loss: 41.5642 - val_accuracy: 0.1020\n",
            "Epoch 4/5\n",
            "4/4 [==============================] - 1s 128ms/step - loss: 0.5614 - accuracy: 0.8390 - val_loss: 33.2989 - val_accuracy: 0.1633\n",
            "Epoch 5/5\n",
            "4/4 [==============================] - 0s 124ms/step - loss: 0.3012 - accuracy: 0.9184 - val_loss: 30.9824 - val_accuracy: 0.1837\n"
          ],
          "name": "stdout"
        },
        {
          "output_type": "stream",
          "text": [
            "\u001b[32m[I 2021-07-15 12:07:12,974]\u001b[0m Trial 4 finished with value: 14.035351822773615 and parameters: {'lr': 0.00999863196061949, 'steps': 773.4978967618024, 't_mult': 2, 'm_mult': 0.7147349565019705}. Best is trial 4 with value: 14.035351822773615.\u001b[0m\n"
          ],
          "name": "stderr"
        },
        {
          "output_type": "stream",
          "text": [
            "Epoch 1/5\n",
            "4/4 [==============================] - 4s 381ms/step - loss: 5.2776 - accuracy: 0.0364 - val_loss: 4.3421 - val_accuracy: 0.1633\n",
            "Epoch 2/5\n",
            "4/4 [==============================] - 1s 127ms/step - loss: 1.6820 - accuracy: 0.6114 - val_loss: 4.0594 - val_accuracy: 0.2041\n",
            "Epoch 3/5\n",
            "4/4 [==============================] - 0s 127ms/step - loss: 0.7364 - accuracy: 0.8727 - val_loss: 4.0618 - val_accuracy: 0.2449\n",
            "Epoch 4/5\n",
            "4/4 [==============================] - 0s 126ms/step - loss: 0.3810 - accuracy: 0.9341 - val_loss: 4.0631 - val_accuracy: 0.2653\n",
            "Epoch 5/5\n",
            "4/4 [==============================] - 0s 125ms/step - loss: 0.2087 - accuracy: 0.9727 - val_loss: 4.0484 - val_accuracy: 0.2653\n",
            "Epoch 1/5\n",
            "4/4 [==============================] - 4s 399ms/step - loss: 5.4422 - accuracy: 0.0568 - val_loss: 4.6851 - val_accuracy: 0.0816\n",
            "Epoch 2/5\n",
            "4/4 [==============================] - 0s 126ms/step - loss: 1.7299 - accuracy: 0.6091 - val_loss: 4.3717 - val_accuracy: 0.1633\n",
            "Epoch 3/5\n",
            "4/4 [==============================] - 1s 128ms/step - loss: 0.7594 - accuracy: 0.8659 - val_loss: 4.4110 - val_accuracy: 0.1633\n",
            "Epoch 4/5\n",
            "4/4 [==============================] - 0s 125ms/step - loss: 0.3942 - accuracy: 0.9318 - val_loss: 4.5288 - val_accuracy: 0.2245\n",
            "Epoch 5/5\n",
            "4/4 [==============================] - 1s 128ms/step - loss: 0.2059 - accuracy: 0.9841 - val_loss: 4.6566 - val_accuracy: 0.2857\n",
            "Epoch 1/5\n",
            "4/4 [==============================] - 5s 394ms/step - loss: 5.2651 - accuracy: 0.0567 - val_loss: 4.4063 - val_accuracy: 0.1429\n",
            "Epoch 2/5\n",
            "4/4 [==============================] - 1s 127ms/step - loss: 1.6238 - accuracy: 0.6349 - val_loss: 4.6699 - val_accuracy: 0.2449\n",
            "Epoch 3/5\n",
            "4/4 [==============================] - 1s 127ms/step - loss: 0.8138 - accuracy: 0.8299 - val_loss: 5.0419 - val_accuracy: 0.2653\n",
            "Epoch 4/5\n",
            "4/4 [==============================] - 0s 124ms/step - loss: 0.3697 - accuracy: 0.9320 - val_loss: 5.3360 - val_accuracy: 0.3061\n",
            "Epoch 5/5\n",
            "4/4 [==============================] - 0s 125ms/step - loss: 0.2063 - accuracy: 0.9773 - val_loss: 5.4916 - val_accuracy: 0.2653\n"
          ],
          "name": "stdout"
        },
        {
          "output_type": "stream",
          "text": [
            "\u001b[32m[I 2021-07-15 12:07:39,069]\u001b[0m Trial 5 finished with value: 27.10326761007309 and parameters: {'lr': 0.0012828715137244496, 'steps': 418.08935252324903, 't_mult': 1, 'm_mult': 0.34117708438819716}. Best is trial 5 with value: 27.10326761007309.\u001b[0m\n"
          ],
          "name": "stderr"
        },
        {
          "output_type": "stream",
          "text": [
            "Epoch 1/5\n",
            "4/4 [==============================] - 4s 377ms/step - loss: 11.6175 - accuracy: 0.0864 - val_loss: 743.4070 - val_accuracy: 0.0000e+00\n",
            "Epoch 2/5\n",
            "4/4 [==============================] - 0s 125ms/step - loss: 12.2212 - accuracy: 0.3977 - val_loss: 653.4683 - val_accuracy: 0.0000e+00\n",
            "Epoch 3/5\n",
            "4/4 [==============================] - 0s 125ms/step - loss: 5.8384 - accuracy: 0.5500 - val_loss: 355.2471 - val_accuracy: 0.0000e+00\n",
            "Epoch 4/5\n",
            "4/4 [==============================] - 0s 126ms/step - loss: 3.2903 - accuracy: 0.6682 - val_loss: 204.7098 - val_accuracy: 0.0204\n",
            "Epoch 5/5\n",
            "4/4 [==============================] - 0s 123ms/step - loss: 2.1223 - accuracy: 0.7636 - val_loss: 152.5792 - val_accuracy: 0.0408\n",
            "Epoch 1/5\n",
            "4/4 [==============================] - 5s 397ms/step - loss: 11.8368 - accuracy: 0.0932 - val_loss: 624.5882 - val_accuracy: 0.0204\n",
            "Epoch 2/5\n",
            "4/4 [==============================] - 1s 130ms/step - loss: 9.2739 - accuracy: 0.4250 - val_loss: 584.2338 - val_accuracy: 0.0204\n",
            "Epoch 3/5\n",
            "4/4 [==============================] - 1s 128ms/step - loss: 5.6976 - accuracy: 0.5341 - val_loss: 347.1789 - val_accuracy: 0.0204\n",
            "Epoch 4/5\n",
            "4/4 [==============================] - 1s 131ms/step - loss: 3.5847 - accuracy: 0.6750 - val_loss: 225.2578 - val_accuracy: 0.0408\n",
            "Epoch 5/5\n",
            "4/4 [==============================] - 1s 127ms/step - loss: 2.4282 - accuracy: 0.7659 - val_loss: 182.0541 - val_accuracy: 0.0816\n",
            "Epoch 1/5\n",
            "4/4 [==============================] - 4s 391ms/step - loss: 11.3542 - accuracy: 0.0748 - val_loss: 682.6188 - val_accuracy: 0.0000e+00\n",
            "Epoch 2/5\n",
            "4/4 [==============================] - 1s 128ms/step - loss: 10.1027 - accuracy: 0.3946 - val_loss: 621.3551 - val_accuracy: 0.0000e+00\n",
            "Epoch 3/5\n",
            "4/4 [==============================] - 1s 129ms/step - loss: 5.1740 - accuracy: 0.5488 - val_loss: 300.1830 - val_accuracy: 0.0204\n",
            "Epoch 4/5\n",
            "4/4 [==============================] - 1s 127ms/step - loss: 2.6465 - accuracy: 0.7347 - val_loss: 190.2996 - val_accuracy: 0.0612\n",
            "Epoch 5/5\n",
            "4/4 [==============================] - 0s 125ms/step - loss: 2.0883 - accuracy: 0.7755 - val_loss: 140.7755 - val_accuracy: 0.1224\n"
          ],
          "name": "stdout"
        },
        {
          "output_type": "stream",
          "text": [
            "\u001b[32m[I 2021-07-15 12:08:04,671]\u001b[0m Trial 6 finished with value: 9.263410170873007 and parameters: {'lr': 0.04875972301355715, 'steps': 88.3262439344737, 't_mult': 1, 'm_mult': 0.2846263807598176}. Best is trial 5 with value: 27.10326761007309.\u001b[0m\n"
          ],
          "name": "stderr"
        },
        {
          "output_type": "stream",
          "text": [
            "Epoch 1/5\n",
            "4/4 [==============================] - 5s 401ms/step - loss: 5.4407 - accuracy: 0.0295 - val_loss: 4.9532 - val_accuracy: 0.0408\n",
            "Epoch 2/5\n",
            "4/4 [==============================] - 1s 128ms/step - loss: 2.6658 - accuracy: 0.4159 - val_loss: 4.2229 - val_accuracy: 0.1224\n",
            "Epoch 3/5\n",
            "4/4 [==============================] - 1s 132ms/step - loss: 1.5701 - accuracy: 0.6545 - val_loss: 3.9744 - val_accuracy: 0.1837\n",
            "Epoch 4/5\n",
            "4/4 [==============================] - 1s 127ms/step - loss: 0.9531 - accuracy: 0.8068 - val_loss: 3.9126 - val_accuracy: 0.1837\n",
            "Epoch 5/5\n",
            "4/4 [==============================] - 0s 123ms/step - loss: 0.5608 - accuracy: 0.9227 - val_loss: 3.8695 - val_accuracy: 0.2041\n",
            "Epoch 1/5\n",
            "4/4 [==============================] - 4s 391ms/step - loss: 5.6927 - accuracy: 0.0091 - val_loss: 4.5530 - val_accuracy: 0.1020\n",
            "Epoch 2/5\n",
            "4/4 [==============================] - 1s 128ms/step - loss: 2.9265 - accuracy: 0.3159 - val_loss: 3.7292 - val_accuracy: 0.2653\n",
            "Epoch 3/5\n",
            "4/4 [==============================] - 0s 124ms/step - loss: 1.6438 - accuracy: 0.6636 - val_loss: 3.2964 - val_accuracy: 0.3265\n",
            "Epoch 4/5\n",
            "4/4 [==============================] - 1s 128ms/step - loss: 0.9769 - accuracy: 0.8295 - val_loss: 3.0702 - val_accuracy: 0.3265\n",
            "Epoch 5/5\n",
            "4/4 [==============================] - 0s 122ms/step - loss: 0.6031 - accuracy: 0.8977 - val_loss: 2.9314 - val_accuracy: 0.3673\n",
            "Epoch 1/5\n",
            "4/4 [==============================] - 4s 419ms/step - loss: 5.6347 - accuracy: 0.0249 - val_loss: 4.4723 - val_accuracy: 0.1020\n",
            "Epoch 2/5\n",
            "4/4 [==============================] - 0s 126ms/step - loss: 2.8785 - accuracy: 0.3560 - val_loss: 4.0151 - val_accuracy: 0.1837\n",
            "Epoch 3/5\n",
            "4/4 [==============================] - 1s 127ms/step - loss: 1.5777 - accuracy: 0.6576 - val_loss: 3.9252 - val_accuracy: 0.2449\n",
            "Epoch 4/5\n",
            "4/4 [==============================] - 1s 128ms/step - loss: 0.9240 - accuracy: 0.8277 - val_loss: 3.9047 - val_accuracy: 0.1837\n",
            "Epoch 5/5\n",
            "4/4 [==============================] - 0s 125ms/step - loss: 0.5610 - accuracy: 0.9184 - val_loss: 3.8734 - val_accuracy: 0.2449\n"
          ],
          "name": "stdout"
        },
        {
          "output_type": "stream",
          "text": [
            "\u001b[32m[I 2021-07-15 12:08:34,209]\u001b[0m Trial 7 finished with value: 32.290620605150856 and parameters: {'lr': 0.0006602896141449879, 'steps': 576.727552167975, 't_mult': 2, 'm_mult': 0.6553376110013117}. Best is trial 7 with value: 32.290620605150856.\u001b[0m\n"
          ],
          "name": "stderr"
        },
        {
          "output_type": "stream",
          "text": [
            "Epoch 1/5\n",
            "4/4 [==============================] - 5s 582ms/step - loss: 5.6406 - accuracy: 0.1045 - val_loss: 70.9311 - val_accuracy: 0.0204\n",
            "Epoch 2/5\n",
            "4/4 [==============================] - 0s 126ms/step - loss: 2.2886 - accuracy: 0.6091 - val_loss: 65.7940 - val_accuracy: 0.0408\n",
            "Epoch 3/5\n",
            "4/4 [==============================] - 0s 125ms/step - loss: 1.0496 - accuracy: 0.7477 - val_loss: 60.3757 - val_accuracy: 0.0204\n",
            "Epoch 4/5\n",
            "4/4 [==============================] - 1s 129ms/step - loss: 0.6515 - accuracy: 0.8091 - val_loss: 58.5191 - val_accuracy: 0.1020\n",
            "Epoch 5/5\n",
            "4/4 [==============================] - 0s 122ms/step - loss: 0.3418 - accuracy: 0.9091 - val_loss: 53.1147 - val_accuracy: 0.1224\n",
            "Epoch 1/5\n",
            "4/4 [==============================] - 4s 388ms/step - loss: 5.6251 - accuracy: 0.1182 - val_loss: 75.8216 - val_accuracy: 0.0000e+00\n",
            "Epoch 2/5\n",
            "4/4 [==============================] - 0s 125ms/step - loss: 2.3397 - accuracy: 0.5932 - val_loss: 82.6400 - val_accuracy: 0.0000e+00\n",
            "Epoch 3/5\n",
            "4/4 [==============================] - 0s 126ms/step - loss: 0.7748 - accuracy: 0.7886 - val_loss: 66.6878 - val_accuracy: 0.0612\n",
            "Epoch 4/5\n",
            "4/4 [==============================] - 1s 128ms/step - loss: 0.6630 - accuracy: 0.8386 - val_loss: 52.3055 - val_accuracy: 0.1224\n",
            "Epoch 5/5\n",
            "4/4 [==============================] - 0s 123ms/step - loss: 0.3632 - accuracy: 0.9159 - val_loss: 44.6101 - val_accuracy: 0.1020\n",
            "Epoch 1/5\n",
            "4/4 [==============================] - 5s 437ms/step - loss: 5.2796 - accuracy: 0.1429 - val_loss: 74.2077 - val_accuracy: 0.0000e+00\n",
            "Epoch 2/5\n",
            "4/4 [==============================] - 0s 125ms/step - loss: 1.8757 - accuracy: 0.6190 - val_loss: 67.3045 - val_accuracy: 0.1020\n",
            "Epoch 3/5\n",
            "4/4 [==============================] - 0s 126ms/step - loss: 0.8658 - accuracy: 0.7868 - val_loss: 52.1785 - val_accuracy: 0.0816\n",
            "Epoch 4/5\n",
            "4/4 [==============================] - 0s 127ms/step - loss: 0.6342 - accuracy: 0.8481 - val_loss: 44.0705 - val_accuracy: 0.1224\n",
            "Epoch 5/5\n",
            "4/4 [==============================] - 0s 124ms/step - loss: 0.4030 - accuracy: 0.8821 - val_loss: 43.9447 - val_accuracy: 0.1633\n"
          ],
          "name": "stdout"
        },
        {
          "output_type": "stream",
          "text": [
            "\u001b[32m[I 2021-07-15 12:09:00,278]\u001b[0m Trial 8 finished with value: 11.032675206661224 and parameters: {'lr': 0.011198193540790791, 'steps': 945.4650064675582, 't_mult': 2, 'm_mult': 0.19757046081688412}. Best is trial 7 with value: 32.290620605150856.\u001b[0m\n"
          ],
          "name": "stderr"
        },
        {
          "output_type": "stream",
          "text": [
            "Epoch 1/5\n",
            "4/4 [==============================] - 4s 394ms/step - loss: 5.0766 - accuracy: 0.1136 - val_loss: 6.0930 - val_accuracy: 0.1020\n",
            "Epoch 2/5\n",
            "4/4 [==============================] - 0s 128ms/step - loss: 1.0589 - accuracy: 0.7523 - val_loss: 8.1237 - val_accuracy: 0.1633\n",
            "Epoch 3/5\n",
            "4/4 [==============================] - 0s 126ms/step - loss: 0.3854 - accuracy: 0.9227 - val_loss: 10.1470 - val_accuracy: 0.2041\n",
            "Epoch 4/5\n",
            "4/4 [==============================] - 1s 132ms/step - loss: 0.1791 - accuracy: 0.9682 - val_loss: 11.2609 - val_accuracy: 0.1633\n",
            "Epoch 5/5\n",
            "4/4 [==============================] - 0s 124ms/step - loss: 0.1042 - accuracy: 0.9886 - val_loss: 11.2214 - val_accuracy: 0.2041\n",
            "Epoch 1/5\n",
            "4/4 [==============================] - 5s 393ms/step - loss: 5.0161 - accuracy: 0.0864 - val_loss: 8.6412 - val_accuracy: 0.1020\n",
            "Epoch 2/5\n",
            "4/4 [==============================] - 0s 126ms/step - loss: 1.0530 - accuracy: 0.7477 - val_loss: 11.1603 - val_accuracy: 0.1837\n",
            "Epoch 3/5\n",
            "4/4 [==============================] - 1s 126ms/step - loss: 0.4370 - accuracy: 0.9068 - val_loss: 11.7571 - val_accuracy: 0.2245\n",
            "Epoch 4/5\n",
            "4/4 [==============================] - 1s 127ms/step - loss: 0.2771 - accuracy: 0.9432 - val_loss: 13.5690 - val_accuracy: 0.1837\n",
            "Epoch 5/5\n",
            "4/4 [==============================] - 0s 123ms/step - loss: 0.1572 - accuracy: 0.9568 - val_loss: 14.0581 - val_accuracy: 0.1633\n",
            "Epoch 1/5\n",
            "4/4 [==============================] - 4s 390ms/step - loss: 4.9852 - accuracy: 0.0794 - val_loss: 6.1319 - val_accuracy: 0.2041\n",
            "Epoch 2/5\n",
            "4/4 [==============================] - 1s 128ms/step - loss: 0.9996 - accuracy: 0.7551 - val_loss: 8.5228 - val_accuracy: 0.2041\n",
            "Epoch 3/5\n",
            "4/4 [==============================] - 0s 126ms/step - loss: 0.3934 - accuracy: 0.9116 - val_loss: 9.4407 - val_accuracy: 0.2245\n",
            "Epoch 4/5\n",
            "4/4 [==============================] - 1s 127ms/step - loss: 0.1922 - accuracy: 0.9728 - val_loss: 10.0862 - val_accuracy: 0.2041\n",
            "Epoch 5/5\n",
            "4/4 [==============================] - 0s 123ms/step - loss: 0.1113 - accuracy: 0.9841 - val_loss: 10.5779 - val_accuracy: 0.1837\n"
          ],
          "name": "stdout"
        },
        {
          "output_type": "stream",
          "text": [
            "\u001b[32m[I 2021-07-15 12:09:27,543]\u001b[0m Trial 9 finished with value: 16.08732019861539 and parameters: {'lr': 0.002858831376005912, 'steps': 946.0907469790359, 't_mult': 2, 'm_mult': 0.20220860269686702}. Best is trial 7 with value: 32.290620605150856.\u001b[0m\n"
          ],
          "name": "stderr"
        },
        {
          "output_type": "stream",
          "text": [
            "Epoch 1/5\n",
            "5/5 [==============================] - 6s 526ms/step - loss: 5.9240 - accuracy: 0.0096 - sensitivity_at_specificity_4: 0.4157 - specificity_at_sensitivity_4: 0.0000e+00 - precision_4: 0.0000e+00 - auc_8: 0.5114 - auc_9: 0.0102 - val_loss: 5.4571 - val_accuracy: 0.0000e+00 - val_sensitivity_at_specificity_4: 0.4775 - val_specificity_at_sensitivity_4: 0.0000e+00 - val_precision_4: 0.0000e+00 - val_auc_8: 0.5347 - val_auc_9: 0.0108\n",
            "Epoch 2/5\n",
            "5/5 [==============================] - 1s 159ms/step - loss: 5.8257 - accuracy: 0.0048 - sensitivity_at_specificity_4: 0.4430 - specificity_at_sensitivity_4: 0.0000e+00 - precision_4: 0.0000e+00 - auc_8: 0.5230 - auc_9: 0.0104 - val_loss: 5.2626 - val_accuracy: 0.0090 - val_sensitivity_at_specificity_4: 0.5676 - val_specificity_at_sensitivity_4: 0.5494 - val_precision_4: 0.0000e+00 - val_auc_8: 0.5526 - val_auc_9: 0.0114\n",
            "Epoch 3/5\n",
            "5/5 [==============================] - 1s 159ms/step - loss: 5.8438 - accuracy: 0.0144 - sensitivity_at_specificity_4: 0.4398 - specificity_at_sensitivity_4: 0.0000e+00 - precision_4: 0.0000e+00 - auc_8: 0.5247 - auc_9: 0.0109 - val_loss: 5.1451 - val_accuracy: 0.0090 - val_sensitivity_at_specificity_4: 0.6306 - val_specificity_at_sensitivity_4: 0.5154 - val_precision_4: 0.0000e+00 - val_auc_8: 0.5632 - val_auc_9: 0.0117\n",
            "Epoch 4/5\n",
            "5/5 [==============================] - 1s 160ms/step - loss: 5.7750 - accuracy: 0.0080 - sensitivity_at_specificity_4: 0.4607 - specificity_at_sensitivity_4: 0.0000e+00 - precision_4: 0.0000e+00 - auc_8: 0.5318 - auc_9: 0.0109 - val_loss: 5.0608 - val_accuracy: 0.0180 - val_sensitivity_at_specificity_4: 0.3243 - val_specificity_at_sensitivity_4: 0.4916 - val_precision_4: 0.0000e+00 - val_auc_8: 0.5646 - val_auc_9: 0.0119\n",
            "Epoch 5/5\n",
            "5/5 [==============================] - 1s 156ms/step - loss: 5.7190 - accuracy: 0.0144 - sensitivity_at_specificity_4: 0.4510 - specificity_at_sensitivity_4: 0.0000e+00 - precision_4: 0.0000e+00 - auc_8: 0.5288 - auc_9: 0.0111 - val_loss: 4.9946 - val_accuracy: 0.0180 - val_sensitivity_at_specificity_4: 0.3514 - val_specificity_at_sensitivity_4: 0.4716 - val_precision_4: 0.0000e+00 - val_auc_8: 0.5706 - val_auc_9: 0.0123\n",
            "3/3 [==============================] - 0s 51ms/step - loss: 5.4654 - accuracy: 0.0000e+00 - sensitivity_at_specificity_4: 0.2195 - specificity_at_sensitivity_4: 0.4709 - precision_4: 0.0000e+00 - auc_8: 0.4703 - auc_9: 0.0086\n"
          ],
          "name": "stdout"
        },
        {
          "output_type": "stream",
          "text": [
            "\u001b[32m[I 2021-07-15 12:09:43,594]\u001b[0m A new study created in memory with name: no-name-3e85f636-e2d5-4772-a58a-9e026a25498b\u001b[0m\n"
          ],
          "name": "stderr"
        },
        {
          "output_type": "stream",
          "text": [
            "['loss', 'accuracy', 'sensitivity_at_specificity_4', 'specificity_at_sensitivity_4', 'precision_4', 'auc_8', 'auc_9']\n",
            "Epoch 1/5\n",
            "4/4 [==============================] - 5s 388ms/step - loss: 5.7421 - accuracy: 0.0182 - val_loss: 5.6746 - val_accuracy: 0.0000e+00\n",
            "Epoch 2/5\n",
            "4/4 [==============================] - 1s 131ms/step - loss: 5.1089 - accuracy: 0.0477 - val_loss: 5.3250 - val_accuracy: 0.0000e+00\n",
            "Epoch 3/5\n",
            "4/4 [==============================] - 1s 127ms/step - loss: 4.5082 - accuracy: 0.0773 - val_loss: 5.0626 - val_accuracy: 0.0000e+00\n",
            "Epoch 4/5\n",
            "4/4 [==============================] - 1s 127ms/step - loss: 3.9428 - accuracy: 0.1386 - val_loss: 4.8421 - val_accuracy: 0.0000e+00\n",
            "Epoch 5/5\n",
            "4/4 [==============================] - 0s 125ms/step - loss: 3.4565 - accuracy: 0.2068 - val_loss: 4.6528 - val_accuracy: 0.0000e+00\n",
            "Epoch 1/5\n",
            "4/4 [==============================] - 4s 381ms/step - loss: 6.0177 - accuracy: 0.0136 - val_loss: 5.7312 - val_accuracy: 0.0000e+00\n",
            "Epoch 2/5\n",
            "4/4 [==============================] - 1s 127ms/step - loss: 5.3093 - accuracy: 0.0318 - val_loss: 5.3963 - val_accuracy: 0.0000e+00\n",
            "Epoch 3/5\n",
            "4/4 [==============================] - 1s 129ms/step - loss: 4.6742 - accuracy: 0.0727 - val_loss: 5.1447 - val_accuracy: 0.0000e+00\n",
            "Epoch 4/5\n",
            "4/4 [==============================] - 0s 127ms/step - loss: 4.0770 - accuracy: 0.1114 - val_loss: 4.9397 - val_accuracy: 0.0204\n",
            "Epoch 5/5\n",
            "4/4 [==============================] - 0s 124ms/step - loss: 3.6135 - accuracy: 0.1909 - val_loss: 4.7616 - val_accuracy: 0.0612\n",
            "Epoch 1/5\n",
            "4/4 [==============================] - 5s 425ms/step - loss: 5.9436 - accuracy: 0.0023 - val_loss: 5.8807 - val_accuracy: 0.0000e+00\n",
            "Epoch 2/5\n",
            "4/4 [==============================] - 0s 127ms/step - loss: 5.1677 - accuracy: 0.0317 - val_loss: 5.5330 - val_accuracy: 0.0204\n",
            "Epoch 3/5\n",
            "4/4 [==============================] - 0s 126ms/step - loss: 4.5785 - accuracy: 0.0703 - val_loss: 5.2731 - val_accuracy: 0.0204\n",
            "Epoch 4/5\n",
            "4/4 [==============================] - 0s 126ms/step - loss: 3.9548 - accuracy: 0.1542 - val_loss: 5.0565 - val_accuracy: 0.0408\n",
            "Epoch 5/5\n",
            "4/4 [==============================] - 1s 130ms/step - loss: 3.5637 - accuracy: 0.1837 - val_loss: 4.8751 - val_accuracy: 0.0612\n"
          ],
          "name": "stdout"
        },
        {
          "output_type": "stream",
          "text": [
            "\u001b[32m[I 2021-07-15 12:10:07,935]\u001b[0m Trial 0 finished with value: 7.629084587097168 and parameters: {'lr': 0.0001249081413073645, 'steps': 507.57008271038643, 't_mult': 2, 'm_mult': 0.5804423957434437}. Best is trial 0 with value: 7.629084587097168.\u001b[0m\n"
          ],
          "name": "stderr"
        },
        {
          "output_type": "stream",
          "text": [
            "Epoch 1/5\n",
            "4/4 [==============================] - 4s 405ms/step - loss: 19.3233 - accuracy: 0.0545 - val_loss: 1361.1022 - val_accuracy: 0.0204\n",
            "Epoch 2/5\n",
            "4/4 [==============================] - 0s 125ms/step - loss: 19.2969 - accuracy: 0.3364 - val_loss: 937.3102 - val_accuracy: 0.0000e+00\n",
            "Epoch 3/5\n",
            "4/4 [==============================] - 1s 129ms/step - loss: 10.1645 - accuracy: 0.4818 - val_loss: 417.5635 - val_accuracy: 0.0408\n",
            "Epoch 4/5\n",
            "4/4 [==============================] - 0s 125ms/step - loss: 6.3938 - accuracy: 0.6545 - val_loss: 262.8476 - val_accuracy: 0.0408\n",
            "Epoch 5/5\n",
            "4/4 [==============================] - 1s 126ms/step - loss: 4.0178 - accuracy: 0.7045 - val_loss: 241.9876 - val_accuracy: 0.0612\n",
            "Epoch 1/5\n",
            "4/4 [==============================] - 4s 418ms/step - loss: 17.9113 - accuracy: 0.0750 - val_loss: 1123.8004 - val_accuracy: 0.0204\n",
            "Epoch 2/5\n",
            "4/4 [==============================] - 1s 127ms/step - loss: 17.9406 - accuracy: 0.3727 - val_loss: 749.9541 - val_accuracy: 0.0408\n",
            "Epoch 3/5\n",
            "4/4 [==============================] - 1s 129ms/step - loss: 10.3921 - accuracy: 0.4841 - val_loss: 421.5032 - val_accuracy: 0.0408\n",
            "Epoch 4/5\n",
            "4/4 [==============================] - 1s 128ms/step - loss: 6.7563 - accuracy: 0.5909 - val_loss: 265.0847 - val_accuracy: 0.1020\n",
            "Epoch 5/5\n",
            "4/4 [==============================] - 0s 123ms/step - loss: 3.8083 - accuracy: 0.7341 - val_loss: 208.2557 - val_accuracy: 0.0816\n",
            "Epoch 1/5\n",
            "4/4 [==============================] - 5s 401ms/step - loss: 18.6586 - accuracy: 0.0703 - val_loss: 1130.6283 - val_accuracy: 0.0000e+00\n",
            "Epoch 2/5\n",
            "4/4 [==============================] - 1s 129ms/step - loss: 18.5325 - accuracy: 0.3991 - val_loss: 759.7913 - val_accuracy: 0.0204\n",
            "Epoch 3/5\n",
            "4/4 [==============================] - 1s 128ms/step - loss: 8.8157 - accuracy: 0.4989 - val_loss: 395.4284 - val_accuracy: 0.0612\n",
            "Epoch 4/5\n",
            "4/4 [==============================] - 0s 126ms/step - loss: 6.0791 - accuracy: 0.6304 - val_loss: 220.4526 - val_accuracy: 0.1224\n",
            "Epoch 5/5\n",
            "4/4 [==============================] - 1s 129ms/step - loss: 4.3132 - accuracy: 0.6780 - val_loss: 163.8456 - val_accuracy: 0.1020\n"
          ],
          "name": "stdout"
        },
        {
          "output_type": "stream",
          "text": [
            "\u001b[32m[I 2021-07-15 12:10:32,292]\u001b[0m Trial 1 finished with value: 9.131816774606705 and parameters: {'lr': 0.08222572429990792, 'steps': 721.7270091788796, 't_mult': 2, 'm_mult': 0.5983691027315856}. Best is trial 1 with value: 9.131816774606705.\u001b[0m\n"
          ],
          "name": "stderr"
        },
        {
          "output_type": "stream",
          "text": [
            "Epoch 1/5\n",
            "4/4 [==============================] - 4s 383ms/step - loss: 5.6836 - accuracy: 0.1318 - val_loss: 95.2083 - val_accuracy: 0.0816\n",
            "Epoch 2/5\n",
            "4/4 [==============================] - 0s 124ms/step - loss: 2.5726 - accuracy: 0.5932 - val_loss: 75.2027 - val_accuracy: 0.0408\n",
            "Epoch 3/5\n",
            "4/4 [==============================] - 1s 129ms/step - loss: 1.3069 - accuracy: 0.7409 - val_loss: 66.0195 - val_accuracy: 0.0408\n",
            "Epoch 4/5\n",
            "4/4 [==============================] - 1s 130ms/step - loss: 0.6590 - accuracy: 0.8295 - val_loss: 65.5663 - val_accuracy: 0.0408\n",
            "Epoch 5/5\n",
            "4/4 [==============================] - 0s 123ms/step - loss: 0.4668 - accuracy: 0.8818 - val_loss: 58.5167 - val_accuracy: 0.0408\n",
            "Epoch 1/5\n",
            "4/4 [==============================] - 5s 398ms/step - loss: 5.9932 - accuracy: 0.1136 - val_loss: 83.7023 - val_accuracy: 0.0612\n",
            "Epoch 2/5\n",
            "4/4 [==============================] - 0s 126ms/step - loss: 2.3244 - accuracy: 0.5682 - val_loss: 87.3301 - val_accuracy: 0.0612\n",
            "Epoch 3/5\n",
            "4/4 [==============================] - 0s 127ms/step - loss: 1.2881 - accuracy: 0.7318 - val_loss: 68.1402 - val_accuracy: 0.0816\n",
            "Epoch 4/5\n",
            "4/4 [==============================] - 1s 130ms/step - loss: 0.7755 - accuracy: 0.8227 - val_loss: 59.8978 - val_accuracy: 0.1224\n",
            "Epoch 5/5\n",
            "4/4 [==============================] - 0s 124ms/step - loss: 0.4448 - accuracy: 0.8909 - val_loss: 44.5832 - val_accuracy: 0.1633\n",
            "Epoch 1/5\n",
            "4/4 [==============================] - 4s 410ms/step - loss: 5.7197 - accuracy: 0.1088 - val_loss: 88.2551 - val_accuracy: 0.0204\n",
            "Epoch 2/5\n",
            "4/4 [==============================] - 0s 124ms/step - loss: 2.7763 - accuracy: 0.5329 - val_loss: 104.3136 - val_accuracy: 0.0408\n",
            "Epoch 3/5\n",
            "4/4 [==============================] - 1s 130ms/step - loss: 1.4116 - accuracy: 0.7256 - val_loss: 87.6334 - val_accuracy: 0.0612\n",
            "Epoch 4/5\n",
            "4/4 [==============================] - 1s 128ms/step - loss: 0.7899 - accuracy: 0.8231 - val_loss: 69.7563 - val_accuracy: 0.0816\n",
            "Epoch 5/5\n",
            "4/4 [==============================] - 0s 125ms/step - loss: 0.4549 - accuracy: 0.8821 - val_loss: 59.5674 - val_accuracy: 0.1020\n"
          ],
          "name": "stdout"
        },
        {
          "output_type": "stream",
          "text": [
            "\u001b[32m[I 2021-07-15 12:10:58,064]\u001b[0m Trial 2 finished with value: 10.357979188362757 and parameters: {'lr': 0.01328752062844372, 'steps': 74.61329078673877, 't_mult': 2, 'm_mult': 0.653923491237228}. Best is trial 2 with value: 10.357979188362757.\u001b[0m\n"
          ],
          "name": "stderr"
        },
        {
          "output_type": "stream",
          "text": [
            "Epoch 1/5\n",
            "4/4 [==============================] - 5s 395ms/step - loss: 6.2692 - accuracy: 0.1114 - val_loss: 210.4047 - val_accuracy: 0.0204\n",
            "Epoch 2/5\n",
            "4/4 [==============================] - 1s 130ms/step - loss: 3.4201 - accuracy: 0.5795 - val_loss: 163.2530 - val_accuracy: 0.0408\n",
            "Epoch 3/5\n",
            "4/4 [==============================] - 1s 128ms/step - loss: 1.8097 - accuracy: 0.6955 - val_loss: 102.7483 - val_accuracy: 0.0408\n",
            "Epoch 4/5\n",
            "4/4 [==============================] - 1s 127ms/step - loss: 0.8802 - accuracy: 0.8091 - val_loss: 79.5067 - val_accuracy: 0.0612\n",
            "Epoch 5/5\n",
            "4/4 [==============================] - 0s 124ms/step - loss: 0.6374 - accuracy: 0.8727 - val_loss: 65.7286 - val_accuracy: 0.0612\n",
            "Epoch 1/5\n",
            "4/4 [==============================] - 4s 383ms/step - loss: 7.1320 - accuracy: 0.0795 - val_loss: 199.8641 - val_accuracy: 0.0204\n",
            "Epoch 2/5\n",
            "4/4 [==============================] - 0s 126ms/step - loss: 3.1355 - accuracy: 0.5295 - val_loss: 173.4345 - val_accuracy: 0.0204\n",
            "Epoch 3/5\n",
            "4/4 [==============================] - 1s 129ms/step - loss: 1.5131 - accuracy: 0.7114 - val_loss: 122.7221 - val_accuracy: 0.0204\n",
            "Epoch 4/5\n",
            "4/4 [==============================] - 1s 129ms/step - loss: 0.6385 - accuracy: 0.8386 - val_loss: 88.0515 - val_accuracy: 0.0204\n",
            "Epoch 5/5\n",
            "4/4 [==============================] - 0s 125ms/step - loss: 0.5860 - accuracy: 0.8568 - val_loss: 71.6061 - val_accuracy: 0.0204\n",
            "Epoch 1/5\n",
            "4/4 [==============================] - 4s 420ms/step - loss: 6.8424 - accuracy: 0.0816 - val_loss: 234.1576 - val_accuracy: 0.0000e+00\n",
            "Epoch 2/5\n",
            "4/4 [==============================] - 1s 127ms/step - loss: 3.8133 - accuracy: 0.5125 - val_loss: 139.4929 - val_accuracy: 0.0408\n",
            "Epoch 3/5\n",
            "4/4 [==============================] - 0s 125ms/step - loss: 1.5450 - accuracy: 0.6939 - val_loss: 91.8174 - val_accuracy: 0.0612\n",
            "Epoch 4/5\n",
            "4/4 [==============================] - 1s 133ms/step - loss: 0.7675 - accuracy: 0.8186 - val_loss: 74.4445 - val_accuracy: 0.0408\n",
            "Epoch 5/5\n",
            "4/4 [==============================] - 0s 126ms/step - loss: 0.4790 - accuracy: 0.8798 - val_loss: 62.0341 - val_accuracy: 0.0408\n"
          ],
          "name": "stdout"
        },
        {
          "output_type": "stream",
          "text": [
            "\u001b[32m[I 2021-07-15 12:11:27,550]\u001b[0m Trial 3 finished with value: 6.544552122553189 and parameters: {'lr': 0.019861806185384617, 'steps': 19.558391848556656, 't_mult': 2, 'm_mult': 0.767728937616675}. Best is trial 2 with value: 10.357979188362757.\u001b[0m\n"
          ],
          "name": "stderr"
        },
        {
          "output_type": "stream",
          "text": [
            "Epoch 1/5\n",
            "4/4 [==============================] - 5s 570ms/step - loss: 5.9465 - accuracy: 0.0045 - val_loss: 5.7246 - val_accuracy: 0.0000e+00\n",
            "Epoch 2/5\n",
            "4/4 [==============================] - 0s 124ms/step - loss: 6.0126 - accuracy: 0.0068 - val_loss: 5.5763 - val_accuracy: 0.0000e+00\n",
            "Epoch 3/5\n",
            "4/4 [==============================] - 1s 128ms/step - loss: 5.8851 - accuracy: 0.0091 - val_loss: 5.4758 - val_accuracy: 0.0000e+00\n",
            "Epoch 4/5\n",
            "4/4 [==============================] - 1s 131ms/step - loss: 5.8576 - accuracy: 0.0136 - val_loss: 5.4019 - val_accuracy: 0.0000e+00\n",
            "Epoch 5/5\n",
            "4/4 [==============================] - 0s 123ms/step - loss: 5.9149 - accuracy: 0.0068 - val_loss: 5.3429 - val_accuracy: 0.0000e+00\n",
            "Epoch 1/5\n",
            "4/4 [==============================] - 4s 403ms/step - loss: 6.0853 - accuracy: 0.0068 - val_loss: 5.8852 - val_accuracy: 0.0204\n",
            "Epoch 2/5\n",
            "4/4 [==============================] - 1s 128ms/step - loss: 5.8467 - accuracy: 0.0068 - val_loss: 5.6775 - val_accuracy: 0.0204\n",
            "Epoch 3/5\n",
            "4/4 [==============================] - 1s 131ms/step - loss: 5.7596 - accuracy: 0.0182 - val_loss: 5.5480 - val_accuracy: 0.0204\n",
            "Epoch 4/5\n",
            "4/4 [==============================] - 0s 125ms/step - loss: 5.7965 - accuracy: 0.0045 - val_loss: 5.4584 - val_accuracy: 0.0204\n",
            "Epoch 5/5\n",
            "4/4 [==============================] - 0s 126ms/step - loss: 5.7831 - accuracy: 0.0045 - val_loss: 5.3885 - val_accuracy: 0.0204\n",
            "Epoch 1/5\n",
            "4/4 [==============================] - 5s 398ms/step - loss: 5.8773 - accuracy: 0.0091 - val_loss: 5.6902 - val_accuracy: 0.0000e+00\n",
            "Epoch 2/5\n",
            "4/4 [==============================] - 0s 125ms/step - loss: 5.6941 - accuracy: 0.0091 - val_loss: 5.4947 - val_accuracy: 0.0204\n",
            "Epoch 3/5\n",
            "4/4 [==============================] - 0s 126ms/step - loss: 5.5805 - accuracy: 0.0113 - val_loss: 5.3684 - val_accuracy: 0.0204\n",
            "Epoch 4/5\n",
            "4/4 [==============================] - 0s 126ms/step - loss: 5.6381 - accuracy: 0.0204 - val_loss: 5.2770 - val_accuracy: 0.0204\n",
            "Epoch 5/5\n",
            "4/4 [==============================] - 1s 129ms/step - loss: 5.4430 - accuracy: 0.0272 - val_loss: 5.2045 - val_accuracy: 0.0204\n"
          ],
          "name": "stdout"
        },
        {
          "output_type": "stream",
          "text": [
            "\u001b[32m[I 2021-07-15 12:11:53,705]\u001b[0m Trial 4 finished with value: 1.7726106258730094 and parameters: {'lr': 1.0052457383213662e-05, 'steps': 145.30570450841023, 't_mult': 2, 'm_mult': 0.12806608839365452}. Best is trial 2 with value: 10.357979188362757.\u001b[0m\n"
          ],
          "name": "stderr"
        },
        {
          "output_type": "stream",
          "text": [
            "Epoch 1/5\n",
            "4/4 [==============================] - 4s 386ms/step - loss: 5.9754 - accuracy: 0.0091 - val_loss: 5.7780 - val_accuracy: 0.0204\n",
            "Epoch 2/5\n",
            "4/4 [==============================] - 0s 126ms/step - loss: 6.0766 - accuracy: 0.0068 - val_loss: 5.5997 - val_accuracy: 0.0204\n",
            "Epoch 3/5\n",
            "4/4 [==============================] - 0s 126ms/step - loss: 6.0147 - accuracy: 0.0091 - val_loss: 5.4873 - val_accuracy: 0.0204\n",
            "Epoch 4/5\n",
            "4/4 [==============================] - 0s 124ms/step - loss: 5.8979 - accuracy: 0.0045 - val_loss: 5.4061 - val_accuracy: 0.0204\n",
            "Epoch 5/5\n",
            "4/4 [==============================] - 0s 125ms/step - loss: 5.8690 - accuracy: 0.0114 - val_loss: 5.3418 - val_accuracy: 0.0204\n",
            "Epoch 1/5\n",
            "4/4 [==============================] - 5s 398ms/step - loss: 6.1772 - accuracy: 0.0114 - val_loss: 5.9330 - val_accuracy: 0.0000e+00\n",
            "Epoch 2/5\n",
            "4/4 [==============================] - 0s 127ms/step - loss: 6.0144 - accuracy: 0.0045 - val_loss: 5.7453 - val_accuracy: 0.0000e+00\n",
            "Epoch 3/5\n",
            "4/4 [==============================] - 1s 129ms/step - loss: 6.0415 - accuracy: 0.0023 - val_loss: 5.6258 - val_accuracy: 0.0000e+00\n",
            "Epoch 4/5\n",
            "4/4 [==============================] - 1s 128ms/step - loss: 5.9446 - accuracy: 0.0068 - val_loss: 5.5393 - val_accuracy: 0.0000e+00\n",
            "Epoch 5/5\n",
            "4/4 [==============================] - 0s 124ms/step - loss: 5.7528 - accuracy: 0.0114 - val_loss: 5.4705 - val_accuracy: 0.0000e+00\n",
            "Epoch 1/5\n",
            "4/4 [==============================] - 4s 398ms/step - loss: 5.9781 - accuracy: 0.0068 - val_loss: 5.7455 - val_accuracy: 0.0000e+00\n",
            "Epoch 2/5\n",
            "4/4 [==============================] - 1s 129ms/step - loss: 5.9726 - accuracy: 0.0091 - val_loss: 5.5585 - val_accuracy: 0.0000e+00\n",
            "Epoch 3/5\n",
            "4/4 [==============================] - 1s 130ms/step - loss: 5.8932 - accuracy: 0.0023 - val_loss: 5.4465 - val_accuracy: 0.0000e+00\n",
            "Epoch 4/5\n",
            "4/4 [==============================] - 1s 129ms/step - loss: 5.7897 - accuracy: 0.0023 - val_loss: 5.3641 - val_accuracy: 0.0000e+00\n",
            "Epoch 5/5\n",
            "4/4 [==============================] - 0s 126ms/step - loss: 5.8358 - accuracy: 0.0091 - val_loss: 5.3032 - val_accuracy: 0.0000e+00\n"
          ],
          "name": "stdout"
        },
        {
          "output_type": "stream",
          "text": [
            "\u001b[32m[I 2021-07-15 12:12:19,287]\u001b[0m Trial 5 finished with value: 0.6808296777307987 and parameters: {'lr': 1.0426151345618007e-05, 'steps': 113.44736937416523, 't_mult': 2, 'm_mult': 0.19348688082143906}. Best is trial 2 with value: 10.357979188362757.\u001b[0m\n"
          ],
          "name": "stderr"
        },
        {
          "output_type": "stream",
          "text": [
            "Epoch 1/5\n",
            "4/4 [==============================] - 5s 386ms/step - loss: 5.9726 - accuracy: 0.0068 - val_loss: 5.4967 - val_accuracy: 0.0204\n",
            "Epoch 2/5\n",
            "4/4 [==============================] - 0s 127ms/step - loss: 4.9593 - accuracy: 0.0364 - val_loss: 5.0977 - val_accuracy: 0.0408\n",
            "Epoch 3/5\n",
            "4/4 [==============================] - 0s 126ms/step - loss: 4.2986 - accuracy: 0.0886 - val_loss: 4.8200 - val_accuracy: 0.0408\n",
            "Epoch 4/5\n",
            "4/4 [==============================] - 1s 126ms/step - loss: 3.7915 - accuracy: 0.1409 - val_loss: 4.5999 - val_accuracy: 0.0408\n",
            "Epoch 5/5\n",
            "4/4 [==============================] - 0s 125ms/step - loss: 3.2656 - accuracy: 0.2341 - val_loss: 4.4260 - val_accuracy: 0.0408\n",
            "Epoch 1/5\n",
            "4/4 [==============================] - 4s 383ms/step - loss: 5.8368 - accuracy: 0.0091 - val_loss: 5.4873 - val_accuracy: 0.0408\n",
            "Epoch 2/5\n",
            "4/4 [==============================] - 0s 127ms/step - loss: 4.9243 - accuracy: 0.0250 - val_loss: 5.0656 - val_accuracy: 0.0408\n",
            "Epoch 3/5\n",
            "4/4 [==============================] - 1s 127ms/step - loss: 4.3156 - accuracy: 0.0955 - val_loss: 4.7641 - val_accuracy: 0.0408\n",
            "Epoch 4/5\n",
            "4/4 [==============================] - 0s 127ms/step - loss: 3.8222 - accuracy: 0.1523 - val_loss: 4.5292 - val_accuracy: 0.0816\n",
            "Epoch 5/5\n",
            "4/4 [==============================] - 0s 123ms/step - loss: 3.3346 - accuracy: 0.2341 - val_loss: 4.3415 - val_accuracy: 0.1020\n",
            "Epoch 1/5\n",
            "4/4 [==============================] - 4s 421ms/step - loss: 6.0458 - accuracy: 0.0068 - val_loss: 5.4197 - val_accuracy: 0.0408\n",
            "Epoch 2/5\n",
            "4/4 [==============================] - 0s 127ms/step - loss: 5.0809 - accuracy: 0.0454 - val_loss: 5.0177 - val_accuracy: 0.0408\n",
            "Epoch 3/5\n",
            "4/4 [==============================] - 1s 129ms/step - loss: 4.4814 - accuracy: 0.0748 - val_loss: 4.7485 - val_accuracy: 0.0408\n",
            "Epoch 4/5\n",
            "4/4 [==============================] - 1s 127ms/step - loss: 3.8892 - accuracy: 0.1497 - val_loss: 4.5309 - val_accuracy: 0.0816\n",
            "Epoch 5/5\n",
            "4/4 [==============================] - 1s 127ms/step - loss: 3.3421 - accuracy: 0.2494 - val_loss: 4.3649 - val_accuracy: 0.0816\n"
          ],
          "name": "stdout"
        },
        {
          "output_type": "stream",
          "text": [
            "\u001b[32m[I 2021-07-15 12:12:45,412]\u001b[0m Trial 6 finished with value: 9.399464726448059 and parameters: {'lr': 0.0001470381276968866, 'steps': 58.7007452661241, 't_mult': 2, 'm_mult': 0.9607966751048179}. Best is trial 2 with value: 10.357979188362757.\u001b[0m\n"
          ],
          "name": "stderr"
        },
        {
          "output_type": "stream",
          "text": [
            "Epoch 1/5\n",
            "4/4 [==============================] - 5s 581ms/step - loss: 6.0880 - accuracy: 0.0045 - val_loss: 5.5908 - val_accuracy: 0.0000e+00\n",
            "Epoch 2/5\n",
            "4/4 [==============================] - 1s 129ms/step - loss: 5.3204 - accuracy: 0.0295 - val_loss: 5.2829 - val_accuracy: 0.0000e+00\n",
            "Epoch 3/5\n",
            "4/4 [==============================] - 1s 130ms/step - loss: 4.8010 - accuracy: 0.0545 - val_loss: 5.0513 - val_accuracy: 0.0000e+00\n",
            "Epoch 4/5\n",
            "4/4 [==============================] - 0s 123ms/step - loss: 4.4264 - accuracy: 0.0818 - val_loss: 4.8707 - val_accuracy: 0.0000e+00\n",
            "Epoch 5/5\n",
            "4/4 [==============================] - 0s 123ms/step - loss: 4.0338 - accuracy: 0.1295 - val_loss: 4.7204 - val_accuracy: 0.0000e+00\n",
            "Epoch 1/5\n",
            "4/4 [==============================] - 4s 388ms/step - loss: 6.1041 - accuracy: 0.0045 - val_loss: 5.6290 - val_accuracy: 0.0204\n",
            "Epoch 2/5\n",
            "4/4 [==============================] - 0s 126ms/step - loss: 5.5981 - accuracy: 0.0159 - val_loss: 5.3277 - val_accuracy: 0.0204\n",
            "Epoch 3/5\n",
            "4/4 [==============================] - 1s 130ms/step - loss: 5.0895 - accuracy: 0.0227 - val_loss: 5.0937 - val_accuracy: 0.0204\n",
            "Epoch 4/5\n",
            "4/4 [==============================] - 0s 126ms/step - loss: 4.6534 - accuracy: 0.0659 - val_loss: 4.9046 - val_accuracy: 0.0408\n",
            "Epoch 5/5\n",
            "4/4 [==============================] - 0s 123ms/step - loss: 4.2107 - accuracy: 0.1023 - val_loss: 4.7358 - val_accuracy: 0.0408\n",
            "Epoch 1/5\n",
            "4/4 [==============================] - 5s 393ms/step - loss: 5.9160 - accuracy: 0.0113 - val_loss: 5.5055 - val_accuracy: 0.0000e+00\n",
            "Epoch 2/5\n",
            "4/4 [==============================] - 0s 126ms/step - loss: 5.3433 - accuracy: 0.0227 - val_loss: 5.2487 - val_accuracy: 0.0000e+00\n",
            "Epoch 3/5\n",
            "4/4 [==============================] - 1s 127ms/step - loss: 4.8259 - accuracy: 0.0590 - val_loss: 5.0624 - val_accuracy: 0.0000e+00\n",
            "Epoch 4/5\n",
            "4/4 [==============================] - 1s 133ms/step - loss: 4.2573 - accuracy: 0.0930 - val_loss: 4.9106 - val_accuracy: 0.0000e+00\n",
            "Epoch 5/5\n",
            "4/4 [==============================] - 0s 126ms/step - loss: 3.9997 - accuracy: 0.1179 - val_loss: 4.7752 - val_accuracy: 0.0000e+00\n"
          ],
          "name": "stdout"
        },
        {
          "output_type": "stream",
          "text": [
            "\u001b[32m[I 2021-07-15 12:13:14,378]\u001b[0m Trial 7 finished with value: 3.9517117043336234 and parameters: {'lr': 9.505396355400992e-05, 'steps': 222.0637806367309, 't_mult': 2, 'm_mult': 0.6246638537679777}. Best is trial 2 with value: 10.357979188362757.\u001b[0m\n"
          ],
          "name": "stderr"
        },
        {
          "output_type": "stream",
          "text": [
            "Epoch 1/5\n",
            "4/4 [==============================] - 4s 390ms/step - loss: 5.9445 - accuracy: 0.0114 - val_loss: 5.5200 - val_accuracy: 0.0408\n",
            "Epoch 2/5\n",
            "4/4 [==============================] - 0s 126ms/step - loss: 5.4527 - accuracy: 0.0227 - val_loss: 5.2545 - val_accuracy: 0.0408\n",
            "Epoch 3/5\n",
            "4/4 [==============================] - 0s 126ms/step - loss: 4.8287 - accuracy: 0.0432 - val_loss: 5.0588 - val_accuracy: 0.0204\n",
            "Epoch 4/5\n",
            "4/4 [==============================] - 0s 127ms/step - loss: 4.4723 - accuracy: 0.0705 - val_loss: 4.8963 - val_accuracy: 0.0204\n",
            "Epoch 5/5\n",
            "4/4 [==============================] - 0s 124ms/step - loss: 4.1310 - accuracy: 0.0909 - val_loss: 4.7571 - val_accuracy: 0.0408\n",
            "Epoch 1/5\n",
            "4/4 [==============================] - 5s 395ms/step - loss: 5.7943 - accuracy: 0.0182 - val_loss: 5.4449 - val_accuracy: 0.0000e+00\n",
            "Epoch 2/5\n",
            "4/4 [==============================] - 1s 127ms/step - loss: 5.2593 - accuracy: 0.0341 - val_loss: 5.1572 - val_accuracy: 0.0000e+00\n",
            "Epoch 3/5\n",
            "4/4 [==============================] - 0s 126ms/step - loss: 4.8252 - accuracy: 0.0409 - val_loss: 4.9387 - val_accuracy: 0.0000e+00\n",
            "Epoch 4/5\n",
            "4/4 [==============================] - 1s 128ms/step - loss: 4.3616 - accuracy: 0.1114 - val_loss: 4.7599 - val_accuracy: 0.0000e+00\n",
            "Epoch 5/5\n",
            "4/4 [==============================] - 0s 124ms/step - loss: 3.8968 - accuracy: 0.1614 - val_loss: 4.6118 - val_accuracy: 0.0408\n",
            "Epoch 1/5\n",
            "4/4 [==============================] - 4s 394ms/step - loss: 6.0094 - accuracy: 0.0091 - val_loss: 5.5978 - val_accuracy: 0.0000e+00\n",
            "Epoch 2/5\n",
            "4/4 [==============================] - 0s 125ms/step - loss: 5.5347 - accuracy: 0.0181 - val_loss: 5.2581 - val_accuracy: 0.0000e+00\n",
            "Epoch 3/5\n",
            "4/4 [==============================] - 1s 127ms/step - loss: 4.8807 - accuracy: 0.0317 - val_loss: 5.0099 - val_accuracy: 0.0000e+00\n",
            "Epoch 4/5\n",
            "4/4 [==============================] - 0s 125ms/step - loss: 4.5839 - accuracy: 0.0680 - val_loss: 4.8105 - val_accuracy: 0.0204\n",
            "Epoch 5/5\n",
            "4/4 [==============================] - 0s 124ms/step - loss: 4.2864 - accuracy: 0.1247 - val_loss: 4.6430 - val_accuracy: 0.0204\n"
          ],
          "name": "stdout"
        },
        {
          "output_type": "stream",
          "text": [
            "\u001b[32m[I 2021-07-15 12:13:40,024]\u001b[0m Trial 8 finished with value: 3.2686516642570496 and parameters: {'lr': 9.263032197325841e-05, 'steps': 903.1673303311212, 't_mult': 2, 'm_mult': 0.5664196912842968}. Best is trial 2 with value: 10.357979188362757.\u001b[0m\n"
          ],
          "name": "stderr"
        },
        {
          "output_type": "stream",
          "text": [
            "Epoch 1/5\n",
            "4/4 [==============================] - 5s 385ms/step - loss: 5.1421 - accuracy: 0.0682 - val_loss: 5.3308 - val_accuracy: 0.1429\n",
            "Epoch 2/5\n",
            "4/4 [==============================] - 1s 131ms/step - loss: 1.3857 - accuracy: 0.6932 - val_loss: 6.0978 - val_accuracy: 0.1224\n",
            "Epoch 3/5\n",
            "4/4 [==============================] - 1s 128ms/step - loss: 0.5819 - accuracy: 0.8932 - val_loss: 6.7326 - val_accuracy: 0.1224\n",
            "Epoch 4/5\n",
            "4/4 [==============================] - 0s 126ms/step - loss: 0.2737 - accuracy: 0.9591 - val_loss: 6.8779 - val_accuracy: 0.1633\n",
            "Epoch 5/5\n",
            "4/4 [==============================] - 0s 125ms/step - loss: 0.1673 - accuracy: 0.9705 - val_loss: 6.9973 - val_accuracy: 0.1633\n",
            "Epoch 1/5\n",
            "4/4 [==============================] - 4s 392ms/step - loss: 5.0992 - accuracy: 0.0591 - val_loss: 4.7736 - val_accuracy: 0.1224\n",
            "Epoch 2/5\n",
            "4/4 [==============================] - 1s 129ms/step - loss: 1.4209 - accuracy: 0.6659 - val_loss: 6.9386 - val_accuracy: 0.1429\n",
            "Epoch 3/5\n",
            "4/4 [==============================] - 1s 133ms/step - loss: 0.5793 - accuracy: 0.8818 - val_loss: 7.7817 - val_accuracy: 0.1224\n",
            "Epoch 4/5\n",
            "4/4 [==============================] - 0s 126ms/step - loss: 0.3071 - accuracy: 0.9523 - val_loss: 8.1285 - val_accuracy: 0.1837\n",
            "Epoch 5/5\n",
            "4/4 [==============================] - 0s 122ms/step - loss: 0.1645 - accuracy: 0.9818 - val_loss: 7.9894 - val_accuracy: 0.2041\n",
            "Epoch 1/5\n",
            "4/4 [==============================] - 4s 397ms/step - loss: 5.1647 - accuracy: 0.0635 - val_loss: 4.7252 - val_accuracy: 0.1020\n",
            "Epoch 2/5\n",
            "4/4 [==============================] - 1s 126ms/step - loss: 1.3221 - accuracy: 0.7052 - val_loss: 5.4861 - val_accuracy: 0.3061\n",
            "Epoch 3/5\n",
            "4/4 [==============================] - 0s 126ms/step - loss: 0.5815 - accuracy: 0.9070 - val_loss: 6.0323 - val_accuracy: 0.3265\n",
            "Epoch 4/5\n",
            "4/4 [==============================] - 0s 126ms/step - loss: 0.2663 - accuracy: 0.9683 - val_loss: 6.3883 - val_accuracy: 0.3265\n",
            "Epoch 5/5\n",
            "4/4 [==============================] - 0s 127ms/step - loss: 0.1410 - accuracy: 0.9819 - val_loss: 6.5347 - val_accuracy: 0.3061\n"
          ],
          "name": "stdout"
        },
        {
          "output_type": "stream",
          "text": [
            "\u001b[32m[I 2021-07-15 12:14:06,130]\u001b[0m Trial 9 finished with value: 24.79647547006607 and parameters: {'lr': 0.0017993917666753558, 'steps': 482.03550258350214, 't_mult': 2, 'm_mult': 0.5383965865981949}. Best is trial 9 with value: 24.79647547006607.\u001b[0m\n"
          ],
          "name": "stderr"
        },
        {
          "output_type": "stream",
          "text": [
            "Epoch 1/5\n",
            "5/5 [==============================] - 7s 512ms/step - loss: 5.7162 - accuracy: 0.0128 - sensitivity_at_specificity_5: 0.4398 - specificity_at_sensitivity_5: 0.0000e+00 - precision_5: 0.0000e+00 - auc_10: 0.5260 - auc_11: 0.0110 - val_loss: 5.3052 - val_accuracy: 0.0180 - val_sensitivity_at_specificity_5: 0.5225 - val_specificity_at_sensitivity_5: 0.5595 - val_precision_5: 0.0000e+00 - val_auc_10: 0.5384 - val_auc_11: 0.0110\n",
            "Epoch 2/5\n",
            "5/5 [==============================] - 1s 163ms/step - loss: 5.5347 - accuracy: 0.0177 - sensitivity_at_specificity_5: 0.4896 - specificity_at_sensitivity_5: 0.0000e+00 - precision_5: 0.0000e+00 - auc_10: 0.5499 - auc_11: 0.0123 - val_loss: 5.1212 - val_accuracy: 0.0180 - val_sensitivity_at_specificity_5: 0.5766 - val_specificity_at_sensitivity_5: 0.5157 - val_precision_5: 0.0000e+00 - val_auc_10: 0.5465 - val_auc_11: 0.0113\n",
            "Epoch 3/5\n",
            "5/5 [==============================] - 1s 160ms/step - loss: 5.3944 - accuracy: 0.0193 - sensitivity_at_specificity_5: 0.5185 - specificity_at_sensitivity_5: 0.5950 - precision_5: 0.0270 - auc_10: 0.5649 - auc_11: 0.0133 - val_loss: 4.9975 - val_accuracy: 0.0180 - val_sensitivity_at_specificity_5: 0.3604 - val_specificity_at_sensitivity_5: 0.4853 - val_precision_5: 0.0000e+00 - val_auc_10: 0.5646 - val_auc_11: 0.0120\n",
            "Epoch 4/5\n",
            "5/5 [==============================] - 1s 158ms/step - loss: 5.1864 - accuracy: 0.0337 - sensitivity_at_specificity_5: 0.5586 - specificity_at_sensitivity_5: 0.6012 - precision_5: 0.0938 - auc_10: 0.5980 - auc_11: 0.0170 - val_loss: 4.8977 - val_accuracy: 0.0180 - val_sensitivity_at_specificity_5: 0.3784 - val_specificity_at_sensitivity_5: 0.4630 - val_precision_5: 0.0000e+00 - val_auc_10: 0.5838 - val_auc_11: 0.0127\n",
            "Epoch 5/5\n",
            "5/5 [==============================] - 1s 157ms/step - loss: 5.0101 - accuracy: 0.0369 - sensitivity_at_specificity_5: 0.6100 - specificity_at_sensitivity_5: 0.5984 - precision_5: 0.1176 - auc_10: 0.6274 - auc_11: 0.0209 - val_loss: 4.8107 - val_accuracy: 0.0180 - val_sensitivity_at_specificity_5: 0.3784 - val_specificity_at_sensitivity_5: 0.4469 - val_precision_5: 0.0000e+00 - val_auc_10: 0.5950 - val_auc_11: 0.0132\n",
            "3/3 [==============================] - 0s 36ms/step - loss: 4.8167 - accuracy: 0.0122 - sensitivity_at_specificity_5: 0.4390 - specificity_at_sensitivity_5: 0.4463 - precision_5: 0.0000e+00 - auc_10: 0.5938 - auc_11: 0.0125\n",
            "['loss', 'accuracy', 'sensitivity_at_specificity_5', 'specificity_at_sensitivity_5', 'precision_5', 'auc_10', 'auc_11']\n"
          ],
          "name": "stdout"
        },
        {
          "output_type": "stream",
          "text": [
            "\u001b[32m[I 2021-07-15 12:14:17,299]\u001b[0m A new study created in memory with name: no-name-495f7798-d349-4507-b96a-681473abd99e\u001b[0m\n"
          ],
          "name": "stderr"
        },
        {
          "output_type": "stream",
          "text": [
            "Epoch 1/5\n",
            "4/4 [==============================] - 4s 393ms/step - loss: 5.2512 - accuracy: 0.0499 - val_loss: 4.3010 - val_accuracy: 0.1224\n",
            "Epoch 2/5\n",
            "4/4 [==============================] - 1s 129ms/step - loss: 1.6590 - accuracy: 0.6236 - val_loss: 4.1340 - val_accuracy: 0.2041\n",
            "Epoch 3/5\n",
            "4/4 [==============================] - 1s 129ms/step - loss: 0.7419 - accuracy: 0.8662 - val_loss: 4.6987 - val_accuracy: 0.2245\n",
            "Epoch 4/5\n",
            "4/4 [==============================] - 0s 125ms/step - loss: 0.3651 - accuracy: 0.9501 - val_loss: 4.9810 - val_accuracy: 0.2245\n",
            "Epoch 5/5\n",
            "4/4 [==============================] - 0s 125ms/step - loss: 0.1897 - accuracy: 0.9728 - val_loss: 5.0618 - val_accuracy: 0.2653\n",
            "Epoch 1/5\n",
            "4/4 [==============================] - 5s 406ms/step - loss: 5.4200 - accuracy: 0.0340 - val_loss: 4.8949 - val_accuracy: 0.1020\n",
            "Epoch 2/5\n",
            "4/4 [==============================] - 1s 129ms/step - loss: 1.6311 - accuracy: 0.6304 - val_loss: 5.1613 - val_accuracy: 0.1429\n",
            "Epoch 3/5\n",
            "4/4 [==============================] - 1s 131ms/step - loss: 0.7685 - accuracy: 0.8662 - val_loss: 5.6188 - val_accuracy: 0.1429\n",
            "Epoch 4/5\n",
            "4/4 [==============================] - 1s 128ms/step - loss: 0.3665 - accuracy: 0.9501 - val_loss: 5.8248 - val_accuracy: 0.1633\n",
            "Epoch 5/5\n",
            "4/4 [==============================] - 0s 125ms/step - loss: 0.1919 - accuracy: 0.9819 - val_loss: 5.8926 - val_accuracy: 0.1837\n",
            "Epoch 1/5\n",
            "4/4 [==============================] - 4s 380ms/step - loss: 5.2482 - accuracy: 0.0454 - val_loss: 4.7861 - val_accuracy: 0.0408\n",
            "Epoch 2/5\n",
            "4/4 [==============================] - 1s 129ms/step - loss: 1.5895 - accuracy: 0.6259 - val_loss: 4.9432 - val_accuracy: 0.1020\n",
            "Epoch 3/5\n",
            "4/4 [==============================] - 1s 130ms/step - loss: 0.7464 - accuracy: 0.8526 - val_loss: 4.9698 - val_accuracy: 0.1429\n",
            "Epoch 4/5\n",
            "4/4 [==============================] - 1s 128ms/step - loss: 0.3648 - accuracy: 0.9342 - val_loss: 4.8779 - val_accuracy: 0.1837\n",
            "Epoch 5/5\n",
            "4/4 [==============================] - 1s 126ms/step - loss: 0.1957 - accuracy: 0.9705 - val_loss: 4.8016 - val_accuracy: 0.2653\n"
          ],
          "name": "stdout"
        },
        {
          "output_type": "stream",
          "text": [
            "\u001b[32m[I 2021-07-15 12:14:42,717]\u001b[0m Trial 0 finished with value: 26.258503397305805 and parameters: {'lr': 0.0013489391968013185, 'steps': 817.3294547005569, 't_mult': 1, 'm_mult': 0.9586230526798979}. Best is trial 0 with value: 26.258503397305805.\u001b[0m\n"
          ],
          "name": "stderr"
        },
        {
          "output_type": "stream",
          "text": [
            "Epoch 1/5\n",
            "4/4 [==============================] - 5s 389ms/step - loss: 5.6833 - accuracy: 0.0159 - val_loss: 5.6550 - val_accuracy: 0.0000e+00\n",
            "Epoch 2/5\n",
            "4/4 [==============================] - 1s 135ms/step - loss: 4.0779 - accuracy: 0.1179 - val_loss: 5.0920 - val_accuracy: 0.0000e+00\n",
            "Epoch 3/5\n",
            "4/4 [==============================] - 1s 129ms/step - loss: 2.9544 - accuracy: 0.3220 - val_loss: 4.6708 - val_accuracy: 0.1020\n",
            "Epoch 4/5\n",
            "4/4 [==============================] - 1s 129ms/step - loss: 2.1901 - accuracy: 0.4966 - val_loss: 4.3709 - val_accuracy: 0.1020\n",
            "Epoch 5/5\n",
            "4/4 [==============================] - 1s 128ms/step - loss: 1.5290 - accuracy: 0.6916 - val_loss: 4.1605 - val_accuracy: 0.1224\n",
            "Epoch 1/5\n",
            "4/4 [==============================] - 4s 388ms/step - loss: 5.6644 - accuracy: 0.0045 - val_loss: 5.1001 - val_accuracy: 0.0204\n",
            "Epoch 2/5\n",
            "4/4 [==============================] - 1s 127ms/step - loss: 4.0536 - accuracy: 0.1156 - val_loss: 4.6477 - val_accuracy: 0.0612\n",
            "Epoch 3/5\n",
            "4/4 [==============================] - 1s 129ms/step - loss: 2.7944 - accuracy: 0.3447 - val_loss: 4.3135 - val_accuracy: 0.1020\n",
            "Epoch 4/5\n",
            "4/4 [==============================] - 1s 132ms/step - loss: 2.2106 - accuracy: 0.4966 - val_loss: 4.1069 - val_accuracy: 0.1429\n",
            "Epoch 5/5\n",
            "4/4 [==============================] - 1s 128ms/step - loss: 1.5666 - accuracy: 0.6689 - val_loss: 3.9340 - val_accuracy: 0.1837\n",
            "Epoch 1/5\n",
            "4/4 [==============================] - 4s 433ms/step - loss: 5.8918 - accuracy: 0.0068 - val_loss: 5.7236 - val_accuracy: 0.0000e+00\n",
            "Epoch 2/5\n",
            "4/4 [==============================] - 1s 131ms/step - loss: 4.2134 - accuracy: 0.1247 - val_loss: 5.0869 - val_accuracy: 0.0204\n",
            "Epoch 3/5\n",
            "4/4 [==============================] - 1s 138ms/step - loss: 3.0560 - accuracy: 0.3175 - val_loss: 4.6283 - val_accuracy: 0.0408\n",
            "Epoch 4/5\n",
            "4/4 [==============================] - 1s 130ms/step - loss: 2.2366 - accuracy: 0.5125 - val_loss: 4.3039 - val_accuracy: 0.0816\n",
            "Epoch 5/5\n",
            "4/4 [==============================] - 1s 130ms/step - loss: 1.7207 - accuracy: 0.6304 - val_loss: 4.0549 - val_accuracy: 0.1429\n"
          ],
          "name": "stdout"
        },
        {
          "output_type": "stream",
          "text": [
            "\u001b[32m[I 2021-07-15 12:15:08,769]\u001b[0m Trial 1 finished with value: 16.054422159989674 and parameters: {'lr': 0.00031002834747345675, 'steps': 711.9247707269539, 't_mult': 2, 'm_mult': 0.09378852131097515}. Best is trial 0 with value: 26.258503397305805.\u001b[0m\n"
          ],
          "name": "stderr"
        },
        {
          "output_type": "stream",
          "text": [
            "Epoch 1/5\n",
            "4/4 [==============================] - 5s 429ms/step - loss: 5.9231 - accuracy: 0.0068 - val_loss: 5.6074 - val_accuracy: 0.0204\n",
            "Epoch 2/5\n",
            "4/4 [==============================] - 1s 130ms/step - loss: 5.3758 - accuracy: 0.0136 - val_loss: 5.3738 - val_accuracy: 0.0204\n",
            "Epoch 3/5\n",
            "4/4 [==============================] - 1s 132ms/step - loss: 5.1923 - accuracy: 0.0227 - val_loss: 5.2113 - val_accuracy: 0.0204\n",
            "Epoch 4/5\n",
            "4/4 [==============================] - 1s 131ms/step - loss: 5.0257 - accuracy: 0.0363 - val_loss: 5.0911 - val_accuracy: 0.0204\n",
            "Epoch 5/5\n",
            "4/4 [==============================] - 1s 129ms/step - loss: 4.7361 - accuracy: 0.0431 - val_loss: 4.9859 - val_accuracy: 0.0204\n",
            "Epoch 1/5\n",
            "4/4 [==============================] - 4s 397ms/step - loss: 5.9967 - accuracy: 0.0023 - val_loss: 5.7915 - val_accuracy: 0.0000e+00\n",
            "Epoch 2/5\n",
            "4/4 [==============================] - 1s 131ms/step - loss: 5.6087 - accuracy: 0.0136 - val_loss: 5.5177 - val_accuracy: 0.0000e+00\n",
            "Epoch 3/5\n",
            "4/4 [==============================] - 1s 137ms/step - loss: 5.3803 - accuracy: 0.0249 - val_loss: 5.3230 - val_accuracy: 0.0204\n",
            "Epoch 4/5\n",
            "4/4 [==============================] - 1s 137ms/step - loss: 5.0580 - accuracy: 0.0317 - val_loss: 5.1680 - val_accuracy: 0.0204\n",
            "Epoch 5/5\n",
            "4/4 [==============================] - 1s 127ms/step - loss: 4.9126 - accuracy: 0.0385 - val_loss: 5.0339 - val_accuracy: 0.0204\n",
            "Epoch 1/5\n",
            "4/4 [==============================] - 5s 411ms/step - loss: 5.9908 - accuracy: 0.0136 - val_loss: 5.8159 - val_accuracy: 0.0204\n",
            "Epoch 2/5\n",
            "4/4 [==============================] - 1s 136ms/step - loss: 5.7780 - accuracy: 0.0272 - val_loss: 5.5754 - val_accuracy: 0.0000e+00\n",
            "Epoch 3/5\n",
            "4/4 [==============================] - 1s 129ms/step - loss: 5.3670 - accuracy: 0.0295 - val_loss: 5.4112 - val_accuracy: 0.0000e+00\n",
            "Epoch 4/5\n",
            "4/4 [==============================] - 1s 132ms/step - loss: 5.1243 - accuracy: 0.0340 - val_loss: 5.2790 - val_accuracy: 0.0000e+00\n",
            "Epoch 5/5\n",
            "4/4 [==============================] - 1s 133ms/step - loss: 4.8553 - accuracy: 0.0680 - val_loss: 5.1738 - val_accuracy: 0.0000e+00\n"
          ],
          "name": "stdout"
        },
        {
          "output_type": "stream",
          "text": [
            "\u001b[32m[I 2021-07-15 12:15:33,540]\u001b[0m Trial 2 finished with value: 1.768707452962796 and parameters: {'lr': 5.1961331332499393e-05, 'steps': 203.24783055028692, 't_mult': 1, 'm_mult': 0.05628641076830876}. Best is trial 0 with value: 26.258503397305805.\u001b[0m\n"
          ],
          "name": "stderr"
        },
        {
          "output_type": "stream",
          "text": [
            "Epoch 1/5\n",
            "4/4 [==============================] - 4s 385ms/step - loss: 5.8931 - accuracy: 0.0068 - val_loss: 5.7702 - val_accuracy: 0.0204\n",
            "Epoch 2/5\n",
            "4/4 [==============================] - 1s 130ms/step - loss: 4.3834 - accuracy: 0.0862 - val_loss: 5.2741 - val_accuracy: 0.0408\n",
            "Epoch 3/5\n",
            "4/4 [==============================] - 1s 129ms/step - loss: 3.3084 - accuracy: 0.2517 - val_loss: 4.9048 - val_accuracy: 0.0408\n",
            "Epoch 4/5\n",
            "4/4 [==============================] - 1s 130ms/step - loss: 2.5103 - accuracy: 0.4354 - val_loss: 4.6156 - val_accuracy: 0.0816\n",
            "Epoch 5/5\n",
            "4/4 [==============================] - 1s 127ms/step - loss: 1.8662 - accuracy: 0.5850 - val_loss: 4.3866 - val_accuracy: 0.1020\n",
            "Epoch 1/5\n",
            "4/4 [==============================] - 5s 410ms/step - loss: 6.0226 - accuracy: 0.0113 - val_loss: 5.4360 - val_accuracy: 0.0612\n",
            "Epoch 2/5\n",
            "4/4 [==============================] - 1s 132ms/step - loss: 4.5386 - accuracy: 0.0635 - val_loss: 4.9048 - val_accuracy: 0.1020\n",
            "Epoch 3/5\n",
            "4/4 [==============================] - 1s 133ms/step - loss: 3.5178 - accuracy: 0.1927 - val_loss: 4.4977 - val_accuracy: 0.1429\n",
            "Epoch 4/5\n",
            "4/4 [==============================] - 1s 132ms/step - loss: 2.6229 - accuracy: 0.3878 - val_loss: 4.1796 - val_accuracy: 0.1633\n",
            "Epoch 5/5\n",
            "4/4 [==============================] - 1s 127ms/step - loss: 1.9428 - accuracy: 0.5828 - val_loss: 3.9343 - val_accuracy: 0.1224\n",
            "Epoch 1/5\n",
            "4/4 [==============================] - 4s 382ms/step - loss: 5.8384 - accuracy: 0.0159 - val_loss: 5.6568 - val_accuracy: 0.0204\n",
            "Epoch 2/5\n",
            "4/4 [==============================] - 1s 137ms/step - loss: 4.2904 - accuracy: 0.1043 - val_loss: 5.1686 - val_accuracy: 0.0408\n",
            "Epoch 3/5\n",
            "4/4 [==============================] - 1s 131ms/step - loss: 3.1593 - accuracy: 0.2540 - val_loss: 4.8223 - val_accuracy: 0.0816\n",
            "Epoch 4/5\n",
            "4/4 [==============================] - 1s 132ms/step - loss: 2.4474 - accuracy: 0.4127 - val_loss: 4.5363 - val_accuracy: 0.1224\n",
            "Epoch 5/5\n",
            "4/4 [==============================] - 1s 128ms/step - loss: 1.8499 - accuracy: 0.5986 - val_loss: 4.3144 - val_accuracy: 0.1429\n"
          ],
          "name": "stdout"
        },
        {
          "output_type": "stream",
          "text": [
            "\u001b[32m[I 2021-07-15 12:15:59,068]\u001b[0m Trial 3 finished with value: 15.238094826539358 and parameters: {'lr': 0.00027705358006119204, 'steps': 856.8199702109443, 't_mult': 1, 'm_mult': 0.5648598414224137}. Best is trial 0 with value: 26.258503397305805.\u001b[0m\n"
          ],
          "name": "stderr"
        },
        {
          "output_type": "stream",
          "text": [
            "Epoch 1/5\n",
            "4/4 [==============================] - 4s 392ms/step - loss: 5.9364 - accuracy: 0.0091 - val_loss: 5.4989 - val_accuracy: 0.0000e+00\n",
            "Epoch 2/5\n",
            "4/4 [==============================] - 1s 137ms/step - loss: 5.3562 - accuracy: 0.0204 - val_loss: 5.2236 - val_accuracy: 0.0000e+00\n",
            "Epoch 3/5\n",
            "4/4 [==============================] - 1s 132ms/step - loss: 4.8290 - accuracy: 0.0567 - val_loss: 5.0107 - val_accuracy: 0.0408\n",
            "Epoch 4/5\n",
            "4/4 [==============================] - 1s 133ms/step - loss: 4.2907 - accuracy: 0.0930 - val_loss: 4.8321 - val_accuracy: 0.0612\n",
            "Epoch 5/5\n",
            "4/4 [==============================] - 1s 130ms/step - loss: 3.9216 - accuracy: 0.1383 - val_loss: 4.6747 - val_accuracy: 0.0612\n",
            "Epoch 1/5\n",
            "4/4 [==============================] - 4s 392ms/step - loss: 6.0071 - accuracy: 0.0113 - val_loss: 5.5093 - val_accuracy: 0.0408\n",
            "Epoch 2/5\n",
            "4/4 [==============================] - 1s 128ms/step - loss: 5.4210 - accuracy: 0.0431 - val_loss: 5.2461 - val_accuracy: 0.0408\n",
            "Epoch 3/5\n",
            "4/4 [==============================] - 1s 128ms/step - loss: 5.0054 - accuracy: 0.0544 - val_loss: 5.0541 - val_accuracy: 0.0816\n",
            "Epoch 4/5\n",
            "4/4 [==============================] - 1s 130ms/step - loss: 4.4782 - accuracy: 0.0771 - val_loss: 4.8905 - val_accuracy: 0.1020\n",
            "Epoch 5/5\n",
            "4/4 [==============================] - 1s 127ms/step - loss: 4.0690 - accuracy: 0.1179 - val_loss: 4.7451 - val_accuracy: 0.1020\n",
            "Epoch 1/5\n",
            "4/4 [==============================] - 4s 383ms/step - loss: 6.1483 - accuracy: 0.0091 - val_loss: 5.6644 - val_accuracy: 0.0000e+00\n",
            "Epoch 2/5\n",
            "4/4 [==============================] - 1s 130ms/step - loss: 5.5239 - accuracy: 0.0363 - val_loss: 5.3089 - val_accuracy: 0.0000e+00\n",
            "Epoch 3/5\n",
            "4/4 [==============================] - 1s 132ms/step - loss: 4.9363 - accuracy: 0.0408 - val_loss: 5.0564 - val_accuracy: 0.0204\n",
            "Epoch 4/5\n",
            "4/4 [==============================] - 1s 131ms/step - loss: 4.4452 - accuracy: 0.0816 - val_loss: 4.8569 - val_accuracy: 0.0204\n",
            "Epoch 5/5\n",
            "4/4 [==============================] - 1s 126ms/step - loss: 4.1372 - accuracy: 0.1043 - val_loss: 4.6894 - val_accuracy: 0.0408\n"
          ],
          "name": "stdout"
        },
        {
          "output_type": "stream",
          "text": [
            "\u001b[32m[I 2021-07-15 12:16:23,059]\u001b[0m Trial 4 finished with value: 3.6734693373243013 and parameters: {'lr': 9.854754284810184e-05, 'steps': 361.47783352920953, 't_mult': 1, 'm_mult': 0.13988751800596733}. Best is trial 0 with value: 26.258503397305805.\u001b[0m\n"
          ],
          "name": "stderr"
        },
        {
          "output_type": "stream",
          "text": [
            "Epoch 1/5\n",
            "4/4 [==============================] - 5s 383ms/step - loss: 6.1718 - accuracy: 0.0091 - val_loss: 5.6366 - val_accuracy: 0.0000e+00\n",
            "Epoch 2/5\n",
            "4/4 [==============================] - 1s 131ms/step - loss: 5.8056 - accuracy: 0.0272 - val_loss: 5.3425 - val_accuracy: 0.0000e+00\n",
            "Epoch 3/5\n",
            "4/4 [==============================] - 1s 130ms/step - loss: 5.4341 - accuracy: 0.0249 - val_loss: 5.1312 - val_accuracy: 0.0000e+00\n",
            "Epoch 4/5\n",
            "4/4 [==============================] - 1s 131ms/step - loss: 5.3016 - accuracy: 0.0249 - val_loss: 4.9666 - val_accuracy: 0.0204\n",
            "Epoch 5/5\n",
            "4/4 [==============================] - 1s 128ms/step - loss: 4.8077 - accuracy: 0.0590 - val_loss: 4.8269 - val_accuracy: 0.0204\n",
            "Epoch 1/5\n",
            "4/4 [==============================] - 4s 377ms/step - loss: 6.1386 - accuracy: 0.0113 - val_loss: 5.3166 - val_accuracy: 0.0000e+00\n",
            "Epoch 2/5\n",
            "4/4 [==============================] - 1s 130ms/step - loss: 5.8204 - accuracy: 0.0181 - val_loss: 5.1203 - val_accuracy: 0.0000e+00\n",
            "Epoch 3/5\n",
            "4/4 [==============================] - 1s 129ms/step - loss: 5.3548 - accuracy: 0.0249 - val_loss: 4.9801 - val_accuracy: 0.0000e+00\n",
            "Epoch 4/5\n",
            "4/4 [==============================] - 1s 129ms/step - loss: 5.1288 - accuracy: 0.0295 - val_loss: 4.8677 - val_accuracy: 0.0000e+00\n",
            "Epoch 5/5\n",
            "4/4 [==============================] - 1s 126ms/step - loss: 4.8796 - accuracy: 0.0499 - val_loss: 4.7690 - val_accuracy: 0.0000e+00\n",
            "Epoch 1/5\n",
            "4/4 [==============================] - 4s 377ms/step - loss: 5.9893 - accuracy: 0.0068 - val_loss: 5.9498 - val_accuracy: 0.0204\n",
            "Epoch 2/5\n",
            "4/4 [==============================] - 1s 135ms/step - loss: 5.5647 - accuracy: 0.0181 - val_loss: 5.6181 - val_accuracy: 0.0204\n",
            "Epoch 3/5\n",
            "4/4 [==============================] - 1s 131ms/step - loss: 5.4126 - accuracy: 0.0227 - val_loss: 5.3948 - val_accuracy: 0.0204\n",
            "Epoch 4/5\n",
            "4/4 [==============================] - 1s 132ms/step - loss: 4.9598 - accuracy: 0.0408 - val_loss: 5.2264 - val_accuracy: 0.0204\n",
            "Epoch 5/5\n",
            "4/4 [==============================] - 1s 127ms/step - loss: 4.8240 - accuracy: 0.0249 - val_loss: 5.0833 - val_accuracy: 0.0204\n"
          ],
          "name": "stdout"
        },
        {
          "output_type": "stream",
          "text": [
            "\u001b[32m[I 2021-07-15 12:16:47,116]\u001b[0m Trial 5 finished with value: 2.176870685070753 and parameters: {'lr': 5.6568978699456375e-05, 'steps': 884.7894789017873, 't_mult': 1, 'm_mult': 0.19446158174162165}. Best is trial 0 with value: 26.258503397305805.\u001b[0m\n"
          ],
          "name": "stderr"
        },
        {
          "output_type": "stream",
          "text": [
            "Epoch 1/5\n",
            "4/4 [==============================] - 4s 379ms/step - loss: 4.8121 - accuracy: 0.1156 - val_loss: 10.7659 - val_accuracy: 0.1224\n",
            "Epoch 2/5\n",
            "4/4 [==============================] - 1s 130ms/step - loss: 1.1918 - accuracy: 0.7324 - val_loss: 16.7536 - val_accuracy: 0.1837\n",
            "Epoch 3/5\n",
            "4/4 [==============================] - 1s 130ms/step - loss: 0.5535 - accuracy: 0.8730 - val_loss: 20.8149 - val_accuracy: 0.0816\n",
            "Epoch 4/5\n",
            "4/4 [==============================] - 1s 127ms/step - loss: 0.3233 - accuracy: 0.9297 - val_loss: 20.9931 - val_accuracy: 0.1020\n",
            "Epoch 5/5\n",
            "4/4 [==============================] - 1s 128ms/step - loss: 0.1882 - accuracy: 0.9569 - val_loss: 20.6039 - val_accuracy: 0.1429\n",
            "Epoch 1/5\n",
            "4/4 [==============================] - 4s 381ms/step - loss: 5.0402 - accuracy: 0.1247 - val_loss: 11.8689 - val_accuracy: 0.2041\n",
            "Epoch 2/5\n",
            "4/4 [==============================] - 1s 135ms/step - loss: 0.9917 - accuracy: 0.7528 - val_loss: 16.4638 - val_accuracy: 0.1837\n",
            "Epoch 3/5\n",
            "4/4 [==============================] - 1s 130ms/step - loss: 0.4712 - accuracy: 0.8980 - val_loss: 16.9938 - val_accuracy: 0.1429\n",
            "Epoch 4/5\n",
            "4/4 [==============================] - 1s 130ms/step - loss: 0.2963 - accuracy: 0.9093 - val_loss: 20.4512 - val_accuracy: 0.1224\n",
            "Epoch 5/5\n",
            "4/4 [==============================] - 1s 128ms/step - loss: 0.1521 - accuracy: 0.9615 - val_loss: 20.7869 - val_accuracy: 0.1224\n",
            "Epoch 1/5\n",
            "4/4 [==============================] - 5s 397ms/step - loss: 4.8627 - accuracy: 0.1179 - val_loss: 14.6648 - val_accuracy: 0.0612\n",
            "Epoch 2/5\n",
            "4/4 [==============================] - 1s 131ms/step - loss: 1.0613 - accuracy: 0.7302 - val_loss: 27.1292 - val_accuracy: 0.1020\n",
            "Epoch 3/5\n",
            "4/4 [==============================] - 1s 139ms/step - loss: 0.4499 - accuracy: 0.8957 - val_loss: 28.1698 - val_accuracy: 0.1020\n",
            "Epoch 4/5\n",
            "4/4 [==============================] - 1s 135ms/step - loss: 0.1874 - accuracy: 0.9592 - val_loss: 30.1324 - val_accuracy: 0.0816\n",
            "Epoch 5/5\n",
            "4/4 [==============================] - 1s 130ms/step - loss: 0.1030 - accuracy: 0.9864 - val_loss: 26.8296 - val_accuracy: 0.1020\n"
          ],
          "name": "stdout"
        },
        {
          "output_type": "stream",
          "text": [
            "\u001b[32m[I 2021-07-15 12:17:11,101]\u001b[0m Trial 6 finished with value: 12.653061002492905 and parameters: {'lr': 0.0043561670164333965, 'steps': 199.87937250274067, 't_mult': 2, 'm_mult': 0.4818115418209221}. Best is trial 0 with value: 26.258503397305805.\u001b[0m\n"
          ],
          "name": "stderr"
        },
        {
          "output_type": "stream",
          "text": [
            "Epoch 1/5\n",
            "4/4 [==============================] - 4s 384ms/step - loss: 19.4023 - accuracy: 0.0590 - val_loss: 1257.8959 - val_accuracy: 0.0204\n",
            "Epoch 2/5\n",
            "4/4 [==============================] - 1s 131ms/step - loss: 21.1197 - accuracy: 0.3492 - val_loss: 740.5138 - val_accuracy: 0.0408\n",
            "Epoch 3/5\n",
            "4/4 [==============================] - 1s 131ms/step - loss: 11.0934 - accuracy: 0.5147 - val_loss: 425.8932 - val_accuracy: 0.0204\n",
            "Epoch 4/5\n",
            "4/4 [==============================] - 1s 134ms/step - loss: 5.5980 - accuracy: 0.6621 - val_loss: 296.3614 - val_accuracy: 0.0408\n",
            "Epoch 5/5\n",
            "4/4 [==============================] - 1s 129ms/step - loss: 3.8326 - accuracy: 0.7029 - val_loss: 250.1967 - val_accuracy: 0.0612\n",
            "Epoch 1/5\n",
            "4/4 [==============================] - 5s 393ms/step - loss: 19.1002 - accuracy: 0.0612 - val_loss: 1319.4775 - val_accuracy: 0.0000e+00\n",
            "Epoch 2/5\n",
            "4/4 [==============================] - 1s 130ms/step - loss: 17.9949 - accuracy: 0.3605 - val_loss: 945.1289 - val_accuracy: 0.0000e+00\n",
            "Epoch 3/5\n",
            "4/4 [==============================] - 1s 131ms/step - loss: 9.3603 - accuracy: 0.5465 - val_loss: 555.7532 - val_accuracy: 0.0204\n",
            "Epoch 4/5\n",
            "4/4 [==============================] - 1s 133ms/step - loss: 6.3820 - accuracy: 0.6213 - val_loss: 351.4385 - val_accuracy: 0.0204\n",
            "Epoch 5/5\n",
            "4/4 [==============================] - 1s 128ms/step - loss: 4.6619 - accuracy: 0.7211 - val_loss: 255.9946 - val_accuracy: 0.0816\n",
            "Epoch 1/5\n",
            "4/4 [==============================] - 4s 378ms/step - loss: 17.4610 - accuracy: 0.0658 - val_loss: 1058.9607 - val_accuracy: 0.0204\n",
            "Epoch 2/5\n",
            "4/4 [==============================] - 1s 130ms/step - loss: 17.8173 - accuracy: 0.3628 - val_loss: 687.5282 - val_accuracy: 0.0204\n",
            "Epoch 3/5\n",
            "4/4 [==============================] - 1s 134ms/step - loss: 10.7973 - accuracy: 0.5057 - val_loss: 356.0863 - val_accuracy: 0.0408\n",
            "Epoch 4/5\n",
            "4/4 [==============================] - 1s 133ms/step - loss: 6.1221 - accuracy: 0.6349 - val_loss: 199.9283 - val_accuracy: 0.0408\n",
            "Epoch 5/5\n",
            "4/4 [==============================] - 1s 128ms/step - loss: 4.5477 - accuracy: 0.6848 - val_loss: 151.3143 - val_accuracy: 0.0612\n"
          ],
          "name": "stdout"
        },
        {
          "output_type": "stream",
          "text": [
            "\u001b[32m[I 2021-07-15 12:17:34,966]\u001b[0m Trial 7 finished with value: 8.02721083164215 and parameters: {'lr': 0.08201417559675402, 'steps': 133.24464273458457, 't_mult': 2, 'm_mult': 0.1909545181573059}. Best is trial 0 with value: 26.258503397305805.\u001b[0m\n"
          ],
          "name": "stderr"
        },
        {
          "output_type": "stream",
          "text": [
            "Epoch 1/5\n",
            "4/4 [==============================] - 5s 388ms/step - loss: 5.7805 - accuracy: 0.0091 - val_loss: 4.7171 - val_accuracy: 0.0408\n",
            "Epoch 2/5\n",
            "4/4 [==============================] - 1s 128ms/step - loss: 2.9208 - accuracy: 0.3039 - val_loss: 4.0224 - val_accuracy: 0.1837\n",
            "Epoch 3/5\n",
            "4/4 [==============================] - 1s 130ms/step - loss: 1.5786 - accuracy: 0.6395 - val_loss: 3.6903 - val_accuracy: 0.2245\n",
            "Epoch 4/5\n",
            "4/4 [==============================] - 1s 130ms/step - loss: 1.0303 - accuracy: 0.7937 - val_loss: 3.5700 - val_accuracy: 0.3061\n",
            "Epoch 5/5\n",
            "4/4 [==============================] - 1s 129ms/step - loss: 0.6318 - accuracy: 0.8957 - val_loss: 3.5342 - val_accuracy: 0.3265\n",
            "Epoch 1/5\n",
            "4/4 [==============================] - 4s 403ms/step - loss: 5.6536 - accuracy: 0.0091 - val_loss: 5.3901 - val_accuracy: 0.0408\n",
            "Epoch 2/5\n",
            "4/4 [==============================] - 1s 131ms/step - loss: 2.9461 - accuracy: 0.3197 - val_loss: 4.7191 - val_accuracy: 0.0612\n",
            "Epoch 3/5\n",
            "4/4 [==============================] - 1s 128ms/step - loss: 1.6213 - accuracy: 0.6553 - val_loss: 4.2606 - val_accuracy: 0.0816\n",
            "Epoch 4/5\n",
            "4/4 [==============================] - 1s 137ms/step - loss: 1.0310 - accuracy: 0.8027 - val_loss: 3.9450 - val_accuracy: 0.1429\n",
            "Epoch 5/5\n",
            "4/4 [==============================] - 1s 133ms/step - loss: 0.6520 - accuracy: 0.8912 - val_loss: 3.7035 - val_accuracy: 0.2041\n",
            "Epoch 1/5\n",
            "4/4 [==============================] - 4s 390ms/step - loss: 5.5628 - accuracy: 0.0227 - val_loss: 4.9391 - val_accuracy: 0.1224\n",
            "Epoch 2/5\n",
            "4/4 [==============================] - 1s 131ms/step - loss: 2.8345 - accuracy: 0.3537 - val_loss: 4.4763 - val_accuracy: 0.1837\n",
            "Epoch 3/5\n",
            "4/4 [==============================] - 1s 129ms/step - loss: 1.5583 - accuracy: 0.6689 - val_loss: 4.3228 - val_accuracy: 0.2041\n",
            "Epoch 4/5\n",
            "4/4 [==============================] - 1s 131ms/step - loss: 0.9041 - accuracy: 0.8413 - val_loss: 4.2880 - val_accuracy: 0.2041\n",
            "Epoch 5/5\n",
            "4/4 [==============================] - 1s 128ms/step - loss: 0.5736 - accuracy: 0.9025 - val_loss: 4.2177 - val_accuracy: 0.2245\n"
          ],
          "name": "stdout"
        },
        {
          "output_type": "stream",
          "text": [
            "\u001b[32m[I 2021-07-15 12:18:00,803]\u001b[0m Trial 8 finished with value: 25.850340227286022 and parameters: {'lr': 0.0006344687506010364, 'steps': 904.061892654635, 't_mult': 1, 'm_mult': 0.5551334603487716}. Best is trial 0 with value: 26.258503397305805.\u001b[0m\n"
          ],
          "name": "stderr"
        },
        {
          "output_type": "stream",
          "text": [
            "Epoch 1/5\n",
            "4/4 [==============================] - 5s 553ms/step - loss: 5.3946 - accuracy: 0.0476 - val_loss: 4.7167 - val_accuracy: 0.1224\n",
            "Epoch 2/5\n",
            "4/4 [==============================] - 1s 133ms/step - loss: 1.8425 - accuracy: 0.5828 - val_loss: 4.8802 - val_accuracy: 0.1429\n",
            "Epoch 3/5\n",
            "4/4 [==============================] - 1s 133ms/step - loss: 0.8260 - accuracy: 0.8367 - val_loss: 5.2050 - val_accuracy: 0.1837\n",
            "Epoch 4/5\n",
            "4/4 [==============================] - 1s 137ms/step - loss: 0.4161 - accuracy: 0.9478 - val_loss: 5.5250 - val_accuracy: 0.2245\n",
            "Epoch 5/5\n",
            "4/4 [==============================] - 1s 130ms/step - loss: 0.2095 - accuracy: 0.9841 - val_loss: 5.7649 - val_accuracy: 0.2653\n",
            "Epoch 1/5\n",
            "4/4 [==============================] - 4s 400ms/step - loss: 5.3461 - accuracy: 0.0363 - val_loss: 4.8210 - val_accuracy: 0.0612\n",
            "Epoch 2/5\n",
            "4/4 [==============================] - 1s 134ms/step - loss: 1.8158 - accuracy: 0.6100 - val_loss: 4.8245 - val_accuracy: 0.0612\n",
            "Epoch 3/5\n",
            "4/4 [==============================] - 1s 133ms/step - loss: 0.8223 - accuracy: 0.8571 - val_loss: 5.2020 - val_accuracy: 0.1020\n",
            "Epoch 4/5\n",
            "4/4 [==============================] - 1s 136ms/step - loss: 0.4297 - accuracy: 0.9433 - val_loss: 5.3427 - val_accuracy: 0.1224\n",
            "Epoch 5/5\n",
            "4/4 [==============================] - 1s 128ms/step - loss: 0.1949 - accuracy: 0.9796 - val_loss: 5.4102 - val_accuracy: 0.1224\n",
            "Epoch 1/5\n",
            "4/4 [==============================] - 5s 424ms/step - loss: 5.4540 - accuracy: 0.0385 - val_loss: 4.4379 - val_accuracy: 0.1224\n",
            "Epoch 2/5\n",
            "4/4 [==============================] - 1s 134ms/step - loss: 1.8388 - accuracy: 0.6077 - val_loss: 4.4648 - val_accuracy: 0.1633\n",
            "Epoch 3/5\n",
            "4/4 [==============================] - 1s 134ms/step - loss: 0.8758 - accuracy: 0.8299 - val_loss: 4.8003 - val_accuracy: 0.1837\n",
            "Epoch 4/5\n",
            "4/4 [==============================] - 1s 133ms/step - loss: 0.4032 - accuracy: 0.9433 - val_loss: 4.9573 - val_accuracy: 0.2041\n",
            "Epoch 5/5\n",
            "4/4 [==============================] - 1s 130ms/step - loss: 0.2557 - accuracy: 0.9637 - val_loss: 4.9847 - val_accuracy: 0.2245\n"
          ],
          "name": "stdout"
        },
        {
          "output_type": "stream",
          "text": [
            "\u001b[32m[I 2021-07-15 12:18:26,664]\u001b[0m Trial 9 finished with value: 28.571428855260212 and parameters: {'lr': 0.0011632014436152216, 'steps': 804.2173473071418, 't_mult': 2, 'm_mult': 0.030079761207125744}. Best is trial 9 with value: 28.571428855260212.\u001b[0m\n"
          ],
          "name": "stderr"
        },
        {
          "output_type": "stream",
          "text": [
            "Epoch 1/5\n",
            "5/5 [==============================] - 8s 963ms/step - loss: 6.0062 - accuracy: 0.0064 - sensitivity_at_specificity_6: 0.3910 - specificity_at_sensitivity_6: 0.0000e+00 - precision_6: 0.0000e+00 - auc_12: 0.4958 - auc_13: 0.0097 - val_loss: 5.8190 - val_accuracy: 0.0180 - val_sensitivity_at_specificity_6: 0.4144 - val_specificity_at_sensitivity_6: 0.0000e+00 - val_precision_6: 0.0000e+00 - val_auc_12: 0.4821 - val_auc_13: 0.0095\n",
            "Epoch 2/5\n",
            "5/5 [==============================] - 1s 163ms/step - loss: 5.8766 - accuracy: 0.0144 - sensitivity_at_specificity_6: 0.4247 - specificity_at_sensitivity_6: 0.0000e+00 - precision_6: 0.0000e+00 - auc_12: 0.5162 - auc_13: 0.0106 - val_loss: 5.6166 - val_accuracy: 0.0180 - val_sensitivity_at_specificity_6: 0.4595 - val_specificity_at_sensitivity_6: 0.0000e+00 - val_precision_6: 0.0000e+00 - val_auc_12: 0.4829 - val_auc_13: 0.0095\n",
            "Epoch 3/5\n",
            "5/5 [==============================] - 1s 168ms/step - loss: 5.8826 - accuracy: 0.0080 - sensitivity_at_specificity_6: 0.4054 - specificity_at_sensitivity_6: 0.0000e+00 - precision_6: 0.0000e+00 - auc_12: 0.5006 - auc_13: 0.0099 - val_loss: 5.4828 - val_accuracy: 0.0180 - val_sensitivity_at_specificity_6: 0.2703 - val_specificity_at_sensitivity_6: 0.0000e+00 - val_precision_6: 0.0000e+00 - val_auc_12: 0.4898 - val_auc_13: 0.0098\n",
            "Epoch 4/5\n",
            "5/5 [==============================] - 1s 167ms/step - loss: 5.6827 - accuracy: 0.0128 - sensitivity_at_specificity_6: 0.4631 - specificity_at_sensitivity_6: 0.0000e+00 - precision_6: 0.0303 - auc_12: 0.5382 - auc_13: 0.0115 - val_loss: 5.3818 - val_accuracy: 0.0180 - val_sensitivity_at_specificity_6: 0.2973 - val_specificity_at_sensitivity_6: 0.4629 - val_precision_6: 0.0000e+00 - val_auc_12: 0.4940 - val_auc_13: 0.0100\n",
            "Epoch 5/5\n",
            "5/5 [==============================] - 1s 165ms/step - loss: 5.6120 - accuracy: 0.0176 - sensitivity_at_specificity_6: 0.4792 - specificity_at_sensitivity_6: 0.0000e+00 - precision_6: 0.0000e+00 - auc_12: 0.5470 - auc_13: 0.0120 - val_loss: 5.2964 - val_accuracy: 0.0180 - val_sensitivity_at_specificity_6: 0.3063 - val_specificity_at_sensitivity_6: 0.4461 - val_precision_6: 0.0000e+00 - val_auc_12: 0.4994 - val_auc_13: 0.0103\n",
            "3/3 [==============================] - 1s 330ms/step - loss: 5.1526 - accuracy: 0.0000e+00 - sensitivity_at_specificity_6: 0.3333 - specificity_at_sensitivity_6: 0.4342 - precision_6: 0.0000e+00 - auc_12: 0.5078 - auc_13: 0.0096\n"
          ],
          "name": "stdout"
        },
        {
          "output_type": "stream",
          "text": [
            "\u001b[32m[I 2021-07-15 12:18:39,812]\u001b[0m A new study created in memory with name: no-name-440fc42f-df94-4a62-acda-5250dc067105\u001b[0m\n"
          ],
          "name": "stderr"
        },
        {
          "output_type": "stream",
          "text": [
            "['loss', 'accuracy', 'sensitivity_at_specificity_6', 'specificity_at_sensitivity_6', 'precision_6', 'auc_12', 'auc_13']\n",
            "Epoch 1/5\n",
            "4/4 [==============================] - 5s 377ms/step - loss: 5.0060 - accuracy: 0.1179 - val_loss: 23.3091 - val_accuracy: 0.0612\n",
            "Epoch 2/5\n",
            "4/4 [==============================] - 1s 128ms/step - loss: 1.2819 - accuracy: 0.7120 - val_loss: 32.5564 - val_accuracy: 0.0408\n",
            "Epoch 3/5\n",
            "4/4 [==============================] - 1s 137ms/step - loss: 0.6951 - accuracy: 0.8413 - val_loss: 36.1719 - val_accuracy: 0.1020\n",
            "Epoch 4/5\n",
            "4/4 [==============================] - 1s 131ms/step - loss: 0.4316 - accuracy: 0.8821 - val_loss: 34.2963 - val_accuracy: 0.0816\n",
            "Epoch 5/5\n",
            "4/4 [==============================] - 1s 130ms/step - loss: 0.1971 - accuracy: 0.9524 - val_loss: 26.9607 - val_accuracy: 0.1429\n",
            "Epoch 1/5\n",
            "4/4 [==============================] - 4s 379ms/step - loss: 4.7500 - accuracy: 0.1429 - val_loss: 25.2203 - val_accuracy: 0.0612\n",
            "Epoch 2/5\n",
            "4/4 [==============================] - 1s 132ms/step - loss: 1.3341 - accuracy: 0.6939 - val_loss: 32.2305 - val_accuracy: 0.0612\n",
            "Epoch 3/5\n",
            "4/4 [==============================] - 1s 132ms/step - loss: 0.6126 - accuracy: 0.8503 - val_loss: 37.8953 - val_accuracy: 0.0816\n",
            "Epoch 4/5\n",
            "4/4 [==============================] - 1s 131ms/step - loss: 0.3679 - accuracy: 0.8889 - val_loss: 29.9333 - val_accuracy: 0.0612\n",
            "Epoch 5/5\n",
            "4/4 [==============================] - 1s 132ms/step - loss: 0.2715 - accuracy: 0.9410 - val_loss: 27.9398 - val_accuracy: 0.0612\n",
            "Epoch 1/5\n",
            "4/4 [==============================] - 4s 389ms/step - loss: 5.1758 - accuracy: 0.0952 - val_loss: 24.7767 - val_accuracy: 0.1020\n",
            "Epoch 2/5\n",
            "4/4 [==============================] - 1s 129ms/step - loss: 1.4665 - accuracy: 0.6825 - val_loss: 26.4547 - val_accuracy: 0.1224\n",
            "Epoch 3/5\n",
            "4/4 [==============================] - 1s 130ms/step - loss: 0.6175 - accuracy: 0.8526 - val_loss: 37.0933 - val_accuracy: 0.0408\n",
            "Epoch 4/5\n",
            "4/4 [==============================] - 1s 132ms/step - loss: 0.4113 - accuracy: 0.8844 - val_loss: 37.1993 - val_accuracy: 0.0816\n",
            "Epoch 5/5\n",
            "4/4 [==============================] - 1s 128ms/step - loss: 0.1938 - accuracy: 0.9456 - val_loss: 32.3858 - val_accuracy: 0.1224\n"
          ],
          "name": "stdout"
        },
        {
          "output_type": "stream",
          "text": [
            "\u001b[32m[I 2021-07-15 12:19:05,713]\u001b[0m Trial 0 finished with value: 10.884353766838709 and parameters: {'lr': 0.006415304646696281, 'steps': 138.78370340864842, 't_mult': 1, 'm_mult': 0.15417443188240276}. Best is trial 0 with value: 10.884353766838709.\u001b[0m\n"
          ],
          "name": "stderr"
        },
        {
          "output_type": "stream",
          "text": [
            "Epoch 1/5\n",
            "4/4 [==============================] - 4s 551ms/step - loss: 5.5887 - accuracy: 0.0249 - val_loss: 4.4308 - val_accuracy: 0.1020\n",
            "Epoch 2/5\n",
            "4/4 [==============================] - 1s 132ms/step - loss: 2.1145 - accuracy: 0.5193 - val_loss: 4.1365 - val_accuracy: 0.1429\n",
            "Epoch 3/5\n",
            "4/4 [==============================] - 1s 131ms/step - loss: 1.0210 - accuracy: 0.7914 - val_loss: 4.3997 - val_accuracy: 0.1633\n",
            "Epoch 4/5\n",
            "4/4 [==============================] - 1s 133ms/step - loss: 0.5390 - accuracy: 0.9048 - val_loss: 4.6471 - val_accuracy: 0.1837\n",
            "Epoch 5/5\n",
            "4/4 [==============================] - 1s 127ms/step - loss: 0.2965 - accuracy: 0.9546 - val_loss: 4.7839 - val_accuracy: 0.1837\n",
            "Epoch 1/5\n",
            "4/4 [==============================] - 4s 389ms/step - loss: 5.5505 - accuracy: 0.0340 - val_loss: 4.3837 - val_accuracy: 0.1633\n",
            "Epoch 2/5\n",
            "4/4 [==============================] - 1s 128ms/step - loss: 2.0545 - accuracy: 0.5283 - val_loss: 3.8964 - val_accuracy: 0.2245\n",
            "Epoch 3/5\n",
            "4/4 [==============================] - 1s 131ms/step - loss: 1.0732 - accuracy: 0.7891 - val_loss: 3.7891 - val_accuracy: 0.2653\n",
            "Epoch 4/5\n",
            "4/4 [==============================] - 1s 134ms/step - loss: 0.5201 - accuracy: 0.9229 - val_loss: 3.8221 - val_accuracy: 0.3265\n",
            "Epoch 5/5\n",
            "4/4 [==============================] - 1s 128ms/step - loss: 0.3160 - accuracy: 0.9569 - val_loss: 3.7908 - val_accuracy: 0.3469\n",
            "Epoch 1/5\n",
            "4/4 [==============================] - 5s 413ms/step - loss: 5.4488 - accuracy: 0.0476 - val_loss: 4.8430 - val_accuracy: 0.0816\n",
            "Epoch 2/5\n",
            "4/4 [==============================] - 1s 131ms/step - loss: 1.9453 - accuracy: 0.5556 - val_loss: 4.7321 - val_accuracy: 0.1633\n",
            "Epoch 3/5\n",
            "4/4 [==============================] - 1s 136ms/step - loss: 0.9849 - accuracy: 0.8118 - val_loss: 4.8402 - val_accuracy: 0.2041\n",
            "Epoch 4/5\n",
            "4/4 [==============================] - 1s 132ms/step - loss: 0.4866 - accuracy: 0.9342 - val_loss: 4.9303 - val_accuracy: 0.2041\n",
            "Epoch 5/5\n",
            "4/4 [==============================] - 1s 130ms/step - loss: 0.2906 - accuracy: 0.9592 - val_loss: 4.9937 - val_accuracy: 0.2041\n"
          ],
          "name": "stdout"
        },
        {
          "output_type": "stream",
          "text": [
            "\u001b[32m[I 2021-07-15 12:19:31,127]\u001b[0m Trial 1 finished with value: 27.755102515220642 and parameters: {'lr': 0.0010297353554862905, 'steps': 873.7262973576933, 't_mult': 2, 'm_mult': 0.2866157619099907}. Best is trial 1 with value: 27.755102515220642.\u001b[0m\n"
          ],
          "name": "stderr"
        },
        {
          "output_type": "stream",
          "text": [
            "Epoch 1/5\n",
            "4/4 [==============================] - 4s 401ms/step - loss: 6.0203 - accuracy: 0.0091 - val_loss: 5.2054 - val_accuracy: 0.0408\n",
            "Epoch 2/5\n",
            "4/4 [==============================] - 1s 131ms/step - loss: 5.1902 - accuracy: 0.0249 - val_loss: 4.8228 - val_accuracy: 0.0612\n",
            "Epoch 3/5\n",
            "4/4 [==============================] - 1s 129ms/step - loss: 4.6716 - accuracy: 0.0658 - val_loss: 4.5507 - val_accuracy: 0.0816\n",
            "Epoch 4/5\n",
            "4/4 [==============================] - 1s 132ms/step - loss: 4.1677 - accuracy: 0.0998 - val_loss: 4.3373 - val_accuracy: 0.1224\n",
            "Epoch 5/5\n",
            "4/4 [==============================] - 1s 130ms/step - loss: 3.5176 - accuracy: 0.2154 - val_loss: 4.1587 - val_accuracy: 0.1020\n",
            "Epoch 1/5\n",
            "4/4 [==============================] - 5s 403ms/step - loss: 5.8485 - accuracy: 0.0136 - val_loss: 5.4548 - val_accuracy: 0.0204\n",
            "Epoch 2/5\n",
            "4/4 [==============================] - 1s 133ms/step - loss: 5.0673 - accuracy: 0.0431 - val_loss: 5.1049 - val_accuracy: 0.0408\n",
            "Epoch 3/5\n",
            "4/4 [==============================] - 1s 130ms/step - loss: 4.5267 - accuracy: 0.0862 - val_loss: 4.8329 - val_accuracy: 0.0408\n",
            "Epoch 4/5\n",
            "4/4 [==============================] - 1s 132ms/step - loss: 4.0567 - accuracy: 0.1202 - val_loss: 4.6040 - val_accuracy: 0.0612\n",
            "Epoch 5/5\n",
            "4/4 [==============================] - 1s 132ms/step - loss: 3.3511 - accuracy: 0.2404 - val_loss: 4.4105 - val_accuracy: 0.0612\n",
            "Epoch 1/5\n",
            "4/4 [==============================] - 4s 385ms/step - loss: 5.9773 - accuracy: 0.0091 - val_loss: 5.5309 - val_accuracy: 0.0000e+00\n",
            "Epoch 2/5\n",
            "4/4 [==============================] - 1s 132ms/step - loss: 5.2327 - accuracy: 0.0272 - val_loss: 5.1706 - val_accuracy: 0.0000e+00\n",
            "Epoch 3/5\n",
            "4/4 [==============================] - 1s 130ms/step - loss: 4.5387 - accuracy: 0.0771 - val_loss: 4.9017 - val_accuracy: 0.0000e+00\n",
            "Epoch 4/5\n",
            "4/4 [==============================] - 1s 136ms/step - loss: 4.0842 - accuracy: 0.1383 - val_loss: 4.6952 - val_accuracy: 0.0408\n",
            "Epoch 5/5\n",
            "4/4 [==============================] - 1s 127ms/step - loss: 3.3780 - accuracy: 0.2132 - val_loss: 4.5253 - val_accuracy: 0.0612\n"
          ],
          "name": "stdout"
        },
        {
          "output_type": "stream",
          "text": [
            "\u001b[32m[I 2021-07-15 12:19:55,167]\u001b[0m Trial 2 finished with value: 7.619047785798709 and parameters: {'lr': 0.00012649333491379655, 'steps': 815.6496923346997, 't_mult': 1, 'm_mult': 0.9659230670165693}. Best is trial 1 with value: 27.755102515220642.\u001b[0m\n"
          ],
          "name": "stderr"
        },
        {
          "output_type": "stream",
          "text": [
            "Epoch 1/5\n",
            "4/4 [==============================] - 5s 385ms/step - loss: 5.1942 - accuracy: 0.0998 - val_loss: 44.6291 - val_accuracy: 0.0204\n",
            "Epoch 2/5\n",
            "4/4 [==============================] - 1s 131ms/step - loss: 1.7068 - accuracy: 0.6372 - val_loss: 51.5373 - val_accuracy: 0.0612\n",
            "Epoch 3/5\n",
            "4/4 [==============================] - 1s 128ms/step - loss: 0.7495 - accuracy: 0.8027 - val_loss: 52.5893 - val_accuracy: 0.0408\n",
            "Epoch 4/5\n",
            "4/4 [==============================] - 1s 134ms/step - loss: 0.4663 - accuracy: 0.8730 - val_loss: 49.6478 - val_accuracy: 0.0408\n",
            "Epoch 5/5\n",
            "4/4 [==============================] - 1s 131ms/step - loss: 0.2547 - accuracy: 0.9161 - val_loss: 47.6952 - val_accuracy: 0.0612\n",
            "Epoch 1/5\n",
            "4/4 [==============================] - 4s 406ms/step - loss: 5.4165 - accuracy: 0.1020 - val_loss: 49.3060 - val_accuracy: 0.0612\n",
            "Epoch 2/5\n",
            "4/4 [==============================] - 1s 134ms/step - loss: 1.6391 - accuracy: 0.6780 - val_loss: 51.7146 - val_accuracy: 0.0816\n",
            "Epoch 3/5\n",
            "4/4 [==============================] - 1s 134ms/step - loss: 0.8734 - accuracy: 0.7937 - val_loss: 37.1956 - val_accuracy: 0.1429\n",
            "Epoch 4/5\n",
            "4/4 [==============================] - 1s 135ms/step - loss: 0.3872 - accuracy: 0.9138 - val_loss: 42.2413 - val_accuracy: 0.1224\n",
            "Epoch 5/5\n",
            "4/4 [==============================] - 1s 131ms/step - loss: 0.4075 - accuracy: 0.9161 - val_loss: 40.6968 - val_accuracy: 0.1224\n",
            "Epoch 1/5\n",
            "4/4 [==============================] - 4s 413ms/step - loss: 5.0169 - accuracy: 0.1179 - val_loss: 41.2029 - val_accuracy: 0.0204\n",
            "Epoch 2/5\n",
            "4/4 [==============================] - 1s 137ms/step - loss: 1.5885 - accuracy: 0.6417 - val_loss: 57.3386 - val_accuracy: 0.0204\n",
            "Epoch 3/5\n",
            "4/4 [==============================] - 1s 135ms/step - loss: 0.6944 - accuracy: 0.8254 - val_loss: 41.3395 - val_accuracy: 0.1020\n",
            "Epoch 4/5\n",
            "4/4 [==============================] - 1s 138ms/step - loss: 0.4585 - accuracy: 0.8753 - val_loss: 33.7366 - val_accuracy: 0.1020\n",
            "Epoch 5/5\n",
            "4/4 [==============================] - 1s 131ms/step - loss: 0.2831 - accuracy: 0.9229 - val_loss: 31.3875 - val_accuracy: 0.1224\n"
          ],
          "name": "stdout"
        },
        {
          "output_type": "stream",
          "text": [
            "\u001b[32m[I 2021-07-15 12:20:21,411]\u001b[0m Trial 3 finished with value: 9.251700590054194 and parameters: {'lr': 0.008692425847331231, 'steps': 306.55699190340005, 't_mult': 1, 'm_mult': 0.007256040464234781}. Best is trial 1 with value: 27.755102515220642.\u001b[0m\n"
          ],
          "name": "stderr"
        },
        {
          "output_type": "stream",
          "text": [
            "Epoch 1/5\n",
            "4/4 [==============================] - 5s 596ms/step - loss: 8.7329 - accuracy: 0.0907 - val_loss: 429.6170 - val_accuracy: 0.0612\n",
            "Epoch 2/5\n",
            "4/4 [==============================] - 1s 136ms/step - loss: 7.0396 - accuracy: 0.4467 - val_loss: 291.8276 - val_accuracy: 0.0204\n",
            "Epoch 3/5\n",
            "4/4 [==============================] - 1s 136ms/step - loss: 3.1127 - accuracy: 0.6259 - val_loss: 191.8725 - val_accuracy: 0.1020\n",
            "Epoch 4/5\n",
            "4/4 [==============================] - 1s 134ms/step - loss: 1.9306 - accuracy: 0.7687 - val_loss: 127.6483 - val_accuracy: 0.1020\n",
            "Epoch 5/5\n",
            "4/4 [==============================] - 1s 131ms/step - loss: 1.3594 - accuracy: 0.7868 - val_loss: 108.0394 - val_accuracy: 0.1020\n",
            "Epoch 1/5\n",
            "4/4 [==============================] - 4s 400ms/step - loss: 8.8250 - accuracy: 0.0907 - val_loss: 367.3103 - val_accuracy: 0.0204\n",
            "Epoch 2/5\n",
            "4/4 [==============================] - 1s 134ms/step - loss: 5.8387 - accuracy: 0.4127 - val_loss: 276.5330 - val_accuracy: 0.0816\n",
            "Epoch 3/5\n",
            "4/4 [==============================] - 1s 134ms/step - loss: 3.2781 - accuracy: 0.5986 - val_loss: 218.5332 - val_accuracy: 0.0612\n",
            "Epoch 4/5\n",
            "4/4 [==============================] - 1s 138ms/step - loss: 2.0622 - accuracy: 0.7188 - val_loss: 139.0518 - val_accuracy: 0.0612\n",
            "Epoch 5/5\n",
            "4/4 [==============================] - 1s 130ms/step - loss: 1.2791 - accuracy: 0.7914 - val_loss: 112.7508 - val_accuracy: 0.1224\n",
            "Epoch 1/5\n",
            "4/4 [==============================] - 5s 598ms/step - loss: 7.7933 - accuracy: 0.1156 - val_loss: 261.8864 - val_accuracy: 0.0612\n",
            "Epoch 2/5\n",
            "4/4 [==============================] - 1s 133ms/step - loss: 5.6777 - accuracy: 0.4580 - val_loss: 227.5694 - val_accuracy: 0.0204\n",
            "Epoch 3/5\n",
            "4/4 [==============================] - 1s 132ms/step - loss: 2.7948 - accuracy: 0.6009 - val_loss: 140.0462 - val_accuracy: 0.1020\n",
            "Epoch 4/5\n",
            "4/4 [==============================] - 1s 136ms/step - loss: 1.8490 - accuracy: 0.7256 - val_loss: 116.5172 - val_accuracy: 0.1020\n",
            "Epoch 5/5\n",
            "4/4 [==============================] - 1s 134ms/step - loss: 1.0775 - accuracy: 0.7800 - val_loss: 96.6987 - val_accuracy: 0.1224\n"
          ],
          "name": "stdout"
        },
        {
          "output_type": "stream",
          "text": [
            "\u001b[32m[I 2021-07-15 12:20:50,182]\u001b[0m Trial 4 finished with value: 12.244898329178492 and parameters: {'lr': 0.02997454723702166, 'steps': 443.2641316334128, 't_mult': 1, 'm_mult': 0.129407102950177}. Best is trial 1 with value: 27.755102515220642.\u001b[0m\n"
          ],
          "name": "stderr"
        },
        {
          "output_type": "stream",
          "text": [
            "Epoch 1/5\n",
            "4/4 [==============================] - 4s 379ms/step - loss: 5.9657 - accuracy: 0.0068 - val_loss: 5.8635 - val_accuracy: 0.0000e+00\n",
            "Epoch 2/5\n",
            "4/4 [==============================] - 1s 133ms/step - loss: 5.8824 - accuracy: 0.0045 - val_loss: 5.6502 - val_accuracy: 0.0000e+00\n",
            "Epoch 3/5\n",
            "4/4 [==============================] - 1s 132ms/step - loss: 5.6623 - accuracy: 0.0181 - val_loss: 5.4985 - val_accuracy: 0.0000e+00\n",
            "Epoch 4/5\n",
            "4/4 [==============================] - 1s 128ms/step - loss: 5.4899 - accuracy: 0.0227 - val_loss: 5.3751 - val_accuracy: 0.0000e+00\n",
            "Epoch 5/5\n",
            "4/4 [==============================] - 1s 128ms/step - loss: 5.4302 - accuracy: 0.0113 - val_loss: 5.2691 - val_accuracy: 0.0000e+00\n",
            "Epoch 1/5\n",
            "4/4 [==============================] - 5s 385ms/step - loss: 5.8436 - accuracy: 0.0068 - val_loss: 5.6225 - val_accuracy: 0.0000e+00\n",
            "Epoch 2/5\n",
            "4/4 [==============================] - 1s 134ms/step - loss: 5.7083 - accuracy: 0.0227 - val_loss: 5.4135 - val_accuracy: 0.0000e+00\n",
            "Epoch 3/5\n",
            "4/4 [==============================] - 1s 132ms/step - loss: 5.5591 - accuracy: 0.0159 - val_loss: 5.2646 - val_accuracy: 0.0000e+00\n",
            "Epoch 4/5\n",
            "4/4 [==============================] - 1s 132ms/step - loss: 5.3245 - accuracy: 0.0136 - val_loss: 5.1468 - val_accuracy: 0.0000e+00\n",
            "Epoch 5/5\n",
            "4/4 [==============================] - 1s 128ms/step - loss: 5.2651 - accuracy: 0.0204 - val_loss: 5.0506 - val_accuracy: 0.0000e+00\n",
            "Epoch 1/5\n",
            "4/4 [==============================] - 4s 395ms/step - loss: 6.0184 - accuracy: 0.0068 - val_loss: 5.9364 - val_accuracy: 0.0000e+00\n",
            "Epoch 2/5\n",
            "4/4 [==============================] - 1s 128ms/step - loss: 5.7631 - accuracy: 0.0091 - val_loss: 5.6731 - val_accuracy: 0.0000e+00\n",
            "Epoch 3/5\n",
            "4/4 [==============================] - 1s 131ms/step - loss: 5.6100 - accuracy: 0.0181 - val_loss: 5.5115 - val_accuracy: 0.0204\n",
            "Epoch 4/5\n",
            "4/4 [==============================] - 1s 134ms/step - loss: 5.3888 - accuracy: 0.0204 - val_loss: 5.3870 - val_accuracy: 0.0204\n",
            "Epoch 5/5\n",
            "4/4 [==============================] - 1s 134ms/step - loss: 5.4073 - accuracy: 0.0295 - val_loss: 5.2873 - val_accuracy: 0.0204\n"
          ],
          "name": "stdout"
        },
        {
          "output_type": "stream",
          "text": [
            "\u001b[32m[I 2021-07-15 12:21:18,833]\u001b[0m Trial 5 finished with value: 1.4965986212094624 and parameters: {'lr': 2.853203520499894e-05, 'steps': 396.7257502133951, 't_mult': 1, 'm_mult': 0.5728182866255036}. Best is trial 1 with value: 27.755102515220642.\u001b[0m\n"
          ],
          "name": "stderr"
        },
        {
          "output_type": "stream",
          "text": [
            "Epoch 1/5\n",
            "4/4 [==============================] - 4s 383ms/step - loss: 5.9891 - accuracy: 0.0068 - val_loss: 6.1577 - val_accuracy: 0.0204\n",
            "Epoch 2/5\n",
            "4/4 [==============================] - 1s 129ms/step - loss: 5.7075 - accuracy: 0.0113 - val_loss: 5.8261 - val_accuracy: 0.0204\n",
            "Epoch 3/5\n",
            "4/4 [==============================] - 1s 132ms/step - loss: 5.4083 - accuracy: 0.0249 - val_loss: 5.5961 - val_accuracy: 0.0204\n",
            "Epoch 4/5\n",
            "4/4 [==============================] - 1s 128ms/step - loss: 5.1023 - accuracy: 0.0363 - val_loss: 5.4162 - val_accuracy: 0.0204\n",
            "Epoch 5/5\n",
            "4/4 [==============================] - 1s 130ms/step - loss: 4.7831 - accuracy: 0.0544 - val_loss: 5.2663 - val_accuracy: 0.0204\n",
            "Epoch 1/5\n",
            "4/4 [==============================] - 4s 377ms/step - loss: 5.9267 - accuracy: 0.0136 - val_loss: 5.1109 - val_accuracy: 0.0408\n",
            "Epoch 2/5\n",
            "4/4 [==============================] - 1s 131ms/step - loss: 5.6530 - accuracy: 0.0159 - val_loss: 4.8721 - val_accuracy: 0.0408\n",
            "Epoch 3/5\n",
            "4/4 [==============================] - 1s 132ms/step - loss: 5.1858 - accuracy: 0.0295 - val_loss: 4.6964 - val_accuracy: 0.0408\n",
            "Epoch 4/5\n",
            "4/4 [==============================] - 1s 131ms/step - loss: 4.9337 - accuracy: 0.0408 - val_loss: 4.5504 - val_accuracy: 0.1020\n",
            "Epoch 5/5\n",
            "4/4 [==============================] - 1s 130ms/step - loss: 4.6548 - accuracy: 0.0658 - val_loss: 4.4255 - val_accuracy: 0.1020\n",
            "Epoch 1/5\n",
            "4/4 [==============================] - 5s 392ms/step - loss: 6.1156 - accuracy: 0.0113 - val_loss: 5.9462 - val_accuracy: 0.0000e+00\n",
            "Epoch 2/5\n",
            "4/4 [==============================] - 1s 132ms/step - loss: 5.6319 - accuracy: 0.0181 - val_loss: 5.6345 - val_accuracy: 0.0000e+00\n",
            "Epoch 3/5\n",
            "4/4 [==============================] - 1s 132ms/step - loss: 5.3866 - accuracy: 0.0272 - val_loss: 5.4233 - val_accuracy: 0.0000e+00\n",
            "Epoch 4/5\n",
            "4/4 [==============================] - 1s 130ms/step - loss: 5.1336 - accuracy: 0.0272 - val_loss: 5.2612 - val_accuracy: 0.0204\n",
            "Epoch 5/5\n",
            "4/4 [==============================] - 1s 128ms/step - loss: 4.7544 - accuracy: 0.0567 - val_loss: 5.1299 - val_accuracy: 0.0204\n"
          ],
          "name": "stdout"
        },
        {
          "output_type": "stream",
          "text": [
            "\u001b[32m[I 2021-07-15 12:21:44,704]\u001b[0m Trial 6 finished with value: 1.6326530526081722 and parameters: {'lr': 5.9275387122716415e-05, 'steps': 190.19854270075177, 't_mult': 1, 'm_mult': 0.9253246358581864}. Best is trial 1 with value: 27.755102515220642.\u001b[0m\n"
          ],
          "name": "stderr"
        },
        {
          "output_type": "stream",
          "text": [
            "Epoch 1/5\n",
            "4/4 [==============================] - 4s 390ms/step - loss: 6.5231 - accuracy: 0.1270 - val_loss: 174.7575 - val_accuracy: 0.0612\n",
            "Epoch 2/5\n",
            "4/4 [==============================] - 1s 130ms/step - loss: 3.7151 - accuracy: 0.4966 - val_loss: 178.3073 - val_accuracy: 0.0204\n",
            "Epoch 3/5\n",
            "4/4 [==============================] - 1s 129ms/step - loss: 1.6595 - accuracy: 0.6735 - val_loss: 106.9431 - val_accuracy: 0.0612\n",
            "Epoch 4/5\n",
            "4/4 [==============================] - 1s 130ms/step - loss: 1.3998 - accuracy: 0.7415 - val_loss: 81.1945 - val_accuracy: 0.1429\n",
            "Epoch 5/5\n",
            "4/4 [==============================] - 1s 126ms/step - loss: 0.8453 - accuracy: 0.8005 - val_loss: 68.1077 - val_accuracy: 0.1837\n",
            "Epoch 1/5\n",
            "4/4 [==============================] - 4s 395ms/step - loss: 7.1087 - accuracy: 0.1111 - val_loss: 149.8537 - val_accuracy: 0.0408\n",
            "Epoch 2/5\n",
            "4/4 [==============================] - 1s 131ms/step - loss: 4.0047 - accuracy: 0.5283 - val_loss: 163.8083 - val_accuracy: 0.0408\n",
            "Epoch 3/5\n",
            "4/4 [==============================] - 1s 129ms/step - loss: 2.2520 - accuracy: 0.6417 - val_loss: 102.4222 - val_accuracy: 0.0816\n",
            "Epoch 4/5\n",
            "4/4 [==============================] - 1s 133ms/step - loss: 1.2353 - accuracy: 0.7710 - val_loss: 105.0240 - val_accuracy: 0.0408\n",
            "Epoch 5/5\n",
            "4/4 [==============================] - 1s 134ms/step - loss: 1.0162 - accuracy: 0.8073 - val_loss: 99.9124 - val_accuracy: 0.0612\n",
            "Epoch 1/5\n",
            "4/4 [==============================] - 4s 388ms/step - loss: 6.7769 - accuracy: 0.0952 - val_loss: 207.3968 - val_accuracy: 0.0204\n",
            "Epoch 2/5\n",
            "4/4 [==============================] - 1s 132ms/step - loss: 3.8353 - accuracy: 0.5125 - val_loss: 166.6395 - val_accuracy: 0.0408\n",
            "Epoch 3/5\n",
            "4/4 [==============================] - 1s 133ms/step - loss: 1.7797 - accuracy: 0.7052 - val_loss: 119.9348 - val_accuracy: 0.1224\n",
            "Epoch 4/5\n",
            "4/4 [==============================] - 1s 132ms/step - loss: 1.1696 - accuracy: 0.7483 - val_loss: 83.9391 - val_accuracy: 0.1633\n",
            "Epoch 5/5\n",
            "4/4 [==============================] - 1s 129ms/step - loss: 0.6628 - accuracy: 0.8413 - val_loss: 66.1263 - val_accuracy: 0.1633\n"
          ],
          "name": "stdout"
        },
        {
          "output_type": "stream",
          "text": [
            "\u001b[32m[I 2021-07-15 12:22:10,427]\u001b[0m Trial 7 finished with value: 9.251700590054194 and parameters: {'lr': 0.019253153709428854, 'steps': 457.0370918328992, 't_mult': 2, 'm_mult': 0.6815583468963128}. Best is trial 1 with value: 27.755102515220642.\u001b[0m\n"
          ],
          "name": "stderr"
        },
        {
          "output_type": "stream",
          "text": [
            "Epoch 1/5\n",
            "4/4 [==============================] - 4s 383ms/step - loss: 5.2490 - accuracy: 0.0454 - val_loss: 4.6899 - val_accuracy: 0.1020\n",
            "Epoch 2/5\n",
            "4/4 [==============================] - 1s 134ms/step - loss: 1.5348 - accuracy: 0.6463 - val_loss: 4.8029 - val_accuracy: 0.2245\n",
            "Epoch 3/5\n",
            "4/4 [==============================] - 1s 133ms/step - loss: 0.6680 - accuracy: 0.8821 - val_loss: 5.2557 - val_accuracy: 0.2857\n",
            "Epoch 4/5\n",
            "4/4 [==============================] - 1s 133ms/step - loss: 0.3421 - accuracy: 0.9433 - val_loss: 5.6855 - val_accuracy: 0.2653\n",
            "Epoch 5/5\n",
            "4/4 [==============================] - 1s 131ms/step - loss: 0.1999 - accuracy: 0.9728 - val_loss: 5.6848 - val_accuracy: 0.2653\n",
            "Epoch 1/5\n",
            "4/4 [==============================] - 5s 409ms/step - loss: 5.4475 - accuracy: 0.0408 - val_loss: 4.6598 - val_accuracy: 0.1429\n",
            "Epoch 2/5\n",
            "4/4 [==============================] - 1s 139ms/step - loss: 1.6019 - accuracy: 0.6349 - val_loss: 5.2228 - val_accuracy: 0.1837\n",
            "Epoch 3/5\n",
            "4/4 [==============================] - 1s 137ms/step - loss: 0.7140 - accuracy: 0.8707 - val_loss: 5.6643 - val_accuracy: 0.1837\n",
            "Epoch 4/5\n",
            "4/4 [==============================] - 1s 133ms/step - loss: 0.3730 - accuracy: 0.9410 - val_loss: 5.8406 - val_accuracy: 0.2653\n",
            "Epoch 5/5\n",
            "4/4 [==============================] - 1s 132ms/step - loss: 0.2020 - accuracy: 0.9728 - val_loss: 5.7567 - val_accuracy: 0.3469\n",
            "Epoch 1/5\n",
            "4/4 [==============================] - 4s 398ms/step - loss: 5.2174 - accuracy: 0.0794 - val_loss: 4.3455 - val_accuracy: 0.0816\n",
            "Epoch 2/5\n",
            "4/4 [==============================] - 1s 131ms/step - loss: 1.5389 - accuracy: 0.6553 - val_loss: 4.4458 - val_accuracy: 0.2041\n",
            "Epoch 3/5\n",
            "4/4 [==============================] - 1s 131ms/step - loss: 0.6927 - accuracy: 0.8617 - val_loss: 4.9164 - val_accuracy: 0.2245\n",
            "Epoch 4/5\n",
            "4/4 [==============================] - 1s 132ms/step - loss: 0.3419 - accuracy: 0.9501 - val_loss: 5.3874 - val_accuracy: 0.2245\n",
            "Epoch 5/5\n",
            "4/4 [==============================] - 1s 129ms/step - loss: 0.1901 - accuracy: 0.9751 - val_loss: 5.5097 - val_accuracy: 0.2449\n"
          ],
          "name": "stdout"
        },
        {
          "output_type": "stream",
          "text": [
            "\u001b[32m[I 2021-07-15 12:22:38,059]\u001b[0m Trial 8 finished with value: 30.0680269797643 and parameters: {'lr': 0.0015066934360426737, 'steps': 100.03312972984783, 't_mult': 1, 'm_mult': 0.4375458559052161}. Best is trial 8 with value: 30.0680269797643.\u001b[0m\n"
          ],
          "name": "stderr"
        },
        {
          "output_type": "stream",
          "text": [
            "Epoch 1/5\n",
            "4/4 [==============================] - 5s 396ms/step - loss: 9.1253 - accuracy: 0.0794 - val_loss: 362.8083 - val_accuracy: 0.0408\n",
            "Epoch 2/5\n",
            "4/4 [==============================] - 1s 134ms/step - loss: 8.0613 - accuracy: 0.3923 - val_loss: 248.3160 - val_accuracy: 0.0204\n",
            "Epoch 3/5\n",
            "4/4 [==============================] - 1s 133ms/step - loss: 3.7100 - accuracy: 0.5760 - val_loss: 197.9293 - val_accuracy: 0.0816\n",
            "Epoch 4/5\n",
            "4/4 [==============================] - 1s 134ms/step - loss: 2.4990 - accuracy: 0.6735 - val_loss: 171.1978 - val_accuracy: 0.0204\n",
            "Epoch 5/5\n",
            "4/4 [==============================] - 1s 129ms/step - loss: 1.5474 - accuracy: 0.7914 - val_loss: 167.8417 - val_accuracy: 0.0000e+00\n",
            "Epoch 1/5\n",
            "4/4 [==============================] - 4s 376ms/step - loss: 9.7492 - accuracy: 0.0884 - val_loss: 378.0652 - val_accuracy: 0.0204\n",
            "Epoch 2/5\n",
            "4/4 [==============================] - 1s 132ms/step - loss: 7.3083 - accuracy: 0.4240 - val_loss: 262.6196 - val_accuracy: 0.0612\n",
            "Epoch 3/5\n",
            "4/4 [==============================] - 1s 130ms/step - loss: 4.6638 - accuracy: 0.5737 - val_loss: 184.7147 - val_accuracy: 0.0612\n",
            "Epoch 4/5\n",
            "4/4 [==============================] - 1s 131ms/step - loss: 2.0988 - accuracy: 0.7211 - val_loss: 152.8448 - val_accuracy: 0.0408\n",
            "Epoch 5/5\n",
            "4/4 [==============================] - 1s 131ms/step - loss: 1.5918 - accuracy: 0.7755 - val_loss: 123.5224 - val_accuracy: 0.0816\n",
            "Epoch 1/5\n",
            "4/4 [==============================] - 4s 393ms/step - loss: 8.6787 - accuracy: 0.0816 - val_loss: 482.5812 - val_accuracy: 0.0000e+00\n",
            "Epoch 2/5\n",
            "4/4 [==============================] - 1s 135ms/step - loss: 6.8662 - accuracy: 0.4830 - val_loss: 344.1652 - val_accuracy: 0.0000e+00\n",
            "Epoch 3/5\n",
            "4/4 [==============================] - 1s 131ms/step - loss: 3.5545 - accuracy: 0.6100 - val_loss: 211.3390 - val_accuracy: 0.0000e+00\n",
            "Epoch 4/5\n",
            "4/4 [==============================] - 1s 133ms/step - loss: 2.2400 - accuracy: 0.6984 - val_loss: 128.4474 - val_accuracy: 0.0612\n",
            "Epoch 5/5\n",
            "4/4 [==============================] - 1s 130ms/step - loss: 1.1317 - accuracy: 0.8073 - val_loss: 107.3275 - val_accuracy: 0.0612\n"
          ],
          "name": "stdout"
        },
        {
          "output_type": "stream",
          "text": [
            "\u001b[32m[I 2021-07-15 12:23:03,976]\u001b[0m Trial 9 finished with value: 6.258503471811612 and parameters: {'lr': 0.03238823885677361, 'steps': 415.6767582658381, 't_mult': 1, 'm_mult': 0.2975315171098607}. Best is trial 8 with value: 30.0680269797643.\u001b[0m\n"
          ],
          "name": "stderr"
        },
        {
          "output_type": "stream",
          "text": [
            "Epoch 1/5\n",
            "5/5 [==============================] - 6s 519ms/step - loss: 6.0432 - accuracy: 0.0144 - sensitivity_at_specificity_7: 0.3766 - specificity_at_sensitivity_7: 0.0000e+00 - precision_7: 0.0222 - auc_14: 0.4884 - auc_15: 0.0096 - val_loss: 5.3703 - val_accuracy: 0.0090 - val_sensitivity_at_specificity_7: 0.4685 - val_specificity_at_sensitivity_7: 0.0000e+00 - val_precision_7: 0.0000e+00 - val_auc_14: 0.5057 - val_auc_15: 0.0104\n",
            "Epoch 2/5\n",
            "5/5 [==============================] - 1s 165ms/step - loss: 5.7275 - accuracy: 0.0144 - sensitivity_at_specificity_7: 0.4311 - specificity_at_sensitivity_7: 0.0000e+00 - precision_7: 0.0000e+00 - auc_14: 0.5217 - auc_15: 0.0112 - val_loss: 5.1796 - val_accuracy: 0.0090 - val_sensitivity_at_specificity_7: 0.2973 - val_specificity_at_sensitivity_7: 0.4973 - val_precision_7: 0.0000e+00 - val_auc_14: 0.5244 - val_auc_15: 0.0110\n",
            "Epoch 3/5\n",
            "5/5 [==============================] - 1s 165ms/step - loss: 5.5819 - accuracy: 0.0096 - sensitivity_at_specificity_7: 0.4744 - specificity_at_sensitivity_7: 0.0000e+00 - precision_7: 0.0000e+00 - auc_14: 0.5439 - auc_15: 0.0117 - val_loss: 5.0550 - val_accuracy: 0.0000e+00 - val_sensitivity_at_specificity_7: 0.3243 - val_specificity_at_sensitivity_7: 0.4711 - val_precision_7: 0.0000e+00 - val_auc_14: 0.5311 - val_auc_15: 0.0115\n",
            "Epoch 4/5\n",
            "5/5 [==============================] - 1s 165ms/step - loss: 5.4865 - accuracy: 0.0224 - sensitivity_at_specificity_7: 0.5000 - specificity_at_sensitivity_7: 0.5988 - precision_7: 0.0465 - auc_14: 0.5621 - auc_15: 0.0133 - val_loss: 4.9562 - val_accuracy: 0.0000e+00 - val_sensitivity_at_specificity_7: 0.3694 - val_specificity_at_sensitivity_7: 0.4504 - val_precision_7: 0.0000e+00 - val_auc_14: 0.5650 - val_auc_15: 0.0126\n",
            "Epoch 5/5\n",
            "5/5 [==============================] - 1s 162ms/step - loss: 5.4957 - accuracy: 0.0160 - sensitivity_at_specificity_7: 0.5224 - specificity_at_sensitivity_7: 0.5963 - precision_7: 0.0000e+00 - auc_14: 0.5667 - auc_15: 0.0128 - val_loss: 4.8768 - val_accuracy: 0.0000e+00 - val_sensitivity_at_specificity_7: 0.3874 - val_specificity_at_sensitivity_7: 0.4344 - val_precision_7: 0.0000e+00 - val_auc_14: 0.5749 - val_auc_15: 0.0134\n",
            "3/3 [==============================] - 0s 52ms/step - loss: 4.9836 - accuracy: 0.0370 - sensitivity_at_specificity_7: 0.3333 - specificity_at_sensitivity_7: 0.4138 - precision_7: 0.0000e+00 - auc_14: 0.5252 - auc_15: 0.0129\n"
          ],
          "name": "stdout"
        },
        {
          "output_type": "stream",
          "text": [
            "\u001b[32m[I 2021-07-15 12:23:19,948]\u001b[0m A new study created in memory with name: no-name-9f1365b1-28fa-4bae-b093-7438e80ae23a\u001b[0m\n"
          ],
          "name": "stderr"
        },
        {
          "output_type": "stream",
          "text": [
            "['loss', 'accuracy', 'sensitivity_at_specificity_7', 'specificity_at_sensitivity_7', 'precision_7', 'auc_14', 'auc_15']\n",
            "Epoch 1/5\n",
            "4/4 [==============================] - 4s 372ms/step - loss: 6.0276 - accuracy: 0.0113 - val_loss: 5.8276 - val_accuracy: 0.0000e+00\n",
            "Epoch 2/5\n",
            "4/4 [==============================] - 1s 126ms/step - loss: 5.8445 - accuracy: 0.0136 - val_loss: 5.6420 - val_accuracy: 0.0000e+00\n",
            "Epoch 3/5\n",
            "4/4 [==============================] - 1s 128ms/step - loss: 5.8133 - accuracy: 0.0227 - val_loss: 5.5188 - val_accuracy: 0.0000e+00\n",
            "Epoch 4/5\n",
            "4/4 [==============================] - 1s 130ms/step - loss: 5.6737 - accuracy: 0.0136 - val_loss: 5.4261 - val_accuracy: 0.0000e+00\n",
            "Epoch 5/5\n",
            "4/4 [==============================] - 1s 127ms/step - loss: 5.6871 - accuracy: 0.0113 - val_loss: 5.3482 - val_accuracy: 0.0000e+00\n",
            "Epoch 1/5\n",
            "4/4 [==============================] - 5s 391ms/step - loss: 5.8414 - accuracy: 0.0227 - val_loss: 5.9207 - val_accuracy: 0.0000e+00\n",
            "Epoch 2/5\n",
            "4/4 [==============================] - 1s 129ms/step - loss: 5.7398 - accuracy: 0.0159 - val_loss: 5.6820 - val_accuracy: 0.0000e+00\n",
            "Epoch 3/5\n",
            "4/4 [==============================] - 1s 131ms/step - loss: 5.6065 - accuracy: 0.0295 - val_loss: 5.5292 - val_accuracy: 0.0000e+00\n",
            "Epoch 4/5\n",
            "4/4 [==============================] - 1s 133ms/step - loss: 5.6313 - accuracy: 0.0272 - val_loss: 5.4150 - val_accuracy: 0.0000e+00\n",
            "Epoch 5/5\n",
            "4/4 [==============================] - 0s 125ms/step - loss: 5.5198 - accuracy: 0.0249 - val_loss: 5.3244 - val_accuracy: 0.0000e+00\n",
            "Epoch 1/5\n",
            "4/4 [==============================] - 4s 414ms/step - loss: 5.8670 - accuracy: 0.0249 - val_loss: 5.9841 - val_accuracy: 0.0000e+00\n",
            "Epoch 2/5\n",
            "4/4 [==============================] - 1s 129ms/step - loss: 5.7217 - accuracy: 0.0204 - val_loss: 5.7600 - val_accuracy: 0.0000e+00\n",
            "Epoch 3/5\n",
            "4/4 [==============================] - 1s 135ms/step - loss: 5.6759 - accuracy: 0.0181 - val_loss: 5.6226 - val_accuracy: 0.0000e+00\n",
            "Epoch 4/5\n",
            "4/4 [==============================] - 1s 129ms/step - loss: 5.5348 - accuracy: 0.0159 - val_loss: 5.5192 - val_accuracy: 0.0000e+00\n",
            "Epoch 5/5\n",
            "4/4 [==============================] - 1s 127ms/step - loss: 5.6824 - accuracy: 0.0159 - val_loss: 5.4381 - val_accuracy: 0.0000e+00\n"
          ],
          "name": "stdout"
        },
        {
          "output_type": "stream",
          "text": [
            "\u001b[32m[I 2021-07-15 12:23:46,821]\u001b[0m Trial 0 finished with value: 1.0884353580574195 and parameters: {'lr': 1.6964663429504067e-05, 'steps': 665.9055376606545, 't_mult': 2, 'm_mult': 0.4223012412122936}. Best is trial 0 with value: 1.0884353580574195.\u001b[0m\n"
          ],
          "name": "stderr"
        },
        {
          "output_type": "stream",
          "text": [
            "Epoch 1/5\n",
            "4/4 [==============================] - 4s 378ms/step - loss: 6.1545 - accuracy: 0.0068 - val_loss: 5.7181 - val_accuracy: 0.0000e+00\n",
            "Epoch 2/5\n",
            "4/4 [==============================] - 1s 126ms/step - loss: 5.6791 - accuracy: 0.0295 - val_loss: 5.4622 - val_accuracy: 0.0000e+00\n",
            "Epoch 3/5\n",
            "4/4 [==============================] - 1s 127ms/step - loss: 5.3659 - accuracy: 0.0272 - val_loss: 5.2864 - val_accuracy: 0.0000e+00\n",
            "Epoch 4/5\n",
            "4/4 [==============================] - 1s 131ms/step - loss: 4.9809 - accuracy: 0.0567 - val_loss: 5.1451 - val_accuracy: 0.0000e+00\n",
            "Epoch 5/5\n",
            "4/4 [==============================] - 1s 126ms/step - loss: 4.8897 - accuracy: 0.0408 - val_loss: 5.0266 - val_accuracy: 0.0000e+00\n",
            "Epoch 1/5\n",
            "4/4 [==============================] - 4s 503ms/step - loss: 5.8999 - accuracy: 0.0113 - val_loss: 5.4009 - val_accuracy: 0.0204\n",
            "Epoch 2/5\n",
            "4/4 [==============================] - 1s 130ms/step - loss: 5.5355 - accuracy: 0.0045 - val_loss: 5.1799 - val_accuracy: 0.0204\n",
            "Epoch 3/5\n",
            "4/4 [==============================] - 1s 130ms/step - loss: 5.2772 - accuracy: 0.0227 - val_loss: 5.0198 - val_accuracy: 0.0204\n",
            "Epoch 4/5\n",
            "4/4 [==============================] - 1s 129ms/step - loss: 4.9258 - accuracy: 0.0476 - val_loss: 4.8933 - val_accuracy: 0.0204\n",
            "Epoch 5/5\n",
            "4/4 [==============================] - 0s 126ms/step - loss: 4.6959 - accuracy: 0.0544 - val_loss: 4.7867 - val_accuracy: 0.0408\n",
            "Epoch 1/5\n",
            "4/4 [==============================] - 4s 413ms/step - loss: 5.8893 - accuracy: 0.0136 - val_loss: 5.3830 - val_accuracy: 0.0204\n",
            "Epoch 2/5\n",
            "4/4 [==============================] - 1s 129ms/step - loss: 5.7277 - accuracy: 0.0136 - val_loss: 5.1383 - val_accuracy: 0.0000e+00\n",
            "Epoch 3/5\n",
            "4/4 [==============================] - 1s 128ms/step - loss: 5.3647 - accuracy: 0.0136 - val_loss: 4.9707 - val_accuracy: 0.0000e+00\n",
            "Epoch 4/5\n",
            "4/4 [==============================] - 1s 128ms/step - loss: 5.1268 - accuracy: 0.0272 - val_loss: 4.8361 - val_accuracy: 0.0204\n",
            "Epoch 5/5\n",
            "4/4 [==============================] - 0s 125ms/step - loss: 4.9088 - accuracy: 0.0317 - val_loss: 4.7218 - val_accuracy: 0.0204\n"
          ],
          "name": "stdout"
        },
        {
          "output_type": "stream",
          "text": [
            "\u001b[32m[I 2021-07-15 12:24:12,172]\u001b[0m Trial 1 finished with value: 2.9931971803307533 and parameters: {'lr': 5.537935737132288e-05, 'steps': 374.5578731055067, 't_mult': 2, 'm_mult': 0.2201889901308388}. Best is trial 1 with value: 2.9931971803307533.\u001b[0m\n"
          ],
          "name": "stderr"
        },
        {
          "output_type": "stream",
          "text": [
            "Epoch 1/5\n",
            "4/4 [==============================] - 4s 535ms/step - loss: 5.6562 - accuracy: 0.0204 - val_loss: 5.0608 - val_accuracy: 0.0000e+00\n",
            "Epoch 2/5\n",
            "4/4 [==============================] - 1s 129ms/step - loss: 3.5457 - accuracy: 0.2177 - val_loss: 4.4922 - val_accuracy: 0.0612\n",
            "Epoch 3/5\n",
            "4/4 [==============================] - 1s 127ms/step - loss: 2.3219 - accuracy: 0.4694 - val_loss: 4.1456 - val_accuracy: 0.1020\n",
            "Epoch 4/5\n",
            "4/4 [==============================] - 1s 128ms/step - loss: 1.6433 - accuracy: 0.6576 - val_loss: 3.9298 - val_accuracy: 0.1633\n",
            "Epoch 5/5\n",
            "4/4 [==============================] - 1s 126ms/step - loss: 1.0713 - accuracy: 0.8118 - val_loss: 3.7683 - val_accuracy: 0.1837\n",
            "Epoch 1/5\n",
            "4/4 [==============================] - 4s 397ms/step - loss: 5.7287 - accuracy: 0.0136 - val_loss: 5.2273 - val_accuracy: 0.0408\n",
            "Epoch 2/5\n",
            "4/4 [==============================] - 1s 129ms/step - loss: 3.6262 - accuracy: 0.1995 - val_loss: 4.5462 - val_accuracy: 0.1429\n",
            "Epoch 3/5\n",
            "4/4 [==============================] - 0s 125ms/step - loss: 2.3146 - accuracy: 0.4671 - val_loss: 4.1302 - val_accuracy: 0.1633\n",
            "Epoch 4/5\n",
            "4/4 [==============================] - 1s 129ms/step - loss: 1.6037 - accuracy: 0.6689 - val_loss: 3.8495 - val_accuracy: 0.2041\n",
            "Epoch 5/5\n",
            "4/4 [==============================] - 0s 125ms/step - loss: 1.0838 - accuracy: 0.8073 - val_loss: 3.6417 - val_accuracy: 0.2041\n",
            "Epoch 1/5\n",
            "4/4 [==============================] - 5s 399ms/step - loss: 5.7980 - accuracy: 0.0091 - val_loss: 5.0425 - val_accuracy: 0.0000e+00\n",
            "Epoch 2/5\n",
            "4/4 [==============================] - 1s 131ms/step - loss: 3.5975 - accuracy: 0.1882 - val_loss: 4.5036 - val_accuracy: 0.0408\n",
            "Epoch 3/5\n",
            "4/4 [==============================] - 1s 132ms/step - loss: 2.4435 - accuracy: 0.4444 - val_loss: 4.1151 - val_accuracy: 0.0612\n",
            "Epoch 4/5\n",
            "4/4 [==============================] - 1s 128ms/step - loss: 1.6269 - accuracy: 0.6621 - val_loss: 3.8390 - val_accuracy: 0.0612\n",
            "Epoch 5/5\n",
            "4/4 [==============================] - 0s 126ms/step - loss: 1.1220 - accuracy: 0.7914 - val_loss: 3.6516 - val_accuracy: 0.1429\n"
          ],
          "name": "stdout"
        },
        {
          "output_type": "stream",
          "text": [
            "\u001b[32m[I 2021-07-15 12:24:37,965]\u001b[0m Trial 2 finished with value: 21.768707533677418 and parameters: {'lr': 0.00042022236778745673, 'steps': 281.6391049806172, 't_mult': 1, 'm_mult': 0.14854430471625846}. Best is trial 2 with value: 21.768707533677418.\u001b[0m\n"
          ],
          "name": "stderr"
        },
        {
          "output_type": "stream",
          "text": [
            "Epoch 1/5\n",
            "4/4 [==============================] - 4s 384ms/step - loss: 5.9288 - accuracy: 0.0227 - val_loss: 5.4522 - val_accuracy: 0.0000e+00\n",
            "Epoch 2/5\n",
            "4/4 [==============================] - 1s 128ms/step - loss: 5.3822 - accuracy: 0.0249 - val_loss: 5.1637 - val_accuracy: 0.0000e+00\n",
            "Epoch 3/5\n",
            "4/4 [==============================] - 1s 129ms/step - loss: 5.1023 - accuracy: 0.0249 - val_loss: 4.9598 - val_accuracy: 0.0000e+00\n",
            "Epoch 4/5\n",
            "4/4 [==============================] - 1s 129ms/step - loss: 4.7583 - accuracy: 0.0476 - val_loss: 4.8068 - val_accuracy: 0.0000e+00\n",
            "Epoch 5/5\n",
            "4/4 [==============================] - 0s 125ms/step - loss: 4.5023 - accuracy: 0.0930 - val_loss: 4.6883 - val_accuracy: 0.0000e+00\n",
            "Epoch 1/5\n",
            "4/4 [==============================] - 5s 391ms/step - loss: 5.9192 - accuracy: 0.0159 - val_loss: 5.7256 - val_accuracy: 0.0000e+00\n",
            "Epoch 2/5\n",
            "4/4 [==============================] - 1s 129ms/step - loss: 5.5204 - accuracy: 0.0113 - val_loss: 5.4128 - val_accuracy: 0.0000e+00\n",
            "Epoch 3/5\n",
            "4/4 [==============================] - 1s 130ms/step - loss: 4.9912 - accuracy: 0.0544 - val_loss: 5.2167 - val_accuracy: 0.0000e+00\n",
            "Epoch 4/5\n",
            "4/4 [==============================] - 1s 128ms/step - loss: 4.7048 - accuracy: 0.0522 - val_loss: 5.0712 - val_accuracy: 0.0000e+00\n",
            "Epoch 5/5\n",
            "4/4 [==============================] - 1s 128ms/step - loss: 4.3902 - accuracy: 0.0567 - val_loss: 4.9567 - val_accuracy: 0.0204\n",
            "Epoch 1/5\n",
            "4/4 [==============================] - 4s 381ms/step - loss: 5.9124 - accuracy: 0.0113 - val_loss: 5.7491 - val_accuracy: 0.0000e+00\n",
            "Epoch 2/5\n",
            "4/4 [==============================] - 0s 126ms/step - loss: 5.4185 - accuracy: 0.0227 - val_loss: 5.4067 - val_accuracy: 0.0204\n",
            "Epoch 3/5\n",
            "4/4 [==============================] - 0s 127ms/step - loss: 5.1638 - accuracy: 0.0249 - val_loss: 5.1726 - val_accuracy: 0.0408\n",
            "Epoch 4/5\n",
            "4/4 [==============================] - 1s 128ms/step - loss: 4.7607 - accuracy: 0.0612 - val_loss: 4.9936 - val_accuracy: 0.0612\n",
            "Epoch 5/5\n",
            "4/4 [==============================] - 0s 123ms/step - loss: 4.5139 - accuracy: 0.0476 - val_loss: 4.8626 - val_accuracy: 0.0816\n"
          ],
          "name": "stdout"
        },
        {
          "output_type": "stream",
          "text": [
            "\u001b[32m[I 2021-07-15 12:25:03,182]\u001b[0m Trial 3 finished with value: 3.401360474526882 and parameters: {'lr': 7.810101824306223e-05, 'steps': 46.39515225888689, 't_mult': 2, 'm_mult': 0.02853304735025497}. Best is trial 2 with value: 21.768707533677418.\u001b[0m\n"
          ],
          "name": "stderr"
        },
        {
          "output_type": "stream",
          "text": [
            "Epoch 1/5\n",
            "4/4 [==============================] - 4s 383ms/step - loss: 5.8326 - accuracy: 0.0113 - val_loss: 5.2082 - val_accuracy: 0.0204\n",
            "Epoch 2/5\n",
            "4/4 [==============================] - 0s 124ms/step - loss: 4.4218 - accuracy: 0.0862 - val_loss: 4.6934 - val_accuracy: 0.0612\n",
            "Epoch 3/5\n",
            "4/4 [==============================] - 1s 128ms/step - loss: 3.3966 - accuracy: 0.2426 - val_loss: 4.3024 - val_accuracy: 0.0816\n",
            "Epoch 4/5\n",
            "4/4 [==============================] - 1s 127ms/step - loss: 2.5751 - accuracy: 0.3923 - val_loss: 4.0016 - val_accuracy: 0.1224\n",
            "Epoch 5/5\n",
            "4/4 [==============================] - 0s 125ms/step - loss: 1.8855 - accuracy: 0.6077 - val_loss: 3.7740 - val_accuracy: 0.1429\n",
            "Epoch 1/5\n",
            "4/4 [==============================] - 4s 387ms/step - loss: 5.7238 - accuracy: 0.0068 - val_loss: 5.4313 - val_accuracy: 0.0000e+00\n",
            "Epoch 2/5\n",
            "4/4 [==============================] - 1s 128ms/step - loss: 4.3242 - accuracy: 0.0998 - val_loss: 4.8557 - val_accuracy: 0.0408\n",
            "Epoch 3/5\n",
            "4/4 [==============================] - 0s 125ms/step - loss: 3.2822 - accuracy: 0.2494 - val_loss: 4.4829 - val_accuracy: 0.0816\n",
            "Epoch 4/5\n",
            "4/4 [==============================] - 1s 129ms/step - loss: 2.5021 - accuracy: 0.4059 - val_loss: 4.2186 - val_accuracy: 0.1633\n",
            "Epoch 5/5\n",
            "4/4 [==============================] - 0s 123ms/step - loss: 1.9673 - accuracy: 0.5578 - val_loss: 3.9957 - val_accuracy: 0.1837\n",
            "Epoch 1/5\n",
            "4/4 [==============================] - 4s 381ms/step - loss: 5.9342 - accuracy: 0.0068 - val_loss: 5.3329 - val_accuracy: 0.0408\n",
            "Epoch 2/5\n",
            "4/4 [==============================] - 1s 128ms/step - loss: 4.4319 - accuracy: 0.0771 - val_loss: 4.8602 - val_accuracy: 0.0816\n",
            "Epoch 3/5\n",
            "4/4 [==============================] - 1s 132ms/step - loss: 3.4003 - accuracy: 0.2358 - val_loss: 4.5275 - val_accuracy: 0.1020\n",
            "Epoch 4/5\n",
            "4/4 [==============================] - 1s 128ms/step - loss: 2.5368 - accuracy: 0.4082 - val_loss: 4.2821 - val_accuracy: 0.1429\n",
            "Epoch 5/5\n",
            "4/4 [==============================] - 0s 123ms/step - loss: 2.0445 - accuracy: 0.5488 - val_loss: 4.1078 - val_accuracy: 0.1429\n"
          ],
          "name": "stdout"
        },
        {
          "output_type": "stream",
          "text": [
            "\u001b[32m[I 2021-07-15 12:25:26,878]\u001b[0m Trial 4 finished with value: 17.95918345451355 and parameters: {'lr': 0.00026464465412260365, 'steps': 848.5231778182832, 't_mult': 2, 'm_mult': 0.83778432792937}. Best is trial 2 with value: 21.768707533677418.\u001b[0m\n"
          ],
          "name": "stderr"
        },
        {
          "output_type": "stream",
          "text": [
            "Epoch 1/5\n",
            "4/4 [==============================] - 5s 392ms/step - loss: 5.2439 - accuracy: 0.0726 - val_loss: 6.4078 - val_accuracy: 0.1224\n",
            "Epoch 2/5\n",
            "4/4 [==============================] - 1s 132ms/step - loss: 1.2556 - accuracy: 0.7052 - val_loss: 8.4380 - val_accuracy: 0.1429\n",
            "Epoch 3/5\n",
            "4/4 [==============================] - 1s 129ms/step - loss: 0.5621 - accuracy: 0.8776 - val_loss: 8.9864 - val_accuracy: 0.1837\n",
            "Epoch 4/5\n",
            "4/4 [==============================] - 0s 126ms/step - loss: 0.2797 - accuracy: 0.9478 - val_loss: 9.2132 - val_accuracy: 0.1429\n",
            "Epoch 5/5\n",
            "4/4 [==============================] - 1s 128ms/step - loss: 0.1547 - accuracy: 0.9751 - val_loss: 8.9155 - val_accuracy: 0.1837\n",
            "Epoch 1/5\n",
            "4/4 [==============================] - 4s 385ms/step - loss: 5.1877 - accuracy: 0.0726 - val_loss: 4.9538 - val_accuracy: 0.2245\n",
            "Epoch 2/5\n",
            "4/4 [==============================] - 1s 130ms/step - loss: 1.1801 - accuracy: 0.7188 - val_loss: 7.4765 - val_accuracy: 0.1020\n",
            "Epoch 3/5\n",
            "4/4 [==============================] - 1s 129ms/step - loss: 0.5297 - accuracy: 0.9002 - val_loss: 7.5040 - val_accuracy: 0.2245\n",
            "Epoch 4/5\n",
            "4/4 [==============================] - 1s 127ms/step - loss: 0.2368 - accuracy: 0.9615 - val_loss: 6.8158 - val_accuracy: 0.2653\n",
            "Epoch 5/5\n",
            "4/4 [==============================] - 0s 126ms/step - loss: 0.1417 - accuracy: 0.9773 - val_loss: 6.2193 - val_accuracy: 0.2653\n",
            "Epoch 1/5\n",
            "4/4 [==============================] - 5s 392ms/step - loss: 5.1632 - accuracy: 0.0771 - val_loss: 4.9727 - val_accuracy: 0.1633\n",
            "Epoch 2/5\n",
            "4/4 [==============================] - 1s 129ms/step - loss: 1.1579 - accuracy: 0.7143 - val_loss: 6.4863 - val_accuracy: 0.1429\n",
            "Epoch 3/5\n",
            "4/4 [==============================] - 1s 126ms/step - loss: 0.4784 - accuracy: 0.8798 - val_loss: 7.6067 - val_accuracy: 0.1429\n",
            "Epoch 4/5\n",
            "4/4 [==============================] - 1s 133ms/step - loss: 0.2636 - accuracy: 0.9388 - val_loss: 7.7277 - val_accuracy: 0.1837\n",
            "Epoch 5/5\n",
            "4/4 [==============================] - 1s 126ms/step - loss: 0.1453 - accuracy: 0.9796 - val_loss: 7.5436 - val_accuracy: 0.2245\n"
          ],
          "name": "stdout"
        },
        {
          "output_type": "stream",
          "text": [
            "\u001b[32m[I 2021-07-15 12:25:52,742]\u001b[0m Trial 5 finished with value: 24.625850717226665 and parameters: {'lr': 0.002391257960634703, 'steps': 44.04036404244327, 't_mult': 2, 'm_mult': 0.09784485112580532}. Best is trial 5 with value: 24.625850717226665.\u001b[0m\n"
          ],
          "name": "stderr"
        },
        {
          "output_type": "stream",
          "text": [
            "Epoch 1/5\n",
            "4/4 [==============================] - 4s 385ms/step - loss: 5.1224 - accuracy: 0.1066 - val_loss: 32.7304 - val_accuracy: 0.0204\n",
            "Epoch 2/5\n",
            "4/4 [==============================] - 1s 130ms/step - loss: 1.3411 - accuracy: 0.6871 - val_loss: 48.4661 - val_accuracy: 0.0000e+00\n",
            "Epoch 3/5\n",
            "4/4 [==============================] - 1s 128ms/step - loss: 0.6412 - accuracy: 0.8299 - val_loss: 37.1175 - val_accuracy: 0.1020\n",
            "Epoch 4/5\n",
            "4/4 [==============================] - 1s 127ms/step - loss: 0.3395 - accuracy: 0.9002 - val_loss: 33.6851 - val_accuracy: 0.1224\n",
            "Epoch 5/5\n",
            "4/4 [==============================] - 1s 125ms/step - loss: 0.2564 - accuracy: 0.9184 - val_loss: 32.3001 - val_accuracy: 0.1020\n",
            "Epoch 1/5\n",
            "4/4 [==============================] - 4s 381ms/step - loss: 4.9106 - accuracy: 0.1338 - val_loss: 30.9327 - val_accuracy: 0.1020\n",
            "Epoch 2/5\n",
            "4/4 [==============================] - 1s 128ms/step - loss: 1.3919 - accuracy: 0.6825 - val_loss: 33.2871 - val_accuracy: 0.0816\n",
            "Epoch 3/5\n",
            "4/4 [==============================] - 1s 128ms/step - loss: 0.6805 - accuracy: 0.8413 - val_loss: 35.0640 - val_accuracy: 0.0816\n",
            "Epoch 4/5\n",
            "4/4 [==============================] - 1s 130ms/step - loss: 0.3054 - accuracy: 0.9184 - val_loss: 28.7090 - val_accuracy: 0.1429\n",
            "Epoch 5/5\n",
            "4/4 [==============================] - 1s 131ms/step - loss: 0.2330 - accuracy: 0.9161 - val_loss: 24.7010 - val_accuracy: 0.1633\n",
            "Epoch 1/5\n",
            "4/4 [==============================] - 4s 548ms/step - loss: 5.0878 - accuracy: 0.1497 - val_loss: 34.2203 - val_accuracy: 0.0408\n",
            "Epoch 2/5\n",
            "4/4 [==============================] - 1s 128ms/step - loss: 1.3079 - accuracy: 0.7075 - val_loss: 47.5053 - val_accuracy: 0.0204\n",
            "Epoch 3/5\n",
            "4/4 [==============================] - 1s 137ms/step - loss: 0.6181 - accuracy: 0.8526 - val_loss: 41.2387 - val_accuracy: 0.0612\n",
            "Epoch 4/5\n",
            "4/4 [==============================] - 1s 132ms/step - loss: 0.3619 - accuracy: 0.8912 - val_loss: 38.7182 - val_accuracy: 0.1020\n",
            "Epoch 5/5\n",
            "4/4 [==============================] - 0s 125ms/step - loss: 0.2688 - accuracy: 0.9320 - val_loss: 35.8514 - val_accuracy: 0.1224\n"
          ],
          "name": "stdout"
        },
        {
          "output_type": "stream",
          "text": [
            "\u001b[32m[I 2021-07-15 12:26:19,558]\u001b[0m Trial 6 finished with value: 9.931972622871399 and parameters: {'lr': 0.007114038536658377, 'steps': 878.3282533003573, 't_mult': 1, 'm_mult': 0.5704064353435621}. Best is trial 5 with value: 24.625850717226665.\u001b[0m\n"
          ],
          "name": "stderr"
        },
        {
          "output_type": "stream",
          "text": [
            "Epoch 1/5\n",
            "4/4 [==============================] - 4s 381ms/step - loss: 5.7087 - accuracy: 0.0227 - val_loss: 4.9620 - val_accuracy: 0.0408\n",
            "Epoch 2/5\n",
            "4/4 [==============================] - 1s 133ms/step - loss: 3.1933 - accuracy: 0.2676 - val_loss: 4.3199 - val_accuracy: 0.1020\n",
            "Epoch 3/5\n",
            "4/4 [==============================] - 1s 130ms/step - loss: 1.8324 - accuracy: 0.6077 - val_loss: 3.9167 - val_accuracy: 0.1224\n",
            "Epoch 4/5\n",
            "4/4 [==============================] - 1s 129ms/step - loss: 1.1406 - accuracy: 0.7823 - val_loss: 3.6433 - val_accuracy: 0.1837\n",
            "Epoch 5/5\n",
            "4/4 [==============================] - 0s 127ms/step - loss: 0.7820 - accuracy: 0.8617 - val_loss: 3.4459 - val_accuracy: 0.2857\n",
            "Epoch 1/5\n",
            "4/4 [==============================] - 5s 390ms/step - loss: 5.8834 - accuracy: 0.0295 - val_loss: 4.6245 - val_accuracy: 0.0816\n",
            "Epoch 2/5\n",
            "4/4 [==============================] - 1s 128ms/step - loss: 3.0987 - accuracy: 0.3084 - val_loss: 4.1816 - val_accuracy: 0.1020\n",
            "Epoch 3/5\n",
            "4/4 [==============================] - 1s 126ms/step - loss: 1.8263 - accuracy: 0.6236 - val_loss: 4.0333 - val_accuracy: 0.1633\n",
            "Epoch 4/5\n",
            "4/4 [==============================] - 1s 128ms/step - loss: 1.1948 - accuracy: 0.7846 - val_loss: 3.9721 - val_accuracy: 0.1633\n",
            "Epoch 5/5\n",
            "4/4 [==============================] - 0s 125ms/step - loss: 0.7255 - accuracy: 0.8934 - val_loss: 3.9239 - val_accuracy: 0.1837\n",
            "Epoch 1/5\n",
            "4/4 [==============================] - 4s 411ms/step - loss: 5.4643 - accuracy: 0.0181 - val_loss: 4.4218 - val_accuracy: 0.0816\n",
            "Epoch 2/5\n",
            "4/4 [==============================] - 1s 133ms/step - loss: 3.1126 - accuracy: 0.3084 - val_loss: 3.9021 - val_accuracy: 0.1224\n",
            "Epoch 3/5\n",
            "4/4 [==============================] - 1s 128ms/step - loss: 1.7327 - accuracy: 0.6485 - val_loss: 3.5992 - val_accuracy: 0.1633\n",
            "Epoch 4/5\n",
            "4/4 [==============================] - 1s 132ms/step - loss: 1.0581 - accuracy: 0.8118 - val_loss: 3.4539 - val_accuracy: 0.2245\n",
            "Epoch 5/5\n",
            "4/4 [==============================] - 1s 128ms/step - loss: 0.6749 - accuracy: 0.9002 - val_loss: 3.3889 - val_accuracy: 0.2245\n"
          ],
          "name": "stdout"
        },
        {
          "output_type": "stream",
          "text": [
            "\u001b[32m[I 2021-07-15 12:26:43,467]\u001b[0m Trial 7 finished with value: 25.17006794611613 and parameters: {'lr': 0.000566845146394502, 'steps': 448.6338059504034, 't_mult': 1, 'm_mult': 0.07029394526822175}. Best is trial 7 with value: 25.17006794611613.\u001b[0m\n"
          ],
          "name": "stderr"
        },
        {
          "output_type": "stream",
          "text": [
            "Epoch 1/5\n",
            "4/4 [==============================] - 5s 386ms/step - loss: 4.9718 - accuracy: 0.0748 - val_loss: 5.1745 - val_accuracy: 0.1837\n",
            "Epoch 2/5\n",
            "4/4 [==============================] - 1s 131ms/step - loss: 1.1553 - accuracy: 0.7370 - val_loss: 7.4475 - val_accuracy: 0.2245\n",
            "Epoch 3/5\n",
            "4/4 [==============================] - 1s 129ms/step - loss: 0.5326 - accuracy: 0.8776 - val_loss: 9.4016 - val_accuracy: 0.2041\n",
            "Epoch 4/5\n",
            "4/4 [==============================] - 1s 130ms/step - loss: 0.2651 - accuracy: 0.9546 - val_loss: 9.7437 - val_accuracy: 0.2245\n",
            "Epoch 5/5\n",
            "4/4 [==============================] - 1s 126ms/step - loss: 0.1502 - accuracy: 0.9637 - val_loss: 9.6170 - val_accuracy: 0.2245\n",
            "Epoch 1/5\n",
            "4/4 [==============================] - 4s 375ms/step - loss: 5.2038 - accuracy: 0.0839 - val_loss: 5.9682 - val_accuracy: 0.0612\n",
            "Epoch 2/5\n",
            "4/4 [==============================] - 1s 134ms/step - loss: 1.2551 - accuracy: 0.7098 - val_loss: 9.7971 - val_accuracy: 0.0612\n",
            "Epoch 3/5\n",
            "4/4 [==============================] - 1s 129ms/step - loss: 0.5505 - accuracy: 0.8821 - val_loss: 10.1127 - val_accuracy: 0.1020\n",
            "Epoch 4/5\n",
            "4/4 [==============================] - 1s 127ms/step - loss: 0.2776 - accuracy: 0.9592 - val_loss: 8.7989 - val_accuracy: 0.1429\n",
            "Epoch 5/5\n",
            "4/4 [==============================] - 0s 125ms/step - loss: 0.1609 - accuracy: 0.9773 - val_loss: 7.7784 - val_accuracy: 0.2041\n",
            "Epoch 1/5\n",
            "4/4 [==============================] - 5s 389ms/step - loss: 5.1769 - accuracy: 0.0726 - val_loss: 5.2201 - val_accuracy: 0.1224\n",
            "Epoch 2/5\n",
            "4/4 [==============================] - 1s 127ms/step - loss: 1.1670 - accuracy: 0.7324 - val_loss: 6.4183 - val_accuracy: 0.1224\n",
            "Epoch 3/5\n",
            "4/4 [==============================] - 1s 129ms/step - loss: 0.4416 - accuracy: 0.9252 - val_loss: 7.5031 - val_accuracy: 0.1837\n",
            "Epoch 4/5\n",
            "4/4 [==============================] - 1s 127ms/step - loss: 0.2198 - accuracy: 0.9728 - val_loss: 8.3883 - val_accuracy: 0.1429\n",
            "Epoch 5/5\n",
            "4/4 [==============================] - 0s 125ms/step - loss: 0.1503 - accuracy: 0.9705 - val_loss: 7.8709 - val_accuracy: 0.1633\n"
          ],
          "name": "stdout"
        },
        {
          "output_type": "stream",
          "text": [
            "\u001b[32m[I 2021-07-15 12:27:07,589]\u001b[0m Trial 8 finished with value: 21.768707533677418 and parameters: {'lr': 0.002228765591929049, 'steps': 824.8884438619567, 't_mult': 2, 'm_mult': 0.6606992195434265}. Best is trial 7 with value: 25.17006794611613.\u001b[0m\n"
          ],
          "name": "stderr"
        },
        {
          "output_type": "stream",
          "text": [
            "Epoch 1/5\n",
            "4/4 [==============================] - 4s 384ms/step - loss: 6.7476 - accuracy: 0.1270 - val_loss: 192.4192 - val_accuracy: 0.0204\n",
            "Epoch 2/5\n",
            "4/4 [==============================] - 1s 128ms/step - loss: 3.6412 - accuracy: 0.5034 - val_loss: 150.1791 - val_accuracy: 0.0000e+00\n",
            "Epoch 3/5\n",
            "4/4 [==============================] - 1s 127ms/step - loss: 1.8723 - accuracy: 0.6599 - val_loss: 141.8933 - val_accuracy: 0.0612\n",
            "Epoch 4/5\n",
            "4/4 [==============================] - 1s 127ms/step - loss: 1.0423 - accuracy: 0.7846 - val_loss: 104.1492 - val_accuracy: 0.0612\n",
            "Epoch 5/5\n",
            "4/4 [==============================] - 0s 125ms/step - loss: 0.8622 - accuracy: 0.8073 - val_loss: 79.0611 - val_accuracy: 0.0408\n",
            "Epoch 1/5\n",
            "4/4 [==============================] - 4s 383ms/step - loss: 6.0925 - accuracy: 0.1202 - val_loss: 145.7118 - val_accuracy: 0.0000e+00\n",
            "Epoch 2/5\n",
            "4/4 [==============================] - 1s 128ms/step - loss: 3.6152 - accuracy: 0.5215 - val_loss: 106.2557 - val_accuracy: 0.0816\n",
            "Epoch 3/5\n",
            "4/4 [==============================] - 1s 128ms/step - loss: 1.7606 - accuracy: 0.6417 - val_loss: 98.2969 - val_accuracy: 0.1020\n",
            "Epoch 4/5\n",
            "4/4 [==============================] - 1s 128ms/step - loss: 1.2337 - accuracy: 0.7528 - val_loss: 77.3410 - val_accuracy: 0.1224\n",
            "Epoch 5/5\n",
            "4/4 [==============================] - 0s 125ms/step - loss: 0.5890 - accuracy: 0.8571 - val_loss: 72.5396 - val_accuracy: 0.1429\n",
            "Epoch 1/5\n",
            "4/4 [==============================] - 4s 374ms/step - loss: 6.7414 - accuracy: 0.0998 - val_loss: 129.2020 - val_accuracy: 0.0204\n",
            "Epoch 2/5\n",
            "4/4 [==============================] - 0s 127ms/step - loss: 3.2126 - accuracy: 0.5465 - val_loss: 112.2965 - val_accuracy: 0.0612\n",
            "Epoch 3/5\n",
            "4/4 [==============================] - 1s 130ms/step - loss: 1.7242 - accuracy: 0.6780 - val_loss: 103.4160 - val_accuracy: 0.0612\n",
            "Epoch 4/5\n",
            "4/4 [==============================] - 1s 129ms/step - loss: 1.3276 - accuracy: 0.7551 - val_loss: 93.6751 - val_accuracy: 0.0816\n",
            "Epoch 5/5\n",
            "4/4 [==============================] - 0s 126ms/step - loss: 0.8993 - accuracy: 0.8367 - val_loss: 77.5829 - val_accuracy: 0.0612\n"
          ],
          "name": "stdout"
        },
        {
          "output_type": "stream",
          "text": [
            "\u001b[32m[I 2021-07-15 12:27:32,742]\u001b[0m Trial 9 finished with value: 7.210884243249893 and parameters: {'lr': 0.018291946176731647, 'steps': 747.7432383850935, 't_mult': 2, 'm_mult': 0.48892678502850806}. Best is trial 7 with value: 25.17006794611613.\u001b[0m\n"
          ],
          "name": "stderr"
        },
        {
          "output_type": "stream",
          "text": [
            "Epoch 1/5\n",
            "5/5 [==============================] - 6s 491ms/step - loss: 5.9759 - accuracy: 0.0080 - sensitivity_at_specificity_8: 0.4087 - specificity_at_sensitivity_8: 0.0000e+00 - precision_8: 0.0000e+00 - auc_16: 0.5048 - auc_17: 0.0100 - val_loss: 5.5846 - val_accuracy: 0.0180 - val_sensitivity_at_specificity_8: 0.4595 - val_specificity_at_sensitivity_8: 0.0000e+00 - val_precision_8: 0.0000e+00 - val_auc_16: 0.5130 - val_auc_17: 0.0102\n",
            "Epoch 2/5\n",
            "5/5 [==============================] - 1s 159ms/step - loss: 6.0095 - accuracy: 0.0064 - sensitivity_at_specificity_8: 0.4054 - specificity_at_sensitivity_8: 0.0000e+00 - precision_8: 0.0000e+00 - auc_16: 0.4963 - auc_17: 0.0095 - val_loss: 5.3812 - val_accuracy: 0.0180 - val_sensitivity_at_specificity_8: 0.5045 - val_specificity_at_sensitivity_8: 0.5379 - val_precision_8: 0.0000e+00 - val_auc_16: 0.5139 - val_auc_17: 0.0109\n",
            "Epoch 3/5\n",
            "5/5 [==============================] - 1s 160ms/step - loss: 5.8767 - accuracy: 0.0064 - sensitivity_at_specificity_8: 0.4263 - specificity_at_sensitivity_8: 0.0000e+00 - precision_8: 0.0000e+00 - auc_16: 0.5121 - auc_17: 0.0101 - val_loss: 5.2578 - val_accuracy: 0.0180 - val_sensitivity_at_specificity_8: 0.5315 - val_specificity_at_sensitivity_8: 0.5073 - val_precision_8: 0.0000e+00 - val_auc_16: 0.5198 - val_auc_17: 0.0130\n",
            "Epoch 4/5\n",
            "5/5 [==============================] - 1s 163ms/step - loss: 5.8255 - accuracy: 0.0064 - sensitivity_at_specificity_8: 0.4375 - specificity_at_sensitivity_8: 0.0000e+00 - precision_8: 0.0000e+00 - auc_16: 0.5106 - auc_17: 0.0100 - val_loss: 5.1686 - val_accuracy: 0.0180 - val_sensitivity_at_specificity_8: 0.3333 - val_specificity_at_sensitivity_8: 0.4835 - val_precision_8: 0.0000e+00 - val_auc_16: 0.5296 - val_auc_17: 0.0134\n",
            "Epoch 5/5\n",
            "5/5 [==============================] - 1s 158ms/step - loss: 5.8441 - accuracy: 0.0064 - sensitivity_at_specificity_8: 0.4183 - specificity_at_sensitivity_8: 0.0000e+00 - precision_8: 0.0000e+00 - auc_16: 0.5068 - auc_17: 0.0099 - val_loss: 5.0985 - val_accuracy: 0.0180 - val_sensitivity_at_specificity_8: 0.3874 - val_specificity_at_sensitivity_8: 0.4643 - val_precision_8: 0.0000e+00 - val_auc_16: 0.5442 - val_auc_17: 0.0140\n",
            "3/3 [==============================] - 0s 35ms/step - loss: 5.6619 - accuracy: 0.0000e+00 - sensitivity_at_specificity_8: 0.4444 - specificity_at_sensitivity_8: 0.0000e+00 - precision_8: 0.0000e+00 - auc_16: 0.4677 - auc_17: 0.0086\n",
            "['loss', 'accuracy', 'sensitivity_at_specificity_8', 'specificity_at_sensitivity_8', 'precision_8', 'auc_16', 'auc_17']\n"
          ],
          "name": "stdout"
        },
        {
          "output_type": "stream",
          "text": [
            "\u001b[32m[I 2021-07-15 12:27:43,769]\u001b[0m A new study created in memory with name: no-name-467887a7-ff1e-4a5d-9eac-5cf62c3dcaa7\u001b[0m\n"
          ],
          "name": "stderr"
        },
        {
          "output_type": "stream",
          "text": [
            "Epoch 1/5\n",
            "4/4 [==============================] - 4s 384ms/step - loss: 5.3445 - accuracy: 0.0658 - val_loss: 5.7186 - val_accuracy: 0.1429\n",
            "Epoch 2/5\n",
            "4/4 [==============================] - 1s 134ms/step - loss: 1.2130 - accuracy: 0.7234 - val_loss: 7.4762 - val_accuracy: 0.1020\n",
            "Epoch 3/5\n",
            "4/4 [==============================] - 0s 126ms/step - loss: 0.5851 - accuracy: 0.8730 - val_loss: 7.4064 - val_accuracy: 0.1429\n",
            "Epoch 4/5\n",
            "4/4 [==============================] - 1s 127ms/step - loss: 0.2334 - accuracy: 0.9569 - val_loss: 7.1628 - val_accuracy: 0.2041\n",
            "Epoch 5/5\n",
            "4/4 [==============================] - 0s 125ms/step - loss: 0.1583 - accuracy: 0.9773 - val_loss: 7.1083 - val_accuracy: 0.2449\n",
            "Epoch 1/5\n",
            "4/4 [==============================] - 4s 380ms/step - loss: 5.3459 - accuracy: 0.0612 - val_loss: 5.0003 - val_accuracy: 0.2245\n",
            "Epoch 2/5\n",
            "4/4 [==============================] - 1s 129ms/step - loss: 1.2443 - accuracy: 0.7120 - val_loss: 6.4845 - val_accuracy: 0.2857\n",
            "Epoch 3/5\n",
            "4/4 [==============================] - 1s 127ms/step - loss: 0.5223 - accuracy: 0.8866 - val_loss: 8.7153 - val_accuracy: 0.2041\n",
            "Epoch 4/5\n",
            "4/4 [==============================] - 1s 127ms/step - loss: 0.2788 - accuracy: 0.9388 - val_loss: 9.2412 - val_accuracy: 0.2449\n",
            "Epoch 5/5\n",
            "4/4 [==============================] - 0s 125ms/step - loss: 0.1326 - accuracy: 0.9819 - val_loss: 9.1344 - val_accuracy: 0.2653\n",
            "Epoch 1/5\n",
            "4/4 [==============================] - 4s 388ms/step - loss: 5.0828 - accuracy: 0.0567 - val_loss: 5.5884 - val_accuracy: 0.1837\n",
            "Epoch 2/5\n",
            "4/4 [==============================] - 1s 129ms/step - loss: 1.2270 - accuracy: 0.7166 - val_loss: 8.0613 - val_accuracy: 0.1837\n",
            "Epoch 3/5\n",
            "4/4 [==============================] - 1s 129ms/step - loss: 0.4689 - accuracy: 0.8957 - val_loss: 8.8379 - val_accuracy: 0.1837\n",
            "Epoch 4/5\n",
            "4/4 [==============================] - 1s 129ms/step - loss: 0.2795 - accuracy: 0.9433 - val_loss: 8.4079 - val_accuracy: 0.2449\n",
            "Epoch 5/5\n",
            "4/4 [==============================] - 0s 124ms/step - loss: 0.1539 - accuracy: 0.9751 - val_loss: 8.2132 - val_accuracy: 0.2653\n"
          ],
          "name": "stdout"
        },
        {
          "output_type": "stream",
          "text": [
            "\u001b[32m[I 2021-07-15 12:28:09,205]\u001b[0m Trial 0 finished with value: 24.62585022052129 and parameters: {'lr': 0.002181031896396255, 'steps': 573.9940376762431, 't_mult': 1, 'm_mult': 0.288646420228877}. Best is trial 0 with value: 24.62585022052129.\u001b[0m\n"
          ],
          "name": "stderr"
        },
        {
          "output_type": "stream",
          "text": [
            "Epoch 1/5\n",
            "4/4 [==============================] - 4s 536ms/step - loss: 6.0342 - accuracy: 0.1224 - val_loss: 94.6702 - val_accuracy: 0.0408\n",
            "Epoch 2/5\n",
            "4/4 [==============================] - 1s 128ms/step - loss: 2.4724 - accuracy: 0.5760 - val_loss: 106.2144 - val_accuracy: 0.0204\n",
            "Epoch 3/5\n",
            "4/4 [==============================] - 0s 127ms/step - loss: 1.7421 - accuracy: 0.7256 - val_loss: 80.4466 - val_accuracy: 0.0612\n",
            "Epoch 4/5\n",
            "4/4 [==============================] - 1s 127ms/step - loss: 0.9614 - accuracy: 0.7710 - val_loss: 70.3690 - val_accuracy: 0.1224\n",
            "Epoch 5/5\n",
            "4/4 [==============================] - 0s 124ms/step - loss: 0.6321 - accuracy: 0.8549 - val_loss: 56.8552 - val_accuracy: 0.1224\n",
            "Epoch 1/5\n",
            "4/4 [==============================] - 4s 381ms/step - loss: 6.2898 - accuracy: 0.0862 - val_loss: 126.1242 - val_accuracy: 0.0000e+00\n",
            "Epoch 2/5\n",
            "4/4 [==============================] - 0s 125ms/step - loss: 3.1043 - accuracy: 0.5057 - val_loss: 100.8706 - val_accuracy: 0.0204\n",
            "Epoch 3/5\n",
            "4/4 [==============================] - 1s 128ms/step - loss: 1.4790 - accuracy: 0.7143 - val_loss: 101.5417 - val_accuracy: 0.0408\n",
            "Epoch 4/5\n",
            "4/4 [==============================] - 0s 126ms/step - loss: 0.8826 - accuracy: 0.8095 - val_loss: 66.0992 - val_accuracy: 0.1020\n",
            "Epoch 5/5\n",
            "4/4 [==============================] - 0s 125ms/step - loss: 0.6190 - accuracy: 0.8617 - val_loss: 57.9336 - val_accuracy: 0.1020\n",
            "Epoch 1/5\n",
            "4/4 [==============================] - 5s 391ms/step - loss: 6.0063 - accuracy: 0.0952 - val_loss: 106.1251 - val_accuracy: 0.0408\n",
            "Epoch 2/5\n",
            "4/4 [==============================] - 1s 128ms/step - loss: 2.2262 - accuracy: 0.5782 - val_loss: 92.3533 - val_accuracy: 0.0816\n",
            "Epoch 3/5\n",
            "4/4 [==============================] - 0s 126ms/step - loss: 1.2264 - accuracy: 0.7188 - val_loss: 88.5291 - val_accuracy: 0.1020\n",
            "Epoch 4/5\n",
            "4/4 [==============================] - 1s 132ms/step - loss: 0.6857 - accuracy: 0.8231 - val_loss: 70.2743 - val_accuracy: 0.1020\n",
            "Epoch 5/5\n",
            "4/4 [==============================] - 0s 124ms/step - loss: 0.4712 - accuracy: 0.8821 - val_loss: 53.9145 - val_accuracy: 0.1224\n"
          ],
          "name": "stdout"
        },
        {
          "output_type": "stream",
          "text": [
            "\u001b[32m[I 2021-07-15 12:28:32,961]\u001b[0m Trial 1 finished with value: 8.57142855723699 and parameters: {'lr': 0.014485017350773396, 'steps': 234.60921760237392, 't_mult': 1, 'm_mult': 0.89849768178229}. Best is trial 0 with value: 24.62585022052129.\u001b[0m\n"
          ],
          "name": "stderr"
        },
        {
          "output_type": "stream",
          "text": [
            "Epoch 1/5\n",
            "4/4 [==============================] - 4s 380ms/step - loss: 14.0247 - accuracy: 0.0635 - val_loss: 740.4661 - val_accuracy: 0.0204\n",
            "Epoch 2/5\n",
            "4/4 [==============================] - 1s 128ms/step - loss: 11.9560 - accuracy: 0.3810 - val_loss: 585.6109 - val_accuracy: 0.0204\n",
            "Epoch 3/5\n",
            "4/4 [==============================] - 1s 128ms/step - loss: 6.1038 - accuracy: 0.5714 - val_loss: 465.4699 - val_accuracy: 0.0204\n",
            "Epoch 4/5\n",
            "4/4 [==============================] - 1s 129ms/step - loss: 4.1318 - accuracy: 0.6553 - val_loss: 295.6862 - val_accuracy: 0.0408\n",
            "Epoch 5/5\n",
            "4/4 [==============================] - 0s 124ms/step - loss: 2.9087 - accuracy: 0.7415 - val_loss: 186.1627 - val_accuracy: 0.0408\n",
            "Epoch 1/5\n",
            "4/4 [==============================] - 4s 383ms/step - loss: 12.9981 - accuracy: 0.0771 - val_loss: 701.3383 - val_accuracy: 0.0204\n",
            "Epoch 2/5\n",
            "4/4 [==============================] - 0s 123ms/step - loss: 13.5915 - accuracy: 0.3764 - val_loss: 514.8207 - val_accuracy: 0.0000e+00\n",
            "Epoch 3/5\n",
            "4/4 [==============================] - 1s 128ms/step - loss: 6.4797 - accuracy: 0.5556 - val_loss: 356.7397 - val_accuracy: 0.0408\n",
            "Epoch 4/5\n",
            "4/4 [==============================] - 1s 132ms/step - loss: 4.6344 - accuracy: 0.6508 - val_loss: 222.3944 - val_accuracy: 0.0612\n",
            "Epoch 5/5\n",
            "4/4 [==============================] - 1s 128ms/step - loss: 3.4111 - accuracy: 0.6825 - val_loss: 176.4973 - val_accuracy: 0.0612\n",
            "Epoch 1/5\n",
            "4/4 [==============================] - 4s 379ms/step - loss: 13.1798 - accuracy: 0.0771 - val_loss: 536.9525 - val_accuracy: 0.0000e+00\n",
            "Epoch 2/5\n",
            "4/4 [==============================] - 0s 126ms/step - loss: 11.8787 - accuracy: 0.3764 - val_loss: 375.2349 - val_accuracy: 0.0204\n",
            "Epoch 3/5\n",
            "4/4 [==============================] - 1s 127ms/step - loss: 6.8556 - accuracy: 0.4943 - val_loss: 259.8765 - val_accuracy: 0.0408\n",
            "Epoch 4/5\n",
            "4/4 [==============================] - 0s 125ms/step - loss: 3.7372 - accuracy: 0.6871 - val_loss: 238.4453 - val_accuracy: 0.0816\n",
            "Epoch 5/5\n",
            "4/4 [==============================] - 0s 124ms/step - loss: 2.1288 - accuracy: 0.7937 - val_loss: 178.1430 - val_accuracy: 0.1020\n"
          ],
          "name": "stdout"
        },
        {
          "output_type": "stream",
          "text": [
            "\u001b[32m[I 2021-07-15 12:28:56,349]\u001b[0m Trial 2 finished with value: 7.891156276067098 and parameters: {'lr': 0.05449811563957449, 'steps': 294.4275546928664, 't_mult': 1, 'm_mult': 0.8180331931110826}. Best is trial 0 with value: 24.62585022052129.\u001b[0m\n"
          ],
          "name": "stderr"
        },
        {
          "output_type": "stream",
          "text": [
            "Epoch 1/5\n",
            "4/4 [==============================] - 4s 376ms/step - loss: 9.6360 - accuracy: 0.0816 - val_loss: 402.2826 - val_accuracy: 0.0000e+00\n",
            "Epoch 2/5\n",
            "4/4 [==============================] - 0s 126ms/step - loss: 7.6005 - accuracy: 0.4331 - val_loss: 342.5420 - val_accuracy: 0.0408\n",
            "Epoch 3/5\n",
            "4/4 [==============================] - 0s 124ms/step - loss: 4.0946 - accuracy: 0.5578 - val_loss: 184.2066 - val_accuracy: 0.0408\n",
            "Epoch 4/5\n",
            "4/4 [==============================] - 0s 126ms/step - loss: 2.4468 - accuracy: 0.7166 - val_loss: 116.4529 - val_accuracy: 0.0816\n",
            "Epoch 5/5\n",
            "4/4 [==============================] - 1s 128ms/step - loss: 1.5050 - accuracy: 0.7778 - val_loss: 93.8138 - val_accuracy: 0.1020\n",
            "Epoch 1/5\n",
            "4/4 [==============================] - 4s 377ms/step - loss: 10.1076 - accuracy: 0.0522 - val_loss: 504.2748 - val_accuracy: 0.0000e+00\n",
            "Epoch 2/5\n",
            "4/4 [==============================] - 1s 128ms/step - loss: 8.4734 - accuracy: 0.4036 - val_loss: 342.8951 - val_accuracy: 0.0204\n",
            "Epoch 3/5\n",
            "4/4 [==============================] - 0s 126ms/step - loss: 4.1645 - accuracy: 0.5714 - val_loss: 248.6658 - val_accuracy: 0.0408\n",
            "Epoch 4/5\n",
            "4/4 [==============================] - 1s 130ms/step - loss: 2.9528 - accuracy: 0.7098 - val_loss: 150.9090 - val_accuracy: 0.1020\n",
            "Epoch 5/5\n",
            "4/4 [==============================] - 1s 129ms/step - loss: 1.6264 - accuracy: 0.7823 - val_loss: 130.4824 - val_accuracy: 0.0612\n",
            "Epoch 1/5\n",
            "4/4 [==============================] - 4s 380ms/step - loss: 9.5914 - accuracy: 0.0884 - val_loss: 432.4543 - val_accuracy: 0.0000e+00\n",
            "Epoch 2/5\n",
            "4/4 [==============================] - 1s 127ms/step - loss: 8.7193 - accuracy: 0.4172 - val_loss: 309.5375 - val_accuracy: 0.0408\n",
            "Epoch 3/5\n",
            "4/4 [==============================] - 0s 127ms/step - loss: 4.7956 - accuracy: 0.5964 - val_loss: 236.6481 - val_accuracy: 0.0000e+00\n",
            "Epoch 4/5\n",
            "4/4 [==============================] - 1s 127ms/step - loss: 2.6833 - accuracy: 0.6939 - val_loss: 201.7164 - val_accuracy: 0.0000e+00\n",
            "Epoch 5/5\n",
            "4/4 [==============================] - 1s 127ms/step - loss: 1.9015 - accuracy: 0.7483 - val_loss: 145.3630 - val_accuracy: 0.0000e+00\n"
          ],
          "name": "stdout"
        },
        {
          "output_type": "stream",
          "text": [
            "\u001b[32m[I 2021-07-15 12:29:23,573]\u001b[0m Trial 3 finished with value: 9.387755145629248 and parameters: {'lr': 0.036057599271694885, 'steps': 147.9126534992176, 't_mult': 1, 'm_mult': 0.676527685134362}. Best is trial 0 with value: 24.62585022052129.\u001b[0m\n"
          ],
          "name": "stderr"
        },
        {
          "output_type": "stream",
          "text": [
            "Epoch 1/5\n",
            "4/4 [==============================] - 4s 541ms/step - loss: 6.4962 - accuracy: 0.1066 - val_loss: 153.3486 - val_accuracy: 0.0408\n",
            "Epoch 2/5\n",
            "4/4 [==============================] - 1s 131ms/step - loss: 3.9036 - accuracy: 0.4626 - val_loss: 107.7564 - val_accuracy: 0.0204\n",
            "Epoch 3/5\n",
            "4/4 [==============================] - 0s 125ms/step - loss: 2.0591 - accuracy: 0.6735 - val_loss: 80.4819 - val_accuracy: 0.0612\n",
            "Epoch 4/5\n",
            "4/4 [==============================] - 0s 126ms/step - loss: 1.4213 - accuracy: 0.7460 - val_loss: 66.8111 - val_accuracy: 0.1020\n",
            "Epoch 5/5\n",
            "4/4 [==============================] - 0s 126ms/step - loss: 0.6068 - accuracy: 0.8345 - val_loss: 56.8115 - val_accuracy: 0.0612\n",
            "Epoch 1/5\n",
            "4/4 [==============================] - 4s 384ms/step - loss: 6.5425 - accuracy: 0.1179 - val_loss: 151.3040 - val_accuracy: 0.0000e+00\n",
            "Epoch 2/5\n",
            "4/4 [==============================] - 1s 128ms/step - loss: 3.6479 - accuracy: 0.5147 - val_loss: 163.2390 - val_accuracy: 0.0000e+00\n",
            "Epoch 3/5\n",
            "4/4 [==============================] - 1s 126ms/step - loss: 1.5856 - accuracy: 0.7029 - val_loss: 100.9419 - val_accuracy: 0.0816\n",
            "Epoch 4/5\n",
            "4/4 [==============================] - 0s 124ms/step - loss: 0.9894 - accuracy: 0.8073 - val_loss: 89.3016 - val_accuracy: 0.1020\n",
            "Epoch 5/5\n",
            "4/4 [==============================] - 0s 124ms/step - loss: 0.7871 - accuracy: 0.8277 - val_loss: 72.3759 - val_accuracy: 0.0816\n",
            "Epoch 1/5\n",
            "4/4 [==============================] - 4s 548ms/step - loss: 6.6565 - accuracy: 0.1111 - val_loss: 147.8040 - val_accuracy: 0.0204\n",
            "Epoch 2/5\n",
            "4/4 [==============================] - 1s 128ms/step - loss: 3.9427 - accuracy: 0.4739 - val_loss: 151.9559 - val_accuracy: 0.0408\n",
            "Epoch 3/5\n",
            "4/4 [==============================] - 1s 127ms/step - loss: 1.7944 - accuracy: 0.6621 - val_loss: 102.3296 - val_accuracy: 0.0816\n",
            "Epoch 4/5\n",
            "4/4 [==============================] - 1s 127ms/step - loss: 0.9548 - accuracy: 0.7982 - val_loss: 82.4494 - val_accuracy: 0.0612\n",
            "Epoch 5/5\n",
            "4/4 [==============================] - 0s 124ms/step - loss: 0.6809 - accuracy: 0.8594 - val_loss: 81.4066 - val_accuracy: 0.0612\n"
          ],
          "name": "stdout"
        },
        {
          "output_type": "stream",
          "text": [
            "\u001b[32m[I 2021-07-15 12:29:47,378]\u001b[0m Trial 4 finished with value: 8.707482988635698 and parameters: {'lr': 0.017769220602187358, 'steps': 65.6544123870227, 't_mult': 2, 'm_mult': 0.3367467582526429}. Best is trial 0 with value: 24.62585022052129.\u001b[0m\n"
          ],
          "name": "stderr"
        },
        {
          "output_type": "stream",
          "text": [
            "Epoch 1/5\n",
            "4/4 [==============================] - 4s 383ms/step - loss: 5.1662 - accuracy: 0.0567 - val_loss: 4.6624 - val_accuracy: 0.1429\n",
            "Epoch 2/5\n",
            "4/4 [==============================] - 1s 130ms/step - loss: 1.3102 - accuracy: 0.7120 - val_loss: 5.5314 - val_accuracy: 0.3265\n",
            "Epoch 3/5\n",
            "4/4 [==============================] - 1s 127ms/step - loss: 0.5906 - accuracy: 0.8889 - val_loss: 6.2776 - val_accuracy: 0.2857\n",
            "Epoch 4/5\n",
            "4/4 [==============================] - 1s 128ms/step - loss: 0.2891 - accuracy: 0.9592 - val_loss: 6.8297 - val_accuracy: 0.2245\n",
            "Epoch 5/5\n",
            "4/4 [==============================] - 0s 124ms/step - loss: 0.1720 - accuracy: 0.9705 - val_loss: 6.8010 - val_accuracy: 0.2245\n",
            "Epoch 1/5\n",
            "4/4 [==============================] - 4s 381ms/step - loss: 5.2291 - accuracy: 0.0635 - val_loss: 5.2010 - val_accuracy: 0.0816\n",
            "Epoch 2/5\n",
            "4/4 [==============================] - 1s 128ms/step - loss: 1.4212 - accuracy: 0.6621 - val_loss: 6.2570 - val_accuracy: 0.1224\n",
            "Epoch 3/5\n",
            "4/4 [==============================] - 1s 128ms/step - loss: 0.5465 - accuracy: 0.8707 - val_loss: 6.8061 - val_accuracy: 0.1633\n",
            "Epoch 4/5\n",
            "4/4 [==============================] - 0s 126ms/step - loss: 0.2456 - accuracy: 0.9615 - val_loss: 6.8394 - val_accuracy: 0.2245\n",
            "Epoch 5/5\n",
            "4/4 [==============================] - 0s 124ms/step - loss: 0.1700 - accuracy: 0.9728 - val_loss: 7.1173 - val_accuracy: 0.1633\n",
            "Epoch 1/5\n",
            "4/4 [==============================] - 4s 398ms/step - loss: 5.1641 - accuracy: 0.0726 - val_loss: 5.2558 - val_accuracy: 0.0816\n",
            "Epoch 2/5\n",
            "4/4 [==============================] - 1s 126ms/step - loss: 1.3481 - accuracy: 0.6961 - val_loss: 6.0173 - val_accuracy: 0.1224\n",
            "Epoch 3/5\n",
            "4/4 [==============================] - 1s 129ms/step - loss: 0.5884 - accuracy: 0.8798 - val_loss: 6.0496 - val_accuracy: 0.1837\n",
            "Epoch 4/5\n",
            "4/4 [==============================] - 1s 131ms/step - loss: 0.2541 - accuracy: 0.9569 - val_loss: 6.2925 - val_accuracy: 0.2041\n",
            "Epoch 5/5\n",
            "4/4 [==============================] - 1s 127ms/step - loss: 0.1404 - accuracy: 0.9751 - val_loss: 6.5439 - val_accuracy: 0.1837\n"
          ],
          "name": "stdout"
        },
        {
          "output_type": "stream",
          "text": [
            "\u001b[32m[I 2021-07-15 12:30:10,991]\u001b[0m Trial 5 finished with value: 25.57823161284129 and parameters: {'lr': 0.0018419653216907132, 'steps': 786.401301734649, 't_mult': 1, 'm_mult': 0.6971940884793113}. Best is trial 5 with value: 25.57823161284129.\u001b[0m\n"
          ],
          "name": "stderr"
        },
        {
          "output_type": "stream",
          "text": [
            "Epoch 1/5\n",
            "4/4 [==============================] - 5s 390ms/step - loss: 5.0227 - accuracy: 0.1111 - val_loss: 26.4924 - val_accuracy: 0.0408\n",
            "Epoch 2/5\n",
            "4/4 [==============================] - 1s 130ms/step - loss: 1.2853 - accuracy: 0.7120 - val_loss: 31.6405 - val_accuracy: 0.0408\n",
            "Epoch 3/5\n",
            "4/4 [==============================] - 1s 128ms/step - loss: 0.6229 - accuracy: 0.8594 - val_loss: 29.5523 - val_accuracy: 0.0816\n",
            "Epoch 4/5\n",
            "4/4 [==============================] - 1s 128ms/step - loss: 0.3446 - accuracy: 0.9206 - val_loss: 27.4771 - val_accuracy: 0.0408\n",
            "Epoch 5/5\n",
            "4/4 [==============================] - 0s 125ms/step - loss: 0.1893 - accuracy: 0.9456 - val_loss: 25.8052 - val_accuracy: 0.0408\n",
            "Epoch 1/5\n",
            "4/4 [==============================] - 4s 395ms/step - loss: 5.2281 - accuracy: 0.1111 - val_loss: 25.9555 - val_accuracy: 0.0816\n",
            "Epoch 2/5\n",
            "4/4 [==============================] - 1s 128ms/step - loss: 1.1209 - accuracy: 0.7256 - val_loss: 33.0428 - val_accuracy: 0.0816\n",
            "Epoch 3/5\n",
            "4/4 [==============================] - 1s 130ms/step - loss: 0.4908 - accuracy: 0.8912 - val_loss: 33.9863 - val_accuracy: 0.1020\n",
            "Epoch 4/5\n",
            "4/4 [==============================] - 1s 129ms/step - loss: 0.2721 - accuracy: 0.9274 - val_loss: 33.6797 - val_accuracy: 0.1020\n",
            "Epoch 5/5\n",
            "4/4 [==============================] - 1s 127ms/step - loss: 0.1804 - accuracy: 0.9569 - val_loss: 30.3750 - val_accuracy: 0.1020\n",
            "Epoch 1/5\n",
            "4/4 [==============================] - 4s 390ms/step - loss: 5.1614 - accuracy: 0.0975 - val_loss: 23.8788 - val_accuracy: 0.1633\n",
            "Epoch 2/5\n",
            "4/4 [==============================] - 1s 130ms/step - loss: 1.3973 - accuracy: 0.6599 - val_loss: 29.1885 - val_accuracy: 0.0612\n",
            "Epoch 3/5\n",
            "4/4 [==============================] - 1s 130ms/step - loss: 0.6326 - accuracy: 0.8435 - val_loss: 35.0763 - val_accuracy: 0.0816\n",
            "Epoch 4/5\n",
            "4/4 [==============================] - 1s 130ms/step - loss: 0.3039 - accuracy: 0.9320 - val_loss: 40.1420 - val_accuracy: 0.0612\n",
            "Epoch 5/5\n",
            "4/4 [==============================] - 1s 129ms/step - loss: 0.2273 - accuracy: 0.9297 - val_loss: 36.2320 - val_accuracy: 0.0612\n"
          ],
          "name": "stdout"
        },
        {
          "output_type": "stream",
          "text": [
            "\u001b[32m[I 2021-07-15 12:30:37,174]\u001b[0m Trial 6 finished with value: 12.10884377360344 and parameters: {'lr': 0.006570845976048867, 'steps': 824.3054059763579, 't_mult': 2, 'm_mult': 0.6707947012263473}. Best is trial 5 with value: 25.57823161284129.\u001b[0m\n"
          ],
          "name": "stderr"
        },
        {
          "output_type": "stream",
          "text": [
            "Epoch 1/5\n",
            "4/4 [==============================] - 4s 398ms/step - loss: 5.3651 - accuracy: 0.1224 - val_loss: 66.0700 - val_accuracy: 0.0204\n",
            "Epoch 2/5\n",
            "4/4 [==============================] - 1s 134ms/step - loss: 1.6000 - accuracy: 0.6417 - val_loss: 46.0222 - val_accuracy: 0.0816\n",
            "Epoch 3/5\n",
            "4/4 [==============================] - 1s 132ms/step - loss: 0.7131 - accuracy: 0.8254 - val_loss: 50.5023 - val_accuracy: 0.0816\n",
            "Epoch 4/5\n",
            "4/4 [==============================] - 1s 131ms/step - loss: 0.4800 - accuracy: 0.8639 - val_loss: 46.0726 - val_accuracy: 0.0816\n",
            "Epoch 5/5\n",
            "4/4 [==============================] - 0s 126ms/step - loss: 0.3117 - accuracy: 0.9184 - val_loss: 41.4558 - val_accuracy: 0.0816\n",
            "Epoch 1/5\n",
            "4/4 [==============================] - 4s 389ms/step - loss: 5.2388 - accuracy: 0.1315 - val_loss: 50.7292 - val_accuracy: 0.0816\n",
            "Epoch 2/5\n",
            "4/4 [==============================] - 1s 133ms/step - loss: 1.6451 - accuracy: 0.6440 - val_loss: 53.1771 - val_accuracy: 0.1429\n",
            "Epoch 3/5\n",
            "4/4 [==============================] - 1s 129ms/step - loss: 0.7634 - accuracy: 0.8050 - val_loss: 52.9901 - val_accuracy: 0.1020\n",
            "Epoch 4/5\n",
            "4/4 [==============================] - 1s 129ms/step - loss: 0.4614 - accuracy: 0.8798 - val_loss: 50.9732 - val_accuracy: 0.0816\n",
            "Epoch 5/5\n",
            "4/4 [==============================] - 0s 126ms/step - loss: 0.2606 - accuracy: 0.9320 - val_loss: 52.1301 - val_accuracy: 0.0612\n",
            "Epoch 1/5\n",
            "4/4 [==============================] - 5s 575ms/step - loss: 5.1201 - accuracy: 0.1224 - val_loss: 48.4429 - val_accuracy: 0.0408\n",
            "Epoch 2/5\n",
            "4/4 [==============================] - 1s 132ms/step - loss: 1.6968 - accuracy: 0.6259 - val_loss: 49.7207 - val_accuracy: 0.0408\n",
            "Epoch 3/5\n",
            "4/4 [==============================] - 1s 128ms/step - loss: 0.8060 - accuracy: 0.7937 - val_loss: 44.0451 - val_accuracy: 0.0816\n",
            "Epoch 4/5\n",
            "4/4 [==============================] - 1s 129ms/step - loss: 0.6121 - accuracy: 0.8707 - val_loss: 36.9362 - val_accuracy: 0.0816\n",
            "Epoch 5/5\n",
            "4/4 [==============================] - 1s 126ms/step - loss: 0.2518 - accuracy: 0.9365 - val_loss: 39.7881 - val_accuracy: 0.0612\n"
          ],
          "name": "stdout"
        },
        {
          "output_type": "stream",
          "text": [
            "\u001b[32m[I 2021-07-15 12:31:03,234]\u001b[0m Trial 7 finished with value: 5.9863946090141935 and parameters: {'lr': 0.009246446737628583, 'steps': 657.1809001596699, 't_mult': 1, 'm_mult': 0.6051533280971725}. Best is trial 5 with value: 25.57823161284129.\u001b[0m\n"
          ],
          "name": "stderr"
        },
        {
          "output_type": "stream",
          "text": [
            "Epoch 1/5\n",
            "4/4 [==============================] - 4s 391ms/step - loss: 7.6247 - accuracy: 0.0839 - val_loss: 197.6676 - val_accuracy: 0.0000e+00\n",
            "Epoch 2/5\n",
            "4/4 [==============================] - 1s 129ms/step - loss: 5.3824 - accuracy: 0.4422 - val_loss: 184.4344 - val_accuracy: 0.0000e+00\n",
            "Epoch 3/5\n",
            "4/4 [==============================] - 1s 129ms/step - loss: 2.8084 - accuracy: 0.6122 - val_loss: 142.5785 - val_accuracy: 0.0204\n",
            "Epoch 4/5\n",
            "4/4 [==============================] - 0s 126ms/step - loss: 1.5010 - accuracy: 0.7483 - val_loss: 114.5344 - val_accuracy: 0.0408\n",
            "Epoch 5/5\n",
            "4/4 [==============================] - 1s 127ms/step - loss: 1.2218 - accuracy: 0.7755 - val_loss: 94.6045 - val_accuracy: 0.0408\n",
            "Epoch 1/5\n",
            "4/4 [==============================] - 5s 391ms/step - loss: 7.5036 - accuracy: 0.0907 - val_loss: 236.6118 - val_accuracy: 0.0204\n",
            "Epoch 2/5\n",
            "4/4 [==============================] - 1s 129ms/step - loss: 4.9024 - accuracy: 0.4694 - val_loss: 179.5769 - val_accuracy: 0.0204\n",
            "Epoch 3/5\n",
            "4/4 [==============================] - 1s 132ms/step - loss: 2.1965 - accuracy: 0.6644 - val_loss: 150.1524 - val_accuracy: 0.0204\n",
            "Epoch 4/5\n",
            "4/4 [==============================] - 1s 129ms/step - loss: 1.4160 - accuracy: 0.7506 - val_loss: 130.6678 - val_accuracy: 0.1020\n",
            "Epoch 5/5\n",
            "4/4 [==============================] - 1s 127ms/step - loss: 0.8895 - accuracy: 0.8254 - val_loss: 112.2955 - val_accuracy: 0.0408\n",
            "Epoch 1/5\n",
            "4/4 [==============================] - 4s 388ms/step - loss: 7.2310 - accuracy: 0.0794 - val_loss: 188.0801 - val_accuracy: 0.0612\n",
            "Epoch 2/5\n",
            "4/4 [==============================] - 1s 131ms/step - loss: 4.2633 - accuracy: 0.5125 - val_loss: 138.7946 - val_accuracy: 0.1020\n",
            "Epoch 3/5\n",
            "4/4 [==============================] - 1s 133ms/step - loss: 2.3222 - accuracy: 0.6145 - val_loss: 132.4881 - val_accuracy: 0.0204\n",
            "Epoch 4/5\n",
            "4/4 [==============================] - 1s 129ms/step - loss: 1.1843 - accuracy: 0.7664 - val_loss: 105.1271 - val_accuracy: 0.0000e+00\n",
            "Epoch 5/5\n",
            "4/4 [==============================] - 1s 126ms/step - loss: 1.0170 - accuracy: 0.8209 - val_loss: 80.5773 - val_accuracy: 0.0612\n"
          ],
          "name": "stdout"
        },
        {
          "output_type": "stream",
          "text": [
            "\u001b[32m[I 2021-07-15 12:31:26,911]\u001b[0m Trial 8 finished with value: 7.482993106047313 and parameters: {'lr': 0.023203883462873637, 'steps': 491.68258482778333, 't_mult': 1, 'm_mult': 0.331872061027764}. Best is trial 5 with value: 25.57823161284129.\u001b[0m\n"
          ],
          "name": "stderr"
        },
        {
          "output_type": "stream",
          "text": [
            "Epoch 1/5\n",
            "4/4 [==============================] - 5s 401ms/step - loss: 5.4488 - accuracy: 0.0272 - val_loss: 4.8472 - val_accuracy: 0.0204\n",
            "Epoch 2/5\n",
            "4/4 [==============================] - 1s 132ms/step - loss: 2.8556 - accuracy: 0.3469 - val_loss: 4.1903 - val_accuracy: 0.1224\n",
            "Epoch 3/5\n",
            "4/4 [==============================] - 1s 137ms/step - loss: 1.6957 - accuracy: 0.6281 - val_loss: 3.8861 - val_accuracy: 0.2245\n",
            "Epoch 4/5\n",
            "4/4 [==============================] - 1s 130ms/step - loss: 0.9370 - accuracy: 0.8413 - val_loss: 3.7216 - val_accuracy: 0.2245\n",
            "Epoch 5/5\n",
            "4/4 [==============================] - 1s 129ms/step - loss: 0.5924 - accuracy: 0.9161 - val_loss: 3.6018 - val_accuracy: 0.2449\n",
            "Epoch 1/5\n",
            "4/4 [==============================] - 4s 383ms/step - loss: 5.5840 - accuracy: 0.0159 - val_loss: 5.0076 - val_accuracy: 0.0612\n",
            "Epoch 2/5\n",
            "4/4 [==============================] - 1s 130ms/step - loss: 2.9016 - accuracy: 0.3356 - val_loss: 4.4765 - val_accuracy: 0.0816\n",
            "Epoch 3/5\n",
            "4/4 [==============================] - 1s 130ms/step - loss: 1.6216 - accuracy: 0.6735 - val_loss: 4.1752 - val_accuracy: 0.1020\n",
            "Epoch 4/5\n",
            "4/4 [==============================] - 1s 126ms/step - loss: 1.0205 - accuracy: 0.8163 - val_loss: 3.9937 - val_accuracy: 0.1633\n",
            "Epoch 5/5\n",
            "4/4 [==============================] - 1s 130ms/step - loss: 0.6222 - accuracy: 0.8957 - val_loss: 3.8269 - val_accuracy: 0.1633\n",
            "Epoch 1/5\n",
            "4/4 [==============================] - 4s 391ms/step - loss: 5.6980 - accuracy: 0.0181 - val_loss: 4.7517 - val_accuracy: 0.0408\n",
            "Epoch 2/5\n",
            "4/4 [==============================] - 1s 130ms/step - loss: 2.9952 - accuracy: 0.3175 - val_loss: 4.0181 - val_accuracy: 0.1020\n",
            "Epoch 3/5\n",
            "4/4 [==============================] - 1s 136ms/step - loss: 1.7310 - accuracy: 0.6168 - val_loss: 3.6008 - val_accuracy: 0.1837\n",
            "Epoch 4/5\n",
            "4/4 [==============================] - 1s 129ms/step - loss: 1.0814 - accuracy: 0.7846 - val_loss: 3.3780 - val_accuracy: 0.2449\n",
            "Epoch 5/5\n",
            "4/4 [==============================] - 1s 127ms/step - loss: 0.7049 - accuracy: 0.8730 - val_loss: 3.2610 - val_accuracy: 0.2653\n"
          ],
          "name": "stdout"
        },
        {
          "output_type": "stream",
          "text": [
            "\u001b[32m[I 2021-07-15 12:31:52,622]\u001b[0m Trial 9 finished with value: 25.850340723991394 and parameters: {'lr': 0.0006149785235683608, 'steps': 343.17048555381825, 't_mult': 2, 'm_mult': 0.6471125581036888}. Best is trial 9 with value: 25.850340723991394.\u001b[0m\n"
          ],
          "name": "stderr"
        },
        {
          "output_type": "stream",
          "text": [
            "Epoch 1/5\n",
            "5/5 [==============================] - 7s 552ms/step - loss: 6.1350 - accuracy: 0.0064 - sensitivity_at_specificity_9: 0.3830 - specificity_at_sensitivity_9: 0.0000e+00 - precision_9: 0.0294 - auc_18: 0.4958 - auc_19: 0.0103 - val_loss: 5.8305 - val_accuracy: 0.0000e+00 - val_sensitivity_at_specificity_9: 0.4324 - val_specificity_at_sensitivity_9: 0.0000e+00 - val_precision_9: 0.0000e+00 - val_auc_18: 0.4926 - val_auc_19: 0.0093\n",
            "Epoch 2/5\n",
            "5/5 [==============================] - 1s 167ms/step - loss: 5.9585 - accuracy: 0.0208 - sensitivity_at_specificity_9: 0.4183 - specificity_at_sensitivity_9: 0.0000e+00 - precision_9: 0.0000e+00 - auc_18: 0.5131 - auc_19: 0.0108 - val_loss: 5.6354 - val_accuracy: 0.0000e+00 - val_sensitivity_at_specificity_9: 0.4775 - val_specificity_at_sensitivity_9: 0.0000e+00 - val_precision_9: 0.0000e+00 - val_auc_18: 0.4929 - val_auc_19: 0.0093\n",
            "Epoch 3/5\n",
            "5/5 [==============================] - 1s 164ms/step - loss: 5.9176 - accuracy: 0.0144 - sensitivity_at_specificity_9: 0.4263 - specificity_at_sensitivity_9: 0.0000e+00 - precision_9: 0.0606 - auc_18: 0.5174 - auc_19: 0.0123 - val_loss: 5.5130 - val_accuracy: 0.0000e+00 - val_sensitivity_at_specificity_9: 0.2703 - val_specificity_at_sensitivity_9: 0.4900 - val_precision_9: 0.0000e+00 - val_auc_18: 0.4941 - val_auc_19: 0.0095\n",
            "Epoch 4/5\n",
            "5/5 [==============================] - 1s 164ms/step - loss: 5.8655 - accuracy: 0.0224 - sensitivity_at_specificity_9: 0.4295 - specificity_at_sensitivity_9: 0.0000e+00 - precision_9: 0.0294 - auc_18: 0.5188 - auc_19: 0.0110 - val_loss: 5.4228 - val_accuracy: 0.0000e+00 - val_sensitivity_at_specificity_9: 0.2793 - val_specificity_at_sensitivity_9: 0.4670 - val_precision_9: 0.0000e+00 - val_auc_18: 0.4891 - val_auc_19: 0.0094\n",
            "Epoch 5/5\n",
            "5/5 [==============================] - 1s 163ms/step - loss: 5.7375 - accuracy: 0.0272 - sensitivity_at_specificity_9: 0.4712 - specificity_at_sensitivity_9: 0.0000e+00 - precision_9: 0.0000e+00 - auc_18: 0.5387 - auc_19: 0.0118 - val_loss: 5.3519 - val_accuracy: 0.0000e+00 - val_sensitivity_at_specificity_9: 0.2703 - val_specificity_at_sensitivity_9: 0.4507 - val_precision_9: 0.0000e+00 - val_auc_18: 0.4815 - val_auc_19: 0.0092\n",
            "3/3 [==============================] - 0s 53ms/step - loss: 5.0952 - accuracy: 0.0123 - sensitivity_at_specificity_9: 0.3580 - specificity_at_sensitivity_9: 0.4815 - precision_9: 0.0000e+00 - auc_18: 0.5495 - auc_19: 0.0112\n",
            "['loss', 'accuracy', 'sensitivity_at_specificity_9', 'specificity_at_sensitivity_9', 'precision_9', 'auc_18', 'auc_19']\n"
          ],
          "name": "stdout"
        },
        {
          "output_type": "display_data",
          "data": {
            "application/javascript": [
              "\n",
              "    async function download(id, filename, size) {\n",
              "      if (!google.colab.kernel.accessAllowed) {\n",
              "        return;\n",
              "      }\n",
              "      const div = document.createElement('div');\n",
              "      const label = document.createElement('label');\n",
              "      label.textContent = `Downloading \"${filename}\": `;\n",
              "      div.appendChild(label);\n",
              "      const progress = document.createElement('progress');\n",
              "      progress.max = size;\n",
              "      div.appendChild(progress);\n",
              "      document.body.appendChild(div);\n",
              "\n",
              "      const buffers = [];\n",
              "      let downloaded = 0;\n",
              "\n",
              "      const channel = await google.colab.kernel.comms.open(id);\n",
              "      // Send a message to notify the kernel that we're ready.\n",
              "      channel.send({})\n",
              "\n",
              "      for await (const message of channel.messages) {\n",
              "        // Send a message to notify the kernel that we're ready.\n",
              "        channel.send({})\n",
              "        if (message.buffers) {\n",
              "          for (const buffer of message.buffers) {\n",
              "            buffers.push(buffer);\n",
              "            downloaded += buffer.byteLength;\n",
              "            progress.value = downloaded;\n",
              "          }\n",
              "        }\n",
              "      }\n",
              "      const blob = new Blob(buffers, {type: 'application/binary'});\n",
              "      const a = document.createElement('a');\n",
              "      a.href = window.URL.createObjectURL(blob);\n",
              "      a.download = filename;\n",
              "      div.appendChild(a);\n",
              "      a.click();\n",
              "      div.remove();\n",
              "    }\n",
              "  "
            ],
            "text/plain": [
              "<IPython.core.display.Javascript object>"
            ]
          },
          "metadata": {
            "tags": []
          }
        },
        {
          "output_type": "display_data",
          "data": {
            "application/javascript": [
              "download(\"download_9d1c9782-d64b-47c4-9511-a07dfb32db72\", \"results_algo_source_data_setoxford_flowers102.csv\", 2808)"
            ],
            "text/plain": [
              "<IPython.core.display.Javascript object>"
            ]
          },
          "metadata": {
            "tags": []
          }
        }
      ]
    },
    {
      "cell_type": "code",
      "metadata": {
        "colab": {
          "base_uri": "https://localhost:8080/",
          "height": 17
        },
        "id": "JvHgSKtOvAoM",
        "outputId": "3d8378ad-0406-4932-ff3e-e6031aa555cf"
      },
      "source": [
        "import csv\n",
        "csv_file = \"results_algo_{}_data_set{}.csv\".format(algorithem_name,database_name)\n",
        "with open(csv_file, 'w') as csvfile:\n",
        "    writer = csv.DictWriter(csvfile, fieldnames=dict_data[0].keys())\n",
        "    writer.writeheader()\n",
        "    for data in dict_data:\n",
        "        writer.writerow(data)\n",
        "files.download(csv_file)  \n"
      ],
      "execution_count": null,
      "outputs": [
        {
          "output_type": "display_data",
          "data": {
            "application/javascript": [
              "\n",
              "    async function download(id, filename, size) {\n",
              "      if (!google.colab.kernel.accessAllowed) {\n",
              "        return;\n",
              "      }\n",
              "      const div = document.createElement('div');\n",
              "      const label = document.createElement('label');\n",
              "      label.textContent = `Downloading \"${filename}\": `;\n",
              "      div.appendChild(label);\n",
              "      const progress = document.createElement('progress');\n",
              "      progress.max = size;\n",
              "      div.appendChild(progress);\n",
              "      document.body.appendChild(div);\n",
              "\n",
              "      const buffers = [];\n",
              "      let downloaded = 0;\n",
              "\n",
              "      const channel = await google.colab.kernel.comms.open(id);\n",
              "      // Send a message to notify the kernel that we're ready.\n",
              "      channel.send({})\n",
              "\n",
              "      for await (const message of channel.messages) {\n",
              "        // Send a message to notify the kernel that we're ready.\n",
              "        channel.send({})\n",
              "        if (message.buffers) {\n",
              "          for (const buffer of message.buffers) {\n",
              "            buffers.push(buffer);\n",
              "            downloaded += buffer.byteLength;\n",
              "            progress.value = downloaded;\n",
              "          }\n",
              "        }\n",
              "      }\n",
              "      const blob = new Blob(buffers, {type: 'application/binary'});\n",
              "      const a = document.createElement('a');\n",
              "      a.href = window.URL.createObjectURL(blob);\n",
              "      a.download = filename;\n",
              "      div.appendChild(a);\n",
              "      a.click();\n",
              "      div.remove();\n",
              "    }\n",
              "  "
            ],
            "text/plain": [
              "<IPython.core.display.Javascript object>"
            ]
          },
          "metadata": {
            "tags": []
          }
        },
        {
          "output_type": "display_data",
          "data": {
            "application/javascript": [
              "download(\"download_9af06e05-c7c8-4263-9623-ed5533ea4247\", \"results_algo_source_data_setoxford_flowers102.csv\", 689)"
            ],
            "text/plain": [
              "<IPython.core.display.Javascript object>"
            ]
          },
          "metadata": {
            "tags": []
          }
        }
      ]
    }
  ]
}